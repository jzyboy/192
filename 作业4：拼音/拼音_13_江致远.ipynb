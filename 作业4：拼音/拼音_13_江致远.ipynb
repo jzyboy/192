{
 "cells": [
  {
   "cell_type": "markdown",
   "metadata": {},
   "source": [
    "# 导入所需的模块"
   ]
  },
  {
   "cell_type": "code",
   "execution_count": null,
   "metadata": {},
   "outputs": [],
   "source": [
    "from selenium import webdriver\n",
    "import re\n",
    "import codecs\n",
    "from selenium.webdriver.common.keys import Keys\n",
    "import time\n",
    "import requests\n",
    "import os"
   ]
  },
  {
   "cell_type": "markdown",
   "metadata": {},
   "source": [
    "# 创建所需的列表"
   ]
  },
  {
   "cell_type": "code",
   "execution_count": null,
   "metadata": {},
   "outputs": [],
   "source": [
    "def get_list():\n",
    "    lj = []\n",
    "    py = []\n",
    "    data = []\n",
    "    wenzi = []"
   ]
  },
  {
   "cell_type": "markdown",
   "metadata": {},
   "source": [
    "# 创建数据库"
   ]
  },
  {
   "cell_type": "code",
   "execution_count": null,
   "metadata": {},
   "outputs": [],
   "source": [
    "from pony.orm import *\n",
    "\n",
    "\n",
    "db = Database()\n",
    "\n",
    "\n",
    "class Hanzi(db.Entity):\n",
    "    id = PrimaryKey(int, auto=True)\n",
    "    Chinese = Optional(str,column ='Chinese')\n",
    "    spell = Optional(str,column ='spell')\n",
    "    link = Optional(str,column ='link')\n",
    "\n",
    "\n",
    "\n",
    "# db.generate_mapping()"
   ]
  },
  {
   "cell_type": "markdown",
   "metadata": {},
   "source": [
    "# 构建创建数据库的函数"
   ]
  },
  {
   "cell_type": "code",
   "execution_count": null,
   "metadata": {},
   "outputs": [],
   "source": [
    "def get_database():\n",
    "    dbpath = 'f:/ex9/hanzi.sqlite'\n",
    "    if os.path.exists(dbpath):\n",
    "        os.remove(dbpath)\n",
    "    f = open(dbpath,\"w\")\n",
    "    f.close()\n",
    "    db.bind(provider='sqlite',filename='f:/ex9/hanzi.sqlite')\n",
    "    db.generate_mapping(create_tables=True)\n",
    "    set_sql_debug(True)    "
   ]
  },
  {
   "cell_type": "markdown",
   "metadata": {},
   "source": [
    "# 创建查找汉字拼音的函数"
   ]
  },
  {
   "cell_type": "code",
   "execution_count": null,
   "metadata": {},
   "outputs": [],
   "source": [
    "def get_spell(h):\n",
    "    reobj = re.compile(r'<span class=\"op_exactqa_detail_word_pronounce\">([\\d\\D]*?)<')\n",
    "    for match in reobj.finditer(h):\n",
    "        a = match.group(1)\n",
    "        py.append(a)"
   ]
  },
  {
   "cell_type": "markdown",
   "metadata": {},
   "source": [
    "# 创建查找汉字发音链接的函数"
   ]
  },
  {
   "cell_type": "code",
   "execution_count": null,
   "metadata": {},
   "outputs": [],
   "source": [
    "def get_link(h):\n",
    "    reobj = re.compile(r\"\"\"data-click=\"{fm:'beha'}\" url=\"([\\d\\D]*?)\" h\"\"\")\n",
    "    for match in reobj.finditer(h):\n",
    "        a = match.group(1)\n",
    "        lj.append(a)"
   ]
  },
  {
   "cell_type": "markdown",
   "metadata": {},
   "source": [
    "# 获取页面html,并且获取汉字的发音链接和拼音"
   ]
  },
  {
   "cell_type": "code",
   "execution_count": null,
   "metadata": {},
   "outputs": [],
   "source": [
    "def get_data(a):\n",
    "    url=\"https://www.baidu.com/s?wd=\" + a + \"拼音\"\n",
    "    head = {'User-Agent': 'Mozilla/5.0 (Windows NT 10.0; Win64; x64) AppleWebKit/537.36 (KHTML, like Gecko) Chrome/80.0.3987.149 Safari/537.36',\n",
    "           'Cookie': 'BIDUPSID=D7397E6837AC5F69C2D793409730A5E7; PSTM=1581844331; BAIDUID=D7397E6837AC5F690B98E2A4ED13E490:FG=1; sug=3; sugstore=1; ORIGIN=0; bdime=0; BD_UPN=12314753; BDORZ=B490B5EBF6F3CD402E515D22BCDA1598; COOKIE_SESSION=1357348_0_3_2_0_1_0_0_2_1_0_0_0_0_0_0_0_0_1589767631%7C3%230_0_1589767631%7C1; BD_HOME=1; H_PS_PSSID=1428_31325_21091_31110_31595_31270_31463_31322_30823_26350; BDRCVFR[feWj1Vr5u3D]=mk3SLVN4HKm; delPer=0; BD_CK_SAM=1; PSINO=3; H_PS_645EC=9ab6WX6dqMvjKhk3hVBc%2Fr05dYm%2FjpVHIpbZERUZtetCpfPY%2FFB52x4kgwKBh0RS%2FMUN'}\n",
    "    r = requests.get(url,headers = head)\n",
    "    r.keep_alive = False\n",
    "    r.encoding = 'utf-8'\n",
    "    h = r.text\n",
    "    \n",
    "    get_spell(h)\n",
    "    get_link(h)\n",
    "    \n",
    "    for i in range(len(lj)):\n",
    "        data.append(( a , py[i] , lj[i] ))"
   ]
  },
  {
   "cell_type": "markdown",
   "metadata": {},
   "source": [
    "# 创建打开txt文件，将文件中的字存入列表wenzi中的函数"
   ]
  },
  {
   "cell_type": "code",
   "execution_count": null,
   "metadata": {},
   "outputs": [],
   "source": [
    "def get_hanzi():\n",
    "    f = codecs.open(r\"C:\\Users\\19148\\Desktop\\初始.txt\",\"r\",\"utf-8-sig\")\n",
    "    for hz in f.readlines():\n",
    "        a = hz.replace('\\r','').replace('\\n','')\n",
    "        wenzi.append(a)\n",
    "    f.close()"
   ]
  },
  {
   "cell_type": "markdown",
   "metadata": {},
   "source": [
    "# 创建将文字存入csv文件的函数"
   ]
  },
  {
   "cell_type": "code",
   "execution_count": null,
   "metadata": {},
   "outputs": [],
   "source": [
    "def get_csv():\n",
    "    f = codecs.open(r\"f:\\999.csv\",\"w\",\"utf_8_sig\")\n",
    "    f.write(\"汉字,拼音,拼音发声的链接\\n\")\n",
    "    for data1 in data:\n",
    "        f.write(data1[0] + \",\" + data1[1] + \",\" + data1[2] + \"\\n\")\n",
    "    f.close()"
   ]
  },
  {
   "cell_type": "markdown",
   "metadata": {},
   "source": [
    "# 清空列表lj，py的内容"
   ]
  },
  {
   "cell_type": "code",
   "execution_count": null,
   "metadata": {},
   "outputs": [],
   "source": [
    "def get_clear():\n",
    "    lj.clear()\n",
    "    py.clear()\n",
    "    data.clear()\n",
    "    wenzi.clear()"
   ]
  },
  {
   "cell_type": "markdown",
   "metadata": {},
   "source": [
    "# 任务一：利用百度的汉字查找拼音功能，以元组形式输出出某个汉字对应的以下内容：（该汉字，拼音，拼音发声的链接）"
   ]
  },
  {
   "cell_type": "code",
   "execution_count": null,
   "metadata": {},
   "outputs": [],
   "source": [
    "get_list()"
   ]
  },
  {
   "cell_type": "code",
   "execution_count": null,
   "metadata": {},
   "outputs": [],
   "source": [
    "get_data(\"任\")\n",
    "data"
   ]
  },
  {
   "cell_type": "code",
   "execution_count": null,
   "metadata": {},
   "outputs": [],
   "source": [
    "get_clear()"
   ]
  },
  {
   "cell_type": "markdown",
   "metadata": {},
   "source": [
    "# 任务二：在任务1的基础上进行延展，已知一个txt文本文件每行只有一个文字,从该文件逐行读取文字，并构建任务1的链接，抽取拼音及发音链接，构建一个CSV文件."
   ]
  },
  {
   "cell_type": "code",
   "execution_count": null,
   "metadata": {},
   "outputs": [],
   "source": [
    "get_list()"
   ]
  },
  {
   "cell_type": "code",
   "execution_count": null,
   "metadata": {},
   "outputs": [],
   "source": [
    "get_hanzi()\n",
    "for a in wenzi:\n",
    "    lj.clear()\n",
    "    py.clear()\n",
    "    get_data(a)\n",
    "get_csv()"
   ]
  },
  {
   "cell_type": "code",
   "execution_count": null,
   "metadata": {},
   "outputs": [],
   "source": [
    "get_clear()"
   ]
  },
  {
   "cell_type": "markdown",
   "metadata": {},
   "source": [
    "# 任务三：存储到数据库"
   ]
  },
  {
   "cell_type": "code",
   "execution_count": null,
   "metadata": {},
   "outputs": [],
   "source": [
    "get_list()"
   ]
  },
  {
   "cell_type": "code",
   "execution_count": null,
   "metadata": {},
   "outputs": [],
   "source": [
    "get_database()"
   ]
  },
  {
   "cell_type": "code",
   "execution_count": null,
   "metadata": {},
   "outputs": [],
   "source": [
    "get_hanzi()\n",
    "for a in wenzi:\n",
    "    lj.clear()\n",
    "    py.clear()\n",
    "    get_data(a)\n",
    "for data1 in data:\n",
    "    s=Hanzi(Chinese = data1[0],spell = data1[1],link = data1[2])\n",
    "    db.commit()"
   ]
  },
  {
   "cell_type": "code",
   "execution_count": null,
   "metadata": {},
   "outputs": [],
   "source": []
  }
 ],
 "metadata": {
  "kernelspec": {
   "display_name": "Python 3",
   "language": "python",
   "name": "python3"
  },
  "language_info": {
   "codemirror_mode": {
    "name": "ipython",
    "version": 3
   },
   "file_extension": ".py",
   "mimetype": "text/x-python",
   "name": "python",
   "nbconvert_exporter": "python",
   "pygments_lexer": "ipython3",
   "version": "3.7.4"
  }
 },
 "nbformat": 4,
 "nbformat_minor": 2
}
