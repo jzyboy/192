{
 "cells": [
  {
   "cell_type": "code",
   "execution_count": null,
   "metadata": {},
   "outputs": [],
   "source": [
    "from selenium import webdriver\n",
    "import re\n",
    "import codecs\n",
    "from selenium.webdriver.common.keys import Keys\n",
    "import time\n",
    "import requests\n",
    "import os\n",
    "def get_list():\n",
    "    lj = []\n",
    "    py = []\n",
    "    data = []\n",
    "    wenzi = []"
   ]
  },
  {
   "cell_type": "code",
   "execution_count": null,
   "metadata": {},
   "outputs": [],
   "source": [
    " # 查找拼音，链接\n",
    "def get_spell(h):\n",
    "    reobj = re.compile(r'<span class=\"op_exactqa_detail_word_pronounce\">([\\d\\D]*?)<')\n",
    "    for match in reobj.finditer(h):\n",
    "        a = match.group(1)\n",
    "        py.append(a)\n",
    "def get_link(h):\n",
    "    reobj = re.compile(r\"\"\"data-click=\"{fm:'beha'}\" url=\"([\\d\\D]*?)\" h\"\"\")\n",
    "    for match in reobj.finditer(h):\n",
    "        a = match.group(1)\n",
    "        lj.append(a)"
   ]
  },
  {
   "cell_type": "code",
   "execution_count": null,
   "metadata": {},
   "outputs": [],
   "source": [
    "# 获取汉字的发音链接和拼音\n",
    "def get_data(a):\n",
    "    driver=webdriver.Chrome()\n",
    "    url=\"https://www.baidu.com/s?wd=\" + a + \"拼音\"\n",
    "    driver.get(url)\n",
    "    h==driver.page_source\n",
    "    \n",
    "    get_spell(h)\n",
    "    get_link(h)\n",
    "    \n",
    "    for i in range(len(lj)):\n",
    "        data.append(( a , py[i] , lj[i] ))"
   ]
  },
  {
   "cell_type": "code",
   "execution_count": null,
   "metadata": {},
   "outputs": [],
   "source": [
    "# 创建打开txt文件\n",
    "def get_hanzi():\n",
    "    f = codecs.open(r\"C:\\Users\\19148\\Desktop\\text.txt\",\"r\",\"utf-8-sig\")\n",
    "    for hz in f.readlines():\n",
    "        a = hz.replace('\\r','').replace('\\n','')\n",
    "        hanzi.append(a)\n",
    "    f.close()"
   ]
  },
  {
   "cell_type": "code",
   "execution_count": null,
   "metadata": {},
   "outputs": [],
   "source": [
    "# 存取csv文件\n",
    "def get_csv():\n",
    "    f = codecs.open(r\"f:\\999.csv\",\"w\",\"utf_8_sig\")\n",
    "    f.write(\"汉字,拼音,拼音发声的链接\\n\")\n",
    "    for data1 in data:\n",
    "        f.write(data1[0] + \",\" + data1[1] + \",\" + data1[2] + \"\\n\")\n",
    "    f.close()"
   ]
  }
 ],
 "metadata": {
  "kernelspec": {
   "display_name": "Python 3",
   "language": "python",
   "name": "python3"
  },
  "language_info": {
   "codemirror_mode": {
    "name": "ipython",
    "version": 3
   },
   "file_extension": ".py",
   "mimetype": "text/x-python",
   "name": "python",
   "nbconvert_exporter": "python",
   "pygments_lexer": "ipython3",
   "version": "3.7.4"
  }
 },
 "nbformat": 4,
 "nbformat_minor": 2
}
