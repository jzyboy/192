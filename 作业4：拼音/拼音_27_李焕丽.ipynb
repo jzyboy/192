{
 "cells": [
  {
   "cell_type": "code",
   "execution_count": 1,
   "metadata": {},
   "outputs": [],
   "source": [
    "def getpy(wd):\n",
    "    head={'user-agent': 'Mozilla/5.0 (Windows NT 10.0; Win64; x64) AppleWebKit/537.36 (KHTML, like Gecko) Chrome/80.0.3987.132 Safari/537.36'}\n",
    "    url='http://www.baidu.com/s?wd='\n",
    "    r=requests.get(url+wd+'拼音',headers=head)\n",
    "    r.encoding='utf-8'\n",
    "    html=r.text\n",
    "    py=re.findall(r'<span class=\"op_exactqa_detail_word_pronounce\">\\[([\\d\\D]*?)\\]<',html)\n",
    "    pymp3=re.findall(r'<a class=\"op_exactqa_detail_how_read\" data-click=\"{fm:\\'beha\\'}\" url=\"([\\d\\D]*?)\" href=\"javascript:;\"',html)\n",
    "    for i in range(len(py)):\n",
    "        data.append((wd,py[i],pymp3[i]))"
   ]
  },
  {
   "cell_type": "code",
   "execution_count": 2,
   "metadata": {},
   "outputs": [],
   "source": [
    "import requests,re\n",
    "data=[]"
   ]
  },
  {
   "cell_type": "code",
   "execution_count": 4,
   "metadata": {},
   "outputs": [],
   "source": [
    "import csv\n",
    "with open('汉字拼音.csv','w',encoding='utf_8_sig',newline='') as f:\n",
    "    w=csv.writer(f)\n",
    "    for i in data:\n",
    "        w.writerow(i)"
   ]
  },
  {
   "cell_type": "code",
   "execution_count": 5,
   "metadata": {},
   "outputs": [
    {
     "data": {
      "text/plain": [
       "[('我', 'wǒ', 'https://hanyu-word-pinyin-short.cdn.bcebos.com/wo3.mp3'),\n",
       " ('们', 'mén', 'https://hanyu-word-pinyin-short.cdn.bcebos.com/men2.mp3'),\n",
       " ('们', 'men', 'https://hanyu-word-pinyin-short.cdn.bcebos.com/men5.mp3'),\n",
       " ('爱', 'ài', 'https://hanyu-word-pinyin-short.cdn.bcebos.com/ai4.mp3'),\n",
       " ('中', 'zhōng', 'https://hanyu-word-pinyin-short.cdn.bcebos.com/zhong1.mp3'),\n",
       " ('中', 'zhòng', 'https://hanyu-word-pinyin-short.cdn.bcebos.com/zhong4.mp3'),\n",
       " ('华', 'huá', 'https://hanyu-word-pinyin-short.cdn.bcebos.com/hua2.mp3'),\n",
       " ('华', 'huā', 'https://hanyu-word-pinyin-short.cdn.bcebos.com/hua1.mp3'),\n",
       " ('华', 'huà', 'https://hanyu-word-pinyin-short.cdn.bcebos.com/hua4.mp3'),\n",
       " ('人', 'rén', 'https://hanyu-word-pinyin-short.cdn.bcebos.com/ren2.mp3'),\n",
       " ('民', 'mín', 'https://hanyu-word-pinyin-short.cdn.bcebos.com/min2.mp3'),\n",
       " ('共', 'gòng', 'https://hanyu-word-pinyin-short.cdn.bcebos.com/gong4.mp3'),\n",
       " ('共', 'gōng', 'https://hanyu-word-pinyin-short.cdn.bcebos.com/gong1.mp3'),\n",
       " ('和', 'hé', 'https://hanyu-word-pinyin-short.cdn.bcebos.com/he2.mp3'),\n",
       " ('和', 'hè', 'https://hanyu-word-pinyin-short.cdn.bcebos.com/he4.mp3'),\n",
       " ('和', 'huò', 'https://hanyu-word-pinyin-short.cdn.bcebos.com/huo4.mp3'),\n",
       " ('和', 'huó', 'https://hanyu-word-pinyin-short.cdn.bcebos.com/huo2.mp3'),\n",
       " ('和', 'hú', 'https://hanyu-word-pinyin-short.cdn.bcebos.com/hu2.mp3'),\n",
       " ('国', 'guó', 'https://hanyu-word-pinyin-short.cdn.bcebos.com/guo2.mp3'),\n",
       " ('我', 'wǒ', 'https://hanyu-word-pinyin-short.cdn.bcebos.com/wo3.mp3'),\n",
       " ('们', 'mén', 'https://hanyu-word-pinyin-short.cdn.bcebos.com/men2.mp3'),\n",
       " ('们', 'men', 'https://hanyu-word-pinyin-short.cdn.bcebos.com/men5.mp3'),\n",
       " ('爱', 'ài', 'https://hanyu-word-pinyin-short.cdn.bcebos.com/ai4.mp3'),\n",
       " ('中', 'zhōng', 'https://hanyu-word-pinyin-short.cdn.bcebos.com/zhong1.mp3'),\n",
       " ('中', 'zhòng', 'https://hanyu-word-pinyin-short.cdn.bcebos.com/zhong4.mp3'),\n",
       " ('华', 'huá', 'https://hanyu-word-pinyin-short.cdn.bcebos.com/hua2.mp3'),\n",
       " ('华', 'huā', 'https://hanyu-word-pinyin-short.cdn.bcebos.com/hua1.mp3'),\n",
       " ('华', 'huà', 'https://hanyu-word-pinyin-short.cdn.bcebos.com/hua4.mp3'),\n",
       " ('人', 'rén', 'https://hanyu-word-pinyin-short.cdn.bcebos.com/ren2.mp3'),\n",
       " ('民', 'mín', 'https://hanyu-word-pinyin-short.cdn.bcebos.com/min2.mp3'),\n",
       " ('共', 'gòng', 'https://hanyu-word-pinyin-short.cdn.bcebos.com/gong4.mp3'),\n",
       " ('共', 'gōng', 'https://hanyu-word-pinyin-short.cdn.bcebos.com/gong1.mp3'),\n",
       " ('和', 'hé', 'https://hanyu-word-pinyin-short.cdn.bcebos.com/he2.mp3'),\n",
       " ('和', 'hè', 'https://hanyu-word-pinyin-short.cdn.bcebos.com/he4.mp3'),\n",
       " ('和', 'huò', 'https://hanyu-word-pinyin-short.cdn.bcebos.com/huo4.mp3'),\n",
       " ('和', 'huó', 'https://hanyu-word-pinyin-short.cdn.bcebos.com/huo2.mp3'),\n",
       " ('和', 'hú', 'https://hanyu-word-pinyin-short.cdn.bcebos.com/hu2.mp3'),\n",
       " ('国', 'guó', 'https://hanyu-word-pinyin-short.cdn.bcebos.com/guo2.mp3')]"
      ]
     },
     "execution_count": 5,
     "metadata": {},
     "output_type": "execute_result"
    }
   ],
   "source": [
    "data"
   ]
  },
  {
   "cell_type": "code",
   "execution_count": 6,
   "metadata": {},
   "outputs": [
    {
     "ename": "FileNotFoundError",
     "evalue": "[Errno 2] No such file or directory: '汉字.txt'",
     "output_type": "error",
     "traceback": [
      "\u001b[1;31m---------------------------------------------------------------------------\u001b[0m",
      "\u001b[1;31mFileNotFoundError\u001b[0m                         Traceback (most recent call last)",
      "\u001b[1;32m<ipython-input-6-61c2e3a86fb1>\u001b[0m in \u001b[0;36m<module>\u001b[1;34m\u001b[0m\n\u001b[1;32m----> 1\u001b[1;33m \u001b[1;32mwith\u001b[0m \u001b[0mopen\u001b[0m\u001b[1;33m(\u001b[0m\u001b[1;34m'汉字.txt'\u001b[0m\u001b[1;33m,\u001b[0m\u001b[0mencoding\u001b[0m\u001b[1;33m=\u001b[0m\u001b[1;34m'utf_8_sig'\u001b[0m\u001b[1;33m)\u001b[0m \u001b[1;32mas\u001b[0m \u001b[0mf\u001b[0m\u001b[1;33m:\u001b[0m\u001b[1;33m\u001b[0m\u001b[1;33m\u001b[0m\u001b[0m\n\u001b[0m\u001b[0;32m      2\u001b[0m     \u001b[1;32mfor\u001b[0m \u001b[0mi\u001b[0m \u001b[1;32min\u001b[0m \u001b[0mf\u001b[0m\u001b[1;33m:\u001b[0m\u001b[1;33m\u001b[0m\u001b[1;33m\u001b[0m\u001b[0m\n\u001b[0;32m      3\u001b[0m         \u001b[0mgetpy\u001b[0m\u001b[1;33m(\u001b[0m\u001b[0mi\u001b[0m\u001b[1;33m.\u001b[0m\u001b[0mstrip\u001b[0m\u001b[1;33m(\u001b[0m\u001b[1;33m)\u001b[0m\u001b[1;33m)\u001b[0m\u001b[1;33m\u001b[0m\u001b[1;33m\u001b[0m\u001b[0m\n",
      "\u001b[1;31mFileNotFoundError\u001b[0m: [Errno 2] No such file or directory: '汉字.txt'"
     ]
    }
   ],
   "source": [
    "with open('汉字.txt',encoding='utf_8_sig') as f:\n",
    "    for i in f:\n",
    "        getpy(i.strip())"
   ]
  }
 ],
 "metadata": {
  "kernelspec": {
   "display_name": "Python 3",
   "language": "python",
   "name": "python3"
  },
  "language_info": {
   "codemirror_mode": {
    "name": "ipython",
    "version": 3
   },
   "file_extension": ".py",
   "mimetype": "text/x-python",
   "name": "python",
   "nbconvert_exporter": "python",
   "pygments_lexer": "ipython3",
   "version": "3.7.4"
  }
 },
 "nbformat": 4,
 "nbformat_minor": 2
}
