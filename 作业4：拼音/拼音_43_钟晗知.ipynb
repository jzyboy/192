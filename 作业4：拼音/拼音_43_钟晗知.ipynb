{
 "cells": [
  {
   "cell_type": "markdown",
   "metadata": {},
   "source": [
    "# 打开网页"
   ]
  },
  {
   "cell_type": "code",
   "execution_count": 1,
   "metadata": {},
   "outputs": [],
   "source": [
    "from selenium import webdriver\n",
    "driver=webdriver.Chrome()\n",
    "url = 'https://www.baidu.com/s?ie=utf-8&f=8&rsv_bp=1&rsv_idx=2&tn=baiduhome_pg&wd=%E6%88%91%E6%8B%BC%E9%9F%B3&rsv_spt=1&oq=%25E6%2588%2591%2520%25E6%258B%25BC%25E9%259F%25B3&rsv_pq=e2258d99001b4267&rsv_t=11ee3dOD2VAD1eVT3spN5hgqOZvzxMk14XZefUXo1lyU%2FpdAbp1oPSTMrYWS8NYSQIiD&rqlang=cn&rsv_enter=1&rsv_dl=tb&inputT=300&rsv_sug3=10&rsv_sug1=11&rsv_sug7=100&rsv_sug2=0&rsv_sug4=2142'\n",
    "driver.get(url)\n"
   ]
  },
  {
   "cell_type": "code",
   "execution_count": 2,
   "metadata": {},
   "outputs": [],
   "source": [
    "html = driver.page_source\n",
    "#print(html)"
   ]
  },
  {
   "cell_type": "markdown",
   "metadata": {},
   "source": [
    "# 任务一"
   ]
  },
  {
   "cell_type": "code",
   "execution_count": 10,
   "metadata": {},
   "outputs": [
    {
     "name": "stdout",
     "output_type": "stream",
     "text": [
      "['我', '[wǒ]', 'https://hanyu-word-pinyin-short.cdn.bcebos.com/wo3.mp3']\n"
     ]
    }
   ],
   "source": [
    "import re\n",
    "list=[]\n",
    "reobj = re.compile(r'<a href=\".*?\" target=\".*?\"><em>([\\s\\S]*?)</em>.*?</a>')\n",
    "for match in reobj.finditer(html):\n",
    "    list.append(match.group(1))\n",
    "\t# match start: match.start()\n",
    "\t# match end (exclusive): match.end()\n",
    "\t# matched text: match.group()\n",
    "reobj = re.compile(r'<span class=\"op_exactqa_detail_word_pronounce\">([\\s\\S]*?)</span>')\n",
    "for match in reobj.finditer(html):\n",
    "    list.append(match.group(1))\n",
    "\t# match start: match.start()\n",
    "\t# match end (exclusive): match.end()\n",
    "\t# matched text: match.group()\n",
    "reobj = re.compile(r\"\"\"<a class=\"op_exactqa_detail_how_read\" data-click=\"{fm:'beha'}\" url=\"([\\s\\S]*?)\" href=\"javascript:;\" onclick=\"return false;\" hidefocus=\"true\"></a>\"\"\")\n",
    "for match in reobj.finditer(html):\n",
    "    list.append(match.group(1))\n",
    "\t# match start: match.start()\n",
    "\t# match end (exclusive): match.end()\n",
    "\t# matched text: match.group()\n",
    "\n",
    "    \n",
    "print(list)"
   ]
  },
  {
   "cell_type": "markdown",
   "metadata": {},
   "source": [
    "# 任务二"
   ]
  },
  {
   "cell_type": "code",
   "execution_count": 17,
   "metadata": {},
   "outputs": [
    {
     "name": "stdout",
     "output_type": "stream",
     "text": [
      "我\n",
      "爱\n",
      "中\n",
      "华\n",
      "人\n",
      "民\n",
      "共\n",
      "和\n",
      "国\n"
     ]
    }
   ],
   "source": [
    "import requests,re\n",
    "\n",
    "data=[]\n",
    "with open('d:\\初始.txt',encoding='utf_8_sig') as f:\n",
    "    for i in f:\n",
    "        i=i.strip()\n",
    "        for j in i:\n",
    "            \n",
    "            print(j)"
   ]
  },
  {
   "cell_type": "code",
   "execution_count": null,
   "metadata": {},
   "outputs": [],
   "source": []
  },
  {
   "cell_type": "code",
   "execution_count": null,
   "metadata": {},
   "outputs": [],
   "source": []
  }
 ],
 "metadata": {
  "kernelspec": {
   "display_name": "Python 3",
   "language": "python",
   "name": "python3"
  },
  "language_info": {
   "codemirror_mode": {
    "name": "ipython",
    "version": 3
   },
   "file_extension": ".py",
   "mimetype": "text/x-python",
   "name": "python",
   "nbconvert_exporter": "python",
   "pygments_lexer": "ipython3",
   "version": "3.7.4"
  }
 },
 "nbformat": 4,
 "nbformat_minor": 2
}
