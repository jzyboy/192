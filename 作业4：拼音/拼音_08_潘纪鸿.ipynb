{
 "cells": [
  {
   "cell_type": "markdown",
   "metadata": {},
   "source": [
    "# 汉字拼英"
   ]
  },
  {
   "cell_type": "code",
   "execution_count": 1,
   "metadata": {},
   "outputs": [],
   "source": [
    "def getpy(wd):\n",
    "    head={'user-agent': 'Mozilla/5.0 (Windows NT 10.0; Win64; x64) AppleWebKit/537.36 (KHTML, like Gecko) Chrome/80.0.3987.132 Safari/537.36'}\n",
    "    url='http://www.baidu.com/s?wd=' \n",
    "    r=requests.get(url+wd+'拼音',headers=head)\n",
    "    r.encoding='utf-8'\n",
    "    html=r.text\n",
    "    py=re.findall(r'<span class=\"op_exactqa_detail_word_pronounce\">\\[([\\d\\D]*?)\\]<',html) #找到拼音\n",
    "    pymp3=re.findall(r'<a class=\"op_exactqa_detail_how_read\" data-click=\"{fm:\\'beha\\'}\" url=\"([\\d\\D]*?)\" href=\"javascript:;\"',html)#找到发音链接\n",
    "    for i in range(len(py)):\n",
    "        data.append((wd,py[i],pymp3[i]))"
   ]
  },
  {
   "cell_type": "code",
   "execution_count": null,
   "metadata": {},
   "outputs": [],
   "source": [
    "import requests,re\n",
    "data=[]\n",
    "getpy('我')\n",
    "print(data)"
   ]
  },
  {
   "cell_type": "code",
   "execution_count": 3,
   "metadata": {},
   "outputs": [],
   "source": [
    "import requests,re\n",
    "data=[]"
   ]
  },
  {
   "cell_type": "code",
   "execution_count": null,
   "metadata": {},
   "outputs": [],
   "source": [
    "with open('汉字.txt',encoding='utf_8_sig') as f:\n",
    "    for i in f:\n",
    "        getpy(i.strip())"
   ]
  },
  {
   "cell_type": "code",
   "execution_count": 6,
   "metadata": {},
   "outputs": [],
   "source": [
    "import csv\n",
    "with open('hanzi.csv','w',encoding='utf_8_sig',newline='') as f:\n",
    "    w=csv.writer(f)\n",
    "    for i in data:\n",
    "        w.writerow(i)"
   ]
  },
  {
   "cell_type": "code",
   "execution_count": null,
   "metadata": {},
   "outputs": [],
   "source": [
    "import requests,re\n",
    "data=[]\n",
    "with open('汉字2.txt',encoding='utf_8_sig') as f:\n",
    "    for i in f:\n",
    "        i=i.strip()\n",
    "        for j in i:\n",
    "            getpy(j)"
   ]
  },
  {
   "cell_type": "code",
   "execution_count": 9,
   "metadata": {},
   "outputs": [],
   "source": [
    "from pony.orm import *\n",
    "\n",
    "db = Database()\n",
    "\n",
    "class Hz(db.Entity):\n",
    "    id = PrimaryKey(int, auto=True)\n",
    "    hz = Optional(str, column='hz')\n",
    "    py = Optional(str, column='py')\n",
    "    href = Optional(str, column='href')\n"
   ]
  },
  {
   "cell_type": "code",
   "execution_count": null,
   "metadata": {},
   "outputs": [],
   "source": [
    "db.bind(provider='sqlite', filename=r'C:/code2020/hanzi.sqlite')\n",
    "\n",
    "db.generate_mapping(create_tables=True)\n",
    "\n",
    "set_sql_debug(True)"
   ]
  },
  {
   "cell_type": "code",
   "execution_count": null,
   "metadata": {},
   "outputs": [],
   "source": [
    "for i in data:\n",
    "    s=Hz(hz=i[0],py=i[1],href=i[2])\n",
    "    db.commit()"
   ]
  },
  {
   "cell_type": "code",
   "execution_count": null,
   "metadata": {},
   "outputs": [],
   "source": [
    "query = Hz.select()\n",
    "for i in query:\n",
    "    print(i.hz,i.py,i.href)"
   ]
  }
 ],
 "metadata": {
  "kernelspec": {
   "display_name": "Python 3",
   "language": "python",
   "name": "python3"
  },
  "language_info": {
   "codemirror_mode": {
    "name": "ipython",
    "version": 3
   },
   "file_extension": ".py",
   "mimetype": "text/x-python",
   "name": "python",
   "nbconvert_exporter": "python",
   "pygments_lexer": "ipython3",
   "version": "3.7.4"
  }
 },
 "nbformat": 4,
 "nbformat_minor": 4
}
