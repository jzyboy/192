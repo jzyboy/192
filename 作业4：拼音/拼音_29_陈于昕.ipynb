{
 "cells": [
  {
   "cell_type": "markdown",
   "metadata": {},
   "source": [
    "https://www.yuque.com/ol1q37/gi94xp/qgdu4c"
   ]
  },
  {
   "cell_type": "code",
   "execution_count": 1,
   "metadata": {},
   "outputs": [],
   "source": [
    "def getpy(wd):\n",
    "    head={'user-agent': 'Mozilla/5.0 (Windows NT 10.0; Win64; x64) AppleWebKit/537.36 (KHTML, like Gecko) Chrome/80.0.3987.132 Safari/537.36'}\n",
    "    url='http://www.baidu.com/s?wd='  #找到百度查找的规则，等号后面的即是查询的内容\n",
    "    r=requests.get(url+wd+'拼音',headers=head)  #构建百度查找拼音的链接\n",
    "    r.encoding='utf-8'\n",
    "    html=r.text\n",
    "    py=re.findall(r'<span class=\"op_exactqa_detail_word_pronounce\">\\[([\\d\\D]*?)\\]<',html) #找到拼音\n",
    "    pymp3=re.findall(r'<a class=\"op_exactqa_detail_how_read\" data-click=\"{fm:\\'beha\\'}\" url=\"([\\d\\D]*?)\" href=\"javascript:;\"',html)#找到发音链接\n",
    "    for i in range(len(py)):\n",
    "        data.append((wd,py[i],pymp3[i])) #把字，拼音，发音链接保存进列表"
   ]
  },
  {
   "cell_type": "code",
   "execution_count": 4,
   "metadata": {},
   "outputs": [
    {
     "name": "stdout",
     "output_type": "stream",
     "text": [
      "[('我', 'wǒ', 'https://hanyu-word-pinyin-short.cdn.bcebos.com/wo3.mp3')]\n"
     ]
    }
   ],
   "source": [
    "import requests,re\n",
    "data=[]\n",
    "getpy('我')\n",
    "print(data)"
   ]
  },
  {
   "cell_type": "code",
   "execution_count": 5,
   "metadata": {},
   "outputs": [],
   "source": [
    "import requests,re\n",
    "data=[]"
   ]
  },
  {
   "cell_type": "code",
   "execution_count": 6,
   "metadata": {},
   "outputs": [],
   "source": [
    "with open('汉字.txt',encoding='utf_8_sig') as f:\n",
    "    for i in f:\n",
    "        getpy(i.strip())"
   ]
  },
  {
   "cell_type": "code",
   "execution_count": 10,
   "metadata": {},
   "outputs": [
    {
     "data": {
      "text/plain": [
       "[('我', 'wǒ', 'https://hanyu-word-pinyin-short.cdn.bcebos.com/wo3.mp3'),\n",
       " ('们', 'mén', 'https://hanyu-word-pinyin-short.cdn.bcebos.com/men2.mp3'),\n",
       " ('们', 'men', 'https://hanyu-word-pinyin-short.cdn.bcebos.com/men5.mp3'),\n",
       " ('爱', 'ài', 'https://hanyu-word-pinyin-short.cdn.bcebos.com/ai4.mp3'),\n",
       " ('中', 'zhōng', 'https://hanyu-word-pinyin-short.cdn.bcebos.com/zhong1.mp3'),\n",
       " ('中', 'zhòng', 'https://hanyu-word-pinyin-short.cdn.bcebos.com/zhong4.mp3'),\n",
       " ('华', 'huá', 'https://hanyu-word-pinyin-short.cdn.bcebos.com/hua2.mp3'),\n",
       " ('华', 'huā', 'https://hanyu-word-pinyin-short.cdn.bcebos.com/hua1.mp3'),\n",
       " ('华', 'huà', 'https://hanyu-word-pinyin-short.cdn.bcebos.com/hua4.mp3'),\n",
       " ('人', 'rén', 'https://hanyu-word-pinyin-short.cdn.bcebos.com/ren2.mp3'),\n",
       " ('民', 'mín', 'https://hanyu-word-pinyin-short.cdn.bcebos.com/min2.mp3'),\n",
       " ('共', 'gòng', 'https://hanyu-word-pinyin-short.cdn.bcebos.com/gong4.mp3'),\n",
       " ('共', 'gōng', 'https://hanyu-word-pinyin-short.cdn.bcebos.com/gong1.mp3'),\n",
       " ('和', 'hé', 'https://hanyu-word-pinyin-short.cdn.bcebos.com/he2.mp3'),\n",
       " ('和', 'hè', 'https://hanyu-word-pinyin-short.cdn.bcebos.com/he4.mp3'),\n",
       " ('和', 'huò', 'https://hanyu-word-pinyin-short.cdn.bcebos.com/huo4.mp3'),\n",
       " ('和', 'huó', 'https://hanyu-word-pinyin-short.cdn.bcebos.com/huo2.mp3'),\n",
       " ('和', 'hú', 'https://hanyu-word-pinyin-short.cdn.bcebos.com/hu2.mp3'),\n",
       " ('国', 'guó', 'https://hanyu-word-pinyin-short.cdn.bcebos.com/guo2.mp3')]"
      ]
     },
     "execution_count": 10,
     "metadata": {},
     "output_type": "execute_result"
    }
   ],
   "source": [
    "data"
   ]
  },
  {
   "cell_type": "code",
   "execution_count": null,
   "metadata": {},
   "outputs": [],
   "source": []
  }
 ],
 "metadata": {
  "kernelspec": {
   "display_name": "Python 3",
   "language": "python",
   "name": "python3"
  },
  "language_info": {
   "codemirror_mode": {
    "name": "ipython",
    "version": 3
   },
   "file_extension": ".py",
   "mimetype": "text/x-python",
   "name": "python",
   "nbconvert_exporter": "python",
   "pygments_lexer": "ipython3",
   "version": "3.7.3"
  }
 },
 "nbformat": 4,
 "nbformat_minor": 2
}
