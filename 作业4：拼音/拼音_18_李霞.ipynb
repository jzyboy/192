{
 "cells": [
  {
   "cell_type": "code",
   "execution_count": 13,
   "metadata": {},
   "outputs": [
    {
     "name": "stdout",
     "output_type": "stream",
     "text": [
      "我 [wǒ] https://hanyu-word-pinyin-short.cdn.bcebos.com/wo3.mp3\n"
     ]
    }
   ],
   "source": [
    "from selenium import webdriver\n",
    "driver=webdriver.Chrome()\n",
    "url='https://www.baidu.com/s?ie=utf-8&f=8&rsv_bp=1&rsv_idx=2&tn=baiduhome_pg&wd=%E6%88%91%E6%8B%BC%E9%9F%B3&rsv_spt=1&oq=%25E6%2588%2591%2520%25E6%258B%25BC%25E9%259F%25B3&rsv_pq=e2258d99001b4267&rsv_t=11ee3dOD2VAD1eVT3spN5hgqOZvzxMk14XZefUXo1lyU%2FpdAbp1oPSTMrYWS8NYSQIiD&rqlang=cn&rsv_enter=1&rsv_dl=tb&inputT=300&rsv_sug3=10&rsv_sug1=11&rsv_sug7=100&rsv_sug2=0&rsv_sug4=2142'\n",
    "driver.get(url)\n",
    "html=driver.page_source\n",
    "\n",
    "import re\n",
    "reobj = re.compile(r'<p class=\"op_exactqa_detail_s_prop c-gap-bottom-small\">[\\d\\D]*?<a href=[\\d\\D]*? target=\"_blank\">([\\d\\D]*?)<[\\d\\D]*?<span class=[\\d\\D]*?\">([\\d\\D]*?)<[\\d\\D]*?<span>[\\d\\D]*?}\" url=\"([\\d\\D]*?)\"')\n",
    "for match in reobj.finditer(html):\n",
    "    print(match.group(1),match.group(2),match.group(3))"
   ]
  },
  {
   "cell_type": "code",
   "execution_count": 14,
   "metadata": {},
   "outputs": [
    {
     "name": "stdout",
     "output_type": "stream",
     "text": [
      "任 [rèn] https://hanyu-word-pinyin-short.cdn.bcebos.com/ren4.mp3 [rén] https://hanyu-word-pinyin-short.cdn.bcebos.com/ren2.mp3\n"
     ]
    }
   ],
   "source": [
    "from selenium import webdriver\n",
    "driver=webdriver.Chrome()\n",
    "url='https://www.baidu.com/s?ie=utf-8&f=8&rsv_bp=1&rsv_idx=2&tn=baiduhome_pg&wd=%E4%BB%BB%E6%8B%BC%E9%9F%B3&rsv_spt=1&oq=%25E6%2588%2591%25E6%258B%25BC%25E9%259F%25B3&rsv_pq=d38ec713000ac547&rsv_t=f950aetZN3wSH6pRbzAqCR46vEtv4cZVzupAdpBZo8qrmhEnQ8z4xGtxfe%2Bb5YnCiWQd&rqlang=cn&rsv_enter=1&rsv_dl=tb&rsv_sug3=4&rsv_sug1=7&rsv_sug7=100&rsv_sug2=0&inputT=1614&rsv_sug4=54340'\n",
    "driver.get(url)\n",
    "html=driver.page_source\n",
    "\n",
    "import re\n",
    "reobj = re.compile(r'<p class=\"op_exactqa_detail_s_prop c-gap-bottom-small\">[\\d\\D]*?<a href=[\\d\\D]*? target=\"_blank\">([\\d\\D]*?)<[\\d\\D]*?<span class=[\\d\\D]*?\">([\\d\\D]*?)<[\\d\\D]*?<span>[\\d\\D]*?}\" url=\"([\\d\\D]*?)\"[\\d\\D]*?<span class=\"op_exactqa_detail_word_pronounce\">([\\d\\D]*?)<[\\d\\D]*?}\" url=\"([\\d\\D]*?)\"')\n",
    "for match in reobj.finditer(html):\n",
    "    print(match.group(1),match.group(2),match.group(3),match.group(4),match.group(5))"
   ]
  },
  {
   "cell_type": "code",
   "execution_count": 15,
   "metadata": {},
   "outputs": [
    {
     "ename": "PermissionError",
     "evalue": "[Errno 13] Permission denied: 'C:\\\\Users\\\\Administrator\\\\Desktop'",
     "output_type": "error",
     "traceback": [
      "\u001b[1;31m---------------------------------------------------------------------------\u001b[0m",
      "\u001b[1;31mPermissionError\u001b[0m                           Traceback (most recent call last)",
      "\u001b[1;32m<ipython-input-15-868d77408b96>\u001b[0m in \u001b[0;36m<module>\u001b[1;34m\u001b[0m\n\u001b[0;32m      1\u001b[0m \u001b[1;32mimport\u001b[0m \u001b[0mcodecs\u001b[0m\u001b[1;33m\u001b[0m\u001b[1;33m\u001b[0m\u001b[0m\n\u001b[0;32m      2\u001b[0m \u001b[0mlist\u001b[0m\u001b[1;33m=\u001b[0m\u001b[1;33m[\u001b[0m\u001b[1;33m]\u001b[0m\u001b[1;33m\u001b[0m\u001b[1;33m\u001b[0m\u001b[0m\n\u001b[1;32m----> 3\u001b[1;33m \u001b[0mf\u001b[0m\u001b[1;33m=\u001b[0m\u001b[0mcodecs\u001b[0m\u001b[1;33m.\u001b[0m\u001b[0mopen\u001b[0m\u001b[1;33m(\u001b[0m\u001b[1;34mr\"C:\\Users\\Administrator\\Desktop\"\u001b[0m\u001b[1;33m,\u001b[0m\u001b[1;34m\"w\"\u001b[0m\u001b[1;33m,\u001b[0m\u001b[1;34m\"utf-8-sig\"\u001b[0m\u001b[1;33m)\u001b[0m\u001b[1;33m\u001b[0m\u001b[1;33m\u001b[0m\u001b[0m\n\u001b[0m\u001b[0;32m      4\u001b[0m \u001b[1;32mfor\u001b[0m \u001b[0mhz\u001b[0m \u001b[1;32min\u001b[0m \u001b[0mf\u001b[0m\u001b[1;33m.\u001b[0m\u001b[0mreadlines\u001b[0m\u001b[1;33m(\u001b[0m\u001b[1;33m)\u001b[0m\u001b[1;33m:\u001b[0m\u001b[1;33m\u001b[0m\u001b[1;33m\u001b[0m\u001b[0m\n\u001b[0;32m      5\u001b[0m     \u001b[0mhz\u001b[0m\u001b[1;33m.\u001b[0m\u001b[0mreplace\u001b[0m\u001b[1;33m(\u001b[0m\u001b[1;34m'\\r'\u001b[0m\u001b[1;33m,\u001b[0m\u001b[1;34m''\u001b[0m\u001b[1;33m)\u001b[0m\u001b[1;33m.\u001b[0m\u001b[0mreplace\u001b[0m\u001b[1;33m(\u001b[0m\u001b[1;34m'\\n'\u001b[0m\u001b[1;33m,\u001b[0m\u001b[1;34m''\u001b[0m\u001b[1;33m)\u001b[0m\u001b[1;33m\u001b[0m\u001b[1;33m\u001b[0m\u001b[0m\n",
      "\u001b[1;32mD:\\ana\\lib\\codecs.py\u001b[0m in \u001b[0;36mopen\u001b[1;34m(filename, mode, encoding, errors, buffering)\u001b[0m\n\u001b[0;32m    902\u001b[0m         \u001b[1;31m# Force opening of the file in binary mode\u001b[0m\u001b[1;33m\u001b[0m\u001b[1;33m\u001b[0m\u001b[1;33m\u001b[0m\u001b[0m\n\u001b[0;32m    903\u001b[0m         \u001b[0mmode\u001b[0m \u001b[1;33m=\u001b[0m \u001b[0mmode\u001b[0m \u001b[1;33m+\u001b[0m \u001b[1;34m'b'\u001b[0m\u001b[1;33m\u001b[0m\u001b[1;33m\u001b[0m\u001b[0m\n\u001b[1;32m--> 904\u001b[1;33m     \u001b[0mfile\u001b[0m \u001b[1;33m=\u001b[0m \u001b[0mbuiltins\u001b[0m\u001b[1;33m.\u001b[0m\u001b[0mopen\u001b[0m\u001b[1;33m(\u001b[0m\u001b[0mfilename\u001b[0m\u001b[1;33m,\u001b[0m \u001b[0mmode\u001b[0m\u001b[1;33m,\u001b[0m \u001b[0mbuffering\u001b[0m\u001b[1;33m)\u001b[0m\u001b[1;33m\u001b[0m\u001b[1;33m\u001b[0m\u001b[0m\n\u001b[0m\u001b[0;32m    905\u001b[0m     \u001b[1;32mif\u001b[0m \u001b[0mencoding\u001b[0m \u001b[1;32mis\u001b[0m \u001b[1;32mNone\u001b[0m\u001b[1;33m:\u001b[0m\u001b[1;33m\u001b[0m\u001b[1;33m\u001b[0m\u001b[0m\n\u001b[0;32m    906\u001b[0m         \u001b[1;32mreturn\u001b[0m \u001b[0mfile\u001b[0m\u001b[1;33m\u001b[0m\u001b[1;33m\u001b[0m\u001b[0m\n",
      "\u001b[1;31mPermissionError\u001b[0m: [Errno 13] Permission denied: 'C:\\\\Users\\\\Administrator\\\\Desktop'"
     ]
    }
   ],
   "source": [
    "import codecs\n",
    "list=[]\n",
    "f=codecs.open(r\"C:\\Users\\Administrator\\Desktop\",\"w\",\"utf-8-sig\")\n",
    "for hz in f.readlines():\n",
    "    hz.replace('\\r','').replace('\\n','')\n",
    "    list.append(hz+\"拼音\")\n",
    "f.close\n",
    "\n",
    "from selenium import webdriver\n",
    "from selenium.webdriver.common.keys import Keys\n",
    "driver=webdriver.Chrome()\n",
    "url=\"https://www.baidu.com/\"\n",
    "driver.get(url)\n",
    "html=driver.page_source"
   ]
  },
  {
   "cell_type": "code",
   "execution_count": null,
   "metadata": {},
   "outputs": [],
   "source": [
    "import re\n",
    "import time\n",
    "list3=[]\n",
    "for i in range(9):\n",
    "    a=list[i]\n",
    "    time.sleep(2)\n",
    "    driver.find_element_by_id('kw').send_keys(a.replace('\\r','').replace('\\n',''))\n",
    "    time.sleep(2)\n",
    "    driver.find_element_by_id('kw').submit()\n",
    "    time.sleep(2)\n",
    "    html1=driver.page_source\n",
    "    reobj = re.compile(r'<p class=\"op_exactqa_detail_s_prop c-gap-bottom-small\">[\\d\\D]*?<a href=[\\d\\D]*? target=\"_blank\">([\\d\\D]*?)<[\\d\\D]*?<span class=[\\d\\D]*?\">([\\d\\D]*?)<[\\d\\D]*?<span>[\\d\\D]*?}\" url=\"([\\d\\D]*?)\"')\n",
    "    for match in reobj.finditer(html1):\n",
    "        list3.append(match.group(1),match.group(2),match.group(3))\n",
    "        time.sleep(2)\n",
    "    driver.find_element_by_id('kw').clear()"
   ]
  },
  {
   "cell_type": "code",
   "execution_count": null,
   "metadata": {},
   "outputs": [],
   "source": [
    "import codecs\n",
    "f=codecs.open(r\"f:\\999.csv\",\"w\",\"utf_8_sig\")\n",
    "f.write(\"汉字,拼音,拼音发声的链接\\n\")\n",
    "for list4 in list3:\n",
    "    f.write(list4[0]+\",\"+list4[1]+\",\"+list4[2]+\"\\n\")\n",
    "f.close()"
   ]
  }
 ],
 "metadata": {
  "kernelspec": {
   "display_name": "Python 3",
   "language": "python",
   "name": "python3"
  },
  "language_info": {
   "codemirror_mode": {
    "name": "ipython",
    "version": 3
   },
   "file_extension": ".py",
   "mimetype": "text/x-python",
   "name": "python",
   "nbconvert_exporter": "python",
   "pygments_lexer": "ipython3",
   "version": "3.7.4"
  }
 },
 "nbformat": 4,
 "nbformat_minor": 2
}
