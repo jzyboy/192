{
 "cells": [
  {
   "cell_type": "markdown",
   "metadata": {},
   "source": [
    "# 链接 ：https://www.yuque.com/ol1q37/gi94xp/qgdu4c"
   ]
  },
  {
   "cell_type": "markdown",
   "metadata": {},
   "source": [
    "# 构建获取拼音和发音链接的函数"
   ]
  },
  {
   "cell_type": "code",
   "execution_count": 1,
   "metadata": {},
   "outputs": [],
   "source": [
    "def getpy(wd):\n",
    "    head={'user-agent': 'Mozilla/5.0 (Windows NT 10.0; Win64; x64) AppleWebKit/537.36 (KHTML, like Gecko) Chrome/80.0.3987.132 Safari/537.36'}\n",
    "    url='http://www.baidu.com/s?wd='  #找到百度查找的规则，等号后面的即是查询的内容\n",
    "    r=requests.get(url+wd+'拼音',headers=head)  #构建百度查找拼音的链接\n",
    "    r.encoding='utf-8'\n",
    "    html=r.text\n",
    "    py=re.findall(r'<span class=\"op_exactqa_detail_word_pronounce\">\\[([\\d\\D]*?)\\]<',html) #找到拼音\n",
    "    pymp3=re.findall(r'<a class=\"op_exactqa_detail_how_read\" data-click=\"{fm:\\'beha\\'}\" url=\"([\\d\\D]*?)\" href=\"javascript:;\"',html)#找到发音链接\n",
    "    for i in range(len(py)):\n",
    "        data.append((wd,py[i],pymp3[i])) #把字，拼音，发音链接保存进列表"
   ]
  },
  {
   "cell_type": "code",
   "execution_count": 4,
   "metadata": {},
   "outputs": [
    {
     "name": "stdout",
     "output_type": "stream",
     "text": [
      "[('我', 'wǒ', 'https://hanyu-word-pinyin-short.cdn.bcebos.com/wo3.mp3')]\n"
     ]
    }
   ],
   "source": [
    "import requests,re\n",
    "data=[]\n",
    "getpy('我')\n",
    "print(data)"
   ]
  },
  {
   "cell_type": "code",
   "execution_count": 5,
   "metadata": {},
   "outputs": [],
   "source": [
    "import requests,re\n",
    "data=[]"
   ]
  },
  {
   "cell_type": "markdown",
   "metadata": {},
   "source": [
    "## 逐行读取文件中的汉字，并调用函数获取拼音及发音链接"
   ]
  },
  {
   "cell_type": "code",
   "execution_count": 6,
   "metadata": {},
   "outputs": [],
   "source": [
    "with open('汉字.txt',encoding='utf_8_sig') as f:\n",
    "    for i in f:\n",
    "        getpy(i.strip())"
   ]
  },
  {
   "cell_type": "code",
   "execution_count": 10,
   "metadata": {},
   "outputs": [
    {
     "data": {
      "text/plain": [
       "[('我', 'wǒ', 'https://hanyu-word-pinyin-short.cdn.bcebos.com/wo3.mp3'),\n",
       " ('们', 'mén', 'https://hanyu-word-pinyin-short.cdn.bcebos.com/men2.mp3'),\n",
       " ('们', 'men', 'https://hanyu-word-pinyin-short.cdn.bcebos.com/men5.mp3'),\n",
       " ('爱', 'ài', 'https://hanyu-word-pinyin-short.cdn.bcebos.com/ai4.mp3'),\n",
       " ('中', 'zhōng', 'https://hanyu-word-pinyin-short.cdn.bcebos.com/zhong1.mp3'),\n",
       " ('中', 'zhòng', 'https://hanyu-word-pinyin-short.cdn.bcebos.com/zhong4.mp3'),\n",
       " ('华', 'huá', 'https://hanyu-word-pinyin-short.cdn.bcebos.com/hua2.mp3'),\n",
       " ('华', 'huā', 'https://hanyu-word-pinyin-short.cdn.bcebos.com/hua1.mp3'),\n",
       " ('华', 'huà', 'https://hanyu-word-pinyin-short.cdn.bcebos.com/hua4.mp3'),\n",
       " ('人', 'rén', 'https://hanyu-word-pinyin-short.cdn.bcebos.com/ren2.mp3'),\n",
       " ('民', 'mín', 'https://hanyu-word-pinyin-short.cdn.bcebos.com/min2.mp3'),\n",
       " ('共', 'gòng', 'https://hanyu-word-pinyin-short.cdn.bcebos.com/gong4.mp3'),\n",
       " ('共', 'gōng', 'https://hanyu-word-pinyin-short.cdn.bcebos.com/gong1.mp3'),\n",
       " ('和', 'hé', 'https://hanyu-word-pinyin-short.cdn.bcebos.com/he2.mp3'),\n",
       " ('和', 'hè', 'https://hanyu-word-pinyin-short.cdn.bcebos.com/he4.mp3'),\n",
       " ('和', 'huò', 'https://hanyu-word-pinyin-short.cdn.bcebos.com/huo4.mp3'),\n",
       " ('和', 'huó', 'https://hanyu-word-pinyin-short.cdn.bcebos.com/huo2.mp3'),\n",
       " ('和', 'hú', 'https://hanyu-word-pinyin-short.cdn.bcebos.com/hu2.mp3'),\n",
       " ('国', 'guó', 'https://hanyu-word-pinyin-short.cdn.bcebos.com/guo2.mp3')]"
      ]
     },
     "execution_count": 10,
     "metadata": {},
     "output_type": "execute_result"
    }
   ],
   "source": [
    "data"
   ]
  },
  {
   "cell_type": "markdown",
   "metadata": {},
   "source": [
    "## 保存为csv文件"
   ]
  },
  {
   "cell_type": "code",
   "execution_count": 9,
   "metadata": {},
   "outputs": [],
   "source": [
    "import csv\n",
    "with open('汉字拼音.csv','w',encoding='utf_8_sig',newline='') as f:\n",
    "    w=csv.writer(f)\n",
    "    for i in data:\n",
    "        w.writerow(i)"
   ]
  },
  {
   "cell_type": "code",
   "execution_count": 14,
   "metadata": {},
   "outputs": [],
   "source": [
    "import requests,re\n",
    "data=[]\n",
    "with open('汉字2.txt',encoding='utf_8_sig') as f:\n",
    "    for i in f:\n",
    "        i=i.strip()\n",
    "        for j in i:\n",
    "            getpy(j)"
   ]
  },
  {
   "cell_type": "code",
   "execution_count": 22,
   "metadata": {
    "scrolled": true
   },
   "outputs": [
    {
     "data": {
      "text/plain": [
       "[('给', 'gěi', 'https://hanyu-word-pinyin-short.cdn.bcebos.com/gei3.mp3'),\n",
       " ('给', 'jǐ', 'https://hanyu-word-pinyin-short.cdn.bcebos.com/ji3.mp3'),\n",
       " ('定', 'dìng', 'https://hanyu-word-pinyin-short.cdn.bcebos.com/ding4.mp3'),\n",
       " ('一', 'yī', 'https://hanyu-word-pinyin-short.cdn.bcebos.com/yi1.mp3'),\n",
       " ('个', 'gè', 'https://hanyu-word-pinyin-short.cdn.bcebos.com/ge4.mp3'),\n",
       " ('个', 'gě', 'https://hanyu-word-pinyin-short.cdn.bcebos.com/ge3.mp3'),\n",
       " ('文', 'wén', 'https://hanyu-word-pinyin-short.cdn.bcebos.com/wen2.mp3'),\n",
       " ('本', 'běn', 'https://hanyu-word-pinyin-short.cdn.bcebos.com/ben3.mp3'),\n",
       " ('文', 'wén', 'https://hanyu-word-pinyin-short.cdn.bcebos.com/wen2.mp3'),\n",
       " ('件', 'jiàn', 'https://hanyu-word-pinyin-short.cdn.bcebos.com/jian4.mp3'),\n",
       " ('每', 'měi', 'https://hanyu-word-pinyin-short.cdn.bcebos.com/mei3.mp3'),\n",
       " ('行', 'háng', 'https://hanyu-word-pinyin-short.cdn.bcebos.com/hang2.mp3'),\n",
       " ('行', 'hàng', 'https://hanyu-word-pinyin-short.cdn.bcebos.com/hang4.mp3'),\n",
       " ('行', 'héng', 'https://hanyu-word-pinyin-short.cdn.bcebos.com/heng2.mp3'),\n",
       " ('行', 'xíng', 'https://hanyu-word-pinyin-short.cdn.bcebos.com/xing2.mp3'),\n",
       " ('一', 'yī', 'https://hanyu-word-pinyin-short.cdn.bcebos.com/yi1.mp3'),\n",
       " ('段', 'duàn', 'https://hanyu-word-pinyin-short.cdn.bcebos.com/duan4.mp3'),\n",
       " ('短', 'duǎn', 'https://hanyu-word-pinyin-short.cdn.bcebos.com/duan3.mp3'),\n",
       " ('文', 'wén', 'https://hanyu-word-pinyin-short.cdn.bcebos.com/wen2.mp3'),\n",
       " ('字', 'zì', 'https://hanyu-word-pinyin-short.cdn.bcebos.com/zi4.mp3'),\n",
       " ('不', 'bù', 'https://hanyu-word-pinyin-short.cdn.bcebos.com/bu4.mp3'),\n",
       " ('一', 'yī', 'https://hanyu-word-pinyin-short.cdn.bcebos.com/yi1.mp3'),\n",
       " ('定', 'dìng', 'https://hanyu-word-pinyin-short.cdn.bcebos.com/ding4.mp3'),\n",
       " ('是', 'shì', 'https://hanyu-word-pinyin-short.cdn.bcebos.com/shi4.mp3'),\n",
       " ('一', 'yī', 'https://hanyu-word-pinyin-short.cdn.bcebos.com/yi1.mp3'),\n",
       " ('个', 'gè', 'https://hanyu-word-pinyin-short.cdn.bcebos.com/ge4.mp3'),\n",
       " ('个', 'gě', 'https://hanyu-word-pinyin-short.cdn.bcebos.com/ge3.mp3'),\n",
       " ('字', 'zì', 'https://hanyu-word-pinyin-short.cdn.bcebos.com/zi4.mp3'),\n",
       " ('过', 'guò', 'https://hanyu-word-pinyin-short.cdn.bcebos.com/guo4.mp3'),\n",
       " ('过', 'guo', 'https://hanyu-word-pinyin-short.cdn.bcebos.com/guo5.mp3'),\n",
       " ('过', 'guō', 'https://hanyu-word-pinyin-short.cdn.bcebos.com/guo1.mp3'),\n",
       " ('百', 'bǎi', 'https://hanyu-word-pinyin-short.cdn.bcebos.com/bai3.mp3'),\n",
       " ('度', 'dù', 'https://hanyu-word-pinyin-short.cdn.bcebos.com/du4.mp3'),\n",
       " ('度', 'duó', 'https://hanyu-word-pinyin-short.cdn.bcebos.com/duo2.mp3'),\n",
       " ('构', 'gòu', 'https://hanyu-word-pinyin-short.cdn.bcebos.com/gou4.mp3'),\n",
       " ('建', 'jiàn', 'https://hanyu-word-pinyin-short.cdn.bcebos.com/jian4.mp3'),\n",
       " ('查', 'zhā', 'https://hanyu-word-pinyin-short.cdn.bcebos.com/zha1.mp3'),\n",
       " ('查', 'chá', 'https://hanyu-word-pinyin-short.cdn.bcebos.com/cha2.mp3'),\n",
       " ('询', 'xún', 'https://hanyu-word-pinyin-short.cdn.bcebos.com/xun2.mp3'),\n",
       " ('链', 'liàn', 'https://hanyu-word-pinyin-short.cdn.bcebos.com/lian4.mp3'),\n",
       " ('接', 'jiē', 'https://hanyu-word-pinyin-short.cdn.bcebos.com/jie1.mp3'),\n",
       " ('获', 'huò', 'https://hanyu-word-pinyin-short.cdn.bcebos.com/huo4.mp3'),\n",
       " ('取', 'qǔ', 'https://hanyu-word-pinyin-short.cdn.bcebos.com/qu3.mp3'),\n",
       " ('其', 'qí', 'https://hanyu-word-pinyin-short.cdn.bcebos.com/qi2.mp3'),\n",
       " ('其', 'jī', 'https://hanyu-word-pinyin-short.cdn.bcebos.com/ji1.mp3'),\n",
       " ('对', 'duì', 'https://hanyu-word-pinyin-short.cdn.bcebos.com/dui4.mp3'),\n",
       " ('应', 'yìng', 'https://hanyu-word-pinyin-short.cdn.bcebos.com/ying4.mp3'),\n",
       " ('应', 'yīng', 'https://hanyu-word-pinyin-short.cdn.bcebos.com/ying1.mp3'),\n",
       " ('的', 'de', 'https://hanyu-word-pinyin-short.cdn.bcebos.com/de5.mp3'),\n",
       " ('的', 'dí', 'https://hanyu-word-pinyin-short.cdn.bcebos.com/di2.mp3'),\n",
       " ('的', 'dì', 'https://hanyu-word-pinyin-short.cdn.bcebos.com/di4.mp3'),\n",
       " ('的', 'dī', 'https://hanyu-word-pinyin-short.cdn.bcebos.com/di1.mp3'),\n",
       " ('拼', 'pīn', 'https://hanyu-word-pinyin-short.cdn.bcebos.com/pin1.mp3'),\n",
       " ('音', 'yīn', 'https://hanyu-word-pinyin-short.cdn.bcebos.com/yin1.mp3'),\n",
       " ('及', 'jí', 'https://hanyu-word-pinyin-short.cdn.bcebos.com/ji2.mp3'),\n",
       " ('发', 'fā', 'https://hanyu-word-pinyin-short.cdn.bcebos.com/fa1.mp3'),\n",
       " ('发', 'fà', 'https://hanyu-word-pinyin-short.cdn.bcebos.com/fa4.mp3'),\n",
       " ('音', 'yīn', 'https://hanyu-word-pinyin-short.cdn.bcebos.com/yin1.mp3'),\n",
       " ('链', 'liàn', 'https://hanyu-word-pinyin-short.cdn.bcebos.com/lian4.mp3'),\n",
       " ('接', 'jiē', 'https://hanyu-word-pinyin-short.cdn.bcebos.com/jie1.mp3'),\n",
       " ('存', 'cún', 'https://hanyu-word-pinyin-short.cdn.bcebos.com/cun2.mp3'),\n",
       " ('储', 'chǔ', 'https://hanyu-word-pinyin-short.cdn.bcebos.com/chu3.mp3'),\n",
       " ('到', 'dào', 'https://hanyu-word-pinyin-short.cdn.bcebos.com/dao4.mp3'),\n",
       " ('数', 'shù', 'https://hanyu-word-pinyin-short.cdn.bcebos.com/shu4.mp3'),\n",
       " ('数', 'shǔ', 'https://hanyu-word-pinyin-short.cdn.bcebos.com/shu3.mp3'),\n",
       " ('数', 'shuò', 'https://hanyu-word-pinyin-short.cdn.bcebos.com/shuo4.mp3'),\n",
       " ('据', 'jù', 'https://hanyu-word-pinyin-short.cdn.bcebos.com/ju4.mp3'),\n",
       " ('据', 'jū', 'https://hanyu-word-pinyin-short.cdn.bcebos.com/ju1.mp3'),\n",
       " ('库', 'kù', 'https://hanyu-word-pinyin-short.cdn.bcebos.com/ku4.mp3')]"
      ]
     },
     "execution_count": 22,
     "metadata": {},
     "output_type": "execute_result"
    }
   ],
   "source": [
    "data"
   ]
  },
  {
   "cell_type": "markdown",
   "metadata": {},
   "source": [
    "# 保存到数据库"
   ]
  },
  {
   "cell_type": "code",
   "execution_count": 16,
   "metadata": {},
   "outputs": [],
   "source": [
    "from pony.orm import *\n",
    "\n",
    "db = Database()\n",
    "\n",
    "class Hz(db.Entity):\n",
    "    id = PrimaryKey(int, auto=True)\n",
    "    hz = Optional(str, column='hz')\n",
    "    py = Optional(str, column='py')\n",
    "    href = Optional(str, column='href')\n"
   ]
  },
  {
   "cell_type": "code",
   "execution_count": 17,
   "metadata": {},
   "outputs": [],
   "source": [
    "db.bind(provider='sqlite', filename=r'F:\\Users\\Admin\\hz.sqlite')\n",
    "\n",
    "db.generate_mapping(create_tables=True)\n",
    "\n",
    "set_sql_debug(True)"
   ]
  },
  {
   "cell_type": "code",
   "execution_count": null,
   "metadata": {},
   "outputs": [],
   "source": [
    "for i in data:\n",
    "    s=Hz(hz=i[0],py=i[1],href=i[2])\n",
    "    db.commit()"
   ]
  },
  {
   "cell_type": "markdown",
   "metadata": {},
   "source": [
    "# 遍历输出数据库"
   ]
  },
  {
   "cell_type": "code",
   "execution_count": 23,
   "metadata": {
    "scrolled": true
   },
   "outputs": [
    {
     "name": "stdout",
     "output_type": "stream",
     "text": [
      "BEGIN IMMEDIATE TRANSACTION\n",
      "SELECT \"h\".\"id\", \"h\".\"hz\", \"h\".\"py\", \"h\".\"href\"\n",
      "FROM \"Hz\" \"h\"\n",
      "\n",
      "给 gěi https://hanyu-word-pinyin-short.cdn.bcebos.com/gei3.mp3\n",
      "给 jǐ https://hanyu-word-pinyin-short.cdn.bcebos.com/ji3.mp3\n",
      "定 dìng https://hanyu-word-pinyin-short.cdn.bcebos.com/ding4.mp3\n",
      "一 yī https://hanyu-word-pinyin-short.cdn.bcebos.com/yi1.mp3\n",
      "个 gè https://hanyu-word-pinyin-short.cdn.bcebos.com/ge4.mp3\n",
      "个 gě https://hanyu-word-pinyin-short.cdn.bcebos.com/ge3.mp3\n",
      "文 wén https://hanyu-word-pinyin-short.cdn.bcebos.com/wen2.mp3\n",
      "本 běn https://hanyu-word-pinyin-short.cdn.bcebos.com/ben3.mp3\n",
      "文 wén https://hanyu-word-pinyin-short.cdn.bcebos.com/wen2.mp3\n",
      "件 jiàn https://hanyu-word-pinyin-short.cdn.bcebos.com/jian4.mp3\n",
      "每 měi https://hanyu-word-pinyin-short.cdn.bcebos.com/mei3.mp3\n",
      "行 háng https://hanyu-word-pinyin-short.cdn.bcebos.com/hang2.mp3\n",
      "行 hàng https://hanyu-word-pinyin-short.cdn.bcebos.com/hang4.mp3\n",
      "行 héng https://hanyu-word-pinyin-short.cdn.bcebos.com/heng2.mp3\n",
      "行 xíng https://hanyu-word-pinyin-short.cdn.bcebos.com/xing2.mp3\n",
      "一 yī https://hanyu-word-pinyin-short.cdn.bcebos.com/yi1.mp3\n",
      "段 duàn https://hanyu-word-pinyin-short.cdn.bcebos.com/duan4.mp3\n",
      "短 duǎn https://hanyu-word-pinyin-short.cdn.bcebos.com/duan3.mp3\n",
      "文 wén https://hanyu-word-pinyin-short.cdn.bcebos.com/wen2.mp3\n",
      "字 zì https://hanyu-word-pinyin-short.cdn.bcebos.com/zi4.mp3\n",
      "不 bù https://hanyu-word-pinyin-short.cdn.bcebos.com/bu4.mp3\n",
      "一 yī https://hanyu-word-pinyin-short.cdn.bcebos.com/yi1.mp3\n",
      "定 dìng https://hanyu-word-pinyin-short.cdn.bcebos.com/ding4.mp3\n",
      "是 shì https://hanyu-word-pinyin-short.cdn.bcebos.com/shi4.mp3\n",
      "一 yī https://hanyu-word-pinyin-short.cdn.bcebos.com/yi1.mp3\n",
      "个 gè https://hanyu-word-pinyin-short.cdn.bcebos.com/ge4.mp3\n",
      "个 gě https://hanyu-word-pinyin-short.cdn.bcebos.com/ge3.mp3\n",
      "字 zì https://hanyu-word-pinyin-short.cdn.bcebos.com/zi4.mp3\n",
      "过 guò https://hanyu-word-pinyin-short.cdn.bcebos.com/guo4.mp3\n",
      "过 guo https://hanyu-word-pinyin-short.cdn.bcebos.com/guo5.mp3\n",
      "过 guō https://hanyu-word-pinyin-short.cdn.bcebos.com/guo1.mp3\n",
      "百 bǎi https://hanyu-word-pinyin-short.cdn.bcebos.com/bai3.mp3\n",
      "度 dù https://hanyu-word-pinyin-short.cdn.bcebos.com/du4.mp3\n",
      "度 duó https://hanyu-word-pinyin-short.cdn.bcebos.com/duo2.mp3\n",
      "构 gòu https://hanyu-word-pinyin-short.cdn.bcebos.com/gou4.mp3\n",
      "建 jiàn https://hanyu-word-pinyin-short.cdn.bcebos.com/jian4.mp3\n",
      "查 zhā https://hanyu-word-pinyin-short.cdn.bcebos.com/zha1.mp3\n",
      "查 chá https://hanyu-word-pinyin-short.cdn.bcebos.com/cha2.mp3\n",
      "询 xún https://hanyu-word-pinyin-short.cdn.bcebos.com/xun2.mp3\n",
      "链 liàn https://hanyu-word-pinyin-short.cdn.bcebos.com/lian4.mp3\n",
      "接 jiē https://hanyu-word-pinyin-short.cdn.bcebos.com/jie1.mp3\n",
      "获 huò https://hanyu-word-pinyin-short.cdn.bcebos.com/huo4.mp3\n",
      "取 qǔ https://hanyu-word-pinyin-short.cdn.bcebos.com/qu3.mp3\n",
      "其 qí https://hanyu-word-pinyin-short.cdn.bcebos.com/qi2.mp3\n",
      "其 jī https://hanyu-word-pinyin-short.cdn.bcebos.com/ji1.mp3\n",
      "对 duì https://hanyu-word-pinyin-short.cdn.bcebos.com/dui4.mp3\n",
      "应 yìng https://hanyu-word-pinyin-short.cdn.bcebos.com/ying4.mp3\n",
      "应 yīng https://hanyu-word-pinyin-short.cdn.bcebos.com/ying1.mp3\n",
      "的 de https://hanyu-word-pinyin-short.cdn.bcebos.com/de5.mp3\n",
      "的 dí https://hanyu-word-pinyin-short.cdn.bcebos.com/di2.mp3\n",
      "的 dì https://hanyu-word-pinyin-short.cdn.bcebos.com/di4.mp3\n",
      "的 dī https://hanyu-word-pinyin-short.cdn.bcebos.com/di1.mp3\n",
      "拼 pīn https://hanyu-word-pinyin-short.cdn.bcebos.com/pin1.mp3\n",
      "音 yīn https://hanyu-word-pinyin-short.cdn.bcebos.com/yin1.mp3\n",
      "及 jí https://hanyu-word-pinyin-short.cdn.bcebos.com/ji2.mp3\n",
      "发 fā https://hanyu-word-pinyin-short.cdn.bcebos.com/fa1.mp3\n",
      "发 fà https://hanyu-word-pinyin-short.cdn.bcebos.com/fa4.mp3\n",
      "音 yīn https://hanyu-word-pinyin-short.cdn.bcebos.com/yin1.mp3\n",
      "链 liàn https://hanyu-word-pinyin-short.cdn.bcebos.com/lian4.mp3\n",
      "接 jiē https://hanyu-word-pinyin-short.cdn.bcebos.com/jie1.mp3\n",
      "存 cún https://hanyu-word-pinyin-short.cdn.bcebos.com/cun2.mp3\n",
      "储 chǔ https://hanyu-word-pinyin-short.cdn.bcebos.com/chu3.mp3\n",
      "到 dào https://hanyu-word-pinyin-short.cdn.bcebos.com/dao4.mp3\n",
      "数 shù https://hanyu-word-pinyin-short.cdn.bcebos.com/shu4.mp3\n",
      "数 shǔ https://hanyu-word-pinyin-short.cdn.bcebos.com/shu3.mp3\n",
      "数 shuò https://hanyu-word-pinyin-short.cdn.bcebos.com/shuo4.mp3\n",
      "据 jù https://hanyu-word-pinyin-short.cdn.bcebos.com/ju4.mp3\n",
      "据 jū https://hanyu-word-pinyin-short.cdn.bcebos.com/ju1.mp3\n",
      "库 kù https://hanyu-word-pinyin-short.cdn.bcebos.com/ku4.mp3\n"
     ]
    }
   ],
   "source": [
    "query = Hz.select()\n",
    "for i in query:\n",
    "    print(i.hz,i.py,i.href)"
   ]
  },
  {
   "cell_type": "code",
   "execution_count": null,
   "metadata": {},
   "outputs": [],
   "source": []
  }
 ],
 "metadata": {
  "kernelspec": {
   "display_name": "Python 3",
   "language": "python",
   "name": "python3"
  },
  "language_info": {
   "codemirror_mode": {
    "name": "ipython",
    "version": 3
   },
   "file_extension": ".py",
   "mimetype": "text/x-python",
   "name": "python",
   "nbconvert_exporter": "python",
   "pygments_lexer": "ipython3",
   "version": "3.7.4"
  }
 },
 "nbformat": 4,
 "nbformat_minor": 4
}
