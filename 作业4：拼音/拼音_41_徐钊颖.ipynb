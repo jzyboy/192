{
 "cells": [
  {
   "cell_type": "markdown",
   "metadata": {},
   "source": [
    "## 汉字查找拼音功能"
   ]
  },
  {
   "cell_type": "code",
   "execution_count": 19,
   "metadata": {},
   "outputs": [],
   "source": [
    "from selenium import webdriver #打开网页\n",
    "driver=webdriver.Chrome()\n",
    "url = 'https://www.baidu.com/s?ie=utf-8&f=8&rsv_bp=1&rsv_idx=2&tn=baiduhome_pg&wd=%E6%88%91%E6%8B%BC%E9%9F%B3&rsv_spt=1&oq=%25E6%2588%2591%2520%25E6%258B%25BC%25E9%259F%25B3&rsv_pq=e2258d99001b4267&rsv_t=11ee3dOD2VAD1eVT3spN5hgqOZvzxMk14XZefUXo1lyU%2FpdAbp1oPSTMrYWS8NYSQIiD&rqlang=cn&rsv_enter=1&rsv_dl=tb&inputT=300&rsv_sug3=10&rsv_sug1=11&rsv_sug7=100&rsv_sug2=0&rsv_sug4=2142'\n",
    "driver.get(url)"
   ]
  },
  {
   "cell_type": "code",
   "execution_count": 20,
   "metadata": {},
   "outputs": [
    {
     "name": "stdout",
     "output_type": "stream",
     "text": [
      "('我', '[wǒ]', '\"https://hanyu-word-pinyin-short.cdn.bcebos.com/wo3.mp3\"')\n"
     ]
    }
   ],
   "source": [
    "import re \n",
    "t1 = ()\n",
    "html = driver.page_source \n",
    "reobj = re.compile(r'<div class=\"op_exactqa_detail_s_area c-span24 c-span-last\">[\\d\\D]*?<p class[\\d\\D]*?>[\\d\\D]*?<a href[\\d\\D]*? target=[\\d\\D]*?\">([\\d\\D]*?)</a>拼音[\\d\\D]*?<span class=\"op_exactqa_detail_word_pronounce\">([\\d\\D]*?)</span>[\\d\\D]*?<a class=\"op_exactqa_detail_how_read\" data-click[\\d\\D]*?url=([\\d\\D]*?) href[\\d\\D]*?onclick[\\d\\D]*?hidefocus[\\d\\D]*?></a>')\n",
    "for match in reobj.finditer(html):\n",
    "    a=match.group(1)\n",
    "    b=match.group(2)\n",
    "    c=match.group(3)\n",
    "    t1=(a,b,c)\n",
    "print(t1)"
   ]
  },
  {
   "cell_type": "code",
   "execution_count": 21,
   "metadata": {},
   "outputs": [],
   "source": [
    "from selenium import webdriver #打开网页\n",
    "driver=webdriver.Chrome()\n",
    "url = 'https://www.baidu.com/s?ie=utf-8&f=8&rsv_bp=1&rsv_idx=2&tn=baiduhome_pg&wd=%E4%BB%AC%E6%8B%BC%E9%9F%B3&rsv_spt=1&oq=%25E4%25BB%25AC%25E6%258B%25BC%25E9%259F%25B3&rsv_pq=f8ec58f600006a79&rsv_t=00d5hKVGEwepA8J1XC0aylGWHtEVz9Bj4k%2F4FuptXlyhfmnevwjEWDY2aOLNBobPbgJK&rqlang=cn&rsv_enter=0&rsv_dl=tb&rsv_btype=t'\n",
    "driver.get(url)"
   ]
  },
  {
   "cell_type": "code",
   "execution_count": 22,
   "metadata": {},
   "outputs": [
    {
     "name": "stdout",
     "output_type": "stream",
     "text": [
      "('们', '[mén]', '\"https://hanyu-word-pinyin-short.cdn.bcebos.com/men2.mp3\"', '[men]', '\"https://hanyu-word-pinyin-short.cdn.bcebos.com/men5.mp3\"')\n"
     ]
    }
   ],
   "source": [
    "import re \n",
    "t2 = ()\n",
    "html = driver.page_source \n",
    "reobj = re.compile(r'<div class=\"op_exactqa_detail_s_area c-span24 c-span-last\">[\\d\\D]*?<p class[\\d\\D]*?>[\\d\\D]*?<a href[\\d\\D]*? target=[\\d\\D]*?\">([\\d\\D]*?)</a>拼音[\\d\\D]*?<span class=\"op_exactqa_detail_word_pronounce\">([\\d\\D]*?)</span>[\\d\\D]*?<a class=\"op_exactqa_detail_how_read\" data-click[\\d\\D]*?url=([\\d\\D]*?) href[\\d\\D]*?onclick[\\d\\D]*?hidefocus[\\d\\D]*?></a>[\\d\\D]*?<span class=\"op_exactqa_detail_word_pronounce\">([\\d\\D]*?)</span>[\\d\\D]*?<a class=\"op_exactqa_detail_how_read\" data-click=[\\d\\D]*? url=([\\d\\D]*?) href=[\\d\\D]*?onclick=[\\d\\D]*? hidefocus=[\\d\\D]*?></a>')\n",
    "for match in reobj.finditer(html):\n",
    "    a=match.group(1)\n",
    "    b=match.group(2)\n",
    "    c=match.group(3)\n",
    "    d=match.group(4)\n",
    "    e=match.group(5)\n",
    "    t2=(a,b,c,d,e)\n",
    "print(t2)"
   ]
  },
  {
   "cell_type": "code",
   "execution_count": 23,
   "metadata": {},
   "outputs": [],
   "source": [
    "import codecs\n",
    "#读取模式\n",
    "f = codecs.open(r\"C:\\zhaozhao\\hanzi.txt\",\"r\",\"utf-8-sig\")\n",
    "for line in f.readlines():\n",
    "    print(line.strip())\n",
    "f.close()"
   ]
  },
  {
   "cell_type": "code",
   "execution_count": null,
   "metadata": {},
   "outputs": [],
   "source": []
  }
 ],
 "metadata": {
  "kernelspec": {
   "display_name": "Python 3",
   "language": "python",
   "name": "python3"
  },
  "language_info": {
   "codemirror_mode": {
    "name": "ipython",
    "version": 3
   },
   "file_extension": ".py",
   "mimetype": "text/x-python",
   "name": "python",
   "nbconvert_exporter": "python",
   "pygments_lexer": "ipython3",
   "version": "3.7.4"
  }
 },
 "nbformat": 4,
 "nbformat_minor": 4
}
