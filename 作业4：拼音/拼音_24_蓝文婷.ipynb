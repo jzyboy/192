{
 "cells": [
  {
   "cell_type": "markdown",
   "metadata": {},
   "source": [
    "# 任务一"
   ]
  },
  {
   "cell_type": "code",
   "execution_count": 65,
   "metadata": {},
   "outputs": [],
   "source": [
    "from selenium import webdriver\n",
    "driver = webdriver.Chrome()\n",
    "url = \"https://www.baidu.com/s?ie=utf-8&wd=%E6%88%91%E6%8B%BC%E9%9F%B3&tn=78040160_14_pg&ch=16\"\n",
    "driver.get(url)"
   ]
  },
  {
   "cell_type": "code",
   "execution_count": 36,
   "metadata": {},
   "outputs": [],
   "source": [
    "html=driver.page_source\n",
    "#print(html)"
   ]
  },
  {
   "cell_type": "code",
   "execution_count": 37,
   "metadata": {},
   "outputs": [
    {
     "name": "stdout",
     "output_type": "stream",
     "text": [
      "['我', '[wǒ]', 'https://hanyu-word-pinyin-short.cdn.bcebos.com/wo3.mp3']\n"
     ]
    }
   ],
   "source": [
    "liebiao=[]\n",
    "reobj = re.compile(r'<a href=\".*?\" target=\"_blank\"><em>([\\s\\S]*?)</em>')\n",
    "for match in reobj.finditer(html):\n",
    "    liebiao.append(match.group(1))\n",
    "\n",
    "reobj = re.compile(r'<span class=\"op_exactqa_detail_word_pronounce\">([\\s\\S]*?)</span>')\n",
    "for match in reobj.finditer(html):\n",
    "    liebiao.append(match.group(1))\n",
    "    \n",
    "reobj = re.compile(r'<a class=\".*?\" data-click=\".*?\" url=\"([\\s\\S]*?)\" href=\".*?\" onclick=\".*?\" hidefocus=\"true\"></a>')\n",
    "for match in reobj.finditer(html):\n",
    "    liebiao.append(match.group(1))\n",
    "\n",
    "print(liebiao)"
   ]
  },
  {
   "cell_type": "markdown",
   "metadata": {},
   "source": [
    "# 任务二"
   ]
  },
  {
   "cell_type": "code",
   "execution_count": 43,
   "metadata": {},
   "outputs": [
    {
     "name": "stdout",
     "output_type": "stream",
     "text": [
      "['我\\n爱\\n中\\n华\\n人\\n民\\n共\\n和\\n国']\n"
     ]
    }
   ],
   "source": [
    "path = 'd:\\初始.txt'\n",
    "\n",
    "f = open(path,'r',encoding='utf=8')\n",
    "\n",
    "list=[]\n",
    "\n",
    "list.append(f.read())\n",
    "\n",
    "print(list)"
   ]
  },
  {
   "cell_type": "code",
   "execution_count": 52,
   "metadata": {},
   "outputs": [
    {
     "name": "stdout",
     "output_type": "stream",
     "text": [
      "我\n",
      "爱\n",
      "中\n",
      "华\n",
      "人\n",
      "民\n",
      "共\n",
      "和\n",
      "国\n"
     ]
    }
   ],
   "source": [
    "import requests,re\n",
    "data=[]\n",
    "with open('d:\\初始.txt',encoding='utf_8_sig') as f:\n",
    "    for i in f:\n",
    "        i=i.strip()\n",
    "        for j in i:\n",
    "            getpy(j)\n",
    "            print(j)"
   ]
  },
  {
   "cell_type": "code",
   "execution_count": 90,
   "metadata": {},
   "outputs": [
    {
     "name": "stdout",
     "output_type": "stream",
     "text": [
      "我\n",
      "['我', '[wǒ]', 'https://hanyu-word-pinyin-short.cdn.bcebos.com/wo3.mp3']\n",
      "爱\n",
      "['爱', '[ài]', 'https://hanyu-word-pinyin-short.cdn.bcebos.com/ai4.mp3']\n",
      "中\n",
      "['中', '[zhōng]', '[zhòng]', 'https://hanyu-word-pinyin-short.cdn.bcebos.com/zhong1.mp3', 'https://hanyu-word-pinyin-short.cdn.bcebos.com/zhong4.mp3']\n",
      "华\n",
      "['华', '[huá]', '[huā]', '[huà]', 'https://hanyu-word-pinyin-short.cdn.bcebos.com/hua2.mp3', 'https://hanyu-word-pinyin-short.cdn.bcebos.com/hua1.mp3', 'https://hanyu-word-pinyin-short.cdn.bcebos.com/hua4.mp3']\n",
      "人\n",
      "['人', '[rén]', 'https://hanyu-word-pinyin-short.cdn.bcebos.com/ren2.mp3']\n",
      "民\n",
      "['民', '[mín]', 'https://hanyu-word-pinyin-short.cdn.bcebos.com/min2.mp3']\n",
      "共\n",
      "['共', '[gòng]', '[gōng]', 'https://hanyu-word-pinyin-short.cdn.bcebos.com/gong4.mp3', 'https://hanyu-word-pinyin-short.cdn.bcebos.com/gong1.mp3']\n",
      "和\n",
      "['和', '[hé]', '[hè]', '[huò]', '[huó]', '[hú]', 'https://hanyu-word-pinyin-short.cdn.bcebos.com/he2.mp3', 'https://hanyu-word-pinyin-short.cdn.bcebos.com/he4.mp3', 'https://hanyu-word-pinyin-short.cdn.bcebos.com/huo4.mp3', 'https://hanyu-word-pinyin-short.cdn.bcebos.com/huo2.mp3', 'https://hanyu-word-pinyin-short.cdn.bcebos.com/hu2.mp3']\n",
      "国\n",
      "['国', '[guó]', 'https://hanyu-word-pinyin-short.cdn.bcebos.com/guo2.mp3']\n"
     ]
    }
   ],
   "source": [
    "import requests,re\n",
    "jihe=[]\n",
    "with open('d:\\初始.txt',encoding='utf_8_sig') as f:\n",
    "    for i in f:\n",
    "        i=i.strip()\n",
    "        for j in i:\n",
    "            getpy(j)\n",
    "            print(j)\n",
    "            from selenium import webdriver\n",
    "            driver = webdriver.Chrome()\n",
    "            url = \"http://www.baidu.com/s?wd=\"+j+\"拼音\"\n",
    "            driver.get(url)\n",
    "            html=driver.page_source\n",
    "            #print(html)\n",
    "            liebiao=[]\n",
    "            reobj = re.compile(r'<a href=\".*?\" target=\"_blank\"><em>([\\s\\S]*?)</em>')\n",
    "            for match in reobj.finditer(html):\n",
    "                liebiao.append(match.group(1))\n",
    "\n",
    "            reobj = re.compile(r'<span class=\"op_exactqa_detail_word_pronounce\">([\\s\\S]*?)</span>')\n",
    "            for match in reobj.finditer(html):\n",
    "                liebiao.append(match.group(1))\n",
    "\n",
    "            reobj = re.compile(r'<a class=\".*?\" data-click=\".*?\" url=\"([\\s\\S]*?)\" href=\".*?\" onclick=\".*?\" hidefocus=\"true\"></a>')\n",
    "            for match in reobj.finditer(html):\n",
    "                liebiao.append(match.group(1))\n",
    "\n",
    "            print(liebiao)\n",
    "            jihe.append(liebiao)\n",
    "            driver.close()"
   ]
  },
  {
   "cell_type": "code",
   "execution_count": 91,
   "metadata": {},
   "outputs": [
    {
     "name": "stdout",
     "output_type": "stream",
     "text": [
      "[['我', '[wǒ]', 'https://hanyu-word-pinyin-short.cdn.bcebos.com/wo3.mp3'], ['爱', '[ài]', 'https://hanyu-word-pinyin-short.cdn.bcebos.com/ai4.mp3'], ['中', '[zhōng]', '[zhòng]', 'https://hanyu-word-pinyin-short.cdn.bcebos.com/zhong1.mp3', 'https://hanyu-word-pinyin-short.cdn.bcebos.com/zhong4.mp3'], ['华', '[huá]', '[huā]', '[huà]', 'https://hanyu-word-pinyin-short.cdn.bcebos.com/hua2.mp3', 'https://hanyu-word-pinyin-short.cdn.bcebos.com/hua1.mp3', 'https://hanyu-word-pinyin-short.cdn.bcebos.com/hua4.mp3'], ['人', '[rén]', 'https://hanyu-word-pinyin-short.cdn.bcebos.com/ren2.mp3'], ['民', '[mín]', 'https://hanyu-word-pinyin-short.cdn.bcebos.com/min2.mp3'], ['共', '[gòng]', '[gōng]', 'https://hanyu-word-pinyin-short.cdn.bcebos.com/gong4.mp3', 'https://hanyu-word-pinyin-short.cdn.bcebos.com/gong1.mp3'], ['和', '[hé]', '[hè]', '[huò]', '[huó]', '[hú]', 'https://hanyu-word-pinyin-short.cdn.bcebos.com/he2.mp3', 'https://hanyu-word-pinyin-short.cdn.bcebos.com/he4.mp3', 'https://hanyu-word-pinyin-short.cdn.bcebos.com/huo4.mp3', 'https://hanyu-word-pinyin-short.cdn.bcebos.com/huo2.mp3', 'https://hanyu-word-pinyin-short.cdn.bcebos.com/hu2.mp3'], ['国', '[guó]', 'https://hanyu-word-pinyin-short.cdn.bcebos.com/guo2.mp3']]\n"
     ]
    }
   ],
   "source": [
    "print(jihe)"
   ]
  },
  {
   "cell_type": "code",
   "execution_count": null,
   "metadata": {},
   "outputs": [],
   "source": [
    "#保存为csv文件\n",
    "import codecs\n",
    "a=len(jihe)\n",
    "f = codecs.open(r\"D:\\1.csv\",\"w\",\"utf-8-sig\")\n",
    "f.write(\"文字,拼音,链接\\n\")\n",
    "for i in range (a):#不需要-1\n",
    "    a,b,c=jihe[i]\n",
    "    f.write(a+\",\"+b+\",\"+c+\"\\n\")\n",
    "f.close()"
   ]
  },
  {
   "cell_type": "markdown",
   "metadata": {},
   "source": [
    "# 任务三"
   ]
  },
  {
   "cell_type": "code",
   "execution_count": 96,
   "metadata": {},
   "outputs": [
    {
     "name": "stdout",
     "output_type": "stream",
     "text": [
      "每\n",
      "['每', '[měi]', 'https://hanyu-word-pinyin-short.cdn.bcebos.com/mei3.mp3']\n",
      "行\n",
      "['行', '[háng]', '[hàng]', '[héng]', '[xíng]', 'https://hanyu-word-pinyin-short.cdn.bcebos.com/hang2.mp3', 'https://hanyu-word-pinyin-short.cdn.bcebos.com/hang4.mp3', 'https://hanyu-word-pinyin-short.cdn.bcebos.com/heng2.mp3', 'https://hanyu-word-pinyin-short.cdn.bcebos.com/xing2.mp3']\n",
      "一\n",
      "['一', '一拼音', '[yī]', 'https://hanyu-word-pinyin-short.cdn.bcebos.com/yi1.mp3']\n",
      "段\n",
      "['段', '[duàn]', 'https://hanyu-word-pinyin-short.cdn.bcebos.com/duan4.mp3']\n",
      "短\n",
      "['短', '短拼音', '[duǎn]', 'https://hanyu-word-pinyin-short.cdn.bcebos.com/duan3.mp3']\n",
      "文\n",
      "['文', '[wén]', 'https://hanyu-word-pinyin-short.cdn.bcebos.com/wen2.mp3']\n",
      "字\n",
      "['字', '[zì]', 'https://hanyu-word-pinyin-short.cdn.bcebos.com/zi4.mp3']\n"
     ]
    }
   ],
   "source": [
    "import requests,re\n",
    "jihe2=[]\n",
    "with open('d:\\文本.txt',encoding='utf_8_sig') as f:\n",
    "    for i in f:\n",
    "        i=i.strip()\n",
    "        for j in i:\n",
    "            getpy(j)\n",
    "            print(j)\n",
    "            from selenium import webdriver\n",
    "            driver = webdriver.Chrome()\n",
    "            url = \"http://www.baidu.com/s?wd=\"+j+\"拼音\"\n",
    "            driver.get(url)\n",
    "            html=driver.page_source\n",
    "            #print(html)\n",
    "            liebiao=[]\n",
    "            reobj = re.compile(r'<a href=\".*?\" target=\"_blank\"><em>([\\s\\S]*?)</em>')\n",
    "            for match in reobj.finditer(html):\n",
    "                liebiao.append(match.group(1))\n",
    "\n",
    "            reobj = re.compile(r'<span class=\"op_exactqa_detail_word_pronounce\">([\\s\\S]*?)</span>')\n",
    "            for match in reobj.finditer(html):\n",
    "                liebiao.append(match.group(1))\n",
    "\n",
    "            reobj = re.compile(r'<a class=\".*?\" data-click=\".*?\" url=\"([\\s\\S]*?)\" href=\".*?\" onclick=\".*?\" hidefocus=\"true\"></a>')\n",
    "            for match in reobj.finditer(html):\n",
    "                liebiao.append(match.group(1))\n",
    "\n",
    "            print(liebiao)\n",
    "            jihe2.append(liebiao)\n",
    "            driver.close()"
   ]
  },
  {
   "cell_type": "code",
   "execution_count": 97,
   "metadata": {},
   "outputs": [],
   "source": [
    "from pony.orm import *\n",
    "\n",
    "db = Database()\n",
    "\n",
    "class Hz(db.Entity):\n",
    "    id = PrimaryKey(int, auto=True)\n",
    "    hz = Optional(str, column='hz')\n",
    "    py = Optional(str, column='py')\n",
    "    href = Optional(str, column='href')\n"
   ]
  },
  {
   "cell_type": "code",
   "execution_count": 98,
   "metadata": {},
   "outputs": [],
   "source": [
    "db.bind(provider='sqlite', filename=r'D:\\code\\hz.sqlite')\n",
    "\n",
    "db.generate_mapping(create_tables=True)\n",
    "\n",
    "set_sql_debug(True)"
   ]
  },
  {
   "cell_type": "code",
   "execution_count": 99,
   "metadata": {},
   "outputs": [],
   "source": [
    "for i in data:\n",
    "    s=Hz(hz=i[0],py=i[1],href=i[2])\n",
    "    db.commit()"
   ]
  },
  {
   "cell_type": "code",
   "execution_count": null,
   "metadata": {},
   "outputs": [],
   "source": []
  }
 ],
 "metadata": {
  "kernelspec": {
   "display_name": "Python 3",
   "language": "python",
   "name": "python3"
  },
  "language_info": {
   "codemirror_mode": {
    "name": "ipython",
    "version": 3
   },
   "file_extension": ".py",
   "mimetype": "text/x-python",
   "name": "python",
   "nbconvert_exporter": "python",
   "pygments_lexer": "ipython3",
   "version": "3.7.4"
  }
 },
 "nbformat": 4,
 "nbformat_minor": 2
}
