{
 "cells": [
  {
   "cell_type": "markdown",
   "metadata": {},
   "source": [
    "#学校周边酒店名称"
   ]
  },
  {
   "cell_type": "code",
   "execution_count": 50,
   "metadata": {},
   "outputs": [],
   "source": [
    "from selenium import webdriver\n",
    "driver=webdriver.Chrome()\n",
    "url = 'https://map.baidu.com/search/%E9%85%92%E5%BA%97/@13401816.6,3523321.62,16z?querytype=nb&r=1000&wd=%E9%85%92%E5%BA%97&nb_x=13401816.60&nb_y=3523321.62&uid=7a0cb8c0d67a634683a00c28&b=(13397976.6,3521497.62;13405656.6,3525145.62)&l=16&gr_radius=1000&pn=0&device_ratio=1&da_src=shareurl'\n",
    "driver.get(url)"
   ]
  },
  {
   "cell_type": "code",
   "execution_count": 51,
   "metadata": {},
   "outputs": [],
   "source": [
    "html = driver.page_source #获取源代码\n",
    "# print(html)"
   ]
  },
  {
   "cell_type": "code",
   "execution_count": 52,
   "metadata": {},
   "outputs": [
    {
     "name": "stdout",
     "output_type": "stream",
     "text": [
      "速8酒店(杭州下沙金沙居店)                     3.9/5分 经济型                 杭州市江干区学正街567号金沙居B座3层\n",
      "TEL茶砚酒店                     4.2/5分 酒店                 学源街239号浙江经贸学院北门\n",
      "杭州尚爱快捷酒店(下沙学正街店)                     3.2/5分 经济型                 浙江省杭州市江干区下沙经济技术开发区学正街575号学正街金沙居B座1层\n",
      "杭州品江商务酒店                     2.7/5分 舒适型                 浙江省杭州市江干区学源街239号(浙江经贸学院北门)\n",
      "杭州青芒酒店                     4.5/5分 经济型                 浙江省杭州市江干区学正街388号阳光创富中心10楼\n",
      "杭州陌上花开2019公寓                     /5分 酒店                 浙江省杭州市江干区宝龙城市广场二期\n",
      "汉庭酒店(杭州下沙学正街店)                     4.1/5分 经济型                 浙江省杭州市江干区学正街388号阳光创富中心内\n",
      "贝壳酒店(学正街店)                     4.4/5分 经济型                 浙江省杭州市江干区学正街539号\n",
      "后街主题酒店                     4.1/5分 经济型                 浙江省杭州市江干区下沙学正街559号(金沙居B座)\n",
      "杭州钱塘江语公寓                     /5分 酒店                 宝龙城市广场\n",
      "杭州子行千里公寓(NO.3店)                     0.0/5分 经济型                 25号大街(宝龙城市广场)\n",
      "微八主题酒店                     4.9/5分 经济型                 浙江省杭州市江干区经济技术开发区学正街549号金沙居A座\n",
      "杭州浙江财经大学学术中心酒店                     0.0/5分 经济型                 下沙高教园区学源路18号(浙江财经大学南大门)\n",
      "派酒店(杭州下沙大学城文海南路地铁站店)                     4.8/5分 经济型                 浙江省杭州市江干区学正街386号阳光创富中心\n",
      "杭州轩鹏精选酒店(高沙学林街店)                     4.9/5分 经济型                 浙江省杭州市江干区下沙经济开发区学林街621号\n",
      "杭州歌多酒店                     4.3/5分 经济型                 金沙居学正街535号\n",
      "杭州森屿公寓(学正街分店)                     4.8/5分 酒店                 浙江省杭州市江干区下沙25号大街与2号大街交叉口永辉超市楼上\n",
      "杭州汉典精品酒店                     1.0/5分 经济型                 浙江省杭州市江干区下沙经济开发区学正街545号金沙居A座\n",
      "祥平快捷酒店                     2.4/5分 经济型                 浙江省杭州市江干区学正街879号\n",
      "杭州子行千里公寓(NO.4店)                     /5分 酒店                 浙江省杭州市江干区25号大街\n",
      "[('速8酒店(杭州下沙金沙居店)', '                    3.9/5分', '经济型                ', '杭州市江干区学正街567号金沙居B座3层'), ('TEL茶砚酒店', '                    4.2/5分', '酒店                ', '学源街239号浙江经贸学院北门'), ('杭州尚爱快捷酒店(下沙学正街店)', '                    3.2/5分', '经济型                ', '浙江省杭州市江干区下沙经济技术开发区学正街575号学正街金沙居B座1层'), ('杭州品江商务酒店', '                    2.7/5分', '舒适型                ', '浙江省杭州市江干区学源街239号(浙江经贸学院北门)'), ('杭州青芒酒店', '                    4.5/5分', '经济型                ', '浙江省杭州市江干区学正街388号阳光创富中心10楼'), ('杭州陌上花开2019公寓', '                    /5分', '酒店                ', '浙江省杭州市江干区宝龙城市广场二期'), ('汉庭酒店(杭州下沙学正街店)', '                    4.1/5分', '经济型                ', '浙江省杭州市江干区学正街388号阳光创富中心内'), ('贝壳酒店(学正街店)', '                    4.4/5分', '经济型                ', '浙江省杭州市江干区学正街539号'), ('后街主题酒店', '                    4.1/5分', '经济型                ', '浙江省杭州市江干区下沙学正街559号(金沙居B座)'), ('杭州钱塘江语公寓', '                    /5分', '酒店                ', '宝龙城市广场'), ('杭州子行千里公寓(NO.3店)', '                    0.0/5分', '经济型                ', '25号大街(宝龙城市广场)'), ('微八主题酒店', '                    4.9/5分', '经济型                ', '浙江省杭州市江干区经济技术开发区学正街549号金沙居A座'), ('杭州浙江财经大学学术中心酒店', '                    0.0/5分', '经济型                ', '下沙高教园区学源路18号(浙江财经大学南大门)'), ('派酒店(杭州下沙大学城文海南路地铁站店)', '                    4.8/5分', '经济型                ', '浙江省杭州市江干区学正街386号阳光创富中心'), ('杭州轩鹏精选酒店(高沙学林街店)', '                    4.9/5分', '经济型                ', '浙江省杭州市江干区下沙经济开发区学林街621号'), ('杭州歌多酒店', '                    4.3/5分', '经济型                ', '金沙居学正街535号'), ('杭州森屿公寓(学正街分店)', '                    4.8/5分', '酒店                ', '浙江省杭州市江干区下沙25号大街与2号大街交叉口永辉超市楼上'), ('杭州汉典精品酒店', '                    1.0/5分', '经济型                ', '浙江省杭州市江干区下沙经济开发区学正街545号金沙居A座'), ('祥平快捷酒店', '                    2.4/5分', '经济型                ', '浙江省杭州市江干区学正街879号'), ('杭州子行千里公寓(NO.4店)', '                    /5分', '酒店                ', '浙江省杭州市江干区25号大街')]\n"
     ]
    }
   ],
   "source": [
    "import re \n",
    "import time\n",
    "list = []\n",
    "for i in range(2):\n",
    "    html = driver.page_source\n",
    "    reobj = re.compile(r'class=\"n-blue\"[\\d\\D]*?>([\\d\\D]*?)</a>[\\d\\D]*?<span>([\\d\\D]*?)<[\\d\\D]*?i>([\\d\\D]*?)<[\\d\\D]*?title=\"([\\d\\D]*?)\"')\n",
    "    for match in reobj.finditer(html):\n",
    "        \n",
    "        a=match.group(1)\n",
    "        b=match.group(2)\n",
    "        c=match.group(3)\n",
    "        d=match.group(4)\n",
    "        print(a,b,c,d)\n",
    "        list.append((a,b,c,d))\n",
    "        \n",
    "    driver.find_element_by_link_text(u\"下一页>\").click()\n",
    "    time.sleep(2)\n",
    "print(list)"
   ]
  },
  {
   "cell_type": "code",
   "execution_count": 53,
   "metadata": {},
   "outputs": [
    {
     "ename": "PermissionError",
     "evalue": "[Errno 13] Permission denied: 'D:\\\\jiudian.csv'",
     "output_type": "error",
     "traceback": [
      "\u001b[1;31m---------------------------------------------------------------------------\u001b[0m",
      "\u001b[1;31mPermissionError\u001b[0m                           Traceback (most recent call last)",
      "\u001b[1;32m<ipython-input-53-7e28d9fa0d32>\u001b[0m in \u001b[0;36m<module>\u001b[1;34m\u001b[0m\n\u001b[0;32m      1\u001b[0m \u001b[1;32mimport\u001b[0m \u001b[0mcodecs\u001b[0m\u001b[1;33m\u001b[0m\u001b[1;33m\u001b[0m\u001b[0m\n\u001b[0;32m      2\u001b[0m \u001b[0ma\u001b[0m\u001b[1;33m=\u001b[0m\u001b[0mlen\u001b[0m\u001b[1;33m(\u001b[0m\u001b[0mlist\u001b[0m\u001b[1;33m)\u001b[0m\u001b[1;33m\u001b[0m\u001b[1;33m\u001b[0m\u001b[0m\n\u001b[1;32m----> 3\u001b[1;33m \u001b[0mf\u001b[0m \u001b[1;33m=\u001b[0m \u001b[0mcodecs\u001b[0m\u001b[1;33m.\u001b[0m\u001b[0mopen\u001b[0m\u001b[1;33m(\u001b[0m\u001b[1;34mr\"D:\\jiudian.csv\"\u001b[0m\u001b[1;33m,\u001b[0m\u001b[1;34m\"w\"\u001b[0m\u001b[1;33m,\u001b[0m\u001b[1;34m\"utf_8_sig\"\u001b[0m\u001b[1;33m)\u001b[0m\u001b[1;33m\u001b[0m\u001b[1;33m\u001b[0m\u001b[0m\n\u001b[0m\u001b[0;32m      4\u001b[0m \u001b[0mf\u001b[0m\u001b[1;33m.\u001b[0m\u001b[0mwrite\u001b[0m\u001b[1;33m(\u001b[0m\u001b[1;34m\"酒店名称,评分,类型 ,地址\\n\"\u001b[0m\u001b[1;33m)\u001b[0m\u001b[1;33m\u001b[0m\u001b[1;33m\u001b[0m\u001b[0m\n\u001b[0;32m      5\u001b[0m \u001b[1;32mfor\u001b[0m \u001b[0mi\u001b[0m \u001b[1;32min\u001b[0m \u001b[0mrange\u001b[0m \u001b[1;33m(\u001b[0m\u001b[0ma\u001b[0m\u001b[1;33m-\u001b[0m\u001b[1;36m1\u001b[0m\u001b[1;33m)\u001b[0m\u001b[1;33m:\u001b[0m\u001b[1;33m\u001b[0m\u001b[1;33m\u001b[0m\u001b[0m\n",
      "\u001b[1;32m~\\Anaconda3\\lib\\codecs.py\u001b[0m in \u001b[0;36mopen\u001b[1;34m(filename, mode, encoding, errors, buffering)\u001b[0m\n\u001b[0;32m    902\u001b[0m         \u001b[1;31m# Force opening of the file in binary mode\u001b[0m\u001b[1;33m\u001b[0m\u001b[1;33m\u001b[0m\u001b[1;33m\u001b[0m\u001b[0m\n\u001b[0;32m    903\u001b[0m         \u001b[0mmode\u001b[0m \u001b[1;33m=\u001b[0m \u001b[0mmode\u001b[0m \u001b[1;33m+\u001b[0m \u001b[1;34m'b'\u001b[0m\u001b[1;33m\u001b[0m\u001b[1;33m\u001b[0m\u001b[0m\n\u001b[1;32m--> 904\u001b[1;33m     \u001b[0mfile\u001b[0m \u001b[1;33m=\u001b[0m \u001b[0mbuiltins\u001b[0m\u001b[1;33m.\u001b[0m\u001b[0mopen\u001b[0m\u001b[1;33m(\u001b[0m\u001b[0mfilename\u001b[0m\u001b[1;33m,\u001b[0m \u001b[0mmode\u001b[0m\u001b[1;33m,\u001b[0m \u001b[0mbuffering\u001b[0m\u001b[1;33m)\u001b[0m\u001b[1;33m\u001b[0m\u001b[1;33m\u001b[0m\u001b[0m\n\u001b[0m\u001b[0;32m    905\u001b[0m     \u001b[1;32mif\u001b[0m \u001b[0mencoding\u001b[0m \u001b[1;32mis\u001b[0m \u001b[1;32mNone\u001b[0m\u001b[1;33m:\u001b[0m\u001b[1;33m\u001b[0m\u001b[1;33m\u001b[0m\u001b[0m\n\u001b[0;32m    906\u001b[0m         \u001b[1;32mreturn\u001b[0m \u001b[0mfile\u001b[0m\u001b[1;33m\u001b[0m\u001b[1;33m\u001b[0m\u001b[0m\n",
      "\u001b[1;31mPermissionError\u001b[0m: [Errno 13] Permission denied: 'D:\\\\jiudian.csv'"
     ]
    }
   ],
   "source": [
    "import codecs\n",
    "a=len(list)\n",
    "f = codecs.open(r\"D:\\jiudian.csv\",\"w\",\"utf_8_sig\")\n",
    "f.write(\"酒店名称,评分,类型 ,地址\\n\")\n",
    "for i in range (a-1):\n",
    "    a=list[i]\n",
    "    f.write(a[0]+\",\"+a[1]+\",\"+a[2]+\",\"+a[3]+\"\\n\")\n",
    "f.close()"
   ]
  },
  {
   "cell_type": "code",
   "execution_count": null,
   "metadata": {},
   "outputs": [],
   "source": []
  },
  {
   "cell_type": "code",
   "execution_count": null,
   "metadata": {},
   "outputs": [],
   "source": []
  }
 ],
 "metadata": {
  "kernelspec": {
   "display_name": "Python 3",
   "language": "python",
   "name": "python3"
  },
  "language_info": {
   "codemirror_mode": {
    "name": "ipython",
    "version": 3
   },
   "file_extension": ".py",
   "mimetype": "text/x-python",
   "name": "python",
   "nbconvert_exporter": "python",
   "pygments_lexer": "ipython3",
   "version": "3.7.4"
  }
 },
 "nbformat": 4,
 "nbformat_minor": 4
}
