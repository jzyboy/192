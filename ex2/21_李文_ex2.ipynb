{
 "cells": [
  {
   "cell_type": "code",
   "execution_count": 6,
   "metadata": {},
   "outputs": [],
   "source": [
    "from selenium import webdriver\n",
    "driver=webdriver.Chrome()\n",
    "url = 'https://map.baidu.com/search/%E9%85%92%E5%BA%97/@13401816.6,3523321.62,13z?querytype=nb&c=179&wd=%E9%85%92%E5%BA%97&da_src=shareurl&on_gel=1&l=13&gr=2&b=(13379960.6,3512825.62;13423672.6,3533817.62)&pl_data_type=hotel&pl_sub_type=%E9%85%92%E5%BA%97&pl_price_section=0,%2B&pl_sort_type=default&pl_sort_rule=0&pl_discount2_section=0,%2B&pl_groupon_section=0,%2B&pl_cater_book_pc_section=0,%2B&pl_hotel_book_pc_section=0,%2B&pl_ticket_book_flag_section=0,%2B&pl_movie_book_section=0,%2B&pl_business_type=hotel&uid=7a0cb8c0d67a634683a00c28&nb_x=13401816.6&nb_y=3523321.62&gr_radius=1000&pn=0&device_ratio=1'\n",
    "driver.get(url)"
   ]
  },
  {
   "cell_type": "code",
   "execution_count": null,
   "metadata": {},
   "outputs": [],
   "source": [
    "import re\n",
    "import time\n",
    "html = driver.page_source\n",
    "#print(\"酒店名称\",\",评分:\",\",类型:\",\",地址:\")\n",
    "list=[]\n",
    "for i in range(2):\n",
    "    html = driver.page_source\n",
    "    reobj = re.compile(r'class=\"n-blue\"[\\d\\D]*?>([\\d\\D]*?)</a>[\\d\\D]*?<span>([\\d\\D]*?)<[\\d\\D]*?i>([\\d\\D]*?)<[\\d\\D]*?title=\"([\\d\\D]*?)\"')\n",
    "    for match in reobj.finditer(html):\n",
    "        # match start: match.start()\n",
    "        # match end (exclusive): match.end()\n",
    "        # matched text: match.group()\n",
    "        mingcheng=match.group(1)\n",
    "        fenshu=match.group(2)\n",
    "        leixing=match.group(3)\n",
    "        dizhi=match.group(4)\n",
    "        t=(mingcheng,fenshu,leixing,dizhi)\n",
    "        list.append(t)\n",
    "    driver.find_element_by_link_text(u\"下一页>\").click()\n",
    "    time.sleep(2)"
   ]
  },
  {
   "cell_type": "code",
   "execution_count": null,
   "metadata": {},
   "outputs": [],
   "source": [
    "import codecs\n",
    "a=len(list)\n",
    "f = codecs.open(r\"C:\\Users\\Administrator\\Desktop\\all\\text2.csv\",\"w\",\"utf_8_sig\")\n",
    "f.write(\"酒店名称,评分,类型，地址\\n\")\n",
    "for i in range (a-1):\n",
    "    a=list[i]\n",
    "    f.write(a[0]+\",\"+a[1]+\",\"+a[2]+\",\"+a[3]+\"\\n\")\n",
    "f.close()"
   ]
  }
 ],
 "metadata": {
  "kernelspec": {
   "display_name": "Python 3",
   "language": "python",
   "name": "python3"
  },
  "language_info": {
   "codemirror_mode": {
    "name": "ipython",
    "version": 3
   },
   "file_extension": ".py",
   "mimetype": "text/x-python",
   "name": "python",
   "nbconvert_exporter": "python",
   "pygments_lexer": "ipython3",
   "version": "3.7.4"
  }
 },
 "nbformat": 4,
 "nbformat_minor": 2
}
