{
 "cells": [
  {
   "cell_type": "markdown",
   "metadata": {},
   "source": [
    "# 课堂练习"
   ]
  },
  {
   "cell_type": "markdown",
   "metadata": {},
   "source": [
    "## 抽取倪泽炜这个名字"
   ]
  },
  {
   "cell_type": "code",
   "execution_count": 9,
   "metadata": {},
   "outputs": [],
   "source": [
    "html=\"\"\"\n",
    "<table width=\"675\" height=\"161\" border=\"1\">\n",
    "  <tr>\n",
    "    <td height=\"39\" colspan=\"3\" align=\"center\" valign=\"middle\" bgcolor=\"#99FF33\">        个人简介</td>\n",
    "  </tr>\n",
    "  <tr>\n",
    "    <td width=\"159\" height=\"27\">姓名：倪泽炜</td>\n",
    "    <td width=\"267\">性别：男</td>\n",
    "    <td width=\"227\">出生年月：2000/9/28</td>\n",
    "  </tr>\n",
    "          <td height=\"40\">联系电话：18268060248</td>\n",
    "    <td>民族：汉</td>\n",
    "    <td>祖籍：浙江杭州</td>\n",
    "  </tr>\n",
    "  <tr>\n",
    "    <td height=\"2\">爱好</td>\n",
    "    <td colspan=\"2\">打篮球，看电影，看小说</td>\n",
    "  </tr>\n",
    "  <tr>\n",
    "    <td height=\"4\">特长</td>\n",
    "    <td colspan=\"2\">打篮球</td>\n",
    "  </tr>\n",
    "  <tr>\n",
    "    <td height=\"10\">性格</td>\n",
    "    <td colspan=\"2\">开朗，阳光</td>\n",
    "  </tr>\n",
    "  <tr>\n",
    "    <td height=\"21\">就读学校</td>\n",
    "    <td colspan=\"2\">浙江经贸职业技术学院</td>\n",
    "  </tr>\n",
    "\n",
    "</table>\n",
    "\"\"\""
   ]
  },
  {
   "cell_type": "code",
   "execution_count": null,
   "metadata": {},
   "outputs": [],
   "source": []
  },
  {
   "cell_type": "markdown",
   "metadata": {},
   "source": [
    "# 作业"
   ]
  },
  {
   "cell_type": "markdown",
   "metadata": {},
   "source": [
    "## 写出抽取性别、爱好、特长、出生年月的正则表达式是什么\n"
   ]
  },
  {
   "cell_type": "code",
   "execution_count": 50,
   "metadata": {},
   "outputs": [
    {
     "name": "stdout",
     "output_type": "stream",
     "text": [
      "[('倪泽炜', '', '', '', ''), ('', '男', '', '', ''), ('', '', '2000/9/28', '', ''), ('', '', '', '打篮球，看电影，看小说', ''), ('', '', '', '', '打篮球')]\n"
     ]
    }
   ],
   "source": [
    "import re\n",
    "html=r\"\"\"\n",
    "<table width=\"675\" height=\"161\" border=\"1\">\n",
    "  <tr>\n",
    "    <td height=\"39\" colspan=\"3\" align=\"center\" valign=\"middle\" bgcolor=\"#99FF33\">        个人简介</td>\n",
    "  </tr>\n",
    "  <tr>\n",
    "    <td width=\"159\" height=\"27\">姓名：倪泽炜</td>\n",
    "    <td width=\"267\">性别：男</td>\n",
    "    <td width=\"227\">出生年月：2000/9/28</td>\n",
    "  </tr>\n",
    "          <td height=\"40\">联系电话：18268060248</td>\n",
    "    <td>民族：汉</td>\n",
    "    <td>祖籍：浙江杭州</td>\n",
    "  </tr>\n",
    "  <tr>\n",
    "    <td height=\"2\">爱好</td>\n",
    "    <td colspan=\"2\">打篮球，看电影，看小说</td>\n",
    "  </tr>\n",
    "  <tr>\n",
    "    <td height=\"4\">特长</td>\n",
    "    <td colspan=\"2\">打篮球</td>\n",
    "  </tr>\n",
    "  <tr>\n",
    "    <td height=\"10\">性格</td>\n",
    "    <td colspan=\"2\">开朗，阳光</td>\n",
    "  </tr>\n",
    "  <tr>\n",
    "    <td height=\"21\">就读学校</td>\n",
    "    <td colspan=\"2\">浙江经贸职业技术学院</td>\n",
    "  </tr>\n",
    "\n",
    "</table>\n",
    "\"\"\"\n",
    "x=r\"姓名：([\\d\\D]*?)</td>|性别：([\\d\\D]*?)</td>|出生年月：([\\d\\D]*?)</td>|爱好[\\d\\D]*?\\n.{20}([\\d\\D]*?)</td>|特长[\\d\\D]*?\\n.{20}([\\d\\D]*?)</td>\"\n",
    "print(re.findall(x,html))"
   ]
  },
  {
   "cell_type": "markdown",
   "metadata": {},
   "source": [
    "# 数据结构 (a,b,c,d,)"
   ]
  },
  {
   "cell_type": "markdown",
   "metadata": {},
   "source": [
    "# 两层嵌套的数据结构 [(a,b,c,d),(e,f,g,h)]"
   ]
  },
  {
   "cell_type": "markdown",
   "metadata": {},
   "source": [
    "# 两层嵌套的数据结构 [[a,b,c,d],[e,f,g,h]]"
   ]
  },
  {
   "cell_type": "markdown",
   "metadata": {},
   "source": [
    "# 两层嵌套的数据结构 [{\"name\":'xxx','like':'music','gender':\"female\"},{\"name\":'yy','like':'music','gender':\"female\"}]"
   ]
  },
  {
   "cell_type": "markdown",
   "metadata": {},
   "source": [
    "# 正则"
   ]
  },
  {
   "cell_type": "markdown",
   "metadata": {},
   "source": [
    "姓名：([\\d\\D]*?)</td>|性别：([\\d\\D]*?)</td>|出生年月：([\\d\\D]*?)</td>|爱好[\\d\\D]*?\\n.{20}([\\d\\D]*?)</td>|特长</td>\n",
    "    <td colspan=\"2\">([\\d\\D]*?)</td>"
   ]
  },
  {
   "cell_type": "markdown",
   "metadata": {},
   "source": [
    "# 特长正则"
   ]
  },
  {
   "cell_type": "markdown",
   "metadata": {},
   "source": [
    "特长[\\d\\D]*?\">([\\d\\D]*?)</td>"
   ]
  },
  {
   "cell_type": "markdown",
   "metadata": {},
   "source": [
    "# 爱好正则"
   ]
  },
  {
   "cell_type": "markdown",
   "metadata": {},
   "source": [
    "爱好[\\d\\D]*?\">([\\d\\D]*?)</td>"
   ]
  },
  {
   "cell_type": "markdown",
   "metadata": {},
   "source": [
    "# 出生年月正则"
   ]
  },
  {
   "cell_type": "markdown",
   "metadata": {},
   "source": [
    "出生年月：([\\d\\D]*?)</td>"
   ]
  },
  {
   "cell_type": "markdown",
   "metadata": {},
   "source": [
    "# 性别正则："
   ]
  },
  {
   "cell_type": "markdown",
   "metadata": {},
   "source": [
    "性别：[\\d\\D]*?)</td>"
   ]
  },
  {
   "cell_type": "markdown",
   "metadata": {},
   "source": [
    "# 姓名正则"
   ]
  },
  {
   "cell_type": "markdown",
   "metadata": {},
   "source": [
    "姓名：([\\d\\D]*?)</td>"
   ]
  },
  {
   "cell_type": "markdown",
   "metadata": {},
   "source": [
    "# 完整的正则"
   ]
  },
  {
   "cell_type": "markdown",
   "metadata": {},
   "source": [
    "姓名：([\\d\\D]*?)</td>[\\d\\D]*?性别：([\\d\\D]*?)</td>[\\d\\D]*?出生年月：([\\d\\D]*?)</td>[\\d\\D]*?爱好</td>[\\d\\D]*?>([\\d\\D]*?)</td>[\\d\\D]*?特长</td>[\\d\\D]*?>([\\d\\D]*?)</td>"
   ]
  },
  {
   "cell_type": "markdown",
   "metadata": {},
   "source": [
    "# 只有两种正则的表达："
   ]
  },
  {
   "cell_type": "code",
   "execution_count": null,
   "metadata": {},
   "outputs": [],
   "source": [
    "([\\d\\D]*?)  我们想要的数据"
   ]
  },
  {
   "cell_type": "code",
   "execution_count": null,
   "metadata": {},
   "outputs": [],
   "source": [
    "[\\d\\D]*?    略过的数据"
   ]
  },
  {
   "cell_type": "code",
   "execution_count": null,
   "metadata": {},
   "outputs": [],
   "source": [
    "剩下的是一些特征的局部唯一字符串"
   ]
  },
  {
   "cell_type": "code",
   "execution_count": 13,
   "metadata": {},
   "outputs": [
    {
     "name": "stdout",
     "output_type": "stream",
     "text": [
      "倪泽炜 男 2000/9/28 打篮球，看电影，看小说 打篮球\n"
     ]
    }
   ],
   "source": [
    "import re\n",
    "reobj = re.compile(r\"姓名：([\\d\\D]*?)</td>[\\d\\D]*?性别：([\\d\\D]*?)</td>[\\d\\D]*?出生年月：([\\d\\D]*?)</td>[\\d\\D]*?爱好</td>[\\d\\D]*?>([\\d\\D]*?)</td>[\\d\\D]*?特长</td>[\\d\\D]*?>([\\d\\D]*?)</td>\")\n",
    "\n",
    "for match in reobj.finditer(html):\n",
    "    print(match.group(1),match.group(2),match.group(3),match.group(4),match.group(5))\n"
   ]
  },
  {
   "cell_type": "code",
   "execution_count": null,
   "metadata": {},
   "outputs": [],
   "source": [
    "\t# match start: match.start()\n",
    "\t# match end (exclusive): match.end()\n",
    "\t# matched text: match.group()"
   ]
  }
 ],
 "metadata": {
  "kernelspec": {
   "display_name": "Python 3",
   "language": "python",
   "name": "python3"
  },
  "language_info": {
   "codemirror_mode": {
    "name": "ipython",
    "version": 3
   },
   "file_extension": ".py",
   "mimetype": "text/x-python",
   "name": "python",
   "nbconvert_exporter": "python",
   "pygments_lexer": "ipython3",
   "version": "3.7.4"
  }
 },
 "nbformat": 4,
 "nbformat_minor": 4
}
