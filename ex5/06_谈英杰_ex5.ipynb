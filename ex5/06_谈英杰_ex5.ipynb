{
 "cells": [
  {
   "cell_type": "code",
   "execution_count": 15,
   "metadata": {},
   "outputs": [],
   "source": [
    "def get_data():\n",
    "    html=driver.page_source\n",
    "    etr=etree.HTML(html,etree.HTMLParser())\n",
    "    for tr in etr.xpath('//tbody/tr'):\n",
    "        biaohao=tr.xpath('td[2]/text()')[0]\n",
    "        biaoti=tr.xpath('td[3]/a/text()')[0]\n",
    "        fenshu=tr.xpath('td[4]/text()')[0]\n",
    "        tongguoshu=tr.xpath('td[5]/text()')[0]\n",
    "        tijiaoshu=tr.xpath('td[6]/text()')[0]\n",
    "        tongguolv=tr.xpath('td[7]/text()')[0]\n",
    "        href='https://pintia.cn'+tr.xpath('td[3]/a/@href')[0]\n",
    "        data.append([tixing,biaohao,biaoti,fenshu,tongguoshu,tijiaoshu,tongguolv,href])"
   ]
  },
  {
   "cell_type": "code",
   "execution_count": 16,
   "metadata": {},
   "outputs": [],
   "source": [
    "from selenium import webdriver\n",
    "from lxml import etree\n",
    "import time\n",
    "url='https://pintia.cn/problem-sets/1111652100718116864/problems/type/7'\n",
    "driver=webdriver.Chrome()\n",
    "driver.get(url)\n",
    "time.sleep(5)\n",
    "data=[]"
   ]
  },
  {
   "cell_type": "code",
   "execution_count": 17,
   "metadata": {},
   "outputs": [],
   "source": [
    "#点到函数题\n",
    "driver.find_element_by_xpath('//*[@id=\"sparkling-daydream\"]/div[3]/div[3]/div/ul/li[1]/a').click()\n",
    "tixing='函数题'\n",
    "time.sleep(1)\n",
    "#调用函数获取信息\n",
    "get_data()"
   ]
  },
  {
   "cell_type": "code",
   "execution_count": 18,
   "metadata": {},
   "outputs": [],
   "source": [
    "#点到编程题\n",
    "driver.find_element_by_xpath('//*[@id=\"sparkling-daydream\"]/div[3]/div[3]/div/ul/li[2]/a').click()\n",
    "tixing='编程题'\n",
    "time.sleep(1)\n",
    "#调用函数获取信息\n",
    "get_data()"
   ]
  },
  {
   "cell_type": "code",
   "execution_count": 27,
   "metadata": {},
   "outputs": [],
   "source": [
    "#获取题目信息和题目页的html\n",
    "tmlist=[]\n",
    "for i in data:\n",
    "    driver.get(i[-1])\n",
    "    time.sleep(5)\n",
    "    html=etree.HTML(driver.page_source,etree.HTMLParser())\n",
    "    tm=html.xpath('//*[@id=\"sparkling-daydream\"]/div[3]/div[3]/div/div[4]/div[2]/div[1]/div/p[1]//text()')\n",
    "    s=''\n",
    "    try:\n",
    "        for i in tm:\n",
    "            s=s+i.strip()\n",
    "        tmlist.append([s,driver.page_source])\n",
    "    except:\n",
    "        tmlist.append([v])"
   ]
  },
  {
   "cell_type": "code",
   "execution_count": 30,
   "metadata": {},
   "outputs": [],
   "source": [
    "#把所有获取的信息汇总到data2\n",
    "data2=[]\n",
    "for i in range(len(data)):\n",
    "    data2.append(data[i]+tmlist[i])"
   ]
  },
  {
   "cell_type": "code",
   "execution_count": null,
   "metadata": {},
   "outputs": [],
   "source": []
  }
 ],
 "metadata": {
  "kernelspec": {
   "display_name": "Python 3",
   "language": "python",
   "name": "python3"
  },
  "language_info": {
   "codemirror_mode": {
    "name": "ipython",
    "version": 3
   },
   "file_extension": ".py",
   "mimetype": "text/x-python",
   "name": "python",
   "nbconvert_exporter": "python",
   "pygments_lexer": "ipython3",
   "version": "3.7.4"
  }
 },
 "nbformat": 4,
 "nbformat_minor": 2
}
