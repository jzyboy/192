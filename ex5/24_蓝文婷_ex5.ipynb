{
 "cells": [
  {
   "cell_type": "code",
   "execution_count": 1,
   "metadata": {},
   "outputs": [],
   "source": [
    "from selenium import webdriver\n",
    "driver = webdriver.Chrome()\n",
    "url = \"https://pintia.cn/problem-sets/1111652100718116864/problems/type/7\"\n",
    "driver.get(url)"
   ]
  },
  {
   "cell_type": "code",
   "execution_count": 2,
   "metadata": {},
   "outputs": [],
   "source": [
    "html = driver.page_source\n",
    "#print (html)"
   ]
  },
  {
   "cell_type": "code",
   "execution_count": 3,
   "metadata": {},
   "outputs": [
    {
     "name": "stdout",
     "output_type": "stream",
     "text": [
      "[('/problem-sets/1111652100718116864/problems/1111653039147499521', '从键盘输入两个数，求它们的和并输出'), ('/problem-sets/1111652100718116864/problems/1111653039147499522', '从键盘输入三个数到a,b,c中，按公式值输出'), ('/problem-sets/1111652100718116864/problems/1111653039147499520', '输出“Python语言简单易学”'), ('/problem-sets/1111652100718116864/problems/1111653447408467981', '计算 11+12+13+...+m'), ('/problem-sets/1111652100718116864/problems/1111653447408467968', '计算分段函数[1]'), ('/problem-sets/1111652100718116864/problems/1111653447408467971', '阶梯电价'), ('/problem-sets/1111652100718116864/problems/1111653447408467975', '特殊a串数列求和'), ('/problem-sets/1111652100718116864/problems/1111653447408467970', '求奇数分之一序列前N项和'), ('/problem-sets/1111652100718116864/problems/1111653447408467973', '求交错序列前N项和'), ('/problem-sets/1111652100718116864/problems/1111653447408467980', '产生每位数字相同的n位数'), ('/problem-sets/1111652100718116864/problems/1111653447408467979', '转换函数使用'), ('/problem-sets/1111652100718116864/problems/1111653447408467974', '比较大小'), ('/problem-sets/1111652100718116864/problems/1111653447408467969', '输出华氏-摄氏温度转换表'), ('/problem-sets/1111652100718116864/problems/1111653447408467972', '求平方与倒数序列的部分和'), ('/problem-sets/1111652100718116864/problems/1111653447408467976', '输出三角形面积和周长'), ('/problem-sets/1111652100718116864/problems/1111653447408467977', '分段计算居民水费'), ('/problem-sets/1111652100718116864/problems/1111653447408467978', '求整数段和'), ('/problem-sets/1111652100718116864/problems/1163031535431180308', '3-1.大于身高的平均值'), ('/problem-sets/1111652100718116864/problems/1163031535431180309', '查验身份证'), ('/problem-sets/1111652100718116864/problems/1163031535431180307', '输出字母在字符串中位置索引'), ('/problem-sets/1111652100718116864/problems/1163031535431180288', '查找指定字符'), ('/problem-sets/1111652100718116864/problems/1163031535431180289', '字符转换'), ('/problem-sets/1111652100718116864/problems/1163031535431180290', '求整数序列中出现次数最多的数'), ('/problem-sets/1111652100718116864/problems/1163031535431180291', '求最大值及其下标'), ('/problem-sets/1111652100718116864/problems/1163031535431180292', '字符串逆序'), ('/problem-sets/1111652100718116864/problems/1163031535431180293', '字符串转换成十进制整数'), ('/problem-sets/1111652100718116864/problems/1163031535431180294', '统计大写辅音字母'), ('/problem-sets/1111652100718116864/problems/1163031535431180295', '字符串排序'), ('/problem-sets/1111652100718116864/problems/1163031535431180296', '求整数的位数及各位数字之和'), ('/problem-sets/1111652100718116864/problems/1163031535431180297', '字符串替换'), ('/problem-sets/1111652100718116864/problems/1163031535431180298', '字符串字母大小写转换'), ('/problem-sets/1111652100718116864/problems/1163031535431180299', '统计一行文本的单词个数'), ('/problem-sets/1111652100718116864/problems/1163031535431180300', '删除重复字符'), ('/problem-sets/1111652100718116864/problems/1163031535431180301', '删除字符'), ('/problem-sets/1111652100718116864/problems/1163031535431180302', '输出10个不重复的英文字母'), ('/problem-sets/1111652100718116864/problems/1163031535431180303', '找最长的字符串'), ('/problem-sets/1111652100718116864/problems/1163031535431180304', '逆序的三位数'), ('/problem-sets/1111652100718116864/problems/1163031535431180305', '判断回文字符串'), ('/problem-sets/1111652100718116864/problems/1163031535431180306', '输出大写英文字母'), ('/problem-sets/1111652100718116864/problems/1163032889524477952', '生成3的乘方表'), ('/problem-sets/1111652100718116864/problems/1163032889524477954', '统计素数并求和'), ('/problem-sets/1111652100718116864/problems/1163032889524477955', '猴子吃桃问题'), ('/problem-sets/1111652100718116864/problems/1163032889524477956', '验证“哥德巴赫猜想”'), ('/problem-sets/1111652100718116864/problems/1163032889524477953', '求e的近似值'), ('/problem-sets/1111652100718116864/problems/1163032889524477957', '输出前 n 个Fibonacci数'), ('/problem-sets/1111652100718116864/problems/1163032889524477958', '统计学生平均成绩与及格人数'), ('/problem-sets/1111652100718116864/problems/1163032889524477959', '求分数序列前N项和'), ('/problem-sets/1111652100718116864/problems/1163032889524477960', '查询水果价格'), ('/problem-sets/1111652100718116864/problems/1163032889524477961', '最大公约数和最小公倍数'), ('/problem-sets/1111652100718116864/problems/1163032889524477962', '判断素数'), ('/problem-sets/1111652100718116864/problems/1163032889524477978', '求满足条件的斐波那契数'), ('/problem-sets/1111652100718116864/problems/1163032889524477980', '求误差小于输入值的e的近似值'), ('/problem-sets/1111652100718116864/problems/1163032889524477979', '统计字符'), ('/problem-sets/1111652100718116864/problems/1163032889524477963', '换硬币'), ('/problem-sets/1111652100718116864/problems/1163032889524477964', 'jmu-python-判断是否构成三角形'), ('/problem-sets/1111652100718116864/problems/1163032889524477965', '水仙花数（20 分）'), ('/problem-sets/1111652100718116864/problems/1163032889524477976', '猴子选大王'), ('/problem-sets/1111652100718116864/problems/1163032889524477966', '矩阵运算'), ('/problem-sets/1111652100718116864/problems/1163032889524477967', '求矩阵各行元素之和'), ('/problem-sets/1111652100718116864/problems/1163032889524477968', '判断上三角矩阵'), ('/problem-sets/1111652100718116864/problems/1163032889524477969', '找鞍点'), ('/problem-sets/1111652100718116864/problems/1163032889524477971', '求矩阵的局部极大值'), ('/problem-sets/1111652100718116864/problems/1163032889524477972', '打印九九口诀表'), ('/problem-sets/1111652100718116864/problems/1163032889524477970', '输出三角形字符阵列'), ('/problem-sets/1111652100718116864/problems/1163032889524477973', '求1!+3!+5!+……+n!'), ('/problem-sets/1111652100718116864/problems/1163032889524477974', '二维数组中每行最大值和每行和'), ('/problem-sets/1111652100718116864/problems/1163032889524477975', '矩阵转置'), ('/problem-sets/1111652100718116864/problems/1163032889524477977', '找出不是两个数组共有的元素'), ('/problem-sets/1111652100718116864/problems/1163032889524477981', '找完数'), ('/problem-sets/1111652100718116864/problems/1163034891574829066', '输出星期名缩写'), ('/problem-sets/1111652100718116864/problems/1163034891574829056', '图的字典表示'), ('/problem-sets/1111652100718116864/problems/1163034891574829058', '四则运算（用字典实现）'), ('/problem-sets/1111652100718116864/problems/1163034891574829059', '分析活动投票情况'), ('/problem-sets/1111652100718116864/problems/1163034891574829060', '统计字符出现次数'), ('/problem-sets/1111652100718116864/problems/1163034891574829061', '统计工龄'), ('/problem-sets/1111652100718116864/problems/1163034891574829062', '列表去重'), ('/problem-sets/1111652100718116864/problems/1163034891574829063', '能被3,5和7整除的数的个数（用集合实现）'), ('/problem-sets/1111652100718116864/problems/1163034891574829064', '求矩阵鞍点的个数'), ('/problem-sets/1111652100718116864/problems/1163034891574829065', '两数之和'), ('/problem-sets/1111652100718116864/problems/1163034891574829057', '字典合并'), ('/problem-sets/1111652100718116864/problems/1163035698160459780', '输入列表，求列表元素和(eval输入应用）'), ('/problem-sets/1111652100718116864/problems/1163035698160459788', '一帮一'), ('/problem-sets/1111652100718116864/problems/1163035698160459782', '列表或元组的数字元素求和'), ('/problem-sets/1111652100718116864/problems/1163035698160459783', '列表数字元素加权和(1)'), ('/problem-sets/1111652100718116864/problems/1163035698160459784', '列表元素个数的加权和(1)'), ('/problem-sets/1111652100718116864/problems/1163035698160459785', '求指定层的元素个数'), ('/problem-sets/1111652100718116864/problems/1163035698160459786', '找出总分最高的学生'), ('/problem-sets/1111652100718116864/problems/1163035698160459787', '*6-7 输出全排列'), ('/problem-sets/1111652100718116864/problems/1163036357031092224', '词频统计')]\n"
     ]
    }
   ],
   "source": [
    "import re\n",
    "list=[]\n",
    "reobj = re.compile(r'<td><a href=\"([\\s\\S]*?)\" class=\"\">([\\s\\S]*?)</a></td>')\n",
    "for match in reobj.finditer(html):\n",
    "    a=match.group(1)\n",
    "    b=match.group(2)\n",
    "    c=(a,b)\n",
    "    list.append(c)\n",
    "print(list)"
   ]
  },
  {
   "cell_type": "code",
   "execution_count": 5,
   "metadata": {},
   "outputs": [
    {
     "name": "stdout",
     "output_type": "stream",
     "text": [
      "<class 'codecs.StreamReaderWriter'>\n"
     ]
    }
   ],
   "source": [
    "#导入(引用)codecs模块\n",
    "import codecs\n",
    "#一个元组的长度为2，包含链接，名称\n",
    "f = codecs.open(r\"D:\\lianjie.csv\",\"w\",\"utf-8-sig\")#打开一个文件，以utf-8-sig这个编码进行文本写入，构建了一个codecs.StreamReaderWriter类的实例对象f，\n",
    "print(type(f))\n",
    "f.write(\"链接,名称,\\n\")#往文本文件里写入一行，\\n代表换行,f.write默认不会加换行答\n",
    "for hotel in list:\n",
    "    a,b = hotel\n",
    "    f.write(a+\",\"+b+\"\\n\")\n",
    "f.close()#关闭这个文件"
   ]
  },
  {
   "cell_type": "code",
   "execution_count": null,
   "metadata": {},
   "outputs": [],
   "source": []
  }
 ],
 "metadata": {
  "kernelspec": {
   "display_name": "Python 3",
   "language": "python",
   "name": "python3"
  },
  "language_info": {
   "codemirror_mode": {
    "name": "ipython",
    "version": 3
   },
   "file_extension": ".py",
   "mimetype": "text/x-python",
   "name": "python",
   "nbconvert_exporter": "python",
   "pygments_lexer": "ipython3",
   "version": "3.7.4"
  }
 },
 "nbformat": 4,
 "nbformat_minor": 2
}
