{
 "cells": [
  {
   "cell_type": "markdown",
   "metadata": {},
   "source": [
    "# 正常第一步"
   ]
  },
  {
   "cell_type": "code",
   "execution_count": 119,
   "metadata": {},
   "outputs": [],
   "source": [
    "from selenium import webdriver\n",
    "import re\n",
    "import html\n",
    "import time\n",
    "import csv\n",
    "from lxml import etree\n",
    "driver=webdriver.Chrome()\n",
    "url = \"https://pintia.cn/problem-sets/1111652100718116864/problems/type/6\"\n",
    "driver.get(url)\n",
    "list_new_url=[]"
   ]
  },
  {
   "cell_type": "markdown",
   "metadata": {},
   "source": [
    "# 利用xpath定位并爬取链接"
   ]
  },
  {
   "cell_type": "code",
   "execution_count": 123,
   "metadata": {},
   "outputs": [
    {
     "name": "stdout",
     "output_type": "stream",
     "text": [
      "['https://pintia.cn/problem-sets/1111652100718116864/problems/1163035698160459776', 'https://pintia.cn/problem-sets/1111652100718116864/problems/1163035698160459777', 'https://pintia.cn/problem-sets/1111652100718116864/problems/1163035698160459778', 'https://pintia.cn/problem-sets/1111652100718116864/problems/1163035698160459779', 'https://pintia.cn/problem-sets/1111652100718116864/problems/1163035698160459781', 'https://pintia.cn/problem-sets/1111652100718116864/problems/1111653039147499521', 'https://pintia.cn/problem-sets/1111652100718116864/problems/1111653039147499522', 'https://pintia.cn/problem-sets/1111652100718116864/problems/1111653039147499520', 'https://pintia.cn/problem-sets/1111652100718116864/problems/1111653447408467981', 'https://pintia.cn/problem-sets/1111652100718116864/problems/1111653447408467968', 'https://pintia.cn/problem-sets/1111652100718116864/problems/1111653447408467971', 'https://pintia.cn/problem-sets/1111652100718116864/problems/1111653447408467975', 'https://pintia.cn/problem-sets/1111652100718116864/problems/1111653447408467970', 'https://pintia.cn/problem-sets/1111652100718116864/problems/1111653447408467973', 'https://pintia.cn/problem-sets/1111652100718116864/problems/1111653447408467980', 'https://pintia.cn/problem-sets/1111652100718116864/problems/1111653447408467979', 'https://pintia.cn/problem-sets/1111652100718116864/problems/1111653447408467974', 'https://pintia.cn/problem-sets/1111652100718116864/problems/1111653447408467969', 'https://pintia.cn/problem-sets/1111652100718116864/problems/1111653447408467972', 'https://pintia.cn/problem-sets/1111652100718116864/problems/1111653447408467976', 'https://pintia.cn/problem-sets/1111652100718116864/problems/1111653447408467977', 'https://pintia.cn/problem-sets/1111652100718116864/problems/1111653447408467978', 'https://pintia.cn/problem-sets/1111652100718116864/problems/1163031535431180308', 'https://pintia.cn/problem-sets/1111652100718116864/problems/1163031535431180309', 'https://pintia.cn/problem-sets/1111652100718116864/problems/1163031535431180307', 'https://pintia.cn/problem-sets/1111652100718116864/problems/1163031535431180288', 'https://pintia.cn/problem-sets/1111652100718116864/problems/1163031535431180289', 'https://pintia.cn/problem-sets/1111652100718116864/problems/1163031535431180290', 'https://pintia.cn/problem-sets/1111652100718116864/problems/1163031535431180291', 'https://pintia.cn/problem-sets/1111652100718116864/problems/1163031535431180292', 'https://pintia.cn/problem-sets/1111652100718116864/problems/1163031535431180293', 'https://pintia.cn/problem-sets/1111652100718116864/problems/1163031535431180294', 'https://pintia.cn/problem-sets/1111652100718116864/problems/1163031535431180295', 'https://pintia.cn/problem-sets/1111652100718116864/problems/1163031535431180296', 'https://pintia.cn/problem-sets/1111652100718116864/problems/1163031535431180297', 'https://pintia.cn/problem-sets/1111652100718116864/problems/1163031535431180298', 'https://pintia.cn/problem-sets/1111652100718116864/problems/1163031535431180299', 'https://pintia.cn/problem-sets/1111652100718116864/problems/1163031535431180300', 'https://pintia.cn/problem-sets/1111652100718116864/problems/1163031535431180301', 'https://pintia.cn/problem-sets/1111652100718116864/problems/1163031535431180302', 'https://pintia.cn/problem-sets/1111652100718116864/problems/1163031535431180303', 'https://pintia.cn/problem-sets/1111652100718116864/problems/1163031535431180304', 'https://pintia.cn/problem-sets/1111652100718116864/problems/1163031535431180305', 'https://pintia.cn/problem-sets/1111652100718116864/problems/1163031535431180306', 'https://pintia.cn/problem-sets/1111652100718116864/problems/1163032889524477952', 'https://pintia.cn/problem-sets/1111652100718116864/problems/1163032889524477954', 'https://pintia.cn/problem-sets/1111652100718116864/problems/1163032889524477955', 'https://pintia.cn/problem-sets/1111652100718116864/problems/1163032889524477956', 'https://pintia.cn/problem-sets/1111652100718116864/problems/1163032889524477953', 'https://pintia.cn/problem-sets/1111652100718116864/problems/1163032889524477957', 'https://pintia.cn/problem-sets/1111652100718116864/problems/1163032889524477958', 'https://pintia.cn/problem-sets/1111652100718116864/problems/1163032889524477959', 'https://pintia.cn/problem-sets/1111652100718116864/problems/1163032889524477960', 'https://pintia.cn/problem-sets/1111652100718116864/problems/1163032889524477961', 'https://pintia.cn/problem-sets/1111652100718116864/problems/1163032889524477962', 'https://pintia.cn/problem-sets/1111652100718116864/problems/1163032889524477978', 'https://pintia.cn/problem-sets/1111652100718116864/problems/1163032889524477980', 'https://pintia.cn/problem-sets/1111652100718116864/problems/1163032889524477979', 'https://pintia.cn/problem-sets/1111652100718116864/problems/1163032889524477963', 'https://pintia.cn/problem-sets/1111652100718116864/problems/1163032889524477964', 'https://pintia.cn/problem-sets/1111652100718116864/problems/1163032889524477965', 'https://pintia.cn/problem-sets/1111652100718116864/problems/1163032889524477976', 'https://pintia.cn/problem-sets/1111652100718116864/problems/1163032889524477966', 'https://pintia.cn/problem-sets/1111652100718116864/problems/1163032889524477967', 'https://pintia.cn/problem-sets/1111652100718116864/problems/1163032889524477968', 'https://pintia.cn/problem-sets/1111652100718116864/problems/1163032889524477969', 'https://pintia.cn/problem-sets/1111652100718116864/problems/1163032889524477971', 'https://pintia.cn/problem-sets/1111652100718116864/problems/1163032889524477972', 'https://pintia.cn/problem-sets/1111652100718116864/problems/1163032889524477970', 'https://pintia.cn/problem-sets/1111652100718116864/problems/1163032889524477973', 'https://pintia.cn/problem-sets/1111652100718116864/problems/1163032889524477974', 'https://pintia.cn/problem-sets/1111652100718116864/problems/1163032889524477975', 'https://pintia.cn/problem-sets/1111652100718116864/problems/1163032889524477977', 'https://pintia.cn/problem-sets/1111652100718116864/problems/1163032889524477981', 'https://pintia.cn/problem-sets/1111652100718116864/problems/1163034891574829066', 'https://pintia.cn/problem-sets/1111652100718116864/problems/1163034891574829056', 'https://pintia.cn/problem-sets/1111652100718116864/problems/1163034891574829058', 'https://pintia.cn/problem-sets/1111652100718116864/problems/1163034891574829059', 'https://pintia.cn/problem-sets/1111652100718116864/problems/1163034891574829060', 'https://pintia.cn/problem-sets/1111652100718116864/problems/1163034891574829061', 'https://pintia.cn/problem-sets/1111652100718116864/problems/1163034891574829062', 'https://pintia.cn/problem-sets/1111652100718116864/problems/1163034891574829063', 'https://pintia.cn/problem-sets/1111652100718116864/problems/1163034891574829064', 'https://pintia.cn/problem-sets/1111652100718116864/problems/1163034891574829065', 'https://pintia.cn/problem-sets/1111652100718116864/problems/1163034891574829057', 'https://pintia.cn/problem-sets/1111652100718116864/problems/1163035698160459780', 'https://pintia.cn/problem-sets/1111652100718116864/problems/1163035698160459788', 'https://pintia.cn/problem-sets/1111652100718116864/problems/1163035698160459782', 'https://pintia.cn/problem-sets/1111652100718116864/problems/1163035698160459783', 'https://pintia.cn/problem-sets/1111652100718116864/problems/1163035698160459784', 'https://pintia.cn/problem-sets/1111652100718116864/problems/1163035698160459785', 'https://pintia.cn/problem-sets/1111652100718116864/problems/1163035698160459786', 'https://pintia.cn/problem-sets/1111652100718116864/problems/1163035698160459787']\n"
     ]
    }
   ],
   "source": [
    "html = driver.page_source\n",
    "a = etree.HTML(html,etree.HTMLParser())\n",
    "for i in range(1,6):\n",
    "    new_url=a.xpath('//*[@id=\"sparkling-daydream\"]/div[3]/div[3]/div/div[4]/table/tbody/tr['+str(i)+']/td[3]/a/@href')\n",
    "    c=\"https://pintia.cn\"+new_url[0]\n",
    "    list_new_url.append(c)\n",
    "    driver.find_element_by_xpath(\"//div[@id='sparkling-daydream']/div[3]/div[3]/div/ul/li[2]/a/div\").click()#跳转到编程题\n",
    "html = driver.page_source\n",
    "a = etree.HTML(html,etree.HTMLParser())\n",
    "time.sleep(5)\n",
    "for j in range(1,89):\n",
    "    new_url=a.xpath('//*[@id=\"sparkling-daydream\"]/div[3]/div[3]/div/div[4]/table/tbody/tr['+str(j)+']/td[3]/a/@href')\n",
    "    c=\"https://pintia.cn\"+new_url[0]\n",
    "    list_new_url.append(c)\n",
    "print(list_new_url)"
   ]
  },
  {
   "cell_type": "markdown",
   "metadata": {},
   "source": [
    "# 写入 pass"
   ]
  }
 ],
 "metadata": {
  "kernelspec": {
   "display_name": "Python 3",
   "language": "python",
   "name": "python3"
  },
  "language_info": {
   "codemirror_mode": {
    "name": "ipython",
    "version": 3
   },
   "file_extension": ".py",
   "mimetype": "text/x-python",
   "name": "python",
   "nbconvert_exporter": "python",
   "pygments_lexer": "ipython3",
   "version": "3.7.4"
  }
 },
 "nbformat": 4,
 "nbformat_minor": 2
}
