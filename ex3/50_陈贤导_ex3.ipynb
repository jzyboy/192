{
 "cells": [
  {
   "cell_type": "markdown",
   "metadata": {},
   "source": [
    "# 数据采集与处理的步骤"
   ]
  },
  {
   "cell_type": "markdown",
   "metadata": {},
   "source": [
    "## 1、定目标(知道自已准备在哪个范围或者网站去搜索，打开采集网页)"
   ]
  },
  {
   "cell_type": "code",
   "execution_count": 1,
   "metadata": {},
   "outputs": [],
   "source": [
    "from selenium import webdriver\n",
    "driver=webdriver.Chrome()\n",
    "url = 'https://www.baidu.com/s?wd=%E6%98%8E%E6%98%9F&rsv_spt=1&rsv_iqid=0xbe4b76860031fb66&issp=1&f=8&rsv_bp=1&rsv_idx=2&ie=utf-8&rqlang=&tn=baiduhome_pg&ch=&rsv_enter=1&rsv_dl=ib&inputT=2978'\n",
    "driver.get(url)"
   ]
  },
  {
   "cell_type": "markdown",
   "metadata": {},
   "source": [
    "## 2、选择内地女明星"
   ]
  },
  {
   "cell_type": "code",
   "execution_count": null,
   "metadata": {},
   "outputs": [],
   "source": [
    "driver. find_ element_ _by_ xpath( \"//div[@id='1' ]/div/div/div/div[2]/p/span[4]\").c1ick()\n",
    "import time\n",
    "time.sleep(5)\n",
    "driver . find_ _element_ _by_ xpath(\"//div[@id='1']/div/div/div/div[2]/p[2]/span[3]\").click()"
   ]
  },
  {
   "cell_type": "markdown",
   "metadata": {},
   "source": [
    "## 3、爬网页(将所有网站的内容全部看看看爬下来，获取网页源代网)"
   ]
  },
  {
   "cell_type": "code",
   "execution_count": 4,
   "metadata": {},
   "outputs": [],
   "source": [
    "html = driver.page_source\n",
    "#print(html)"
   ]
  },
  {
   "cell_type": "markdown",
   "metadata": {},
   "source": [
    "## 4、取数据(名字，链接，图片)"
   ]
  },
  {
   "cell_type": "code",
   "execution_count": 5,
   "metadata": {},
   "outputs": [
    {
     "name": "stdout",
     "output_type": "stream",
     "text": [
      "学源街239号浙江经贸学院北门\n",
      "杭州市江干区学正街567号金沙居B座3层\n",
      "浙江省杭州市江干区学源街239号(浙江经贸学院北门)\n",
      "浙江省杭州市江干区宝龙城市广场二期\n",
      "浙江省杭州市江干区学正街388号阳光创富中心10楼\n",
      "浙江省杭州市江干区学正街388号阳光创富中心内\n",
      "25号大街(宝龙城市广场)\n",
      "浙江省杭州市江干区学正街539号\n",
      "浙江省杭州市江干区经济技术开发区学正街549号金沙居A座\n",
      "浙江省杭州市江干区下沙学正街559号(金沙居B座)\n"
     ]
    }
   ],
   "source": [
    "import re\n",
    "reobj = re.compile(r'姓名：([\\d\\D]*?)</td>[\\d\\D]*?链接：([\\d\\D]*?)</td>[\\d\\D]*?图片：([\\d\\D]*?)</td>')\n",
    "for match in reobj.finditer(html):\n",
    "    print(match.group(1),match.group(2),match.group(3))"
   ]
  },
  {
   "cell_type": "markdown",
   "metadata": {},
   "source": [
    "# 使用Selenium模拟鼠标点击下一页"
   ]
  },
  {
   "cell_type": "code",
   "execution_count": 8,
   "metadata": {},
   "outputs": [],
   "source": [
    "driver.find element. by_ xpath(\" 1/d1v[@1d='1' ]/div/d1v/div[2]/d1v[2 ]/p/span[6]\") .click()"
   ]
  }
 ],
 "metadata": {
  "kernelspec": {
   "display_name": "Python 3",
   "language": "python",
   "name": "python3"
  },
  "language_info": {
   "codemirror_mode": {
    "name": "ipython",
    "version": 3
   },
   "file_extension": ".py",
   "mimetype": "text/x-python",
   "name": "python",
   "nbconvert_exporter": "python",
   "pygments_lexer": "ipython3",
   "version": "3.7.4"
  }
 },
 "nbformat": 4,
 "nbformat_minor": 4
}
