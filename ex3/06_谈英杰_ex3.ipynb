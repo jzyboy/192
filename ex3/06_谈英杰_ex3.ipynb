{
 "cells": [
  {
   "cell_type": "code",
   "execution_count": 17,
   "metadata": {},
   "outputs": [],
   "source": [
    "from selenium import webdriver\n",
    "from lxml import etree\n",
    "import csv"
   ]
  },
  {
   "cell_type": "code",
   "execution_count": 18,
   "metadata": {},
   "outputs": [],
   "source": [
    "url='https://www.baidu.com/s?wd=%E6%98%8E%E6%98%9F&rsv_spt=1&rsv_iqid=0xbe4b76860031fb66&issp=1&f=8&rsv_bp=1&rsv_idx=2&ie=utf-8&rqlang=&tn=baiduhome_pg&ch=&rsv_enter=1&rsv_dl=ib&inputT=2978'\n",
    "driver=webdriver.Chrome()\n",
    "driver.get(url)"
   ]
  },
  {
   "cell_type": "code",
   "execution_count": 19,
   "metadata": {},
   "outputs": [],
   "source": [
    "driver.find_element_by_xpath('//*[@id=\"1\"]/div/div[1]/div[1]/div[2]/p[1]/span[4]').click()\n",
    "driver.find_element_by_xpath('//*[@id=\"1\"]/div/div[1]/div[1]/div[2]/p[2]/span[3]').click()"
   ]
  },
  {
   "cell_type": "code",
   "execution_count": 20,
   "metadata": {},
   "outputs": [],
   "source": [
    "names=[] #名字\n",
    "pic=[]  #图片\n",
    "hrefs=[] #链接"
   ]
  },
  {
   "cell_type": "code",
   "execution_count": 21,
   "metadata": {},
   "outputs": [],
   "source": [
    "for i in range(20):\n",
    "    html=etree.HTML(driver.page_source,etree.HTMLParser())\n",
    "    n=html.xpath('//*[@id=\"1\"]/div/div[1]/div[2]/div[1]/div/p[2]/a/text()')\n",
    "    p=html.xpath('//*[@id=\"1\"]/div/div[1]/div[2]/div[1]/div/p[1]/a/img/@src')\n",
    "    h=html.xpath('//*[@id=\"1\"]/div/div[1]/div[2]/div[1]/div/p[1]/a/@href')\n",
    "    for i in range(len(n)):\n",
    "        names.append(n[i])\n",
    "        pic.append(p[i])\n",
    "        hrefs.append(\"https://www.baidu.com\"+h[i])\n",
    "    driver.find_element_by_xpath('//*[@id=\"1\"]/div/div[1]/div[2]/div[2]/p/span[6]').click()"
   ]
  },
  {
   "cell_type": "code",
   "execution_count": 22,
   "metadata": {},
   "outputs": [],
   "source": [
    "data=[]\n",
    "for i in range(len(names)):\n",
    "    data.append((names[i],pic[i],hrefs[i]))"
   ]
  },
  {
   "cell_type": "code",
   "execution_count": 26,
   "metadata": {},
   "outputs": [],
   "source": [
    "f=open('a.csv','w',newline='')\n",
    "w=csv.writer(f)\n",
    "for i in data:\n",
    "    w.writerow(i)\n",
    "f.close()"
   ]
  },
  {
   "cell_type": "code",
   "execution_count": null,
   "metadata": {},
   "outputs": [],
   "source": []
  }
 ],
 "metadata": {
  "kernelspec": {
   "display_name": "Python 3",
   "language": "python",
   "name": "python3"
  },
  "language_info": {
   "codemirror_mode": {
    "name": "ipython",
    "version": 3
   },
   "file_extension": ".py",
   "mimetype": "text/x-python",
   "name": "python",
   "nbconvert_exporter": "python",
   "pygments_lexer": "ipython3",
   "version": "3.7.4"
  }
 },
 "nbformat": 4,
 "nbformat_minor": 2
}
