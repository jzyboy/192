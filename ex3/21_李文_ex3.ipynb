{
 "cells": [
  {
   "cell_type": "code",
   "execution_count": 1,
   "metadata": {},
   "outputs": [],
   "source": [
    "from selenium import webdriver\n",
    "driver=webdriver.Chrome()\n",
    "url = 'https://www.baidu.com/s?ie=utf-8&f=8&rsv_bp=1&rsv_idx=2&tn=baiduhome_pg&wd=%E6%98%8E%E6%98%9F&rsv_spt=1&oq=%25E6%2598%258E%25E6%2598%259F&rsv_pq=a1a2cf770002ec2f&rsv_t=0e3baM8Xu8qPUVhj0snvRVkEdX1Le%2Bm%2FZvXgmFXh1EnnOrdvEFvLRImf6oviVMQdrqmk&rqlang=cn&rsv_enter=0&rsv_dl=tb'\n",
    "driver.get(url)\n",
    "driver.find_element_by_xpath(\"//div[@id='1']/div/div/div/div[2]/p/span[4]\").click()\n",
    "driver.find_element_by_xpath(\"//div[@id='1']/div/div/div/div[2]/p[2]/span[3]\").click()"
   ]
  },
  {
   "cell_type": "code",
   "execution_count": null,
   "metadata": {},
   "outputs": [],
   "source": [
    "import re\n",
    "import time\n",
    "list=[]\n",
    "html = driver.page_source\n",
    "reobj = re.compile(r'<p class=\"op_exactqa_item_img\"><a href=\"([\\d\\D]*?)\" [\\d\\D]*?><img class=\"[\\d\\D]*?\" src=\"([\\d\\D]*?)\">[\\d\\D]*?<a href=\"([\\d\\D]*?)\" [\\d\\D]*?>([\\d\\D]*?)</a></p>')\n",
    "for i in range(400):\n",
    "    html = driver.page_source\n",
    "    for match in reobj.finditer(html):\n",
    "        # match start: match.start()\n",
    "        # match end (exclusive): match.end()\n",
    "        # matched text: match.group()\n",
    "        img_link=match.group(1)\n",
    "        img=match.group(2)\n",
    "        name_link=match.group(3)\n",
    "        name=match.group(4)\n",
    "        t=(img_link,img,name_link,name)\n",
    "        list.append(t)\n",
    "    driver.find_element_by_xpath(\"//div[@id='1']/div/div/div[2]/div[2]/p/span[6]\").click()\n",
    "    time.sleep(3)"
   ]
  },
  {
   "cell_type": "code",
   "execution_count": null,
   "metadata": {},
   "outputs": [],
   "source": [
    "import codecs\n",
    "a=len(list)\n",
    "f = codecs.open(r\"C:\\Users\\Administrator\\Desktop\\all\\text3.csv\",\"w\",\"utf_8_sig\")\n",
    "f.write(\"图片链接,图片,姓名链接，姓名\\n\")\n",
    "for i in range (a-1):\n",
    "    a=list[i]\n",
    "    f.write(a[0]+\",\"+a[1]+\",\"+a[2]+\",\"+a[3]+\"\\n\")\n",
    "f.close()"
   ]
  },
  {
   "cell_type": "code",
   "execution_count": null,
   "metadata": {},
   "outputs": [],
   "source": []
  }
 ],
 "metadata": {
  "kernelspec": {
   "display_name": "Python 3",
   "language": "python",
   "name": "python3"
  },
  "language_info": {
   "codemirror_mode": {
    "name": "ipython",
    "version": 3
   },
   "file_extension": ".py",
   "mimetype": "text/x-python",
   "name": "python",
   "nbconvert_exporter": "python",
   "pygments_lexer": "ipython3",
   "version": "3.7.4"
  }
 },
 "nbformat": 4,
 "nbformat_minor": 2
}
