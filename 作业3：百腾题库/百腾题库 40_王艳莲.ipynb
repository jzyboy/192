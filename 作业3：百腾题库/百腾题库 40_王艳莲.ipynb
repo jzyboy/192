{
 "cells": [
  {
   "cell_type": "markdown",
   "metadata": {},
   "source": [
    "# 采集百腾python题库\n",
    "## 羽雀链接：https://www.yuque.com/ol1q37/gi94xp/vy59wr\n",
    "## 已知有一些oj(online judge)线上习题，https://pintia.cn/problem-sets/1111652100718116864/problems/type/7，采集所有题目（共95题）\n",
    "1）存储所有要采集页面的完整html   \n",
    "2）编写代码完成数据的抽取   \n",
    "3）编写正则获取主页面上的标号、链接、标题、分数、通过数、提交数、通过率   \n",
    "4）循环打开获取到的链接，并且编写正则获取题目内容   \n",
    "5）循环将数据写入sqlite数据库，定义各个获取数据的函数，最后统一将数据存储到result列表    "
   ]
  },
  {
   "cell_type": "markdown",
   "metadata": {},
   "source": [
    "# 启动谷歌浏览器打开网址"
   ]
  },
  {
   "cell_type": "code",
   "execution_count": null,
   "metadata": {},
   "outputs": [],
   "source": [
    "from selenium import webdriver\n",
    "import re\n",
    "import time\n",
    "driver=webdriver.Chrome()\n",
    "url = \"https://pintia.cn/problem-sets/1111652100718116864/problems/type/6\"\n",
    "driver.get(url)"
   ]
  },
  {
   "cell_type": "markdown",
   "metadata": {},
   "source": [
    "# 创建SQL格式使数据工整"
   ]
  },
  {
   "cell_type": "code",
   "execution_count": null,
   "metadata": {},
   "outputs": [],
   "source": [
    "from pony.orm import *\n",
    "\n",
    "\n",
    "db = Database()#创建数据库对象\n",
    "\n",
    "\n",
    "class Topic(db.Entity):\n",
    "    tab = PrimaryKey(str, column='tab', auto=True)\n",
    "    Title = Optional(str, column='Title')\n",
    "    grade = Optional(int, column='grade')\n",
    "    Pass = Optional(int, column='Pass')\n",
    "    Submit = Optional(int, column='Submit')\n",
    "    Pass_Rate = Optional(str, column='Pass_Rate')\n",
    "    html = Optional(str, column='html')\n",
    "    Questions = Optional(str, column='Questions')\n",
    "    tab_url = Optional(str, column='taburl')\n",
    "\n",
    "\n",
    "\n",
    "#db.generate_mapping()"
   ]
  },
  {
   "cell_type": "markdown",
   "metadata": {},
   "source": [
    "## 在D盘根目录创建一个code2020文件夹，然后新建一个文本文件，改名为program.sqlite"
   ]
  },
  {
   "cell_type": "code",
   "execution_count": null,
   "metadata": {},
   "outputs": [],
   "source": [
    "db.bind(provider='sqlite', filename='D:/code2020/program.sqlite')\n",
    "\n",
    "db.generate_mapping(create_tables=True)\n",
    "#将实体映射到数据库表,参数create_tables = True表示如果实体指向的表尚不存在，则使用CREATE TABLE命令创建它们。必须在调用generate_mapping（）方法之前定义连接到数据库的所有实体。\n",
    "\n",
    "set_sql_debug(True)\n",
    "#调试模式,使用set_sql_debug（）函数，可以看到Pony发送到数据库的SQL命令。"
   ]
  },
  {
   "cell_type": "markdown",
   "metadata": {},
   "source": [
    "# 封装获取子网页的HTML和题目"
   ]
  },
  {
   "cell_type": "code",
   "execution_count": 30,
   "metadata": {},
   "outputs": [],
   "source": [
    "def New_html(url):\n",
    "    dr=webdriver.Chrome()\n",
    "    dr.get(url)\n",
    "    html = dr.page_source\n",
    "    time.sleep(3)\n",
    "    dr.close()\n",
    "    return html"
   ]
  },
  {
   "cell_type": "markdown",
   "metadata": {},
   "source": [
    "# 获取信息总函数，两个网页分别执行两次即可"
   ]
  },
  {
   "cell_type": "code",
   "execution_count": 31,
   "metadata": {
    "scrolled": true
   },
   "outputs": [],
   "source": [
    "def total(n):\n",
    "    Questions=\"函数题\"#题型\n",
    "    #定义了一个正则表达式\n",
    "    reobj = re.compile(r'<td class=\"answerIcon_1du7d\"></td><td>([\\d\\D]*?)</td><td><a href=\"([\\d\\D]*?)\"[\\d\\D]*?>([\\d\\D]*?)</a></td><td>([\\d\\D]*?)</td><td>([\\d\\D]*?)</td><td>([\\d\\D]*?)</td><td>([\\d\\D]*?)<')\n",
    "    #迭代循环输出每一个匹配的数据\n",
    "    for match in reobj.finditer(n):\n",
    "        tab=match.group(1)#标号\n",
    "        Title=match.group(3)#标题\n",
    "        grade=match.group(4)#分数\n",
    "        Pass=match.group(5)#通过数\n",
    "        Submit=match.group(6)#提交数\n",
    "        Pass_Rate=match.group(7)#通过率\n",
    "        tab_url=\"https://pintia.cn\"+match.group(2)#网址\n",
    "        html=New_html(tab_url)#完整html\n",
    "        s = Topic(tab = tab,Title = Title,grade=grade,Pass=Pass,Submit=Submit,Pass_Rate=Pass_Rate,html=html,Questions=Questions,tab_url=tab_url)\n",
    "        db.commit()"
   ]
  },
  {
   "cell_type": "markdown",
   "metadata": {},
   "source": [
    "# 执行函数获取需要爬取的信息"
   ]
  },
  {
   "cell_type": "code",
   "execution_count": null,
   "metadata": {},
   "outputs": [],
   "source": [
    "total(driver.page_source)\n",
    "driver.find_element_by_xpath(\"//div[@id='sparkling-daydream']/div[3]/div[3]/div/ul/li[2]/a/div\").click()\n",
    "total(driver.page_source)"
   ]
  },
  {
   "cell_type": "code",
   "execution_count": null,
   "metadata": {},
   "outputs": [],
   "source": []
  },
  {
   "cell_type": "code",
   "execution_count": 1,
   "metadata": {},
   "outputs": [
    {
     "name": "stdout",
     "output_type": "stream",
     "text": [
      "OK\n"
     ]
    }
   ],
   "source": [
    "import re,time\n",
    "from selenium import webdriver\n",
    "driver=webdriver.Chrome()\n",
    "\n",
    "def get_html(url):\n",
    "    driver.get(url)\n",
    "    time.sleep(5)\n",
    "    html=driver.page_source#获取源代码\n",
    "    return html\n",
    "\n",
    "#获取标号\n",
    "def get_bh(html):\n",
    "    list1=[]\n",
    "    reobj = re.compile(r'<tr><td class=\"answerIcon_1du7d\"></td><td>([\\d\\D]*?)</td>')\n",
    "    for match in reobj.finditer(html):\n",
    "        bh=match.group(1)\n",
    "        list1.append(bh)\n",
    "    return list1\n",
    "\n",
    "#获取网页链接\n",
    "def get_lj(html):\n",
    "    list2=[]\n",
    "    list3=[]\n",
    "    reobj = re.compile(r'<td><a href=\"([\\d\\D]*?)\"')\n",
    "    for match in reobj.finditer(html):\n",
    "        lj=match.group(1)\n",
    "        list2.append(lj)\n",
    "    for i in list2:\n",
    "        t=\"https://pintia.cn\"+i\n",
    "        list3.append(t)\n",
    "    return list3\n",
    "\n",
    "#获取标题\n",
    "def get_bt(html):\n",
    "    list4=[]\n",
    "    reobj = re.compile(r'<a href=\"[\\d\\D]*?\" class=\"\">([\\d\\D]*?)</a>')\n",
    "    for match in reobj.finditer(html):\n",
    "        bt=match.group(1)\n",
    "        list4.append(bt)\n",
    "    return list4\n",
    "\n",
    "#获取分数\n",
    "def get_fs(html):\n",
    "    list5=[]\n",
    "    reobj = re.compile(r\"</a></td><td>([\\d\\D]*?)</td>\")\n",
    "    for match in reobj.finditer(html):\n",
    "        fs=match.group(1)\n",
    "        list5.append(fs)\n",
    "    return list5\n",
    "\n",
    "#获取通过数\n",
    "def get_tgs(html):\n",
    "    list6=[]\n",
    "    reobj = re.compile(r\"</a></td><td>[\\d\\D]*?</td><td>([\\d\\D]*?)</td>\")\n",
    "    for match in reobj.finditer(html):\n",
    "        tgl=match.group(1)\n",
    "        list6.append(tgl)\n",
    "    return list6\n",
    "\n",
    "#获取提交数\n",
    "def get_tjs(html):\n",
    "    list7=[]\n",
    "    reobj = re.compile(r\"</a></td><td>[\\d\\D]*?</td><td>[\\d\\D]*?</td><td>([\\d\\D]*?)</td>\")\n",
    "    for match in reobj.finditer(html):\n",
    "        tjs=match.group(1)\n",
    "        list7.append(tjs)\n",
    "    return list7\n",
    "\n",
    "#获取通过率\n",
    "def get_tgl(html):\n",
    "    list8=[]\n",
    "    reobj = re.compile(r\"</a></td><td>[\\d\\D]*?</td><td>[\\d\\D]*?</td><td>[\\d\\D]*?</td><td>([\\d\\D]*?)</td></tr>\")\n",
    "    for match in reobj.finditer(html):\n",
    "        tgl=match.group(1)\n",
    "        list8.append(tgl)\n",
    "    return list8\n",
    "\n",
    "urls = [(\"https://pintia.cn/problem-sets/1111652100718116864/problems/type/6\",\"函数题\"),(\"https://pintia.cn/problem-sets/1111652100718116864/problems/type/7\",\"编程题\")]\n",
    "result=[]\n",
    "for url,category in urls:\n",
    "    html=get_html(url)\n",
    "    bh=get_bh(html)\n",
    "    lj=get_lj(html)\n",
    "    bt=get_bt(html)\n",
    "    fs=get_fs(html)\n",
    "    tgs=get_tgs(html)\n",
    "    tjs=get_tjs(html)\n",
    "    tgl=get_tgl(html)\n",
    "    for a,b,c,d,e,f,g in zip(bh,lj,bt,fs,tgs,tjs,tgl):\n",
    "        t=(category,a,b,c,d,e,f,g)\n",
    "        result.append(t)\n",
    "print(\"OK\")"
   ]
  },
  {
   "cell_type": "markdown",
   "metadata": {},
   "source": [
    "## 将result列表中的链接，循环打开，并且获取其中的题目内容"
   ]
  },
  {
   "cell_type": "code",
   "execution_count": null,
   "metadata": {},
   "outputs": [],
   "source": [
    "#获取连接内的数据\n",
    "def get_sj(html1):\n",
    "    list9=[]\n",
    "    reobj = re.compile(r'<div class=\"problem_Yd8rq p-3 mb-3 background-grey-1\"><div class=\"ques-view\">([\\d\\D]*?)</div><div class=\"problemInfo_OZ-Rv\">')\n",
    "    for match in reobj.finditer(html1):\n",
    "        sj=match.group()\n",
    "        list9.append(sj)\n",
    "    return list9\n",
    "\n",
    "final_result=[]\n",
    "#调用上面的result内的数据，获取其中的链接，打开，获取数据\n",
    "for i in result:\n",
    "    url1=i[2]\n",
    "    driver=webdriver.Chrome()\n",
    "    driver.get(url1)\n",
    "    time.sleep(5)\n",
    "    html1=driver.page_source\n",
    "    sj=get_sj(html1)         #连接中的内容\n",
    "    sj1=str(sj)\n",
    "    z=(i[0],i[1],i[2],i[3],i[4],i[5],i[6],i[7],sj1)   #合并到z中\n",
    "    final_result.append(z)\n",
    "    driver.close()\n",
    "print(\"OK\")"
   ]
  },
  {
   "cell_type": "markdown",
   "metadata": {},
   "source": [
    "## 数据的存储，会用到Pony ORM，代码参考链接https://www.yuque.com/ol1q37/gi94xp/gqavbz"
   ]
  },
  {
   "cell_type": "code",
   "execution_count": null,
   "metadata": {},
   "outputs": [],
   "source": [
    "from pony.orm import *\n",
    "\n",
    "\n",
    "db = Database()   #创建数据库对象\n",
    "\n",
    "\n",
    "class Ttitle(db.Entity):\n",
    "    lx = Optional(str)\n",
    "    bh = PrimaryKey(str, auto=True)\n",
    "    url = Optional(str)\n",
    "    bt = Optional(str)\n",
    "    fs = Optional(str)\n",
    "    tgs = Optional(str)\n",
    "    tjs = Optional(str)\n",
    "    tgl = Optional(str)\n",
    "    sj = Optional(str)\n",
    "\n",
    "\n",
    "\n",
    "#db.generate_mapping()"
   ]
  },
  {
   "cell_type": "markdown",
   "metadata": {},
   "source": [
    "## 需要在D盘根目录创建一个code2020文件夹，然后新建一个文本文件，改名为program.sqlite"
   ]
  },
  {
   "cell_type": "code",
   "execution_count": null,
   "metadata": {},
   "outputs": [],
   "source": [
    "db.bind(provider='sqlite', filename='F:/code2020/program.sqlite')\n",
    "\n",
    "db.generate_mapping(create_tables=True)\n",
    "#将实体映射到数据库表,参数create_tables = True表示如果实体指向的表尚不存在，则使用CREATE TABLE命令创建它们。必须在调用generate_mapping（）方法之前定义连接到数据库的所有实体。\n",
    "\n",
    "set_sql_debug(True)\n",
    "#调试模式,使用set_sql_debug（）函数，可以看到Pony发送到数据库的SQL命令。"
   ]
  },
  {
   "cell_type": "markdown",
   "metadata": {},
   "source": [
    "## 循环写入到program.sqlite文件中去"
   ]
  },
  {
   "cell_type": "code",
   "execution_count": null,
   "metadata": {},
   "outputs": [],
   "source": [
    "for x in final_result:\n",
    "    s = Ttitle(lx=x[0],bh=x[1],url=x[2],bt=x[3],fs=x[4],tgs=x[5],tjs=x[6],tgl=x[7],sj=x[8])\n",
    "    db.commit()\n",
    "    #Pony不会立即在数据库中保存对象。只有在调用commit()函数后才会保存这些对象。如果打开调试模式，那么在commit（）期间，将看到发送到数据库的五个insert命令。"
   ]
  }
 ],
 "metadata": {
  "kernelspec": {
   "display_name": "Python 3",
   "language": "python",
   "name": "python3"
  },
  "language_info": {
   "codemirror_mode": {
    "name": "ipython",
    "version": 3
   },
   "file_extension": ".py",
   "mimetype": "text/x-python",
   "name": "python",
   "nbconvert_exporter": "python",
   "pygments_lexer": "ipython3",
   "version": "3.7.4"
  }
 },
 "nbformat": 4,
 "nbformat_minor": 4
}
