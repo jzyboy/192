{
 "cells": [
  {
   "cell_type": "markdown",
   "metadata": {},
   "source": [
    "# https://www.yuque.com/ol1q37/gi94xp/vy59wr"
   ]
  },
  {
   "cell_type": "markdown",
   "metadata": {},
   "source": [
    "# 已知有一些线上习题，https://pintia.cn/problem-sets/1111652100718116864/problems/type/7，\n",
    "#采集所有题目（共95题，）\n",
    "#1）存储所有要采集页面的完整html\n",
    "#2）编写代码完成数据的抽取"
   ]
  },
  {
   "cell_type": "code",
   "execution_count": 22,
   "metadata": {},
   "outputs": [],
   "source": [
    "from selenium import webdriver\n",
    "import re\n",
    "import time\n",
    "driver=webdriver.Chrome()\n",
    "url = \"https://pintia.cn/problem-sets/1111652100718116864/problems/type/6\"\n",
    "driver.get(url)"
   ]
  },
  {
   "cell_type": "markdown",
   "metadata": {},
   "source": [
    "# 创建SQL格式使数据工整"
   ]
  },
  {
   "cell_type": "code",
   "execution_count": 4,
   "metadata": {},
   "outputs": [],
   "source": [
    "from pony.orm import *\n",
    "\n",
    "\n",
    "db = Database()\n",
    "\n",
    "\n",
    "class Topic(db.Entity):\n",
    "    tab = PrimaryKey(str, column='tab', auto=True)\n",
    "    Title = Optional(str, column='Title')\n",
    "    grade = Optional(int, column='grade')\n",
    "    Pass = Optional(int, column='Pass')\n",
    "    Submit = Optional(int, column='Submit')\n",
    "    Pass_Rate = Optional(str, column='Pass_Rate')\n",
    "    html = Optional(str, column='html')\n",
    "    Questions = Optional(str, column='Questions')\n",
    "    tab_url = Optional(str, column='taburl')\n",
    "\n",
    "\n",
    "\n",
    "#db.generate_mapping()"
   ]
  },
  {
   "cell_type": "code",
   "execution_count": null,
   "metadata": {},
   "outputs": [],
   "source": [
    "db.bind(provider='sqlite', filename='E:/python/star.sqlite')\n",
    "\n",
    "db.generate_mapping(create_tables=True)\n",
    "\n",
    "set_sql_debug(True)"
   ]
  },
  {
   "cell_type": "markdown",
   "metadata": {},
   "source": [
    "# 建立sql文件"
   ]
  },
  {
   "cell_type": "code",
   "execution_count": 5,
   "metadata": {},
   "outputs": [],
   "source": [
    "db.bind(provider='sqlite', filename='E:/python/5.sqlite')\n",
    "db.generate_mapping(create_tables=True)\n",
    "set_sql_debug(True)"
   ]
  },
  {
   "cell_type": "markdown",
   "metadata": {},
   "source": [
    "# 封装获取子网页的HTML和题目"
   ]
  },
  {
   "cell_type": "code",
   "execution_count": 30,
   "metadata": {},
   "outputs": [],
   "source": [
    "def New_html(url):\n",
    "    dr=webdriver.Chrome()\n",
    "    dr.get(url)\n",
    "    html = dr.page_source\n",
    "    time.sleep(3)\n",
    "    dr.close()\n",
    "    return html"
   ]
  },
  {
   "cell_type": "markdown",
   "metadata": {},
   "source": [
    "# 获取信息总函数，两个网页分别执行两次即可"
   ]
  },
  {
   "cell_type": "code",
   "execution_count": 31,
   "metadata": {
    "scrolled": true
   },
   "outputs": [],
   "source": [
    "def total(n):\n",
    "    Questions=\"函数题\"#题型\n",
    "    #定义了一个正则表达式\n",
    "    reobj = re.compile(r'<td class=\"answerIcon_1du7d\"></td><td>([\\d\\D]*?)</td><td><a href=\"([\\d\\D]*?)\"[\\d\\D]*?>([\\d\\D]*?)</a></td><td>([\\d\\D]*?)</td><td>([\\d\\D]*?)</td><td>([\\d\\D]*?)</td><td>([\\d\\D]*?)<')\n",
    "    #迭代循环输出每一个匹配的数据\n",
    "    for match in reobj.finditer(n):\n",
    "        tab=match.group(1)#标号\n",
    "        Title=match.group(3)#标题\n",
    "        grade=match.group(4)#分数\n",
    "        Pass=match.group(5)#通过数\n",
    "        Submit=match.group(6)#提交数\n",
    "        Pass_Rate=match.group(7)#通过率\n",
    "        tab_url=\"https://pintia.cn\"+match.group(2)#网址\n",
    "        html=New_html(tab_url)#完整html\n",
    "        s = Topic(tab = tab,Title = Title,grade=grade,Pass=Pass,Submit=Submit,Pass_Rate=Pass_Rate,html=html,Questions=Questions,tab_url=tab_url)\n",
    "        db.commit()"
   ]
  },
  {
   "cell_type": "code",
   "execution_count": null,
   "metadata": {},
   "outputs": [],
   "source": [
    "total(driver.page_source)\n",
    "driver.find_element_by_xpath(\"//div[@id='sparkling-daydream']/div[3]/div[3]/div/ul/li[2]/a/div\").click()\n",
    "total(driver.page_source)"
   ]
  },
  {
   "cell_type": "markdown",
   "metadata": {},
   "source": [
    "# 执行函数获取需要爬取的信息"
   ]
  },
  {
   "cell_type": "markdown",
   "metadata": {},
   "source": [
    "## 采集https://pintia.cn/problem-sets/1111652100718116864/problems/type/6和https://pintia.cn/problem-sets/1111652100718116864/problems/type/7两个数据源（url1,url2)"
   ]
  },
  {
   "cell_type": "markdown",
   "metadata": {},
   "source": [
    "# 第一步 获取到指定URL（url1,url2）网页源代码html,抽取出（标号\t标题\t分数\t通过数\t提交数\t通过率 详情页链接,html，详情页的题目内容（content)），存入DB"
   ]
  },
  {
   "cell_type": "markdown",
   "metadata": {},
   "source": [
    "# 第二步 遍历数据库中的每一条记录的详情页链接 ，利用selenium获取详情页网页源代码，并将其更新到DB中"
   ]
  },
  {
   "cell_type": "markdown",
   "metadata": {},
   "source": [
    "# 第三步，遍历数据库抽取出题目的内容，更新到数据库相应的字段中"
   ]
  }
 ],
 "metadata": {
  "kernelspec": {
   "display_name": "Python 3",
   "language": "python",
   "name": "python3"
  },
  "language_info": {
   "codemirror_mode": {
    "name": "ipython",
    "version": 3
   },
   "file_extension": ".py",
   "mimetype": "text/x-python",
   "name": "python",
   "nbconvert_exporter": "python",
   "pygments_lexer": "ipython3",
   "version": "3.7.4"
  }
 },
 "nbformat": 4,
 "nbformat_minor": 4
}
