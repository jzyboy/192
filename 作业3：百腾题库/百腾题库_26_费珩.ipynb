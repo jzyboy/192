{
 "cells": [
  {
   "cell_type": "code",
   "execution_count": 3,
   "metadata": {},
   "outputs": [],
   "source": [
    "import re,time\n",
    "from selenium import webdriver\n",
    "driver=webdriver.Chrome()"
   ]
  },
  {
   "cell_type": "code",
   "execution_count": 4,
   "metadata": {},
   "outputs": [],
   "source": [
    "#获取源代码\n",
    "def get_html(url):\n",
    "    driver.get(url)\n",
    "    time.sleep(5)\n",
    "    html=driver.page_source\n",
    "    return html"
   ]
  },
  {
   "cell_type": "code",
   "execution_count": 5,
   "metadata": {},
   "outputs": [],
   "source": [
    "#获取标号\n",
    "def get_bh(html):\n",
    "    list1=[]\n",
    "    reobj = re.compile(r'<tr><td class=\"answerIcon_1du7d\"></td><td>([\\d\\D]*?)</td>')\n",
    "    for match in reobj.finditer(html):\n",
    "        bh=match.group(1)\n",
    "        list1.append(bh)\n",
    "    return list1"
   ]
  },
  {
   "cell_type": "code",
   "execution_count": 6,
   "metadata": {},
   "outputs": [],
   "source": [
    "#获取分数\n",
    "def get_fs(html):\n",
    "    list5=[]\n",
    "    reobj = re.compile(r\"</a></td><td>([\\d\\D]*?)</td>\")\n",
    "    for match in reobj.finditer(html):\n",
    "        fs=match.group(1)\n",
    "        list5.append(fs)\n",
    "    return list5"
   ]
  },
  {
   "cell_type": "code",
   "execution_count": 7,
   "metadata": {},
   "outputs": [],
   "source": [
    "#获取网页链接\n",
    "def get_lj(html):\n",
    "    list2=[]\n",
    "    list3=[]\n",
    "    reobj = re.compile(r'<td><a href=\"([\\d\\D]*?)\"')\n",
    "    for match in reobj.finditer(html):\n",
    "        lj=match.group(1)\n",
    "        list2.append(lj)\n",
    "    for i in list2:\n",
    "        t=\"https://pintia.cn\"+i\n",
    "        list3.append(t)\n",
    "    return list3"
   ]
  },
  {
   "cell_type": "code",
   "execution_count": 8,
   "metadata": {},
   "outputs": [],
   "source": [
    "#获取标题\n",
    "def get_bt(html):\n",
    "    list4=[]\n",
    "    reobj = re.compile(r'<a href=\"[\\d\\D]*?\" class=\"\">([\\d\\D]*?)</a>')\n",
    "    for match in reobj.finditer(html):\n",
    "        bt=match.group(1)\n",
    "        list4.append(bt)\n",
    "    return list4"
   ]
  },
  {
   "cell_type": "code",
   "execution_count": 9,
   "metadata": {},
   "outputs": [],
   "source": [
    "#获取通过数\n",
    "def get_tgs(html):\n",
    "    list6=[]\n",
    "    reobj = re.compile(r\"</a></td><td>[\\d\\D]*?</td><td>([\\d\\D]*?)</td>\")\n",
    "    for match in reobj.finditer(html):\n",
    "        tgl=match.group(1)\n",
    "        list6.append(tgl)\n",
    "    return list6"
   ]
  },
  {
   "cell_type": "code",
   "execution_count": 10,
   "metadata": {},
   "outputs": [],
   "source": [
    "#获取提交数\n",
    "def get_tjs(html):\n",
    "    list7=[]\n",
    "    reobj = re.compile(r\"</a></td><td>[\\d\\D]*?</td><td>[\\d\\D]*?</td><td>([\\d\\D]*?)</td>\")\n",
    "    for match in reobj.finditer(html):\n",
    "        tjs=match.group(1)\n",
    "        list7.append(tjs)\n",
    "    return list7"
   ]
  },
  {
   "cell_type": "code",
   "execution_count": 11,
   "metadata": {},
   "outputs": [],
   "source": [
    "#获取通过率\n",
    "def get_tgl(html):\n",
    "    list8=[]\n",
    "    reobj = re.compile(r\"</a></td><td>[\\d\\D]*?</td><td>[\\d\\D]*?</td><td>[\\d\\D]*?</td><td>([\\d\\D]*?)</td></tr>\")\n",
    "    for match in reobj.finditer(html):\n",
    "        tgl=match.group(1)\n",
    "        list8.append(tgl)\n",
    "    return list8"
   ]
  },
  {
   "cell_type": "code",
   "execution_count": 12,
   "metadata": {},
   "outputs": [
    {
     "name": "stdout",
     "output_type": "stream",
     "text": [
      "666\n"
     ]
    }
   ],
   "source": [
    "urls = [(\"https://pintia.cn/problem-sets/1111652100718116864/problems/type/6\",\"函数题\"),(\"https://pintia.cn/problem-sets/1111652100718116864/problems/type/7\",\"编程题\")]\n",
    "result=[]\n",
    "for url,category in urls:\n",
    "    html=get_html(url)\n",
    "    bh=get_bh(html)\n",
    "    lj=get_lj(html)\n",
    "    bt=get_bt(html)\n",
    "    fs=get_fs(html)\n",
    "    tgs=get_tgs(html)\n",
    "    tjs=get_tjs(html)\n",
    "    tgl=get_tgl(html)\n",
    "    for a,b,c,d,e,f,g in zip(bh,lj,bt,fs,tgs,tjs,tgl):\n",
    "        t=(category,a,b,c,d,e,f,g)\n",
    "        result.append(t)\n",
    "print(\"666\")"
   ]
  },
  {
   "cell_type": "code",
   "execution_count": null,
   "metadata": {},
   "outputs": [],
   "source": [
    "#获取连接内的数据\n",
    "def get_sj(html1):\n",
    "    list9=[]\n",
    "    reobj = re.compile(r'<div class=\"problem_Yd8rq p-3 mb-3 background-grey-1\"><div class=\"ques-view\">([\\d\\D]*?)</div><div class=\"problemInfo_OZ-Rv\">')\n",
    "    for match in reobj.finditer(html1):\n",
    "        sj=match.group()\n",
    "        list9.append(sj)\n",
    "    return list9\n",
    "\n",
    "final_result=[]\n",
    "\n",
    "#调用上面的result内的数据，获取其中的链接，打开，获取数据\n",
    "for i in result:\n",
    "    url1=i[2]\n",
    "    driver=webdriver.Chrome()\n",
    "    driver.get(url1)\n",
    "    time.sleep(5)\n",
    "    html1=driver.page_source\n",
    "    sj=get_sj(html1)#连接中的内容\n",
    "    sj1=str(sj)\n",
    "    q=(i[0],i[1],i[2],i[3],i[4],i[5],i[6],i[7],sj1)\n",
    "    final_result.append(q)\n",
    "    driver.close() #关闭打开的网页\n",
    "print(\"666\")"
   ]
  },
  {
   "cell_type": "code",
   "execution_count": null,
   "metadata": {},
   "outputs": [],
   "source": [
    "from pony.orm import *\n",
    "\n",
    "\n",
    "db = Database()   \n",
    "\n",
    "\n",
    "class Ttitle(db.Entity):\n",
    "    lx = Optional(str)\n",
    "    bh = PrimaryKey(str, auto=True)\n",
    "    url = Optional(str)\n",
    "    bt = Optional(str)\n",
    "    fs = Optional(str)\n",
    "    tgs = Optional(str)\n",
    "    tjs = Optional(str)\n",
    "    tgl = Optional(str)\n",
    "    sj = Optional(str)\n",
    "\n",
    "\n",
    "\n",
    "#db.generate_mapping()"
   ]
  },
  {
   "cell_type": "code",
   "execution_count": null,
   "metadata": {},
   "outputs": [],
   "source": [
    "db.bind(provider='sqlite', filename='D:/code2020/program.sqlite')\n",
    "\n",
    "db.generate_mapping(create_tables=True)\n",
    "\n",
    "set_sql_debug(True)"
   ]
  },
  {
   "cell_type": "code",
   "execution_count": null,
   "metadata": {},
   "outputs": [],
   "source": [
    "for x in final_result:\n",
    "    s = Ttitle(lx=x[0],bh=x[1],url=x[2],bt=x[3],fs=x[4],tgs=x[5],tjs=x[6],tgl=x[7],sj=x[8])\n",
    "    db.commit()"
   ]
  }
 ],
 "metadata": {
  "kernelspec": {
   "display_name": "Python 3",
   "language": "python",
   "name": "python3"
  },
  "language_info": {
   "codemirror_mode": {
    "name": "ipython",
    "version": 3
   },
   "file_extension": ".py",
   "mimetype": "text/x-python",
   "name": "python",
   "nbconvert_exporter": "python",
   "pygments_lexer": "ipython3",
   "version": "3.7.4"
  }
 },
 "nbformat": 4,
 "nbformat_minor": 4
}
