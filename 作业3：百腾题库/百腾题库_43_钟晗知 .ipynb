{
 "cells": [
  {
   "cell_type": "code",
   "execution_count": 2,
   "metadata": {},
   "outputs": [],
   "source": [
    "from selenium import webdriver\n",
    "from lxml import etree\n",
    "import time\n",
    "url='https://pintia.cn/problem-sets/1111652100718116864/problems/type/7'\n",
    "driver=webdriver.Chrome()\n",
    "driver.get(url)\n",
    "time.sleep(5)\n",
    "data=[]"
   ]
  },
  {
   "cell_type": "code",
   "execution_count": 3,
   "metadata": {},
   "outputs": [],
   "source": [
    "html=driver.page_source\n",
    "#print(html)"
   ]
  },
  {
   "cell_type": "code",
   "execution_count": 4,
   "metadata": {
    "scrolled": true
   },
   "outputs": [
    {
     "name": "stdout",
     "output_type": "stream",
     "text": [
      "第1章-1 https://pintia.cn//problem-sets/1111652100718116864/problems/1111653039147499521 从键盘输入两个数，求它们的和并输出 30 4167 10532 0.40\n",
      "第1章-2 https://pintia.cn//problem-sets/1111652100718116864/problems/1111653039147499522 从键盘输入三个数到a,b,c中，按公式值输出 30 3454 13676 0.25\n",
      "第1章-3 https://pintia.cn//problem-sets/1111652100718116864/problems/1111653039147499520 输出“Python语言简单易学” 10 2784 9829 0.28\n",
      "第2章-1 https://pintia.cn//problem-sets/1111652100718116864/problems/1111653447408467981 计算 11+12+13+...+m 30 3126 12877 0.24\n",
      "第2章-2 https://pintia.cn//problem-sets/1111652100718116864/problems/1111653447408467968 计算分段函数[1] 10 2663 11520 0.23\n",
      "第2章-3 https://pintia.cn//problem-sets/1111652100718116864/problems/1111653447408467971 阶梯电价 15 2294 9329 0.25\n",
      "第2章-4 https://pintia.cn//problem-sets/1111652100718116864/problems/1111653447408467975 特殊a串数列求和 20 2258 7448 0.30\n",
      "第2章-5 https://pintia.cn//problem-sets/1111652100718116864/problems/1111653447408467970 求奇数分之一序列前N项和 15 1995 5533 0.36\n",
      "第2章-6 https://pintia.cn//problem-sets/1111652100718116864/problems/1111653447408467973 求交错序列前N项和 15 1862 4298 0.43\n",
      "第2章-7 https://pintia.cn//problem-sets/1111652100718116864/problems/1111653447408467980 产生每位数字相同的n位数 30 1947 5723 0.34\n",
      "第2章-8 https://pintia.cn//problem-sets/1111652100718116864/problems/1111653447408467979 转换函数使用 30 1804 3807 0.47\n",
      "第2章-9 https://pintia.cn//problem-sets/1111652100718116864/problems/1111653447408467974 比较大小 10 1742 4875 0.36\n",
      "第2章-10 https://pintia.cn//problem-sets/1111652100718116864/problems/1111653447408467969 输出华氏-摄氏温度转换表 15 1716 8110 0.21\n",
      "第2章-11 https://pintia.cn//problem-sets/1111652100718116864/problems/1111653447408467972 求平方与倒数序列的部分和 15 1423 2653 0.54\n",
      "第2章-12 https://pintia.cn//problem-sets/1111652100718116864/problems/1111653447408467976 输出三角形面积和周长 15 1508 5072 0.30\n",
      "第2章-13 https://pintia.cn//problem-sets/1111652100718116864/problems/1111653447408467977 分段计算居民水费 10 1361 2299 0.59\n",
      "第2章-14 https://pintia.cn//problem-sets/1111652100718116864/problems/1111653447408467978 求整数段和 15 1521 6566 0.23\n",
      "第3章-1 https://pintia.cn//problem-sets/1111652100718116864/problems/1163031535431180308 3-1.大于身高的平均值 10 1454 3033 0.48\n",
      "第3章-2 https://pintia.cn//problem-sets/1111652100718116864/problems/1163031535431180309 查验身份证 15 1159 4340 0.27\n",
      "第3章-3 https://pintia.cn//problem-sets/1111652100718116864/problems/1163031535431180307 输出字母在字符串中位置索引 20 1249 2208 0.57\n",
      "第3章-4 https://pintia.cn//problem-sets/1111652100718116864/problems/1163031535431180288 查找指定字符 15 1158 2858 0.41\n",
      "第3章-5 https://pintia.cn//problem-sets/1111652100718116864/problems/1163031535431180289 字符转换 15 1185 3272 0.36\n",
      "第3章-6 https://pintia.cn//problem-sets/1111652100718116864/problems/1163031535431180290 求整数序列中出现次数最多的数 15 1100 3588 0.31\n",
      "第3章-7 https://pintia.cn//problem-sets/1111652100718116864/problems/1163031535431180291 求最大值及其下标 20 1060 2288 0.46\n",
      "第3章-8 https://pintia.cn//problem-sets/1111652100718116864/problems/1163031535431180292 字符串逆序 15 1118 1594 0.70\n",
      "第3章-9 https://pintia.cn//problem-sets/1111652100718116864/problems/1163031535431180293 字符串转换成十进制整数 15 907 4414 0.21\n",
      "第3章-10 https://pintia.cn//problem-sets/1111652100718116864/problems/1163031535431180294 统计大写辅音字母 15 977 1778 0.55\n",
      "第3章-11 https://pintia.cn//problem-sets/1111652100718116864/problems/1163031535431180295 字符串排序 20 1015 1602 0.63\n",
      "第3章-12 https://pintia.cn//problem-sets/1111652100718116864/problems/1163031535431180296 求整数的位数及各位数字之和 15 945 1315 0.72\n",
      "第3章-13 https://pintia.cn//problem-sets/1111652100718116864/problems/1163031535431180297 字符串替换 15 907 1578 0.57\n",
      "第3章-14 https://pintia.cn//problem-sets/1111652100718116864/problems/1163031535431180298 字符串字母大小写转换 15 949 1729 0.55\n",
      "第3章-15 https://pintia.cn//problem-sets/1111652100718116864/problems/1163031535431180299 统计一行文本的单词个数 15 925 1559 0.59\n",
      "第3章-16 https://pintia.cn//problem-sets/1111652100718116864/problems/1163031535431180300 删除重复字符 20 958 1620 0.59\n",
      "第3章-17 https://pintia.cn//problem-sets/1111652100718116864/problems/1163031535431180301 删除字符 30 972 4066 0.24\n",
      "第3章-18 https://pintia.cn//problem-sets/1111652100718116864/problems/1163031535431180302 输出10个不重复的英文字母 30 952 2864 0.33\n",
      "第3章-19 https://pintia.cn//problem-sets/1111652100718116864/problems/1163031535431180303 找最长的字符串 15 843 1404 0.60\n",
      "第3章-20 https://pintia.cn//problem-sets/1111652100718116864/problems/1163031535431180304 逆序的三位数 10 882 1515 0.58\n",
      "第3章-21 https://pintia.cn//problem-sets/1111652100718116864/problems/1163031535431180305 判断回文字符串 15 865 2097 0.41\n",
      "第3章-22 https://pintia.cn//problem-sets/1111652100718116864/problems/1163031535431180306 输出大写英文字母 15 813 1505 0.54\n",
      "第4章-1 https://pintia.cn//problem-sets/1111652100718116864/problems/1163032889524477952 生成3的乘方表 15 843 1922 0.44\n",
      "第4章-2 https://pintia.cn//problem-sets/1111652100718116864/problems/1163032889524477954 统计素数并求和 20 885 2763 0.32\n",
      "第4章-3 https://pintia.cn//problem-sets/1111652100718116864/problems/1163032889524477955 猴子吃桃问题 15 818 1133 0.72\n",
      "第4章-4 https://pintia.cn//problem-sets/1111652100718116864/problems/1163032889524477956 验证“哥德巴赫猜想” 20 835 3477 0.24\n",
      "第4章-5 https://pintia.cn//problem-sets/1111652100718116864/problems/1163032889524477953 求e的近似值 15 777 1716 0.45\n",
      "第4章-6 https://pintia.cn//problem-sets/1111652100718116864/problems/1163032889524477957 输出前 n 个Fibonacci数 15 828 2731 0.30\n",
      "第4章-7 https://pintia.cn//problem-sets/1111652100718116864/problems/1163032889524477958 统计学生平均成绩与及格人数 15 734 3835 0.19\n",
      "第4章-8 https://pintia.cn//problem-sets/1111652100718116864/problems/1163032889524477959 求分数序列前N项和 15 689 1128 0.61\n",
      "第4章-9 https://pintia.cn//problem-sets/1111652100718116864/problems/1163032889524477960 查询水果价格 15 680 1636 0.42\n",
      "第4章-10 https://pintia.cn//problem-sets/1111652100718116864/problems/1163032889524477961 最大公约数和最小公倍数 15 704 1320 0.53\n",
      "第4章-11 https://pintia.cn//problem-sets/1111652100718116864/problems/1163032889524477962 判断素数 20 768 1371 0.56\n",
      "第4章-12 https://pintia.cn//problem-sets/1111652100718116864/problems/1163032889524477978 求满足条件的斐波那契数 30 724 989 0.73\n",
      "第4章-13 https://pintia.cn//problem-sets/1111652100718116864/problems/1163032889524477980 求误差小于输入值的e的近似值 20 648 1183 0.55\n",
      "第4章-14 https://pintia.cn//problem-sets/1111652100718116864/problems/1163032889524477979 统计字符 15 619 1491 0.42\n",
      "第4章-15 https://pintia.cn//problem-sets/1111652100718116864/problems/1163032889524477963 换硬币 20 612 1320 0.46\n",
      "第4章-16 https://pintia.cn//problem-sets/1111652100718116864/problems/1163032889524477964 jmu-python-判断是否构成三角形 10 637 974 0.65\n",
      "第4章-17 https://pintia.cn//problem-sets/1111652100718116864/problems/1163032889524477965 水仙花数（20 分） 20 695 1227 0.57\n",
      "第4章-18 https://pintia.cn//problem-sets/1111652100718116864/problems/1163032889524477976 猴子选大王 20 606 990 0.61\n",
      "第4章-19 https://pintia.cn//problem-sets/1111652100718116864/problems/1163032889524477966 矩阵运算 20 591 1000 0.59\n",
      "第4章-20 https://pintia.cn//problem-sets/1111652100718116864/problems/1163032889524477967 求矩阵各行元素之和 15 585 756 0.77\n",
      "第4章-21 https://pintia.cn//problem-sets/1111652100718116864/problems/1163032889524477968 判断上三角矩阵 15 565 1353 0.42\n",
      "第4章-22 https://pintia.cn//problem-sets/1111652100718116864/problems/1163032889524477969 找鞍点 20 555 1702 0.33\n",
      "第4章-23 https://pintia.cn//problem-sets/1111652100718116864/problems/1163032889524477971 求矩阵的局部极大值 15 470 898 0.52\n",
      "第4章-24 https://pintia.cn//problem-sets/1111652100718116864/problems/1163032889524477972 打印九九口诀表 15 572 1275 0.45\n",
      "第4章-25 https://pintia.cn//problem-sets/1111652100718116864/problems/1163032889524477970 输出三角形字符阵列 15 506 811 0.62\n",
      "第4章-26 https://pintia.cn//problem-sets/1111652100718116864/problems/1163032889524477973 求1!+3!+5!+……+n! 10 576 859 0.67\n",
      "第4章-27 https://pintia.cn//problem-sets/1111652100718116864/problems/1163032889524477974 二维数组中每行最大值和每行和 10 488 892 0.55\n",
      "第4章-28 https://pintia.cn//problem-sets/1111652100718116864/problems/1163032889524477975 矩阵转置 10 510 825 0.62\n",
      "第4章-29 https://pintia.cn//problem-sets/1111652100718116864/problems/1163032889524477977 找出不是两个数组共有的元素 20 535 1264 0.42\n",
      "第4章-30 https://pintia.cn//problem-sets/1111652100718116864/problems/1163032889524477981 找完数 20 591 2512 0.24\n",
      "第5章-1 https://pintia.cn//problem-sets/1111652100718116864/problems/1163034891574829066 输出星期名缩写 70 656 1044 0.63\n",
      "第5章-2 https://pintia.cn//problem-sets/1111652100718116864/problems/1163034891574829056 图的字典表示 20 462 617 0.75\n",
      "第5章-3 https://pintia.cn//problem-sets/1111652100718116864/problems/1163034891574829058 四则运算（用字典实现） 30 559 1036 0.54\n",
      "第5章-4 https://pintia.cn//problem-sets/1111652100718116864/problems/1163034891574829059 分析活动投票情况 20 601 1720 0.35\n",
      "第5章-5 https://pintia.cn//problem-sets/1111652100718116864/problems/1163034891574829060 统计字符出现次数 20 589 856 0.69\n",
      "第5章-6 https://pintia.cn//problem-sets/1111652100718116864/problems/1163034891574829061 统计工龄 20 537 1018 0.53\n",
      "第5章-7 https://pintia.cn//problem-sets/1111652100718116864/problems/1163034891574829062 列表去重 40 672 2045 0.33\n",
      "第5章-8 https://pintia.cn//problem-sets/1111652100718116864/problems/1163034891574829063 能被3,5和7整除的数的个数（用集合实现） 30 568 755 0.75\n",
      "第5章-9 https://pintia.cn//problem-sets/1111652100718116864/problems/1163034891574829064 求矩阵鞍点的个数 30 433 730 0.59\n",
      "第5章-10 https://pintia.cn//problem-sets/1111652100718116864/problems/1163034891574829065 两数之和 30 524 931 0.56\n",
      "第5章-11 https://pintia.cn//problem-sets/1111652100718116864/problems/1163034891574829057 字典合并 40 502 1142 0.44\n",
      "第6章-1 https://pintia.cn//problem-sets/1111652100718116864/problems/1163035698160459780 输入列表，求列表元素和(eval输入应用） 10 529 732 0.72\n",
      "第6章-2 https://pintia.cn//problem-sets/1111652100718116864/problems/1163035698160459788 一帮一 15 445 783 0.57\n",
      "第6章-3 https://pintia.cn//problem-sets/1111652100718116864/problems/1163035698160459782 列表或元组的数字元素求和 20 498 905 0.55\n",
      "第6章-4 https://pintia.cn//problem-sets/1111652100718116864/problems/1163035698160459783 列表数字元素加权和(1) 40 475 951 0.50\n",
      "第6章-5 https://pintia.cn//problem-sets/1111652100718116864/problems/1163035698160459784 列表元素个数的加权和(1) 40 447 714 0.63\n",
      "第6章-6 https://pintia.cn//problem-sets/1111652100718116864/problems/1163035698160459785 求指定层的元素个数 40 447 1260 0.35\n",
      "第6章-7 https://pintia.cn//problem-sets/1111652100718116864/problems/1163035698160459786 找出总分最高的学生 15 440 680 0.65\n",
      "第6章-8 https://pintia.cn//problem-sets/1111652100718116864/problems/1163035698160459787  *输出全排列（选作） 20 444 622 0.71\n",
      "第7章-1 https://pintia.cn//problem-sets/1111652100718116864/problems/1163036357031092224 词频统计 30 501 1705 0.29\n"
     ]
    }
   ],
   "source": [
    "def get_data():\n",
    "    '''\n",
    "    获取页面编号标题等信息\n",
    "    '''\n",
    "    html=driver.page_source\n",
    "    etr=etree.HTML(html,etree.HTMLParser())\n",
    "    for tr in etr.xpath('//tbody/tr'):\n",
    "        biaohao=tr.xpath('td[2]/text()')[0]    \n",
    "        biaoti=tr.xpath('td[3]/a/text()')[0]   \n",
    "        fenshu=tr.xpath('td[4]/text()')[0]   \n",
    "        tongguoshu=tr.xpath('td[5]/text()')[0] \n",
    "        tijiaoshu=tr.xpath('td[6]/text()')[0]  \n",
    "        tongguolv=tr.xpath('td[7]/text()')[0] \n",
    "        href='https://pintia.cn'+tr.xpath('td[3]/a/@href')[0]  \n",
    "        data.append((tixing,biaohao,biaoti,fenshu,tongguoshu,tijiaoshu,tongguolv,href))"
   ]
  },
  {
   "cell_type": "code",
   "execution_count": 5,
   "metadata": {},
   "outputs": [
    {
     "name": "stdout",
     "output_type": "stream",
     "text": [
      "['https://pintia.cn//problem-sets/1111652100718116864/problems/1111653039147499521', 'https://pintia.cn//problem-sets/1111652100718116864/problems/1111653039147499522', 'https://pintia.cn//problem-sets/1111652100718116864/problems/1111653039147499520', 'https://pintia.cn//problem-sets/1111652100718116864/problems/1111653447408467981', 'https://pintia.cn//problem-sets/1111652100718116864/problems/1111653447408467968', 'https://pintia.cn//problem-sets/1111652100718116864/problems/1111653447408467971', 'https://pintia.cn//problem-sets/1111652100718116864/problems/1111653447408467975', 'https://pintia.cn//problem-sets/1111652100718116864/problems/1111653447408467970', 'https://pintia.cn//problem-sets/1111652100718116864/problems/1111653447408467973', 'https://pintia.cn//problem-sets/1111652100718116864/problems/1111653447408467980', 'https://pintia.cn//problem-sets/1111652100718116864/problems/1111653447408467979', 'https://pintia.cn//problem-sets/1111652100718116864/problems/1111653447408467974', 'https://pintia.cn//problem-sets/1111652100718116864/problems/1111653447408467969', 'https://pintia.cn//problem-sets/1111652100718116864/problems/1111653447408467972', 'https://pintia.cn//problem-sets/1111652100718116864/problems/1111653447408467976', 'https://pintia.cn//problem-sets/1111652100718116864/problems/1111653447408467977', 'https://pintia.cn//problem-sets/1111652100718116864/problems/1111653447408467978', 'https://pintia.cn//problem-sets/1111652100718116864/problems/1163031535431180308', 'https://pintia.cn//problem-sets/1111652100718116864/problems/1163031535431180309', 'https://pintia.cn//problem-sets/1111652100718116864/problems/1163031535431180307', 'https://pintia.cn//problem-sets/1111652100718116864/problems/1163031535431180288', 'https://pintia.cn//problem-sets/1111652100718116864/problems/1163031535431180289', 'https://pintia.cn//problem-sets/1111652100718116864/problems/1163031535431180290', 'https://pintia.cn//problem-sets/1111652100718116864/problems/1163031535431180291', 'https://pintia.cn//problem-sets/1111652100718116864/problems/1163031535431180292', 'https://pintia.cn//problem-sets/1111652100718116864/problems/1163031535431180293', 'https://pintia.cn//problem-sets/1111652100718116864/problems/1163031535431180294', 'https://pintia.cn//problem-sets/1111652100718116864/problems/1163031535431180295', 'https://pintia.cn//problem-sets/1111652100718116864/problems/1163031535431180296', 'https://pintia.cn//problem-sets/1111652100718116864/problems/1163031535431180297', 'https://pintia.cn//problem-sets/1111652100718116864/problems/1163031535431180298', 'https://pintia.cn//problem-sets/1111652100718116864/problems/1163031535431180299', 'https://pintia.cn//problem-sets/1111652100718116864/problems/1163031535431180300', 'https://pintia.cn//problem-sets/1111652100718116864/problems/1163031535431180301', 'https://pintia.cn//problem-sets/1111652100718116864/problems/1163031535431180302', 'https://pintia.cn//problem-sets/1111652100718116864/problems/1163031535431180303', 'https://pintia.cn//problem-sets/1111652100718116864/problems/1163031535431180304', 'https://pintia.cn//problem-sets/1111652100718116864/problems/1163031535431180305', 'https://pintia.cn//problem-sets/1111652100718116864/problems/1163031535431180306', 'https://pintia.cn//problem-sets/1111652100718116864/problems/1163032889524477952', 'https://pintia.cn//problem-sets/1111652100718116864/problems/1163032889524477954', 'https://pintia.cn//problem-sets/1111652100718116864/problems/1163032889524477955', 'https://pintia.cn//problem-sets/1111652100718116864/problems/1163032889524477956', 'https://pintia.cn//problem-sets/1111652100718116864/problems/1163032889524477953', 'https://pintia.cn//problem-sets/1111652100718116864/problems/1163032889524477957', 'https://pintia.cn//problem-sets/1111652100718116864/problems/1163032889524477958', 'https://pintia.cn//problem-sets/1111652100718116864/problems/1163032889524477959', 'https://pintia.cn//problem-sets/1111652100718116864/problems/1163032889524477960', 'https://pintia.cn//problem-sets/1111652100718116864/problems/1163032889524477961', 'https://pintia.cn//problem-sets/1111652100718116864/problems/1163032889524477962', 'https://pintia.cn//problem-sets/1111652100718116864/problems/1163032889524477978', 'https://pintia.cn//problem-sets/1111652100718116864/problems/1163032889524477980', 'https://pintia.cn//problem-sets/1111652100718116864/problems/1163032889524477979', 'https://pintia.cn//problem-sets/1111652100718116864/problems/1163032889524477963', 'https://pintia.cn//problem-sets/1111652100718116864/problems/1163032889524477964', 'https://pintia.cn//problem-sets/1111652100718116864/problems/1163032889524477965', 'https://pintia.cn//problem-sets/1111652100718116864/problems/1163032889524477976', 'https://pintia.cn//problem-sets/1111652100718116864/problems/1163032889524477966', 'https://pintia.cn//problem-sets/1111652100718116864/problems/1163032889524477967', 'https://pintia.cn//problem-sets/1111652100718116864/problems/1163032889524477968', 'https://pintia.cn//problem-sets/1111652100718116864/problems/1163032889524477969', 'https://pintia.cn//problem-sets/1111652100718116864/problems/1163032889524477971', 'https://pintia.cn//problem-sets/1111652100718116864/problems/1163032889524477972', 'https://pintia.cn//problem-sets/1111652100718116864/problems/1163032889524477970', 'https://pintia.cn//problem-sets/1111652100718116864/problems/1163032889524477973', 'https://pintia.cn//problem-sets/1111652100718116864/problems/1163032889524477974', 'https://pintia.cn//problem-sets/1111652100718116864/problems/1163032889524477975', 'https://pintia.cn//problem-sets/1111652100718116864/problems/1163032889524477977', 'https://pintia.cn//problem-sets/1111652100718116864/problems/1163032889524477981', 'https://pintia.cn//problem-sets/1111652100718116864/problems/1163034891574829066', 'https://pintia.cn//problem-sets/1111652100718116864/problems/1163034891574829056', 'https://pintia.cn//problem-sets/1111652100718116864/problems/1163034891574829058', 'https://pintia.cn//problem-sets/1111652100718116864/problems/1163034891574829059', 'https://pintia.cn//problem-sets/1111652100718116864/problems/1163034891574829060', 'https://pintia.cn//problem-sets/1111652100718116864/problems/1163034891574829061', 'https://pintia.cn//problem-sets/1111652100718116864/problems/1163034891574829062', 'https://pintia.cn//problem-sets/1111652100718116864/problems/1163034891574829063', 'https://pintia.cn//problem-sets/1111652100718116864/problems/1163034891574829064', 'https://pintia.cn//problem-sets/1111652100718116864/problems/1163034891574829065', 'https://pintia.cn//problem-sets/1111652100718116864/problems/1163034891574829057', 'https://pintia.cn//problem-sets/1111652100718116864/problems/1163035698160459780', 'https://pintia.cn//problem-sets/1111652100718116864/problems/1163035698160459788', 'https://pintia.cn//problem-sets/1111652100718116864/problems/1163035698160459782', 'https://pintia.cn//problem-sets/1111652100718116864/problems/1163035698160459783', 'https://pintia.cn//problem-sets/1111652100718116864/problems/1163035698160459784', 'https://pintia.cn//problem-sets/1111652100718116864/problems/1163035698160459785', 'https://pintia.cn//problem-sets/1111652100718116864/problems/1163035698160459786', 'https://pintia.cn//problem-sets/1111652100718116864/problems/1163035698160459787', 'https://pintia.cn//problem-sets/1111652100718116864/problems/1163036357031092224']\n"
     ]
    }
   ],
   "source": [
    "print(htmls)"
   ]
  },
  {
   "cell_type": "code",
   "execution_count": null,
   "metadata": {},
   "outputs": [],
   "source": [
    "driver.find_element_by_xpath('//*[@id=\"sparkling-daydream\"]/div[3]/div[3]/div/ul/li[1]/a').click()\n",
    "tixing='函数题'\n",
    "time.sleep(1)\n",
    "get_data()"
   ]
  },
  {
   "cell_type": "code",
   "execution_count": null,
   "metadata": {},
   "outputs": [],
   "source": [
    "driver.find_element_by_xpath('//*[@id=\"sparkling-daydream\"]/div[3]/div[3]/div/ul/li[2]/a').click()\n",
    "tixing='编程题'\n",
    "time.sleep(1)\n",
    "get_data()"
   ]
  },
  {
   "cell_type": "code",
   "execution_count": null,
   "metadata": {},
   "outputs": [],
   "source": [
    "tmlist=[]\n",
    "for i in data:\n",
    "    driver.get(i[-1])\n",
    "    time.sleep(1)\n",
    "    html=etree.HTML(driver.page_source,etree.HTMLParser())\n",
    "    tm=html.xpath('//*[@id=\"sparkling-daydream\"]/div[3]/div[3]/div/div[4]/div[2]/div[1]/div/p[1]//text()')\n",
    "    s=''\n",
    "    try:\n",
    "        for i in tm:\n",
    "            s=s+i.strip()\n",
    "        tmlist.append((s,driver.page_source))\n",
    "    except:\n",
    "        tmlist.append(('',driver.page_source))"
   ]
  },
  {
   "cell_type": "code",
   "execution_count": null,
   "metadata": {},
   "outputs": [],
   "source": [
    "#把所有获取的信息汇总到data2\n",
    "data2=[]\n",
    "for i in range(len(data)):\n",
    "    data2.append(data[i]+tmlist[i])"
   ]
  },
  {
   "cell_type": "code",
   "execution_count": null,
   "metadata": {},
   "outputs": [],
   "source": [
    "from pony.orm import *\n",
    "\n",
    "db = Database()\n",
    "\n",
    "class Tm(db.Entity):\n",
    "    id = PrimaryKey(int, auto=True)\n",
    "    tixing = Optional(str, column='tixing')\n",
    "    biaohao = Optional(str, column='biaohao')\n",
    "    biaoti = Optional(str, column='biaoti')\n",
    "    fengshu = Optional(str, column='fengshu')\n",
    "    tongguoshu = Optional(str, column='tongguoshu')\n",
    "    tijiaoshu = Optional(str, column='tijiaoshu')\n",
    "    tongguolv = Optional(str, default='tongguolv')\n",
    "    tmneirong = Optional(str, column='tmneirong')\n",
    "    html = Optional(str, column='html')\n",
    "    href = Optional(str, column='href')"
   ]
  },
  {
   "cell_type": "code",
   "execution_count": null,
   "metadata": {},
   "outputs": [],
   "source": [
    "db.bind(provider='sqlite', filename=r'd:\\code\\tm2.sqlite')\n",
    "\n",
    "db.generate_mapping(create_tables=True)\n",
    "\n",
    "set_sql_debug(True)"
   ]
  },
  {
   "cell_type": "code",
   "execution_count": null,
   "metadata": {},
   "outputs": [],
   "source": [
    "for i in data2:\n",
    "    s=Tm(tixing=i[0],biaohao=i[1],biaoti=i[2],fengshu=i[3],tongguoshu=i[4],tijiaoshu=i[5],tongguolv=i[6],tmneirong=i[8],html=i[-1],href=i[7])\n",
    "    db.commit()\n",
    "    "
   ]
  }
 ],
 "metadata": {
  "kernelspec": {
   "display_name": "Python 3",
   "language": "python",
   "name": "python3"
  },
  "language_info": {
   "codemirror_mode": {
    "name": "ipython",
    "version": 3
   },
   "file_extension": ".py",
   "mimetype": "text/x-python",
   "name": "python",
   "nbconvert_exporter": "python",
   "pygments_lexer": "ipython3",
   "version": "3.7.4"
  }
 },
 "nbformat": 4,
 "nbformat_minor": 2
}
