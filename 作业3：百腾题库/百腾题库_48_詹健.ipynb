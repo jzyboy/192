{
 "cells": [
  {
   "cell_type": "code",
   "execution_count": 32,
   "metadata": {},
   "outputs": [],
   "source": [
    "from selenium import webdriver\n",
    "driver=webdriver.Chrome()\n",
    "url='https://pintia.cn/problem-sets/1111652100718116864/problems/type/7'\n",
    "driver.get(url)\n",
    "html=driver.page_source"
   ]
  },
  {
   "cell_type": "code",
   "execution_count": 33,
   "metadata": {},
   "outputs": [],
   "source": [
    "import re\n",
    "import time\n",
    "list=[]\n",
    "for i in range(2):\n",
    "    bt(h)\n",
    "    driver.find_element_by_xpath(\"//div[@id='sparkling-daydream']/div[3]/div[3]/div/ul/li/a/div/div[2]\").click()\n",
    "    time.sleep(2)\n",
    "    html=driver.page_source"
   ]
  },
  {
   "cell_type": "code",
   "execution_count": null,
   "metadata": {},
   "outputs": [],
   "source": [
    "def bt(h):\n",
    "    reobj = re.compile(r'<tr>[\\d\\D]*?<td>([\\d\\D]*?)</td>[\\d\\D]*?\"([\\d\\D]*?)\" class=\"\">([\\d\\D]*?)<[\\d\\D]*?<td>([\\d\\D]*?)</td><td>([\\d\\D]*?)</td><td>([\\d\\D]*?)<[\\d\\D]*?<td>([\\d\\D]*?)<')\n",
    "    for match in reobj.finditer(h):\n",
    "        if i==0:\n",
    "            x=\"编程题\"\n",
    "        else:\n",
    "            x=\"函数题\"\n",
    "        tx=match.group(1)\n",
    "        bh=\"https://pintia.cn\"+match.group(2)\n",
    "        tm_link=match.group(3)\n",
    "        bt=match.group(4)\n",
    "        fs=match.group(5)\n",
    "        tgl=match.group(6)\n",
    "        tjs=match.group(7)\n",
    "        tgl=(tx,bh,tm_link,bt,fs,tgl,tjs,tal)\n",
    "        list.append(t)"
   ]
  },
  {
   "cell_type": "markdown",
   "metadata": {},
   "source": [
    "爬取编程题"
   ]
  },
  {
   "cell_type": "code",
   "execution_count": 34,
   "metadata": {},
   "outputs": [],
   "source": [
    "from selenium import webdriver\n",
    "driver=webdriver.Chrome()\n",
    "url='https://pintia.cn/problem-sets/1111652100718116864/problems/1111653039147499521'\n",
    "driver.get(url)\n",
    "html=driver.page_source"
   ]
  },
  {
   "cell_type": "code",
   "execution_count": 35,
   "metadata": {},
   "outputs": [],
   "source": [
    "import re\n",
    "import time\n",
    "list1=[]\n",
    "html1=[]\n",
    "for i in range(89):\n",
    "    html=driver.page_source\n",
    "    html1.append(html)\n",
    "    if i ==2:\n",
    "        list1.append(\"无\")\n",
    "    reobj = re.compile(r'<div>[\\d\\D]*?<div class=\"ques-view\"><p>([\\d\\D]*?)</p>')\n",
    "    for match in reobj.finditer(html):\n",
    "        # match start: match.start()\n",
    "        # match end (exclusive): match.end()\n",
    "        # matched text: match.group()\n",
    "        a=match.group(1)\n",
    "        list1.append(a)\n",
    "    if i != 88:\n",
    "        driver.find_element_by_link_text(u\"下一题\").click()\n",
    "        time.sleep(5)\n"
   ]
  },
  {
   "cell_type": "code",
   "execution_count": null,
   "metadata": {},
   "outputs": [],
   "source": [
    "爬取函数题"
   ]
  },
  {
   "cell_type": "code",
   "execution_count": 36,
   "metadata": {},
   "outputs": [],
   "source": [
    "from selenium import webdriver\n",
    "driver=webdriver.Chrome()\n",
    "url='https://pintia.cn/problem-sets/1111652100718116864/problems/1163035698160459776'\n",
    "driver.get(url)\n",
    "html=driver.page_source"
   ]
  },
  {
   "cell_type": "code",
   "execution_count": 37,
   "metadata": {},
   "outputs": [],
   "source": [
    "import re\n",
    "import time\n",
    "list2=[]\n",
    "html2=[]\n",
    "for i in range(6):\n",
    "    html=driver.page_source\n",
    "    html2.append(html)\n",
    "    reobj = re.compile(r'<div>[\\d\\D]*?<div class=\"ques-view\"><p>([\\d\\D]*?)</p>')\n",
    "    for match in reobj.finditer(html):\n",
    "        # match start: match.start()\n",
    "        # match end (exclusive): match.end()\n",
    "        # matched text: match.group()\n",
    "        a=match.group(1)\n",
    "        list2.append(a)\n",
    "    if i != 5:\n",
    "        driver.find_element_by_link_text(u\"下一题\").click()\n",
    "        time.sleep(2)"
   ]
  },
  {
   "cell_type": "code",
   "execution_count": null,
   "metadata": {},
   "outputs": [],
   "source": [
    "存储爬取到的内容"
   ]
  },
  {
   "cell_type": "code",
   "execution_count": 38,
   "metadata": {
    "scrolled": true
   },
   "outputs": [],
   "source": [
    "import codecs\n",
    "for i in range(89):\n",
    "        a=html1[i]\n",
    "        f=codecs.open('f:/'+str(i)+ '.html','w','utf_8_sig')\n",
    "        f.write(a)\n",
    "        f.close()"
   ]
  },
  {
   "cell_type": "code",
   "execution_count": 39,
   "metadata": {},
   "outputs": [],
   "source": [
    "import codecs\n",
    "for i in range(89):\n",
    "        a=list1[i]\n",
    "        f=codecs.open('f:/'+str(i)+ '题目.txt','w','utf_8_sig')\n",
    "        f.write(a)\n",
    "        f.close()"
   ]
  },
  {
   "cell_type": "code",
   "execution_count": 40,
   "metadata": {},
   "outputs": [],
   "source": [
    "import codecs\n",
    "for i in range(6):\n",
    "        a=html1[i]\n",
    "        f=codecs.open('f:/'+str(89+i)+ '.html','w','utf_8_sig')\n",
    "        f.write(a)\n",
    "        f.close()"
   ]
  },
  {
   "cell_type": "code",
   "execution_count": 41,
   "metadata": {},
   "outputs": [],
   "source": [
    "import codecs\n",
    "for i in range(6):\n",
    "        a=list2[i]\n",
    "        f=codecs.open('f:/'+str(89+i)+ '题目.txt','w','utf_8_sig')\n",
    "        f.write(a)\n",
    "        f.close()"
   ]
  },
  {
   "cell_type": "code",
   "execution_count": 42,
   "metadata": {},
   "outputs": [],
   "source": [
    "import codecs\n",
    "f=codecs.open(r\"f:\\txt2.csv\",\"w\",\"utf_8_sig\")\n",
    "f.write(\"题型,标号,题目链接,标题,分数,通过数,提交数,通过率\\n\")\n",
    "for t in list:\n",
    "    f.write(t[0]+\",\"+t[1]+\",\"+t[2]+\",\"+t[3]+\",\"+t[4]+\",\"+t[5]+\",\"+t[6]+\",\"+t[7]+\"\\n\")\n",
    "f.close()"
   ]
  }
 ],
 "metadata": {
  "kernelspec": {
   "display_name": "Python 3",
   "language": "python",
   "name": "python3"
  },
  "language_info": {
   "codemirror_mode": {
    "name": "ipython",
    "version": 3
   },
   "file_extension": ".py",
   "mimetype": "text/x-python",
   "name": "python",
   "nbconvert_exporter": "python",
   "pygments_lexer": "ipython3",
   "version": "3.7.4"
  }
 },
 "nbformat": 4,
 "nbformat_minor": 2
}
