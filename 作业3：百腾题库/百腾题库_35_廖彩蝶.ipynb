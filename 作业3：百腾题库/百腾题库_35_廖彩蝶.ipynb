{
 "cells": [
  {
   "cell_type": "markdown",
   "metadata": {},
   "source": [
    "网页  # https://pintia.cn/problem-sets/1111652100718116864/problems/type/7\n",
    "作业  # https://www.yuque.com/ol1q37/gi94xp/fb1ygd\n"
   ]
  },
  {
   "cell_type": "code",
   "execution_count": 1,
   "metadata": {},
   "outputs": [],
   "source": [
    "#创建数据库\n",
    "import re,time,os\n",
    "from selenium import webdriver\n",
    "from pony.orm import *\n",
    "db = Database()\n",
    "\n",
    "class Tm(db.Entity):\n",
    "    biaohao=tr.xpath('td[2]/text()')[0]    \n",
    "        biaoti=tr.xpath('td[3]/a/text()')[0]   \n",
    "        fenshu=tr.xpath('td[4]/text()')[0]   \n",
    "        tongguoshu=tr.xpath('td[5]/text()')[0] \n",
    "        tijiaoshu=tr.xpath('td[6]/text()')[0]  \n",
    "        tongguolv=tr.xpath('td[7]/text()')[0])\n",
    "  "
   ]
  },
  {
   "cell_type": "code",
   "execution_count": 2,
   "metadata": {},
   "outputs": [],
   "source": [
    "#生成数据库\n",
    "def create_database(dbpath):\n",
    "    if os.path.exists(dbpath):\n",
    "        os.remove(dbpath)\n",
    "    f = open(dbpath,\"w\")\n",
    "    f.close()\n",
    "    #db.generate_mapping()\n",
    "    db.bind(provider='sqlite', filename=dbpath)\n",
    "    db.generate_mapping(create_tables=True)\n",
    "    set_sql_debug(True)"
   ]
  },
  {
   "cell_type": "code",
   "execution_count": null,
   "metadata": {},
   "outputs": [],
   "source": [
    "#获取网页代码\n",
    "def get_html(url):\n",
    "    driver = webdriver.Chrome()\n",
    "    driver.get(url)\n",
    "    time.sleep(5)\n",
    "    html = driver.page_source\n",
    "    driver.close()\n",
    "    return html"
   ]
  },
  {
   "cell_type": "code",
   "execution_count": 3,
   "metadata": {},
   "outputs": [],
   "source": [
    "def get_data():\n",
    "   # 获取页面编号标题等信息\n",
    "    html=driver.page_source\n",
    "    etr=etree.HTML(html,etree.HTMLParser())\n",
    "    for tr in etr.xpath('//tbody/tr'):\n",
    "        biaohao=tr.xpath('td[2]/text()')[0]    \n",
    "        biaoti=tr.xpath('td[3]/a/text()')[0]   \n",
    "        fenshu=tr.xpath('td[4]/text()')[0]   \n",
    "        tongguoshu=tr.xpath('td[5]/text()')[0] \n",
    "        tijiaoshu=tr.xpath('td[6]/text()')[0]  \n",
    "        tongguolv=tr.xpath('td[7]/text()')[0] \n",
    "        href='https://pintia.cn'+tr.xpath('td[3]/a/@href')[0]  #链接\n",
    "        data.append((tixing,biaohao,biaoti,fenshu,tongguoshu,tijiaoshu,tongguolv,href))"
   ]
  },
  {
   "cell_type": "code",
   "execution_count": 5,
   "metadata": {},
   "outputs": [],
   "source": [
    "def extract_detail_info(results):\n",
    "    list1 = []\n",
    "    final_result = []\n",
    "    for i in results:\n",
    "        url1=results[2]#从中获取出链接\n",
    "        html1 = get_html(url1)\n",
    "        reobj = re.compile(r'<div class=\"problem_Yd8rq p-3 mb-3 background-grey-1\"><div class=\"ques-view\">([\\d\\D]*?)</div><div class=\"problemInfo_OZ-Rv\">')\n",
    "        for match in reobj.finditer(html1):\n",
    "            list1.append(match.group(1))\n",
    "    for x,y in zip(results,list1):#将详情页的内容与列表页内容拼接\n",
    "        final_result.append((x,y))\n",
    "    return final_result"
   ]
  },
  {
   "cell_type": "code",
   "execution_count": 6,
   "metadata": {},
   "outputs": [],
   "source": [
    "from pony.orm import *\n",
    "\n",
    "db = Database()\n",
    "\n",
    "class Tm(db.Entity):\n",
    "    id = PrimaryKey(int, auto=True)\n",
    "    tixing = Optional(str, column='tixing')\n",
    "    biaohao = Optional(str, column='biaohao')\n",
    "    biaoti = Optional(str, column='biaoti')\n",
    "    fengshu = Optional(str, column='fengshu')\n",
    "    tongguoshu = Optional(str, column='tongguoshu')\n",
    "    tijiaoshu = Optional(str, column='tijiaoshu')\n",
    "    tongguolv = Optional(str, default='tongguolv')\n",
    "    tmneirong = Optional(str, column='tmneirong')\n",
    "    html = Optional(str, column='html')\n",
    "    href = Optional(str, column='href')\n",
    "    \n",
    "    db.bind(provider='sqlite', filename=r'D:\\code2020\\program.sqlite')\n",
    "\n",
    "db.generate_mapping(create_tables=True)\n",
    "\n",
    "set_sql_debug(True)\n"
   ]
  },
  {
   "cell_type": "code",
   "execution_count": 7,
   "metadata": {},
   "outputs": [],
   "source": [
    "\n",
    "for i in data2:\n",
    "    s=Tm(tixing=i[0],biaohao=i[1],biaoti=i[2],fengshu=i[3],tongguoshu=i[4],tijiaoshu=i[5],tongguolv=i[6],tmneirong=i[8],html=i[-1],href=i[7])\n",
    "    db.commit()"
   ]
  },
  {
   "cell_type": "code",
   "execution_count": null,
   "metadata": {},
   "outputs": [],
   "source": []
  },
  {
   "cell_type": "code",
   "execution_count": null,
   "metadata": {},
   "outputs": [],
   "source": []
  }
 ],
 "metadata": {
  "kernelspec": {
   "display_name": "Python 3",
   "language": "python",
   "name": "python3"
  },
  "language_info": {
   "codemirror_mode": {
    "name": "ipython",
    "version": 3
   },
   "file_extension": ".py",
   "mimetype": "text/x-python",
   "name": "python",
   "nbconvert_exporter": "python",
   "pygments_lexer": "ipython3",
   "version": "3.7.4"
  }
 },
 "nbformat": 4,
 "nbformat_minor": 4
}
