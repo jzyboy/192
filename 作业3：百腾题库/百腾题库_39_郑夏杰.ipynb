{
 "cells": [
  {
   "cell_type": "code",
   "execution_count": 2,
   "metadata": {},
   "outputs": [
    {
     "name": "stdout",
     "output_type": "stream",
     "text": [
      "<class 'list'>\n"
     ]
    }
   ],
   "source": [
    "from selenium import webdriver\n",
    "driver=webdriver.Chrome()\n",
    "url = 'https://pintia.cn/problem-sets/1111652100718116864/problems/type/7'\n",
    "driver.get(url)\n",
    "\n",
    "import re \n",
    "import time\n",
    "html = driver.page_source  \n",
    "reobj = re.compile(r'<td><a href=([\\d\\D]*?)class[\\d\\D]*?>([\\d\\D]*?)</a>')\n",
    "for match in reobj.finditer(html): \n",
    "    a=match.group(1)\n",
    "    b=match.group(2)\n",
    "    print(a,b)\n",
    "time.sleep(2)\n",
    "print(list)"
   ]
  },
  {
   "cell_type": "code",
   "execution_count": null,
   "metadata": {},
   "outputs": [],
   "source": []
  }
 ],
 "metadata": {
  "kernelspec": {
   "display_name": "Python 3",
   "language": "python",
   "name": "python3"
  },
  "language_info": {
   "codemirror_mode": {
    "name": "ipython",
    "version": 3
   },
   "file_extension": ".py",
   "mimetype": "text/x-python",
   "name": "python",
   "nbconvert_exporter": "python",
   "pygments_lexer": "ipython3",
   "version": "3.7.4"
  }
 },
 "nbformat": 4,
 "nbformat_minor": 4
}
