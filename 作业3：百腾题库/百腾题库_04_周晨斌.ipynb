{
 "cells": [
  {
   "cell_type": "code",
   "execution_count": 6,
   "metadata": {},
   "outputs": [],
   "source": [
    "from selenium import webdriver\n",
    "from lxml import etree\n",
    "import time,csv"
   ]
  },
  {
   "cell_type": "markdown",
   "metadata": {},
   "source": [
    "# 获取一页中的题目"
   ]
  },
  {
   "cell_type": "code",
   "execution_count": 3,
   "metadata": {},
   "outputs": [],
   "source": [
    "def _get_data(url):\n",
    "    if url[-1] == '6':\n",
    "        tixing = '函数题'\n",
    "    else:\n",
    "        tixing = '编程题'\n",
    "    \n",
    "    driver.get(url)\n",
    "    time.sleep(5)\n",
    "    html=driver.page_source\n",
    "    etr=etree.HTML(html,etree.HTMLParser())\n",
    "    for tr in etr.xpath('//tbody/tr'):\n",
    "        biaohao=tr.xpath('td[2]/text()')[0] \n",
    "        biaoti=tr.xpath('td[3]/a/text()')[0] \n",
    "        fenshu=tr.xpath('td[4]/text()')[0] \n",
    "        tongguoshu=tr.xpath('td[5]/text()')[0]\n",
    "        tijiaoshu=tr.xpath('td[6]/text()')[0]  \n",
    "        tongguolv=tr.xpath('td[7]/text()')[0]\n",
    "        href='https://pintia.cn'+tr.xpath('td[3]/a/@href')[0]  \n",
    "        list1.append((biaohao,biaoti,fenshu,tongguoshu,tijiaoshu,tongguolv,href))\n",
    "        "
   ]
  },
  {
   "cell_type": "markdown",
   "metadata": {},
   "source": [
    "# 获取所有函数题和编程题"
   ]
  },
  {
   "cell_type": "code",
   "execution_count": 4,
   "metadata": {},
   "outputs": [],
   "source": [
    "def task1():\n",
    "    \"\"\"获取所有函数题和编程题\"\"\"\n",
    "    urls = ['https://pintia.cn/problem-sets/1111652100718116864/problems/type/6',\n",
    "          'https://pintia.cn/problem-sets/1111652100718116864/problems/type/7']\n",
    "    for url in urls:\n",
    "        _get_data(url)"
   ]
  },
  {
   "cell_type": "code",
   "execution_count": 7,
   "metadata": {},
   "outputs": [],
   "source": [
    "driver=webdriver.Chrome()\n",
    "list1=[]\n",
    "task1()\n",
    "with open(r'D:\\result1.csv','w',newline='')as f:\n",
    "    w = csv.writer(f)\n",
    "    for i in list1:\n",
    "        w.writerow(i)"
   ]
  },
  {
   "cell_type": "code",
   "execution_count": null,
   "metadata": {},
   "outputs": [],
   "source": []
  }
 ],
 "metadata": {
  "kernelspec": {
   "display_name": "Python 3",
   "language": "python",
   "name": "python3"
  },
  "language_info": {
   "codemirror_mode": {
    "name": "ipython",
    "version": 3
   },
   "file_extension": ".py",
   "mimetype": "text/x-python",
   "name": "python",
   "nbconvert_exporter": "python",
   "pygments_lexer": "ipython3",
   "version": "3.7.4"
  }
 },
 "nbformat": 4,
 "nbformat_minor": 2
}
