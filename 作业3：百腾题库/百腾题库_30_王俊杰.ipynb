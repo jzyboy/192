{
 "cells": [
  {
   "cell_type": "markdown",
   "metadata": {},
   "source": [
    "# 导入模块"
   ]
  },
  {
   "cell_type": "code",
   "execution_count": null,
   "metadata": {},
   "outputs": [],
   "source": [
    "from selenium import webdriver\n",
    "import time\n",
    "import re\n",
    "import os\n",
    "import requests"
   ]
  },
  {
   "cell_type": "markdown",
   "metadata": {},
   "source": [
    "# 创建数据库"
   ]
  },
  {
   "cell_type": "code",
   "execution_count": null,
   "metadata": {},
   "outputs": [],
   "source": [
    "from pony.orm import *\n",
    "\n",
    "db = Database()\n",
    "\n",
    "class Ttimu(db.Entity):\n",
    "    id = PrimaryKey(int, auto=True)\n",
    "    types = Optional(str,column = 'types')\n",
    "    tab = Optional(str,column = 'tab')\n",
    "    href = Optional(str,column = 'url')\n",
    "    title = Optional(str,column = 'title')\n",
    "    grade = Optional(int,column = 'fs')\n",
    "    tgs = Optional(int,column = 'tgs')\n",
    "    tjs = Optional(int,column = 'tjs')\n",
    "    tgl = Optional(float,column = 'tgl')\n",
    "    html = Optional(str,column = 'html')\n",
    "    content = Optional(str,column = 'content')\n",
    "\n",
    "# db.generate_mapping()\n"
   ]
  },
  {
   "cell_type": "markdown",
   "metadata": {},
   "source": [
    "# 数据库函数"
   ]
  },
  {
   "cell_type": "code",
   "execution_count": null,
   "metadata": {},
   "outputs": [],
   "source": [
    "def get_create_database():\n",
    "    dbpath = 'd:/bttk/timuxx.sqlite'\n",
    "    if os.path.exists(dbpath):\n",
    "        os.remove(dbpath)\n",
    "    f = open(dbpath,\"w\")\n",
    "    f.close()\n",
    "    db.bind(provider='sqlite',filename='d:/bttk/timuxx.sqlite')\n",
    "    db.generate_mapping(create_tables=True)\n",
    "    set_sql_debug(True)"
   ]
  },
  {
   "cell_type": "markdown",
   "metadata": {},
   "source": [
    "# 定义获取网页中的题型函数"
   ]
  },
  {
   "cell_type": "code",
   "execution_count": null,
   "metadata": {},
   "outputs": [],
   "source": [
    "def get_timudata(html):\n",
    "    reobj = re.compile(r'<tr>[\\d\\D]*?<td>([\\d\\D]*?)</td>[\\d\\D]*?\"([\\d\\D]*?)\" class=\"\">([\\d\\D]*?)<[\\d\\D]*?<td>([\\d\\D]*?)</td><td>([\\d\\D]*?)</td><td>([\\d\\D]*?)<[\\d\\D]*?<td>([\\d\\D]*?)<')\n",
    "    for match in reobj.finditer(html):\n",
    "        if url[-1] == \"7\":\n",
    "            tx = \"编程题\"\n",
    "        elif url[-1] == \"6\":\n",
    "            tx = \"函数题\"\n",
    "        bh = match.group(1)\n",
    "        tmulj = \"https://pintia.cn\" + match.group(2)\n",
    "        bt = match.group(3)\n",
    "        fsu = match.group(4)\n",
    "        tgsu = match.group(5)\n",
    "        tjsu = match.group(6)\n",
    "        tglu = match.group(7)\n",
    "        s = Ttimu(types = tx,tab = bh,href = tmulj,title = bt,grade = fsu,tgs = tgsu,tjs = tjsu,tgl = tglu)\n",
    "        db.commit()"
   ]
  },
  {
   "cell_type": "markdown",
   "metadata": {},
   "source": [
    "# 定义获取题目详情页html代码"
   ]
  },
  {
   "cell_type": "code",
   "execution_count": null,
   "metadata": {},
   "outputs": [],
   "source": [
    "def get_html(url):\n",
    "    driver=webdriver.Chrome()\n",
    "    driver.get(url)\n",
    "    time.sleep(2)\n",
    "    h=driver.page_source\n",
    "    timu.html = h\n",
    "    db.commit()\n",
    "    driver.close()"
   ]
  },
  {
   "cell_type": "markdown",
   "metadata": {},
   "source": [
    "# 定义获取题目内容"
   ]
  },
  {
   "cell_type": "code",
   "execution_count": null,
   "metadata": {},
   "outputs": [],
   "source": [
    "def get_content(html):\n",
    "    if re.search(r'<div>[\\d\\D]*?<div class=\"ques-view\"><p>([\\d\\D]*?)</p>', html):\n",
    "        match = re.search(r'<div>[\\d\\D]*?<div class=\"ques-view\"><p>([\\d\\D]*?)</p>', html)\n",
    "        tmunr = match.group(1).strip()\n",
    "        timu.content = tmunr\n",
    "        db.commit()\n"
   ]
  },
  {
   "cell_type": "markdown",
   "metadata": {},
   "source": [
    "# 总合最后一步"
   ]
  },
  {
   "cell_type": "code",
   "execution_count": null,
   "metadata": {},
   "outputs": [],
   "source": [
    "get_create_database()"
   ]
  },
  {
   "cell_type": "markdown",
   "metadata": {},
   "source": [
    "# 采集编程题"
   ]
  },
  {
   "cell_type": "code",
   "execution_count": null,
   "metadata": {},
   "outputs": [],
   "source": [
    "url = \"https://pintia.cn/problem-sets/1111652100718116864/problems/type/7\"\n",
    "driver=webdriver.Chrome()\n",
    "driver.get(url)\n",
    "time.sleep(2)\n",
    "h=driver.page_source\n",
    "Ttimu.html = h\n",
    "time.sleep(2)\n",
    "get_timudata(h)\n",
    "time.sleep(2)\n",
    "driver.close()\n"
   ]
  },
  {
   "cell_type": "markdown",
   "metadata": {},
   "source": [
    "# 采集填空题"
   ]
  },
  {
   "cell_type": "code",
   "execution_count": null,
   "metadata": {},
   "outputs": [],
   "source": [
    "url = \"https://pintia.cn/problem-sets/1111652100718116864/problems/type/6\"\n",
    "driver=webdriver.Chrome()\n",
    "driver.get(url)\n",
    "time.sleep(2)\n",
    "h=driver.page_source\n",
    "Ttimu.html = h\n",
    "time.sleep(2)\n",
    "get_timudata(h)\n",
    "driver.close()"
   ]
  },
  {
   "cell_type": "code",
   "execution_count": null,
   "metadata": {},
   "outputs": [],
   "source": [
    "with db_session:\n",
    "    for timu in Ttimu.select():\n",
    "        get_html(timu.href)\n",
    "        get_content(timu.html)"
   ]
  }
 ],
 "metadata": {
  "kernelspec": {
   "display_name": "Python 3",
   "language": "python",
   "name": "python3"
  },
  "language_info": {
   "codemirror_mode": {
    "name": "ipython",
    "version": 3
   },
   "file_extension": ".py",
   "mimetype": "text/x-python",
   "name": "python",
   "nbconvert_exporter": "python",
   "pygments_lexer": "ipython3",
   "version": "3.8.1"
  }
 },
 "nbformat": 4,
 "nbformat_minor": 2
}
