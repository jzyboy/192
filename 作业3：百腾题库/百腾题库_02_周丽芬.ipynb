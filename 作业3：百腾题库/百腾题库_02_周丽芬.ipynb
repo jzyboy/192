{
 "cells": [
  {
   "cell_type": "code",
   "execution_count": null,
   "metadata": {},
   "outputs": [],
   "source": [
    "# 创建数据库\n",
    "from pony.orm import *\n",
    "db = Database()\n",
    "class Tm(db.Entity):\n",
    "    id = PrimaryKey(int, auto=True)\n",
    "    bh = Optional(str)\n",
    "    bt = Optional(str)\n",
    "    fs = Optional(int)\n",
    "    tgs = Optional(int)\n",
    "    tjs = Optional(int)\n",
    "    tgl = Optional(str)\n",
    "    tmnl = Optional(str)\n",
    "    html = Optional(str)\n",
    "    tx = Optional(str)\n",
    "    xqylj = Optional(str)\n"
   ]
  },
  {
   "cell_type": "code",
   "execution_count": null,
   "metadata": {},
   "outputs": [],
   "source": [
    "# 生成数据库\n",
    "def create_database():\n",
    "    db = Database()\n",
    "    dbpath = 'e:/ex8/tm.sqlite'\n",
    "    if os.path.exists(dbpath):\n",
    "        os.remove(dbpath)\n",
    "    f = open(dbpath,\"w\")\n",
    "    f.close()\n",
    "    db.bind(provider='sqlite', filename=r'e:/ex8/tm.sqlite')\n",
    "\n",
    "    db.generate_mapping(create_tables=True)\n",
    "\n",
    "    set_sql_debug(True)"
   ]
  },
  {
   "cell_type": "code",
   "execution_count": null,
   "metadata": {},
   "outputs": [],
   "source": [
    "# 获取网页源代码\n",
    "import time\n",
    "def _get_html(url):\n",
    "    driver = webdriver.Chrome()\n",
    "    driver.get(url)\n",
    "    time.sleep(1)\n",
    "    html = driver.page_source\n",
    "    return html\n",
    "# 取两个网址\n",
    "def _get_url():\n",
    "    urls = ['https://pintia.cn/problem-sets/1111652100718116864/problems/type/7','https://pintia.cn/problem-sets/1111652100718116864/problems/type/6']\n",
    "    return urls"
   ]
  },
  {
   "cell_type": "code",
   "execution_count": null,
   "metadata": {},
   "outputs": [],
   "source": [
    "# 取标号\n",
    "def _get_bh(html):\n",
    "    bhs = []\n",
    "    reobj = re.compile(r'<tr><td class=\"answerIcon_1du7d\"></td><td>([\\d\\D]*?)</td><td><a href=[\\d\\D]*?')\n",
    "    for match in reobj.finditer(html):\n",
    "        bhs.append(match.group(1))\n",
    "    return bhs"
   ]
  },
  {
   "cell_type": "code",
   "execution_count": null,
   "metadata": {},
   "outputs": [],
   "source": [
    "# 取题型\n",
    "def _get_tx(html):\n",
    "    match = re.search(r'class=\"nav-link active\">[\\d\\D]*?class=\"pc-text-raw\">([\\d\\D]*?)</div></div><span', html)\n",
    "    if match:\n",
    "        txs = match.group(1)\n",
    "    return txs"
   ]
  },
  {
   "cell_type": "code",
   "execution_count": null,
   "metadata": {},
   "outputs": [],
   "source": [
    "# 取标题\n",
    "def _get_bt(html):\n",
    "    bts = []\n",
    "    reobj = re.compile(r'<td><a href=\"[\\d\\D]*?class=\"\">([\\d\\D]*?)</a></td>')\n",
    "    for match in reobj.finditer(html):\n",
    "        bts.append(match.group(1))\n",
    "    return bts"
   ]
  },
  {
   "cell_type": "code",
   "execution_count": null,
   "metadata": {},
   "outputs": [],
   "source": [
    "# 取分数\n",
    "def _get_fs(html):\n",
    "    fss = []\n",
    "    reobj = re.compile(r'class=\"answerIcon_1du7d\"></td><td>[\\d\\D]*?href=\"[\\d\\D]*?</a></td><td>([\\d\\D]*?)</td><td>')\n",
    "    for match in reobj.finditer(html):\n",
    "        fss.append(match.group(1))\n",
    "    return fss\n"
   ]
  },
  {
   "cell_type": "code",
   "execution_count": null,
   "metadata": {},
   "outputs": [],
   "source": [
    "#取 通过数\n",
    "def _get_tgs(html):\n",
    "    tgss = []\n",
    "    reobj = re.compile(r'class=\"answerIcon_1du7d\"></td><td>[\\d\\D]*?href=\"[\\d\\D]*?</a></td><td>[\\d\\D]*?</td><td>([\\d\\D]*?)</td><td>')\n",
    "    for match in reobj.finditer(html):\n",
    "        tgss.append(match.group(1))\n",
    "    return tgss"
   ]
  },
  {
   "cell_type": "code",
   "execution_count": null,
   "metadata": {},
   "outputs": [],
   "source": [
    "# def _get_tmnl(html):\n",
    "    '''爬取该网页题目内容'''\n",
    "    html3 = etree.HTML(html,etree.HTMLParser())\n",
    "    tmnl = html3.xpath('//*[@id=\"sparkling-daydream\"]/div[3]/div[3]/div/div[4]/div[2]/div[1]/div/p[1]//text()')\n",
    "    return tmnl\n",
    "\n",
    "def task4():\n",
    "    '''将爬取的题目内容入库'''\n",
    "    with db_session:\n",
    "        for s in Tm.select():\n",
    "            html = s.html\n",
    "            if _get_tmnl(html) != []:\n",
    "                s.tmnl = _get_tmnl(s.html)[0]\n",
    "                db.commit()取提交数\n",
    "def _get_tjs(html):\n",
    "    tjss = []\n",
    "    reobj = re.compile(r'href=\"[\\d\\D]*?</a></td><td>[\\d\\D]*?</td><td>[\\d\\D]*?</td><td>([\\d\\D]*?)</td><td>')\n",
    "    for match in reobj.finditer(html):\n",
    "        tjss.append(match.group(1))\n",
    "    return tjss"
   ]
  },
  {
   "cell_type": "code",
   "execution_count": null,
   "metadata": {},
   "outputs": [],
   "source": [
    "# 取通过率\n",
    "def _get_tgl(html):\n",
    "    tgls = []\n",
    "    reobj = re.compile(r'href=\"[\\d\\D]*?</a></td><td>[\\d\\D]*?</td><td>[\\d\\D]*?</td><td>[\\d\\D]*?</td><td>([\\d\\D]*?)</td></tr>')\n",
    "    for match in reobj.finditer(html):\n",
    "        tgls.append(match.group(1))\n",
    "    return tgls"
   ]
  },
  {
   "cell_type": "code",
   "execution_count": null,
   "metadata": {},
   "outputs": [],
   "source": [
    "# 详情页链接\n",
    "def _get_xqylj(html):\n",
    "    xqyljs = []\n",
    "    reobj = re.compile(r'<td><a href=\"([\\d\\D]*?)\" class=\"\">')\n",
    "    for match in reobj.finditer(html):\n",
    "        xqyljs.append(match.group(1))\n",
    "    return xqyljs"
   ]
  },
  {
   "cell_type": "code",
   "execution_count": null,
   "metadata": {},
   "outputs": [],
   "source": [
    "# 信息入库\n",
    "@db_session\n",
    "def task1():\n",
    "    for url in _get_url():\n",
    "        html = _get_html(url)\n",
    "        for i in range(len(_get_bh(html))):\n",
    "            s = Tm(bh = _get_bh(html)[i],tx = _get_tx(html),bt = _get_bt(html)[i],fs = _get_fs(html)[i],tgs = _get_tgs(html)[i],tjs = _get_tjs(html)[i],tgl = _get_tgl(html)[i],xqylj = _get_xqylj(html)[i])\n",
    "            db.commit()"
   ]
  },
  {
   "cell_type": "code",
   "execution_count": null,
   "metadata": {},
   "outputs": [],
   "source": [
    "# 题目html入库\n",
    "def _get_html2(href):\n",
    "    driver = webdriver.Chrome()\n",
    "    url = 'http://pintia.cn' + href\n",
    "    driver.get(url)\n",
    "    time.sleep(5)\n",
    "    html2 = driver.page_source\n",
    "    driver.quit()\n",
    "    return html2\n",
    "\n",
    "def task2():\n",
    "    with db_session:\n",
    "        for s in Tm.select():\n",
    "            s.html = _get_html2(s.xqylj)\n",
    "            db.commit()"
   ]
  },
  {
   "cell_type": "code",
   "execution_count": null,
   "metadata": {},
   "outputs": [],
   "source": [
    "# 题目内容入库\n",
    "def _get_tmnl(html):\n",
    "    html3 = etree.HTML(html,etree.HTMLParser())\n",
    "    tmnl = html3.xpath('//*[@id=\"sparkling-daydream\"]/div[3]/div[3]/div/div[4]/div[2]/div[1]/div/p[1]//text()')\n",
    "    return tmnl\n",
    "\n",
    "def task3():\n",
    "    with db_session:\n",
    "        for s in Tm.select():\n",
    "            html = s.html\n",
    "            if _get_tmnl(html) != []:\n",
    "                s.tmnl = _get_tmnl(s.html)[0]\n",
    "                db.commit()"
   ]
  }
 ],
 "metadata": {
  "kernelspec": {
   "display_name": "Python 3",
   "language": "python",
   "name": "python3"
  },
  "language_info": {
   "codemirror_mode": {
    "name": "ipython",
    "version": 3
   },
   "file_extension": ".py",
   "mimetype": "text/x-python",
   "name": "python",
   "nbconvert_exporter": "python",
   "pygments_lexer": "ipython3",
   "version": "3.7.4"
  }
 },
 "nbformat": 4,
 "nbformat_minor": 4
}
