{
 "cells": [
  {
   "cell_type": "code",
   "execution_count": 2,
   "metadata": {},
   "outputs": [
    {
     "name": "stdout",
     "output_type": "stream",
     "text": [
      "OK\n"
     ]
    }
   ],
   "source": [
    "import re,time\n",
    "from selenium import webdriver\n",
    "driver=webdriver.Chrome()\n",
    "\n",
    "def get_html(url):\n",
    "    driver.get(url)\n",
    "    time.sleep(5)\n",
    "    html=driver.page_source\n",
    "    return html\n",
    "\n",
    "def get_bh(html):\n",
    "    list1=[]\n",
    "    reobj = re.compile(r'<tr><td class=\"answerIcon_1du7d\"></td><td>([\\d\\D]*?)</td>')\n",
    "    for match in reobj.finditer(html):\n",
    "        bh=match.group(1)\n",
    "        list1.append(bh)\n",
    "    return list1\n",
    "\n",
    "def get_lj(html):\n",
    "    list2=[]\n",
    "    list3=[]\n",
    "    reobj = re.compile(r'<td><a href=\"([\\d\\D]*?)\"')\n",
    "    for match in reobj.finditer(html):\n",
    "        lj=match.group(1)\n",
    "        list2.append(lj)\n",
    "    for i in list2:\n",
    "        t=\"https://pintia.cn\"+i\n",
    "        list3.append(t)\n",
    "    return list3\n",
    "\n",
    "def get_bt(html):\n",
    "    list4=[]\n",
    "    reobj = re.compile(r'<a href=\"[\\d\\D]*?\" class=\"\">([\\d\\D]*?)</a>')\n",
    "    for match in reobj.finditer(html):\n",
    "        bt=match.group(1)\n",
    "        list4.append(bt)\n",
    "    return list4\n",
    "\n",
    "def get_fs(html):\n",
    "    list5=[]\n",
    "    reobj = re.compile(r\"</a></td><td>([\\d\\D]*?)</td>\")\n",
    "    for match in reobj.finditer(html):\n",
    "        fs=match.group(1)\n",
    "        list5.append(fs)\n",
    "    return list5\n",
    "\n",
    "#获取通过数\n",
    "def get_tgs(html):\n",
    "    list6=[]\n",
    "    reobj = re.compile(r\"</a></td><td>[\\d\\D]*?</td><td>([\\d\\D]*?)</td>\")\n",
    "    for match in reobj.finditer(html):\n",
    "        tgl=match.group(1)\n",
    "        list6.append(tgl)\n",
    "    return list6\n",
    "\n",
    "def get_tjs(html):\n",
    "    list7=[]\n",
    "    reobj = re.compile(r\"</a></td><td>[\\d\\D]*?</td><td>[\\d\\D]*?</td><td>([\\d\\D]*?)</td>\")\n",
    "    for match in reobj.finditer(html):\n",
    "        tjs=match.group(1)\n",
    "        list7.append(tjs)\n",
    "    return list7\n",
    "\n",
    "def get_tgl(html):\n",
    "    list8=[]\n",
    "    reobj = re.compile(r\"</a></td><td>[\\d\\D]*?</td><td>[\\d\\D]*?</td><td>[\\d\\D]*?</td><td>([\\d\\D]*?)</td></tr>\")\n",
    "    for match in reobj.finditer(html):\n",
    "        tgl=match.group(1)\n",
    "        list8.append(tgl)\n",
    "    return list8\n",
    "\n",
    "urls = [(\"https://pintia.cn/problem-sets/1111652100718116864/problems/type/6\",\"函数题\"),(\"https://pintia.cn/problem-sets/1111652100718116864/problems/type/7\",\"编程题\")]\n",
    "result=[]\n",
    "for url,category in urls:\n",
    "    html=get_html(url)\n",
    "    bh=get_bh(html)\n",
    "    lj=get_lj(html)\n",
    "    bt=get_bt(html)\n",
    "    fs=get_fs(html)\n",
    "    tgs=get_tgs(html)\n",
    "    tjs=get_tjs(html)\n",
    "    tgl=get_tgl(html)\n",
    "    for a,b,c,d,e,f,g in zip(bh,lj,bt,fs,tgs,tjs,tgl):\n",
    "        t=(category,a,b,c,d,e,f,g)\n",
    "        result.append(t)\n",
    "print(\"OK\")"
   ]
  },
  {
   "cell_type": "code",
   "execution_count": null,
   "metadata": {},
   "outputs": [],
   "source": [
    "def get_sj(html1):\n",
    "    list9=[]\n",
    "    reobj = re.compile(r'<div class=\"problem_Yd8rq p-3 mb-3 background-grey-1\"><div class=\"ques-view\">([\\d\\D]*?)</div><div class=\"problemInfo_OZ-Rv\">')\n",
    "    for match in reobj.finditer(html1):\n",
    "        sj=match.group()\n",
    "        list9.append(sj)\n",
    "    return list9\n",
    "\n",
    "final_result=[]\n",
    "for i in result:\n",
    "    url1=i[2]\n",
    "    driver=webdriver.Chrome()\n",
    "    driver.get(url1)\n",
    "    time.sleep(5)\n",
    "    html1=driver.page_source\n",
    "    sj=get_sj(html1)  \n",
    "    sj1=str(sj)\n",
    "    z=(i[0],i[1],i[2],i[3],i[4],i[5],i[6],i[7],sj1)\n",
    "    final_result.append(z)\n",
    "    driver.close() \n",
    "print(\"OK\")"
   ]
  },
  {
   "cell_type": "code",
   "execution_count": null,
   "metadata": {},
   "outputs": [],
   "source": [
    "from pony.orm import *\n",
    "db = Database()\n",
    "class Star(db.Entity):\n",
    "    id = PrimaryKey(int, auto=True)\n",
    "    name = Optional(str, column='name')\n",
    "    gender = Optional(str, column='gender')\n",
    "    href = Optional(str, column='href')\n",
    "    year = Optional(int, column='year')\n",
    "    month = Optional(int, column='month')\n",
    "    day = Optional(int, column='day')\n",
    "    xz = Optional(str, column='xz')\n",
    "    html = Optional(str, column='html')\n",
    "    address = Optional(str, column='address')\n",
    "    height = Optional(int, column='height')"
   ]
  },
  {
   "cell_type": "code",
   "execution_count": null,
   "metadata": {},
   "outputs": [],
   "source": [
    "db.bind(provider='sqlite', filename='D:/code2020/program.sqlite')\n",
    "db.generate_mapping(create_tables=True)\n",
    "set_sql_debug(True)"
   ]
  },
  {
   "cell_type": "code",
   "execution_count": null,
   "metadata": {},
   "outputs": [],
   "source": [
    "s = Star(name = \"赵丽颖\",gender = \"女\",href=\"https://baike.baidu.com/item/%E8%B5%B5%E4%B8%BD%E9%A2%96\",year=1986,month=10,day=16,xz=\"天秤座\",height=165,address=\"河北省廊坊市\")\n",
    "db.commit()"
   ]
  },
  {
   "cell_type": "code",
   "execution_count": null,
   "metadata": {},
   "outputs": [],
   "source": []
  }
 ],
 "metadata": {
  "kernelspec": {
   "display_name": "Python 3",
   "language": "python",
   "name": "python3"
  },
  "language_info": {
   "codemirror_mode": {
    "name": "ipython",
    "version": 3
   },
   "file_extension": ".py",
   "mimetype": "text/x-python",
   "name": "python",
   "nbconvert_exporter": "python",
   "pygments_lexer": "ipython3",
   "version": "3.7.4"
  }
 },
 "nbformat": 4,
 "nbformat_minor": 2
}
