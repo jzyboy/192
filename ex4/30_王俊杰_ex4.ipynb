{
 "cells": [
  {
   "cell_type": "code",
   "execution_count": 1,
   "metadata": {},
   "outputs": [],
   "source": [
    "from selenium import webdriver\n",
    "driver=webdriver.Chrome()\n",
    "url = 'https://www.yinxiang.com/everhub/'\n",
    "driver.get(url)"
   ]
  },
  {
   "cell_type": "markdown",
   "metadata": {},
   "source": [
    "这段代码的作用是按空格翻页"
   ]
  },
  {
   "cell_type": "markdown",
   "metadata": {},
   "source": [
    "from selenium.webdriver.common.keys import Keys\n",
    "import time\n",
    "for j in range(100):\n",
    "    for i in range(3):\n",
    "        driver.find_element_by_xpath('//html').send_keys(Keys.SPACE) \n",
    "    time.sleep(2)"
   ]
  },
  {
   "cell_type": "code",
   "execution_count": null,
   "metadata": {},
   "outputs": [],
   "source": [
    "html = driver.page_source"
   ]
  },
  {
   "cell_type": "code",
   "execution_count": null,
   "metadata": {},
   "outputs": [],
   "source": [
    "import re\n",
    "bt=[]\n",
    "zy=[]\n",
    "reobj = re.compile(r'<div>[\\d\\D]*?<h3 class=\"NoteCard_title__juR5k\">([\\d\\D]*?)<p class=[\\d\\D]*?>([\\d\\D]*?)<')\n",
    "for match in reobj.finditer(html):\n",
    "    # match start: match.start()\n",
    "    # match end (exclusive): match.end()\n",
    "    # matched text: match.group()\n",
    "    a=match.group(1)\n",
    "    b=match.group(2)\n",
    "    bt.append(a)\n",
    "    zy.append(b)"
   ]
  },
  {
   "cell_type": "code",
   "execution_count": null,
   "metadata": {},
   "outputs": [],
   "source": [
    "import requests\n",
    "import re\n",
    "import time\n",
    "list=[]\n",
    "link=[]\n",
    "url='https://app.yinxiang.com/third/discovery/client/restful/public/discovery/homepage?notePageSize=10&lastNoteGuid='\n",
    "x='https://app.yinxiang.com/third/discovery/client/restful/public/discovery/homepage?notePageSize=10&lastNoteGuid='\n",
    "for i in range(100):\n",
    "    html=requests.get(url).text #获取链接的代码\n",
    "    reobj = re.compile(r'\"noteGuid\": \"([\\d\\D]*?)\"')\n",
    "    for match in reobj.finditer(html): #通过正则表达式取出noteGuid\n",
    "        # match start: match.start()\n",
    "        # match end (exclusive): match.end()\n",
    "        # matched text: match.group()\n",
    "        a=match.group(1)\n",
    "        list.append(a)#将后缀放入列表list\n",
    "    url=x+list[-1]#将第一页的链接与list的最后一项拼接，得到下一页的链接。\n",
    "    time.sleep(2)\n",
    "for i in list:#通过循环将后缀与超链接进行拼接，并将结果放入列表lj。\n",
    "    lj.append(\"https://www.yinxiang.com/everhub/note/\" + i)"
   ]
  },
  {
   "cell_type": "code",
   "execution_count": null,
   "metadata": {},
   "outputs": [],
   "source": [
    "list1=[]\n",
    "for a,b,c in zip(bt,zy,link):\n",
    "    t=(a,b,c)\n",
    "    list1.append(t) #把bq，zy，lj三个列表中的元素取到元组中，然后将这个元组存到列表list1中"
   ]
  },
  {
   "cell_type": "code",
   "execution_count": null,
   "metadata": {},
   "outputs": [],
   "source": [
    "import codecs\n",
    "a=len(list1)\n",
    "f = codecs.open(r\"f:\\txt1.csv\",\"w\",\"utf_8_sig\")\n",
    "f.write(\"标题,摘要,链接\\n\")\n",
    "for i in list1:\n",
    "    f.write(i[0]+\",\"+i[1]+\",\"+i[2]+\"\\n\")\n",
    "f.close()#存储数据"
   ]
  },
  {
   "cell_type": "code",
   "execution_count": null,
   "metadata": {},
   "outputs": [],
   "source": []
  }
 ],
 "metadata": {
  "kernelspec": {
   "display_name": "Python 3",
   "language": "python",
   "name": "python3"
  },
  "language_info": {
   "codemirror_mode": {
    "name": "ipython",
    "version": 3
   },
   "file_extension": ".py",
   "mimetype": "text/x-python",
   "name": "python",
   "nbconvert_exporter": "python",
   "pygments_lexer": "ipython3",
   "version": "3.7.4"
  }
 },
 "nbformat": 4,
 "nbformat_minor": 2
}
