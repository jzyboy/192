{
 "cells": [
  {
   "cell_type": "markdown",
   "metadata": {},
   "source": [
    "# 明星"
   ]
  },
  {
   "cell_type": "code",
   "execution_count": null,
   "metadata": {},
   "outputs": [],
   "source": [
    "# from pony.orm import \n",
    "db = Database()\n",
    "\n",
    "class Star(db.Entity):\n",
    "    id = PrimaryKey(int, auto=True)\n",
    "    name = Optional(str, column='name')\n",
    "    picture=Optional(str, column='picture')\n",
    "    month = Optional(int, column='month')\n",
    "    day = Optional(int, column='day')\n",
    "    href1=Optional(str, column='href1')\n",
    "    gender = Optional(str, column='gender')\n",
    "    href = Optional(str, column='href')\n",
    "    year = Optional(int, column='year')\n",
    "    xz = Optional(str, column='xz')\n",
    "    html = Optional(str, column='html')\n",
    "    address = Optional(str, column='address')\n",
    "    height = Optional(float, column='height')\n",
    "\n",
    "# db.generate_mapping()"
   ]
  },
  {
   "cell_type": "code",
   "execution_count": null,
   "metadata": {},
   "outputs": [],
   "source": [
    "# 生成数据库\n",
    "def create_database():\n",
    "    db = Database()\n",
    "    dbpath = 'e:/ex7/star.sqlite'\n",
    "    if os.path.exists(dbpath):\n",
    "        os.remove(dbpath)\n",
    "    f = open(dbpath,\"w\")\n",
    "    f.close()\n",
    "    db.bind(provider='sqlite', filename=r'e:/ex7/star.sqlite')\n",
    "\n",
    "    db.generate_mapping(create_tables=True)\n",
    "\n",
    "    set_sql_debug(True)"
   ]
  },
  {
   "cell_type": "code",
   "execution_count": null,
   "metadata": {},
   "outputs": [],
   "source": [
    "@db_session()\n",
    "def task1():\n",
    "    html=etree.HTML(driver.page_source,etree.HTMLParser())\n",
    "    names=html.xpath('//*[@id=\"1\"]/div/div[1]/div[2]/div[1]/div/p[2]/a/text()')#获取明星名字\n",
    "    pictures=html.xpath('//*[@id=\"1\"]/div/div[1]/div[2]/div[1]/div/p[1]/a/img/@src')#获取明星图片\n",
    "    hrefs=html.xpath('//*[@id=\"1\"]/div/div[1]/div[2]/div[1]/div/p[1]/a/@href')#获取明星链接\n",
    "    #导入数据库\n",
    "    for i in range(len(names)):\n",
    "        s=Star(name = names[i],gender = '女', picture = pictures[i], href = \"https://www.baidu.com\"+hrefs[i] )\n",
    "        db.commit()"
   ]
  },
  {
   "cell_type": "code",
   "execution_count": null,
   "metadata": {},
   "outputs": [],
   "source": [
    "@db_session()\n",
    "def task2():\n",
    "    while True:\n",
    "        try:\n",
    "            _task1()\n",
    "            next_btn=wait.until(EC.element_to_be_clickable(\n",
    "                (By.XPATH,'//*[@id=\"1\"]/div/div[1]/div[2]/div[2]/p/span[6]')))#等待下一页能被点击，没有出现下一页了退出\n",
    "            next_btn.click()#点击下一页\n",
    "            time.sleep(1)\n",
    "        except:\n",
    "            print('没有下一页了，获取结束')\n",
    "            driver.close()\n",
    "            break"
   ]
  },
  {
   "cell_type": "code",
   "execution_count": null,
   "metadata": {},
   "outputs": [],
   "source": [
    "# 获取明星的html\n",
    "@db_session()\n",
    "def get_html(baike_href):\n",
    "    head = {'User-Agent': 'Mozilla/5.0 (Windows NT 10.0; Win64; x64) AppleWebKit/537.36 (KHTML, like Gecko) Chrome/80.0.3987.132 Safari/537.36'}\n",
    "    r = requests.get(baikehref,headers=head)\n",
    "    r.encoding = 'utf-8'\n",
    "    s.baikehref = baikehref\n",
    "    s.html = r.text\n",
    "    db.commit()"
   ]
  },
  {
   "cell_type": "code",
   "execution_count": null,
   "metadata": {},
   "outputs": [],
   "source": [
    "# 获取明星身高\n",
    "@db_session()\n",
    "def get_height(html):\n",
    "    if re.search(r'<dt class=\"basicInfo-item name\">身&nbsp;&nbsp;&nbsp;&nbsp;高</dt>\\n<dd class=\"basicInfo-item value\">([\\d\\D]*?)<',html):\n",
    "        height=re.search(r'<dt class=\"basicInfo-item name\">身&nbsp;&nbsp;&nbsp;&nbsp;高</dt>\\n<dd class=\"basicInfo-item value\">([\\d\\D]*?)<',html).group(1).strip()\n",
    "        try:\n",
    "            if ('CM' in height) or ('cm' in height) or ('厘米' in height):\n",
    "                height=float(height[:-2])\n",
    "            elif ('M' in height) or ('m' in height) or ('米' in height):\n",
    "                height=float(height[:-1])*100\n",
    "            s.height=height\n",
    "            db.commit()\n",
    "        except:\n",
    "            pass"
   ]
  },
  {
   "cell_type": "code",
   "execution_count": null,
   "metadata": {},
   "outputs": [],
   "source": [
    "# 获取明星的星座\n",
    "@db_session()\n",
    "def get_xz(html):\n",
    "    match = re.search(r'<dt class=\"basicInfo-item name\">星&nbsp;&nbsp;&nbsp;&nbsp;座</dt>\\n<dd class=\"basicInfo-item value\">\\n<a[\\d\\D]*?>([\\d\\D]*?)</a',html)\n",
    "    if match:\n",
    "        s.xz = match.group(1).strip()\n",
    "        db.commit()\n",
    "\n",
    "    elif re.search(r'<dt class=\"basicInfo-item name\">星&nbsp;&nbsp;&nbsp;&nbsp;座</dt>\\n<dd class=\"basicInfo-item value\">([\\d\\D]*?)<',html):\n",
    "        xingzuo=re.search(r'<dt class=\"basicInfo-item name\">星&nbsp;&nbsp;&nbsp;&nbsp;座</dt>\\n<dd class=\"basicInfo-item value\">([\\d\\D]*?)</dd',html).group(1).strip()\n",
    "        s.xz=xingzuo\n",
    "        db.commit()"
   ]
  },
  {
   "cell_type": "code",
   "execution_count": null,
   "metadata": {},
   "outputs": [],
   "source": [
    "# 获取明星的籍贯\n",
    "@db_session()\n",
    "def get_address(html):\n",
    "    if re.search(r'<dt class=\"basicInfo-item name\">出生地</dt>\\n<dd class=\"basicInfo-item value\">\\n<a [\\d\\D]*?>([\\d\\D]*?)</a',html):\n",
    "        jiguan = re.search(r'<dt class=\"basicInfo-item name\">出生地</dt>\\n<dd class=\"basicInfo-item value\">\\n<a [\\d\\D]*?>([\\d\\D]*?)</a',html).group(1).strip()\n",
    "        s.address = jiguan\n",
    "        db.commit()\n",
    "    elif re.search(r'<dt class=\"basicInfo-item name\">出生地</dt>\\n<dd class=\"basicInfo-item value\">([\\d\\D]*?)<',html):\n",
    "        jiguan = re.search(r'<dt class=\"basicInfo-item name\">出生地</dt>\\n<dd class=\"basicInfo-item value\">([\\d\\D]*?)<',html).group(1).strip()\n",
    "        s.address = jiguan\n",
    "        db.commit()"
   ]
  },
  {
   "cell_type": "code",
   "execution_count": null,
   "metadata": {},
   "outputs": [],
   "source": [
    "#     获取出生日期\n",
    "@db_session()\n",
    "def get_date(html):\n",
    "    if re.search(r'<dt class=\"basicInfo-item name\">出生日期</dt>\\n<dd class=\"basicInfo-item value\">([\\d\\D]*?)<',html):\n",
    "        birth=re.search(r'<dt class=\"basicInfo-item name\">出生日期</dt>\\n<dd class=\"basicInfo-item value\">([\\d\\D]*?)<',html).group(1).strip()\n",
    "        if ('年' in birth) and ('月' in birth) and ('日' in birth):\n",
    "            year,month,day = re.split('[年月日]',birth)[:3]\n",
    "            try:\n",
    "                s.year = int(year)\n",
    "                s.month = int(month)\n",
    "                s.day = int(day)\n",
    "                db.commit()\n",
    "            except:\n",
    "                pass\n",
    "        elif ('年' in birth) and ('月' in birth):\n",
    "            year,month = re.split('[年月]',birth)[:2]\n",
    "            try:\n",
    "                s.year = int(year)\n",
    "                s.month = int(month)\n",
    "                db.commit()\n",
    "            except:\n",
    "                pass\n",
    "        elif '年' in birth:\n",
    "            year = re.split('[年]',birth)[0]\n",
    "            try:\n",
    "                s.year = int(year)\n",
    "                db.commit()\n",
    "            except:\n",
    "                pass\n",
    "        elif ('月' in birth) and ('日' in birth):\n",
    "            month,day = re.split('[月日]',birth)[:2]\n",
    "            try:\n",
    "                s.month = int(month)\n",
    "                s.day = int(day)\n",
    "                db.commit()\n",
    "            except:\n",
    "                pass"
   ]
  },
  {
   "cell_type": "code",
   "execution_count": null,
   "metadata": {},
   "outputs": [],
   "source": [
    "def main():\n",
    "    # 打开网页\n",
    "    url = 'https://www.baidu.com/s?wd=%E6%98%8E%E6%98%9F&rsv_spt=1&rsv_iqid=0xbe4b76860031fb66&issp=1&f=8&rsv_bp=1&rsv_idx=2&ie=utf-8&rqlang=&tn=baiduhome_pg&ch=&rsv_enter=1&rsv_dl=ib&inputT=2978'\n",
    "    driver = webdriver.Chrome()\n",
    "    driver.get(url)\n",
    "    time.sleep(2)\n",
    "    wait = WebDriverWait(driver, 10)\n",
    "    # 点击内地女\n",
    "    driver.find_element_by_xpath('//*[@id=\"1\"]/div/div[1]/div[1]/div[2]/p[1]/span[4]').click()\n",
    "    driver.find_element_by_xpath('//*[@id=\"1\"]/div/div[1]/div[1]/div[2]/p[2]/span[3]').click()\n",
    "    # 调用函数抓取数据\n",
    "    # task2()\n",
    "\n",
    "\n",
    "    # 遍历数据库，构建明星百科url，将所有明星html保存入库\n",
    "    with db_session:\n",
    "        for s in Star.select():\n",
    "            baikehref = 'https://baike.baidu.com/item/' + s.name\n",
    "            get_html(baikehref)\n",
    "\n",
    "    # 遍历数据库，抓取需要的数据\n",
    "    with db_session:\n",
    "        for s in Star.select():\n",
    "            get_height(s.html)\n",
    "            get_xz(s.html)\n",
    "            get_address(s.html)\n",
    "            get_date(s.html)\n",
    "\n",
    "main()"
   ]
  }
 ],
 "metadata": {
  "kernelspec": {
   "display_name": "Python 3",
   "language": "python",
   "name": "python3"
  },
  "language_info": {
   "codemirror_mode": {
    "name": "ipython",
    "version": 3
   },
   "file_extension": ".py",
   "mimetype": "text/x-python",
   "name": "python",
   "nbconvert_exporter": "python",
   "pygments_lexer": "ipython3",
   "version": "3.7.4"
  }
 },
 "nbformat": 4,
 "nbformat_minor": 4
}
