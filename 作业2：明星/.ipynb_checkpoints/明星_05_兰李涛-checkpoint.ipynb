{
 "cells": [
  {
   "cell_type": "markdown",
   "metadata": {},
   "source": [
    "# https://www.yuque.com/ol1q37/gi94xp/gpb4iy"
   ]
  },
  {
   "cell_type": "markdown",
   "metadata": {},
   "source": [
    "# 任务4：基于任务3成果，抽取所有女明星的姓名，出生年份，月，日，身高，籍贯，星座，保存成CSV文件"
   ]
  },
  {
   "cell_type": "code",
   "execution_count": 1,
   "metadata": {},
   "outputs": [],
   "source": [
    "from selenium import webdriver\n",
    "import re\n",
    "import time\n",
    "import requests\n",
    "import string\n",
    "driver=webdriver.Chrome()\n",
    "url = 'https://www.baidu.com/s?wd=%E6%98%8E%E6%98%9F&rsv_spt=1&rsv_iqid=0xbe4b76860031fb66&issp=1&f=8&rsv_bp=1&rsv_idx=2&ie=utf-8&rqlang=&tn=baiduhome_pg&ch=&rsv_enter=1&rsv_dl=ib&inputT=2978'\n",
    "driver.get(url)"
   ]
  },
  {
   "cell_type": "code",
   "execution_count": 71,
   "metadata": {},
   "outputs": [],
   "source": [
    "from pony.orm import *\n",
    "\n",
    "\n",
    "db = Database()\n",
    "\n",
    "\n",
    "class Star(db.Entity):\n",
    "    id = PrimaryKey(int, auto=True)#编号\n",
    "    name = Optional(str, column='name')#明星名字\n",
    "    gender = Optional(str, column='gender')#性别\n",
    "    year_month_day = Optional(str, column='year_month_day')#出身年月日\n",
    "    xz = Optional(str, column='xz')#星座\n",
    "    address = Optional(str, column='address')#地址\n",
    "    height = Optional(str, column='height')#身高\n",
    "    html = Optional(str, column='html')#HTML源代码html\n",
    "    href = Optional(str, column='href')#百度百科url\n",
    "\n",
    "# db.generate_mapping()"
   ]
  },
  {
   "cell_type": "code",
   "execution_count": 72,
   "metadata": {},
   "outputs": [
    {
     "name": "stdout",
     "output_type": "stream",
     "text": [
      "GET NEW CONNECTION\n",
      "RELEASE CONNECTION\n",
      "GET CONNECTION FROM THE LOCAL POOL\n",
      "PRAGMA foreign_keys = false\n",
      "BEGIN IMMEDIATE TRANSACTION\n",
      "CREATE TABLE \"Star\" (\n",
      "  \"id\" INTEGER PRIMARY KEY AUTOINCREMENT,\n",
      "  \"name\" TEXT NOT NULL,\n",
      "  \"gender\" TEXT NOT NULL,\n",
      "  \"year_month_day\" TEXT NOT NULL,\n",
      "  \"xz\" TEXT NOT NULL,\n",
      "  \"address\" TEXT NOT NULL,\n",
      "  \"height\" TEXT NOT NULL,\n",
      "  \"html\" TEXT NOT NULL,\n",
      "  \"href\" TEXT NOT NULL\n",
      ")\n",
      "\n",
      "SELECT \"Star\".\"id\", \"Star\".\"name\", \"Star\".\"gender\", \"Star\".\"year_month_day\", \"Star\".\"xz\", \"Star\".\"address\", \"Star\".\"height\", \"Star\".\"html\", \"Star\".\"href\"\n",
      "FROM \"Star\" \"Star\"\n",
      "WHERE 0 = 1\n",
      "\n",
      "COMMIT\n",
      "PRAGMA foreign_keys = true\n",
      "CLOSE CONNECTION\n",
      "RELEASE CONNECTION\n"
     ]
    }
   ],
   "source": [
    "db.bind(provider='sqlite', filename='E:/python/明星.sqlite')\n",
    "db.generate_mapping(create_tables=True)\n",
    "set_sql_debug(True)"
   ]
  },
  {
   "cell_type": "code",
   "execution_count": 73,
   "metadata": {},
   "outputs": [],
   "source": [
    "def u(n):\n",
    "    a = re.search(r'<span class=\"opui-page-next OP_LOG_BTN\" style=\"\">下一页</span>',n,re.S)\n",
    "    if str(a)==\"None\":\n",
    "        driver.close()\n",
    "    else:\n",
    "        driver.find_element_by_xpath(\"//div[@id='1']/div/div/div[2]/div[2]/p/span[6]\").click()\n",
    "        time.sleep(1)\n",
    "        html = driver.page_source\n",
    "        first(html)\n",
    "        u(html)"
   ]
  },
  {
   "cell_type": "code",
   "execution_count": 74,
   "metadata": {},
   "outputs": [],
   "source": [
    "def new_html(url):\n",
    "    global newhtml\n",
    "    headers = {'User-Agent': 'Mozilla/5.0 (Windows NT 10.0; WOW64) AppleWebKit/537.36 (KHTML, like Gecko) Chrome/70.0.3538.25 Safari/537.36 Core/1.70.3741.400 QQBrowser/10.5.3863.400'}\n",
    "    newhtml = requests.get(url, headers=headers).content.decode('utf-8')\n"
   ]
  },
  {
   "cell_type": "code",
   "execution_count": 75,
   "metadata": {},
   "outputs": [],
   "source": [
    "def information(n):\n",
    "    global newhtml#定义全局变量 newhtml\n",
    "    global num#定义全局变量 num\n",
    "    #定义一个正则表达式\n",
    "    reobj = re.compile(r'<img class=\"c-img c-img4\" src=\"[\\d\\D]*?amp;[\\d\\D]*?\"[\\d\\D]*?<a href=\"[\\d\\D]*?\" title=\"([\\d\\D]*?)\"')\n",
    "    #让reobj去遍历\n",
    "    for match in reobj.finditer(n):\n",
    "        num=num+1#编号\n",
    "        name=match.group(1)#名字\n",
    "        href=\"https://baike.baidu.com/item/\"+name#明星百度百科网页\n",
    "        new_html(href)#百度百科html\n",
    "        try:\n",
    "            height=re.search(r'高</dt>[\\d\\D]*?>([\\d\\D]*?)<',newhtml,re.S).group(1)\n",
    "            address =re.search(r'<dt class=\"basicInfo-item name\">出生地[\\d\\D]*?\">([\\d\\D]*?)<',newhtml,re.S).group(1)\n",
    "            xz=re.search(r'座</dt>[\\d\\D]*?[\\d\\D]*?\">([\\d\\D]*?)<',newhtml,re.S).group(1)\n",
    "            year_month_day =re.search(r'<dt class=\"basicInfo-item name\">出生日期[\\d\\D]*?\">([\\d\\D]*?)<',newhtml,re.S).group(1)\n",
    "            s = Star(id=num,name=name,gender=\"Ů\",year_month_day=year_month_day,xz=xz,address=address,height=height,html=newhtml,href=href)\n",
    "            db.commit()\n",
    "        except:\n",
    "            pass\n",
    "        "
   ]
  },
  {
   "cell_type": "code",
   "execution_count": null,
   "metadata": {},
   "outputs": [
    {
     "name": "stdout",
     "output_type": "stream",
     "text": []
    }
   ],
   "source": [
    "num=0#给全局赋值\n",
    "newhtml=\"\"#给全局赋值\n",
    "driver.find_element_by_xpath(\"//div[@id='1']/div/div/div/div[2]/p/span[4]\").click()\n",
    "driver.find_element_by_xpath(\"//div[@id='1']/div/div/div/div[2]/p[2]/span[3]\").click()\n",
    "time.sleep(5)\n",
    "html=driver.page_source\n",
    "information(html)\n",
    "u(html)"
   ]
  }
 ],
 "metadata": {
  "kernelspec": {
   "display_name": "Python 3",
   "language": "python",
   "name": "python3"
  },
  "language_info": {
   "codemirror_mode": {
    "name": "ipython",
    "version": 3
   },
   "file_extension": ".py",
   "mimetype": "text/x-python",
   "name": "python",
   "nbconvert_exporter": "python",
   "pygments_lexer": "ipython3",
   "version": "3.7.4"
  }
 },
 "nbformat": 4,
 "nbformat_minor": 2
}
