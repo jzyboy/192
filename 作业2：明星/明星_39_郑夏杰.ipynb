{
 "cells": [
  {
   "cell_type": "code",
   "execution_count": 21,
   "metadata": {},
   "outputs": [],
   "source": [
    "from selenium import webdriver #打开网页\n",
    "driver=webdriver.Chrome()\n",
    "url = 'https://www.baidu.com/s?ie=utf-8&f=8&rsv_bp=1&rsv_idx=2&tn=baiduhome_pg&wd=%E5%86%85%E5%9C%B0%E5%A5%B3%E6%98%8E%E6%98%9F&rsv_spt=1&oq=%25E5%25A5%25B3%25E6%2598%258E%25E6%2598%259F&rsv_pq=b0f802ca0001e952&rsv_t=096bgZ47pp9P9UrBBg0Tool%2BXdEVwLwdXwOJkkNkv%2FmtK%2FixTgmv5DMrQrJtjoXT1eWz&rqlang=cn&rsv_enter=1&rsv_dl=tb&rsv_btype=t&inputT=3081&rsv_sug3=10&rsv_sug1=6&rsv_sug7=100&bs=%E5%A5%B3%E6%98%8E%E6%98%9F'\n",
    "driver.get(url)"
   ]
  },
  {
   "cell_type": "code",
   "execution_count": null,
   "metadata": {},
   "outputs": [],
   "source": [
    "import time\n",
    "driver.find_element_by_xpath(\"//div[@id='1']/div/div/div/div[2]/p/span[4]\").click()\n",
    "time.sleep(1)\n",
    "driver.find_element_by_xpath(\"//div[@id='1']/div/div/div/div[2]/p[2]/span[3]\").click()"
   ]
  },
  {
   "cell_type": "code",
   "execution_count": null,
   "metadata": {},
   "outputs": [],
   "source": [
    "import re \n",
    "import time\n",
    "list = []\n",
    "for i in range(2):\n",
    "    html = driver.page_source  \n",
    "    reobj = re.compile(r'<a href([\\d\\D]*?)title[\\d\\D]*?target[\\d\\D]*?>([\\d\\D]*?)</a> <img class[\\d\\D]*? src([\\d\\D]*?)> ')\n",
    "    for match in reobj.finditer(html):\n",
    "        \n",
    "        a=match.group(1)\n",
    "        b=match.group(2)\n",
    "        c=match.group(3)\n",
    "        print(a,b,c)\n",
    "        list.append((a,b,c))\n",
    "        \n",
    "    driver.find_element_by_xpath(\"//div[@id='1']/div/div/div[2]/div[2]/p/span[6]\").click() #从Katalon Recorder插件中copy过来的代码\n",
    "    time.sleep(2)\n",
    "print(list)"
   ]
  },
  {
   "cell_type": "code",
   "execution_count": null,
   "metadata": {},
   "outputs": [],
   "source": []
  },
  {
   "cell_type": "code",
   "execution_count": null,
   "metadata": {},
   "outputs": [],
   "source": []
  }
 ],
 "metadata": {
  "kernelspec": {
   "display_name": "Python 3",
   "language": "python",
   "name": "python3"
  },
  "language_info": {
   "codemirror_mode": {
    "name": "ipython",
    "version": 3
   },
   "file_extension": ".py",
   "mimetype": "text/x-python",
   "name": "python",
   "nbconvert_exporter": "python",
   "pygments_lexer": "ipython3",
   "version": "3.7.4"
  }
 },
 "nbformat": 4,
 "nbformat_minor": 4
}
