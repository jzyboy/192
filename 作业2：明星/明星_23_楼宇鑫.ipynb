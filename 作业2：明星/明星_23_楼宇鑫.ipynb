{
 "cells": [
  {
   "cell_type": "markdown",
   "metadata": {},
   "source": [
    "# 务1：采集百度所有内地女明星的姓名、图片、链接，并以如下列表形式返回\n",
    "[(\"王菲\",\".....jpg\",\"http://...\"),(\"那英\",\".....png\",\"http://...\")]\n",
    "参考链接\n",
    "https://www.baidu.com/s?wd=%E6%98%8E%E6%98%9F&rsv_spt=1&rsv_iqid=0xbe4b76860031fb66&issp=1&f=8&rsv_bp=1&rsv_idx=2&ie=utf-8&rqlang=&tn=baiduhome_pg&ch=&rsv_enter=1&rsv_dl=ib&inputT=2978"
   ]
  },
  {
   "cell_type": "code",
   "execution_count": null,
   "metadata": {},
   "outputs": [],
   "source": [
    "from selenium import webdriver\n",
    "driver=webdriver.Chrome()\n",
    "url = 'https://www.baidu.com/s?ie=utf-8&f=8&rsv_bp=1&rsv_idx=2&tn=baiduhome_pg&wd=%E6%98%8E%E6%98%9F&rsv_spt=1&oq=%25E6%2598%258E%25E6%2598%259F&rsv_pq=a1a2cf770002ec2f&rsv_t=0e3baM8Xu8qPUVhj0snvRVkEdX1Le%2Bm%2FZvXgmFXh1EnnOrdvEFvLRImf6oviVMQdrqmk&rqlang=cn&rsv_enter=0&rsv_dl=tb'\n",
    "driver.get(url)"
   ]
  },
  {
   "cell_type": "code",
   "execution_count": null,
   "metadata": {},
   "outputs": [],
   "source": [
    "driver.find_element_by_xpath(\"//div[@id='1']/div/div/div/div[2]/p/span[4]\").click()\n",
    "driver.find_element_by_xpath(\"//div[@id='1']/div/div/div/div[2]/p[2]/span[3]\").click()"
   ]
  },
  {
   "cell_type": "code",
   "execution_count": null,
   "metadata": {},
   "outputs": [],
   "source": [
    "import re\n",
    "import pandas as pd\n",
    "list1=[]\n",
    "list2=[]\n",
    "list3=[]\n",
    "list4=[]\n",
    "html = driver.page_source\n",
    "for i in range(2):\n",
    "    reobj = re.compile(r'<p class=\"op_exactqa_item_img\"><a href=\"([\\d\\D]*?)\" [\\d\\D]*?><img class=\"[\\d\\D]*?\" src=\"([\\d\\D]*?)\">[\\d\\D]*?<a href=\"([\\d\\D]*?)\" [\\d\\D]*?>([\\d\\D]*?)</a></p>')\n",
    "    html = driver.page_source\n",
    "    for match in reobj.finditer(html):\n",
    "        a=match.group(1)\n",
    "        img=match.group(2)\n",
    "        b=match.group(3)\n",
    "        name=match.group(4)\n",
    "        list1.append(a)\n",
    "        list2.append(img)\n",
    "        list3.append(b)\n",
    "        list4.append(name)\n",
    "    driver.find_element_by_xpath(\"//div[@id='1']/div/div/div[2]/div[2]/p/span[6]\").click()\n",
    "    import time\n",
    "    time.sleep(5)\n",
    "pd.DataFrame({'图片链接':list1,'图片':list2,'姓名链接':list3,'姓名':list4})"
   ]
  },
  {
   "cell_type": "code",
   "execution_count": null,
   "metadata": {},
   "outputs": [],
   "source": [
    "import codecs\n",
    "a=len(mingxing)\n",
    "f = codecs.open(r\"D:\\mingxing\\mingxing.csv\",\"w\",\"utf_8_sig\")\n",
    "f.write(\"图片链接,图片,姓名链接，姓名\\n\")\n",
    "for i in range (a-1):\n",
    "    a=list[i]\n",
    "    f.write(a[0]+\",\"+a[1]+\",\"+a[2]+\",\"+a[3]+\"\\n\")\n",
    "f.close()"
   ]
  },
  {
   "cell_type": "code",
   "execution_count": null,
   "metadata": {},
   "outputs": [],
   "source": []
  }
 ],
 "metadata": {
  "kernelspec": {
   "display_name": "Python 3",
   "language": "python",
   "name": "python3"
  },
  "language_info": {
   "codemirror_mode": {
    "name": "ipython",
    "version": 3
   },
   "file_extension": ".py",
   "mimetype": "text/x-python",
   "name": "python",
   "nbconvert_exporter": "python",
   "pygments_lexer": "ipython3",
   "version": "3.7.4"
  }
 },
 "nbformat": 4,
 "nbformat_minor": 4
}
