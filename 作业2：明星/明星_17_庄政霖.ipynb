{
 "cells": [
  {
   "cell_type": "code",
   "execution_count": 8,
   "metadata": {},
   "outputs": [],
   "source": [
    "html=\"\"\"\n",
    "<div class=\"op_exactqa_main\">\n",
    "                <div class=\"op_exactqa_head c-gap-bottom\"> \n",
    "                        <div class=\"op_exactqa_title c-gap-bottom\">内地女明星：</div>\n",
    "                        \n",
    "                                                   \n",
    "                             \n",
    "                                                        \n",
    "                                                                                                                                                                                                                                                                                                                                                                                                                                                                                                \n",
    "                                <div class=\"op_exactqa_tag\" data-click=\"{'fm':'beha'}\">\n",
    "\n",
    "                                                                                                                        <p class=\"op_exactqa_tag_stat0\">\n",
    "                        <span class=\"op_exactqa_tag_type\">性别：</span>\n",
    "                        <span class=\"op_exactqa_tag_item  OP_LOG_BTN\">全部</span>\n",
    "                                                    <span class=\"op_exactqa_tag_item OP_LOG_BTN \">男</span>\n",
    "                                                    <span class=\"op_exactqa_tag_item OP_LOG_BTN  op_exactqa_tag_selected\">女</span>\n",
    "                                            </p>\n",
    "                                                                                                    <p class=\"op_exactqa_tag_stat1\">\n",
    "                        <span class=\"op_exactqa_tag_type\">地区：</span>\n",
    "                        <span class=\"op_exactqa_tag_item  OP_LOG_BTN\">全部</span>\n",
    "                                                    <span class=\"op_exactqa_tag_item OP_LOG_BTN  op_exactqa_tag_selected\">内地</span>\n",
    "                                                    <span class=\"op_exactqa_tag_item OP_LOG_BTN \">香港</span>\n",
    "                                                    <span class=\"op_exactqa_tag_item OP_LOG_BTN \">台湾</span>\n",
    "                                                    <span class=\"op_exactqa_tag_item OP_LOG_BTN \">日本</span>\n",
    "                                                    <span class=\"op_exactqa_tag_item OP_LOG_BTN \">韩国</span>\n",
    "                                                    <span class=\"op_exactqa_tag_item OP_LOG_BTN \">欧美</span>\n",
    "                                            </p>\n",
    "                                                                                                                        \n",
    "                </div>\n",
    "                                                        \n",
    "        </div>\n",
    "        <div class=\"op_exactqa_body\">  \n",
    "            <div class=\"op_exactqa_itemsArea c-row \"><div class=\"op_exactqa_item c-gap-bottom c-span4 \"><div class=\"op_exactqa_feedback OP_LOG_BTN\">有错误?</div><p class=\"op_exactqa_item_img\"><a href=\"/s?wd=%E5%88%98%E8%AF%97%E8%AF%97&amp;rsv_idx=2&amp;tn=88093251_30_hao_pg&amp;usm=5&amp;ie=utf-8&amp;rsv_cq=%E6%98%8E%E6%98%9F&amp;rsv_dl=0_left_exactqa_28266\" title=\"刘诗诗\" target=\"_blank\"><img class=\"c-img c-img4\" src=\"https://dss1.baidu.com/6ONXsjip0QIZ8tyhnq/it/u=3301421587,374458331&amp;fm=58&amp;app=83&amp;f=JPEG?w=250&amp;h=250&amp;s=DA88AF476E23768C991018B303008060\"></a></p><p class=\"c-gap-top-small\"><a href=\"/s?wd=%E5%88%98%E8%AF%97%E8%AF%97&amp;rsv_idx=2&amp;tn=88093251_30_hao_pg&amp;usm=5&amp;ie=utf-8&amp;rsv_cq=%E6%98%8E%E6%98%9F&amp;rsv_dl=0_left_exactqa_28266\" title=\"刘诗诗\" target=\"_blank\">刘诗诗</a></p></div><div class=\"op_exactqa_item c-gap-bottom c-span4 \"><div class=\"op_exactqa_feedback OP_LOG_BTN\">有错误?</div><p class=\"op_exactqa_item_img\"><a href=\"/s?wd=%E5%91%A8%E7%AC%94%E7%95%85&amp;rsv_idx=2&amp;tn=88093251_30_hao_pg&amp;usm=5&amp;ie=utf-8&amp;rsv_cq=%E6%98%8E%E6%98%9F&amp;rsv_dl=0_left_exactqa_28266\" title=\"周笔畅\" target=\"_blank\"><img class=\"c-img c-img4\" src=\"https://dss2.baidu.com/6ONYsjip0QIZ8tyhnq/it/u=2691436022,2148011552&amp;fm=58&amp;app=83&amp;f=JPEG?w=250&amp;h=250&amp;s=F7B020625C336694340C77C70300F0AF\"></a></p><p class=\"c-gap-top-small\"><a href=\"/s?wd=%E5%91%A8%E7%AC%94%E7%95%85&amp;rsv_idx=2&amp;tn=88093251_30_hao_pg&amp;usm=5&amp;ie=utf-8&amp;rsv_cq=%E6%98%8E%E6%98%9F&amp;rsv_dl=0_left_exactqa_28266\" title=\"周笔畅\" target=\"_blank\">周笔畅</a></p></div><div class=\"op_exactqa_item c-gap-bottom c-span4 \"><div class=\"op_exactqa_feedback OP_LOG_BTN\">有错误?</div><p class=\"op_exactqa_item_img\"><a href=\"/s?wd=%E9%BA%A6%E8%BF%AA%E5%A8%9C&amp;rsv_idx=2&amp;tn=88093251_30_hao_pg&amp;usm=5&amp;ie=utf-8&amp;rsv_cq=%E6%98%8E%E6%98%9F&amp;rsv_dl=0_left_exactqa_28266\" title=\"麦迪娜\" target=\"_blank\"><img class=\"c-img c-img4\" src=\"https://dss1.baidu.com/6ONXsjip0QIZ8tyhnq/it/u=3610427464,467002164&amp;fm=58&amp;app=83&amp;f=JPEG?w=250&amp;h=250&amp;s=AF30EB0704C386AC369CC4C90300C012\"></a></p><p class=\"c-gap-top-small\"><a href=\"/s?wd=%E9%BA%A6%E8%BF%AA%E5%A8%9C&amp;rsv_idx=2&amp;tn=88093251_30_hao_pg&amp;usm=5&amp;ie=utf-8&amp;rsv_cq=%E6%98%8E%E6%98%9F&amp;rsv_dl=0_left_exactqa_28266\" title=\"麦迪娜\" target=\"_blank\">麦迪娜</a></p></div><div class=\"op_exactqa_item c-gap-bottom c-span4 \"><div class=\"op_exactqa_feedback OP_LOG_BTN\">有错误?</div><p class=\"op_exactqa_item_img\"><a href=\"/s?wd=%E4%BD%95%E8%B6%85%E7%90%BC&amp;rsv_idx=2&amp;tn=88093251_30_hao_pg&amp;usm=5&amp;ie=utf-8&amp;rsv_cq=%E6%98%8E%E6%98%9F&amp;rsv_dl=0_left_exactqa_28266\" title=\"何超琼\" target=\"_blank\"><img class=\"c-img c-img4\" src=\"https://dss1.baidu.com/6ONXsjip0QIZ8tyhnq/it/u=2655293521,2354664511&amp;fm=58&amp;app=83&amp;f=JPG?w=250&amp;h=250&amp;s=B75619C7AA62249C390C4DB803008012\"></a></p><p class=\"c-gap-top-small\"><a href=\"/s?wd=%E4%BD%95%E8%B6%85%E7%90%BC&amp;rsv_idx=2&amp;tn=88093251_30_hao_pg&amp;usm=5&amp;ie=utf-8&amp;rsv_cq=%E6%98%8E%E6%98%9F&amp;rsv_dl=0_left_exactqa_28266\" title=\"何超琼\" target=\"_blank\">何超琼</a></p></div><div class=\"op_exactqa_item c-gap-bottom c-span4 \"><div class=\"op_exactqa_feedback OP_LOG_BTN\">有错误?</div><p class=\"op_exactqa_item_img\"><a href=\"/s?wd=%E8%BF%AA%E4%B8%BD%E7%83%AD%E5%B7%B4&amp;rsv_idx=2&amp;tn=88093251_30_hao_pg&amp;usm=5&amp;ie=utf-8&amp;rsv_cq=%E6%98%8E%E6%98%9F&amp;rsv_dl=0_left_exactqa_28266\" title=\"迪丽热巴\" target=\"_blank\"><img class=\"c-img c-img4\" src=\"https://dss2.baidu.com/6ONYsjip0QIZ8tyhnq/it/u=2351971469,1567920426&amp;fm=58&amp;app=83&amp;f=JPEG?w=250&amp;h=250&amp;s=5CB087553F325B94268C71C80300E032\"></a></p><p class=\"c-gap-top-small\"><a href=\"/s?wd=%E8%BF%AA%E4%B8%BD%E7%83%AD%E5%B7%B4&amp;rsv_idx=2&amp;tn=88093251_30_hao_pg&amp;usm=5&amp;ie=utf-8&amp;rsv_cq=%E6%98%8E%E6%98%9F&amp;rsv_dl=0_left_exactqa_28266\" title=\"迪丽热巴\" target=\"_blank\">迪丽热巴</a></p></div><div class=\"op_exactqa_item c-gap-bottom c-span4 c-span-last\"><div class=\"op_exactqa_feedback OP_LOG_BTN\">有错误?</div><p class=\"op_exactqa_item_img\"><a href=\"/s?wd=%E8%B5%B5%E4%B8%BD%E9%A2%96&amp;rsv_idx=2&amp;tn=88093251_30_hao_pg&amp;usm=5&amp;ie=utf-8&amp;rsv_cq=%E6%98%8E%E6%98%9F&amp;rsv_dl=0_left_exactqa_28266\" title=\"赵丽颖\" target=\"_blank\"><img class=\"c-img c-img4\" src=\"https://dss2.baidu.com/6ONYsjip0QIZ8tyhnq/it/u=1833321872,1873644000&amp;fm=58&amp;app=83&amp;f=JPEG?w=250&amp;h=250&amp;s=54F813D7523B5394D7AF02A003007029\"></a></p><p class=\"c-gap-top-small\"><a href=\"/s?wd=%E8%B5%B5%E4%B8%BD%E9%A2%96&amp;rsv_idx=2&amp;tn=88093251_30_hao_pg&amp;usm=5&amp;ie=utf-8&amp;rsv_cq=%E6%98%8E%E6%98%9F&amp;rsv_dl=0_left_exactqa_28266\" title=\"赵丽颖\" target=\"_blank\">赵丽颖</a></p></div><div class=\"op_exactqa_item c-gap-bottom c-span4 \"><div class=\"op_exactqa_feedback OP_LOG_BTN\">有错误?</div><p class=\"op_exactqa_item_img\"><a href=\"/s?wd=%E6%9D%A8%E5%B9%82&amp;rsv_idx=2&amp;tn=88093251_30_hao_pg&amp;usm=5&amp;ie=utf-8&amp;rsv_cq=%E6%98%8E%E6%98%9F&amp;rsv_dl=0_left_exactqa_28266\" title=\"杨幂\" target=\"_blank\"><img class=\"c-img c-img4\" src=\"https://dss0.baidu.com/6ONWsjip0QIZ8tyhnq/it/u=481823748,3803020137&amp;fm=58&amp;app=83&amp;f=JPEG?w=250&amp;h=250&amp;s=B9166094023B4794C78571F803008034\"></a></p><p class=\"c-gap-top-small\"><a href=\"/s?wd=%E6%9D%A8%E5%B9%82&amp;rsv_idx=2&amp;tn=88093251_30_hao_pg&amp;usm=5&amp;ie=utf-8&amp;rsv_cq=%E6%98%8E%E6%98%9F&amp;rsv_dl=0_left_exactqa_28266\" title=\"杨幂\" target=\"_blank\">杨幂</a></p></div><div class=\"op_exactqa_item c-gap-bottom c-span4 \"><div class=\"op_exactqa_feedback OP_LOG_BTN\">有错误?</div><p class=\"op_exactqa_item_img\"><a href=\"/s?wd=Angelababy&amp;rsv_idx=2&amp;tn=88093251_30_hao_pg&amp;usm=5&amp;ie=utf-8&amp;rsv_cq=%E6%98%8E%E6%98%9F&amp;rsv_dl=0_left_exactqa_28266\" title=\"Angelababy\" target=\"_blank\"><img class=\"c-img c-img4\" src=\"https://dss2.baidu.com/6ONYsjip0QIZ8tyhnq/it/u=4270701299,2941499669&amp;fm=58&amp;app=83&amp;f=JPEG?w=250&amp;h=250&amp;s=DABBA345F1026F5D92BC84FE03000033\"></a></p><p class=\"c-gap-top-small\"><a href=\"/s?wd=Angelababy&amp;rsv_idx=2&amp;tn=88093251_30_hao_pg&amp;usm=5&amp;ie=utf-8&amp;rsv_cq=%E6%98%8E%E6%98%9F&amp;rsv_dl=0_left_exactqa_28266\" title=\"Angelababy\" target=\"_blank\">Angelababy</a></p></div><div class=\"op_exactqa_item c-gap-bottom c-span4 \"><div class=\"op_exactqa_feedback OP_LOG_BTN\">有错误?</div><p class=\"op_exactqa_item_img\"><a href=\"/s?wd=%E9%83%91%E7%88%BD&amp;rsv_idx=2&amp;tn=88093251_30_hao_pg&amp;usm=5&amp;ie=utf-8&amp;rsv_cq=%E6%98%8E%E6%98%9F&amp;rsv_dl=0_left_exactqa_28266\" title=\"郑爽\" target=\"_blank\"><img class=\"c-img c-img4\" src=\"https://dss2.baidu.com/6ONYsjip0QIZ8tyhnq/it/u=3617635769,3367718214&amp;fm=58&amp;app=83&amp;f=JPEG?w=250&amp;h=250&amp;s=F5643D76E1A1C715814175EA0300E032\"></a></p><p class=\"c-gap-top-small\"><a href=\"/s?wd=%E9%83%91%E7%88%BD&amp;rsv_idx=2&amp;tn=88093251_30_hao_pg&amp;usm=5&amp;ie=utf-8&amp;rsv_cq=%E6%98%8E%E6%98%9F&amp;rsv_dl=0_left_exactqa_28266\" title=\"郑爽\" target=\"_blank\">郑爽</a></p></div><div class=\"op_exactqa_item c-gap-bottom c-span4 \"><div class=\"op_exactqa_feedback OP_LOG_BTN\">有错误?</div><p class=\"op_exactqa_item_img\"><a href=\"/s?wd=%E9%A9%AC%E4%BC%8A%E7%90%8D&amp;rsv_idx=2&amp;tn=88093251_30_hao_pg&amp;usm=5&amp;ie=utf-8&amp;rsv_cq=%E6%98%8E%E6%98%9F&amp;rsv_dl=0_left_exactqa_28266\" title=\"马伊琍\" target=\"_blank\"><img class=\"c-img c-img4\" src=\"https://dss0.baidu.com/6ONWsjip0QIZ8tyhnq/it/u=2704604412,244718317&amp;fm=58&amp;app=83&amp;f=JPEG?w=250&amp;h=250&amp;s=5EBA39C5CE3304841090A4E90300A013\"></a></p><p class=\"c-gap-top-small\"><a href=\"/s?wd=%E9%A9%AC%E4%BC%8A%E7%90%8D&amp;rsv_idx=2&amp;tn=88093251_30_hao_pg&amp;usm=5&amp;ie=utf-8&amp;rsv_cq=%E6%98%8E%E6%98%9F&amp;rsv_dl=0_left_exactqa_28266\" title=\"马伊琍\" target=\"_blank\">马伊琍</a></p></div><div class=\"op_exactqa_item c-gap-bottom c-span4 \"><div class=\"op_exactqa_feedback OP_LOG_BTN\">有错误?</div><p class=\"op_exactqa_item_img\"><a href=\"/s?wd=%E5%AE%8B%E8%8C%9C&amp;rsv_idx=2&amp;tn=88093251_30_hao_pg&amp;usm=5&amp;ie=utf-8&amp;rsv_cq=%E6%98%8E%E6%98%9F&amp;rsv_dl=0_left_exactqa_28266\" title=\"宋茜\" target=\"_blank\"><img class=\"c-img c-img4\" src=\"https://dss2.baidu.com/6ONYsjip0QIZ8tyhnq/it/u=2155344170,3127792488&amp;fm=58&amp;app=83&amp;f=JPEG?w=250&amp;h=250&amp;s=543407743E6358056C0C6DCB030070BB\"></a></p><p class=\"c-gap-top-small\"><a href=\"/s?wd=%E5%AE%8B%E8%8C%9C&amp;rsv_idx=2&amp;tn=88093251_30_hao_pg&amp;usm=5&amp;ie=utf-8&amp;rsv_cq=%E6%98%8E%E6%98%9F&amp;rsv_dl=0_left_exactqa_28266\" title=\"宋茜\" target=\"_blank\">宋茜</a></p></div><div class=\"op_exactqa_item c-gap-bottom c-span4 c-span-last\"><div class=\"op_exactqa_feedback OP_LOG_BTN\">有错误?</div><p class=\"op_exactqa_item_img\"><a href=\"/s?wd=%E5%85%B3%E6%99%93%E5%BD%A4&amp;rsv_idx=2&amp;tn=88093251_30_hao_pg&amp;usm=5&amp;ie=utf-8&amp;rsv_cq=%E6%98%8E%E6%98%9F&amp;rsv_dl=0_left_exactqa_28266\" title=\"关晓彤\" target=\"_blank\"><img class=\"c-img c-img4\" src=\"https://dss0.baidu.com/6ONWsjip0QIZ8tyhnq/it/u=3540506781,693903374&amp;fm=58&amp;app=83&amp;f=JPG?w=250&amp;h=250&amp;s=46948765CA647215FE2841DF0300C0EA\"></a></p><p class=\"c-gap-top-small\"><a href=\"/s?wd=%E5%85%B3%E6%99%93%E5%BD%A4&amp;rsv_idx=2&amp;tn=88093251_30_hao_pg&amp;usm=5&amp;ie=utf-8&amp;rsv_cq=%E6%98%8E%E6%98%9F&amp;rsv_dl=0_left_exactqa_28266\" title=\"关晓彤\" target=\"_blank\">关晓彤</a></p></div></div>\n",
    "            \n",
    "                            <div class=\"op_exactqa_person_pages\">\n",
    "                    <p class=\"opui-page\" data-click=\"{'fm':'beha'}\">\n",
    "                        <span class=\"opui-page-pre OP_LOG_BTN\" style=\"display:none\">上一页</span>\n",
    "                        <span class=\"OP_LOG_BTN op_exactqa_page_one opui-page-number-now\" style=\"\">1</span>\n",
    "                        <span class=\"opui-page-more op_exactqa_more_prev\" style=\"display:none\">…</span>\n",
    "                        <span class=\"op_exactqa_mingxing\"><span class=\"opui-page-number OP_LOG_BTN\">2</span><span class=\"opui-page-number OP_LOG_BTN\">3</span><span class=\"opui-page-number OP_LOG_BTN\">4</span><span class=\"opui-page-number OP_LOG_BTN\">5</span></span>\n",
    "                        <span class=\"opui-page-more op_exactqa_more_next\" style=\"\">…</span>\n",
    "                        <span class=\"opui-page-next OP_LOG_BTN\" style=\"\">下一页</span>\n",
    "                    </p>\n",
    "                </div>\n",
    "                        \n",
    "\n",
    "        </div>\n",
    "        </div>\n",
    "\"\"\""
   ]
  },
  {
   "cell_type": "code",
   "execution_count": 10,
   "metadata": {},
   "outputs": [
    {
     "name": "stdout",
     "output_type": "stream",
     "text": [
      "https://dss1.baidu.com/6ONXsjip0QIZ8tyhnq/it/u=3301421587,374458331&amp;fm=58&amp;app=83&amp;f=JPEG?w=250&amp;h=250&amp;s=DA88AF476E23768C991018B303008060\n",
      "刘诗诗\n",
      "https://dss2.baidu.com/6ONYsjip0QIZ8tyhnq/it/u=2691436022,2148011552&amp;fm=58&amp;app=83&amp;f=JPEG?w=250&amp;h=250&amp;s=F7B020625C336694340C77C70300F0AF\n",
      "周笔畅\n",
      "https://dss1.baidu.com/6ONXsjip0QIZ8tyhnq/it/u=3610427464,467002164&amp;fm=58&amp;app=83&amp;f=JPEG?w=250&amp;h=250&amp;s=AF30EB0704C386AC369CC4C90300C012\n",
      "麦迪娜\n",
      "https://dss1.baidu.com/6ONXsjip0QIZ8tyhnq/it/u=2655293521,2354664511&amp;fm=58&amp;app=83&amp;f=JPG?w=250&amp;h=250&amp;s=B75619C7AA62249C390C4DB803008012\n",
      "何超琼\n",
      "https://dss2.baidu.com/6ONYsjip0QIZ8tyhnq/it/u=2351971469,1567920426&amp;fm=58&amp;app=83&amp;f=JPEG?w=250&amp;h=250&amp;s=5CB087553F325B94268C71C80300E032\n",
      "迪丽热巴\n",
      "https://dss0.baidu.com/6ONWsjip0QIZ8tyhnq/it/u=481823748,3803020137&amp;fm=58&amp;app=83&amp;f=JPEG?w=250&amp;h=250&amp;s=B9166094023B4794C78571F803008034\n",
      "杨幂\n",
      "https://dss2.baidu.com/6ONYsjip0QIZ8tyhnq/it/u=4270701299,2941499669&amp;fm=58&amp;app=83&amp;f=JPEG?w=250&amp;h=250&amp;s=DABBA345F1026F5D92BC84FE03000033\n",
      "Angelababy\n",
      "https://dss2.baidu.com/6ONYsjip0QIZ8tyhnq/it/u=3617635769,3367718214&amp;fm=58&amp;app=83&amp;f=JPEG?w=250&amp;h=250&amp;s=F5643D76E1A1C715814175EA0300E032\n",
      "郑爽\n",
      "https://dss0.baidu.com/6ONWsjip0QIZ8tyhnq/it/u=2704604412,244718317&amp;fm=58&amp;app=83&amp;f=JPEG?w=250&amp;h=250&amp;s=5EBA39C5CE3304841090A4E90300A013\n",
      "马伊琍\n",
      "https://dss2.baidu.com/6ONYsjip0QIZ8tyhnq/it/u=2155344170,3127792488&amp;fm=58&amp;app=83&amp;f=JPEG?w=250&amp;h=250&amp;s=543407743E6358056C0C6DCB030070BB\n",
      "宋茜\n"
     ]
    }
   ],
   "source": [
    "import re\n",
    "reobj = re.compile(r'<div class=\"op_exactqa_item c-gap-bottom c-span4 \"><div class=\"[\\d\\D]*?\">[\\d\\D]*?</div><p class=\"[\\d\\D]*?\"><a href=\"[\\d\\D]*?\" title=\"[\\d\\D]*?\" target=\"_blank\"><img class=\"c-img c-img4\" src=\"([\\d\\D]*?)\"></a></p><p class=\"c-gap-top-small\"><a href=\"[\\d\\D]*?\" title=\"[\\d\\D]*?\" target=\"_blank\">([\\d\\D]*?)</a></p></div>')\n",
    "for match in reobj.finditer(html):\n",
    "\t# match start: match.start()\n",
    "\t# match end (exclusive): match.end()\n",
    "\t# matched text: match.group()\n",
    "    print (match.group(1))\n",
    "    print (match.group(2))"
   ]
  },
  {
   "cell_type": "code",
   "execution_count": null,
   "metadata": {},
   "outputs": [],
   "source": []
  }
 ],
 "metadata": {
  "kernelspec": {
   "display_name": "Python 3",
   "language": "python",
   "name": "python3"
  },
  "language_info": {
   "codemirror_mode": {
    "name": "ipython",
    "version": 3
   },
   "file_extension": ".py",
   "mimetype": "text/x-python",
   "name": "python",
   "nbconvert_exporter": "python",
   "pygments_lexer": "ipython3",
   "version": "3.7.4"
  }
 },
 "nbformat": 4,
 "nbformat_minor": 2
}
