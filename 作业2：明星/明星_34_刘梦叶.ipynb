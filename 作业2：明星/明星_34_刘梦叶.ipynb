{
 "cells": [
  {
   "cell_type": "markdown",
   "metadata": {},
   "source": [
    "https://www.baidu.com/s?ie=utf-8&f=8&rsv_bp=1&rsv_idx=2&tn=baiduhome_pg&wd=%E6%98%8E%E6%98%9F&rsv_spt=1&oq=%25E6%2598%258E%25E6%2598%259F&rsv_pq=a1a2cf770002ec2f&rsv_t=0e3baM8Xu8qPUVhj0snvRVkEdX1Le%2Bm%2FZvXgmFXh1EnnOrdvEFvLRImf6oviVMQdrqmk&rqlang=cn&rsv_enter=0&rsv_dl=tb'"
   ]
  },
  {
   "cell_type": "code",
   "execution_count": 4,
   "metadata": {},
   "outputs": [],
   "source": [
    "from pony.orm import *\n",
    "from selenium import webdriver\n",
    "import time\n",
    "import requests,re,os"
   ]
  },
  {
   "cell_type": "markdown",
   "metadata": {},
   "source": [
    "创建数据库"
   ]
  },
  {
   "cell_type": "code",
   "execution_count": 5,
   "metadata": {},
   "outputs": [
    {
     "ename": "OSError",
     "evalue": "Database file is not found: 'f:/code2020/star.sqlite'",
     "output_type": "error",
     "traceback": [
      "\u001b[1;31m---------------------------------------------------------------------------\u001b[0m",
      "\u001b[1;31mOSError\u001b[0m                                   Traceback (most recent call last)",
      "\u001b[1;32m<ipython-input-5-336fd885460e>\u001b[0m in \u001b[0;36m<module>\u001b[1;34m\u001b[0m\n\u001b[1;32m----> 1\u001b[1;33m \u001b[0mdb\u001b[0m\u001b[1;33m.\u001b[0m\u001b[0mbind\u001b[0m\u001b[1;33m(\u001b[0m\u001b[0mprovider\u001b[0m\u001b[1;33m=\u001b[0m\u001b[1;34m'sqlite'\u001b[0m\u001b[1;33m,\u001b[0m\u001b[0mfilename\u001b[0m\u001b[1;33m=\u001b[0m\u001b[1;34m'f:/code2020/star.sqlite'\u001b[0m\u001b[1;33m)\u001b[0m\u001b[1;33m\u001b[0m\u001b[1;33m\u001b[0m\u001b[0m\n\u001b[0m\u001b[0;32m      2\u001b[0m \u001b[1;33m\u001b[0m\u001b[0m\n\u001b[0;32m      3\u001b[0m \u001b[0mdb\u001b[0m\u001b[1;33m.\u001b[0m\u001b[0mgenerate_mapping\u001b[0m\u001b[1;33m(\u001b[0m\u001b[0mcreate_tables\u001b[0m\u001b[1;33m=\u001b[0m\u001b[1;32mTrue\u001b[0m\u001b[1;33m)\u001b[0m\u001b[1;33m\u001b[0m\u001b[1;33m\u001b[0m\u001b[0m\n\u001b[0;32m      4\u001b[0m \u001b[1;33m\u001b[0m\u001b[0m\n\u001b[0;32m      5\u001b[0m \u001b[0mset_sql_debug\u001b[0m\u001b[1;33m(\u001b[0m\u001b[1;32mTrue\u001b[0m\u001b[1;33m)\u001b[0m\u001b[1;33m\u001b[0m\u001b[1;33m\u001b[0m\u001b[0m\n",
      "\u001b[1;32mD:\\Anaconda3\\lib\\site-packages\\pony\\orm\\core.py\u001b[0m in \u001b[0;36mbind\u001b[1;34m(self, *args, **kwargs)\u001b[0m\n",
      "\u001b[1;32mD:\\Anaconda3\\lib\\site-packages\\pony\\utils\\utils.py\u001b[0m in \u001b[0;36mcut_traceback\u001b[1;34m(func, *args, **kwargs)\u001b[0m\n\u001b[0;32m     75\u001b[0m             \u001b[0mmodule_name\u001b[0m \u001b[1;33m=\u001b[0m \u001b[0mtb\u001b[0m\u001b[1;33m.\u001b[0m\u001b[0mtb_frame\u001b[0m\u001b[1;33m.\u001b[0m\u001b[0mf_globals\u001b[0m\u001b[1;33m.\u001b[0m\u001b[0mget\u001b[0m\u001b[1;33m(\u001b[0m\u001b[1;34m'__name__'\u001b[0m\u001b[1;33m)\u001b[0m \u001b[1;32mor\u001b[0m \u001b[1;34m''\u001b[0m\u001b[1;33m\u001b[0m\u001b[1;33m\u001b[0m\u001b[0m\n\u001b[0;32m     76\u001b[0m             \u001b[1;32mif\u001b[0m \u001b[0mmodule_name\u001b[0m\u001b[1;33m.\u001b[0m\u001b[0mstartswith\u001b[0m\u001b[1;33m(\u001b[0m\u001b[1;34m'pony.utils'\u001b[0m\u001b[1;33m)\u001b[0m \u001b[1;32mand\u001b[0m \u001b[0mtb\u001b[0m\u001b[1;33m.\u001b[0m\u001b[0mtb_frame\u001b[0m\u001b[1;33m.\u001b[0m\u001b[0mf_code\u001b[0m\u001b[1;33m.\u001b[0m\u001b[0mco_name\u001b[0m \u001b[1;33m==\u001b[0m \u001b[1;34m'throw'\u001b[0m\u001b[1;33m:\u001b[0m\u001b[1;33m\u001b[0m\u001b[1;33m\u001b[0m\u001b[0m\n\u001b[1;32m---> 77\u001b[1;33m                 \u001b[0mreraise\u001b[0m\u001b[1;33m(\u001b[0m\u001b[0mexc_type\u001b[0m\u001b[1;33m,\u001b[0m \u001b[0mexc\u001b[0m\u001b[1;33m,\u001b[0m \u001b[0mlast_pony_tb\u001b[0m\u001b[1;33m)\u001b[0m\u001b[1;33m\u001b[0m\u001b[1;33m\u001b[0m\u001b[0m\n\u001b[0m\u001b[0;32m     78\u001b[0m             \u001b[0mreraise\u001b[0m\u001b[1;33m(\u001b[0m\u001b[0mexc_type\u001b[0m\u001b[1;33m,\u001b[0m \u001b[0mexc\u001b[0m\u001b[1;33m,\u001b[0m \u001b[0mfull_tb\u001b[0m\u001b[1;33m)\u001b[0m\u001b[1;33m\u001b[0m\u001b[1;33m\u001b[0m\u001b[0m\n\u001b[0;32m     79\u001b[0m         \u001b[1;32mfinally\u001b[0m\u001b[1;33m:\u001b[0m\u001b[1;33m\u001b[0m\u001b[1;33m\u001b[0m\u001b[0m\n",
      "\u001b[1;32mD:\\Anaconda3\\lib\\site-packages\\pony\\utils\\utils.py\u001b[0m in \u001b[0;36mreraise\u001b[1;34m(***failed resolving arguments***)\u001b[0m\n\u001b[0;32m     93\u001b[0m \u001b[1;32melse\u001b[0m\u001b[1;33m:\u001b[0m\u001b[1;33m\u001b[0m\u001b[1;33m\u001b[0m\u001b[0m\n\u001b[0;32m     94\u001b[0m     \u001b[1;32mdef\u001b[0m \u001b[0mreraise\u001b[0m\u001b[1;33m(\u001b[0m\u001b[0mexc_type\u001b[0m\u001b[1;33m,\u001b[0m \u001b[0mexc\u001b[0m\u001b[1;33m,\u001b[0m \u001b[0mtb\u001b[0m\u001b[1;33m)\u001b[0m\u001b[1;33m:\u001b[0m\u001b[1;33m\u001b[0m\u001b[1;33m\u001b[0m\u001b[0m\n\u001b[1;32m---> 95\u001b[1;33m         \u001b[1;32mtry\u001b[0m\u001b[1;33m:\u001b[0m \u001b[1;32mraise\u001b[0m \u001b[0mexc\u001b[0m\u001b[1;33m.\u001b[0m\u001b[0mwith_traceback\u001b[0m\u001b[1;33m(\u001b[0m\u001b[0mtb\u001b[0m\u001b[1;33m)\u001b[0m\u001b[1;33m\u001b[0m\u001b[1;33m\u001b[0m\u001b[0m\n\u001b[0m\u001b[0;32m     96\u001b[0m         \u001b[1;32mfinally\u001b[0m\u001b[1;33m:\u001b[0m \u001b[1;32mdel\u001b[0m \u001b[0mexc\u001b[0m\u001b[1;33m,\u001b[0m \u001b[0mtb\u001b[0m\u001b[1;33m\u001b[0m\u001b[1;33m\u001b[0m\u001b[0m\n\u001b[0;32m     97\u001b[0m \u001b[1;33m\u001b[0m\u001b[0m\n",
      "\u001b[1;32mD:\\Anaconda3\\lib\\site-packages\\pony\\orm\\dbproviders\\sqlite.py\u001b[0m in \u001b[0;36m_connect\u001b[1;34m(pool)\u001b[0m\n\u001b[0;32m    641\u001b[0m         \u001b[0mfilename\u001b[0m \u001b[1;33m=\u001b[0m \u001b[0mpool\u001b[0m\u001b[1;33m.\u001b[0m\u001b[0mfilename\u001b[0m\u001b[1;33m\u001b[0m\u001b[1;33m\u001b[0m\u001b[0m\n\u001b[0;32m    642\u001b[0m         \u001b[1;32mif\u001b[0m \u001b[0mfilename\u001b[0m \u001b[1;33m!=\u001b[0m \u001b[1;34m':memory:'\u001b[0m \u001b[1;32mand\u001b[0m \u001b[1;32mnot\u001b[0m \u001b[0mpool\u001b[0m\u001b[1;33m.\u001b[0m\u001b[0mcreate_db\u001b[0m \u001b[1;32mand\u001b[0m \u001b[1;32mnot\u001b[0m \u001b[0mos\u001b[0m\u001b[1;33m.\u001b[0m\u001b[0mpath\u001b[0m\u001b[1;33m.\u001b[0m\u001b[0mexists\u001b[0m\u001b[1;33m(\u001b[0m\u001b[0mfilename\u001b[0m\u001b[1;33m)\u001b[0m\u001b[1;33m:\u001b[0m\u001b[1;33m\u001b[0m\u001b[1;33m\u001b[0m\u001b[0m\n\u001b[1;32m--> 643\u001b[1;33m             \u001b[0mthrow\u001b[0m\u001b[1;33m(\u001b[0m\u001b[0mIOError\u001b[0m\u001b[1;33m,\u001b[0m \u001b[1;34m\"Database file is not found: %r\"\u001b[0m \u001b[1;33m%\u001b[0m \u001b[0mfilename\u001b[0m\u001b[1;33m)\u001b[0m\u001b[1;33m\u001b[0m\u001b[1;33m\u001b[0m\u001b[0m\n\u001b[0m\u001b[0;32m    644\u001b[0m         \u001b[0mpool\u001b[0m\u001b[1;33m.\u001b[0m\u001b[0mcon\u001b[0m \u001b[1;33m=\u001b[0m \u001b[0mcon\u001b[0m \u001b[1;33m=\u001b[0m \u001b[0msqlite\u001b[0m\u001b[1;33m.\u001b[0m\u001b[0mconnect\u001b[0m\u001b[1;33m(\u001b[0m\u001b[0mfilename\u001b[0m\u001b[1;33m,\u001b[0m \u001b[0misolation_level\u001b[0m\u001b[1;33m=\u001b[0m\u001b[1;32mNone\u001b[0m\u001b[1;33m,\u001b[0m \u001b[1;33m**\u001b[0m\u001b[0mpool\u001b[0m\u001b[1;33m.\u001b[0m\u001b[0mkwargs\u001b[0m\u001b[1;33m)\u001b[0m\u001b[1;33m\u001b[0m\u001b[1;33m\u001b[0m\u001b[0m\n\u001b[0;32m    645\u001b[0m         \u001b[0mcon\u001b[0m\u001b[1;33m.\u001b[0m\u001b[0mtext_factory\u001b[0m \u001b[1;33m=\u001b[0m \u001b[0m_text_factory\u001b[0m\u001b[1;33m\u001b[0m\u001b[1;33m\u001b[0m\u001b[0m\n",
      "\u001b[1;32mD:\\Anaconda3\\lib\\site-packages\\pony\\utils\\utils.py\u001b[0m in \u001b[0;36mthrow\u001b[1;34m(exc_type, *args, **kwargs)\u001b[0m\n\u001b[0;32m    106\u001b[0m             \u001b[1;32mraise\u001b[0m \u001b[0mexc\u001b[0m\u001b[1;33m\u001b[0m\u001b[1;33m\u001b[0m\u001b[0m\n\u001b[0;32m    107\u001b[0m         \u001b[1;32melse\u001b[0m\u001b[1;33m:\u001b[0m\u001b[1;33m\u001b[0m\u001b[1;33m\u001b[0m\u001b[0m\n\u001b[1;32m--> 108\u001b[1;33m             \u001b[1;32mraise\u001b[0m \u001b[0mexc\u001b[0m  \u001b[1;31m# Set \"pony.options.CUT_TRACEBACK = False\" to see full traceback\u001b[0m\u001b[1;33m\u001b[0m\u001b[1;33m\u001b[0m\u001b[0m\n\u001b[0m\u001b[0;32m    109\u001b[0m     \u001b[1;32mfinally\u001b[0m\u001b[1;33m:\u001b[0m \u001b[1;32mdel\u001b[0m \u001b[0mexc\u001b[0m\u001b[1;33m\u001b[0m\u001b[1;33m\u001b[0m\u001b[0m\n\u001b[0;32m    110\u001b[0m \u001b[1;33m\u001b[0m\u001b[0m\n",
      "\u001b[1;31mOSError\u001b[0m: Database file is not found: 'f:/code2020/star.sqlite'"
     ]
    }
   ],
   "source": [
    "# 建立数据库\n",
    "db = Database()\n",
    "class Star(db.Entity):\n",
    "    id = PrimaryKey(int, column='id', auto=True)\n",
    "    name = Optional(str, column='name')\n",
    "    gender = Optional(str, column='gender')\n",
    "    href = Optional(str, column='href')\n",
    "    year = Optional(int, column='year')\n",
    "    month = Optional(int, column='month')\n",
    "    day = Optional(int, column='day')\n",
    "    xz = Optional(str, column='xz')\n",
    "    html = Optional(str, column='html')\n",
    "    address = Optional(str, column='address')\n",
    "    height = Optional(float, column='height')\n",
    "    picture = Optional(str)\n"
   ]
  },
  {
   "cell_type": "code",
   "execution_count": null,
   "metadata": {},
   "outputs": [],
   "source": [
    "def task1():\n",
    "    '''对数据库的处理'''\n",
    "    # 在指定路径下创建名为star.sqlite的数据库\n",
    "    dbpath = r'C:\\code2020\\star.sqlite'\n",
    "    if os.path.exists(dbpath):\n",
    "        os.remove(dbpath)\n",
    "    f = open(dbpath,'w')\n",
    "    f.close()\n",
    "    db.bind(provider = 'sqlite', filename = 'C:\\code2020/star.sqlite')\n",
    "    db.generate_mapping(create_tables = True)\n",
    "    set_sql_debug(True)"
   ]
  },
  {
   "cell_type": "markdown",
   "metadata": {},
   "source": [
    "爬取明星网页name的信息"
   ]
  },
  {
   "cell_type": "code",
   "execution_count": null,
   "metadata": {},
   "outputs": [],
   "source": [
    "@db_session\n",
    "def _get_name(html):\n",
    "    names = []\n",
    "    reobj = re.compile(r'<p class=\"c-gap-top-small\"><a href=\"[\\d\\D]*?\" title=\"(.{1,20})\" target=\"_blank\">[\\d\\D]*?</a></p>')\n",
    "    for match in reobj.finditer(html):\n",
    "        names.append(match.group(1))\n",
    "    return names"
   ]
  },
  {
   "cell_type": "markdown",
   "metadata": {},
   "source": [
    "爬取明星网页href的信息"
   ]
  },
  {
   "cell_type": "code",
   "execution_count": null,
   "metadata": {},
   "outputs": [],
   "source": [
    "@db_session\n",
    "def _get_href(html):\n",
    "    hrefs = []\n",
    "    reobj = re.compile(r'<p class=\"c-gap-top-small\"><a href=\"([\\d\\D]*?)\" title=\".{1,20}\" target=\"_blank\">[\\d\\D]*?</a></p>')\n",
    "    for match in reobj.finditer(html):\n",
    "        hrefs.append(\"https://www.baidu.com\" + match.group(1))\n",
    "    return hrefs"
   ]
  },
  {
   "cell_type": "markdown",
   "metadata": {},
   "source": [
    "爬取明星网页图片链接的信息"
   ]
  },
  {
   "cell_type": "code",
   "execution_count": null,
   "metadata": {},
   "outputs": [],
   "source": [
    "@db_session\n",
    "def _get_picture(html):\n",
    "    pictures = []\n",
    "    reobj = re.compile(r'src=\"(https://dss)([\\d\\D]*?)\"></a></p>', re.DOTALL)\n",
    "    for match in reobj.finditer(html):\n",
    "        pictures.append(match.group(1) + match.group(2))\n",
    "    return pictures\n"
   ]
  },
  {
   "cell_type": "markdown",
   "metadata": {},
   "source": [
    "打开明星网页，点击女，内地"
   ]
  },
  {
   "cell_type": "code",
   "execution_count": null,
   "metadata": {},
   "outputs": [],
   "source": [
    "@db_session\n",
    "def task2():\n",
    "    driver = webdriver.Chrome()\n",
    "    url = 'https://www.baidu.com/s?wd=%E6%98%8E%E6%98%9F&rsv_spt=1&rsv_iqid=0xbe4b76860031fb66&issp=1&f=8&rsv_bp=1&rsv_idx=2&ie=utf-8&rqlang=&tn=baiduhome_pg&ch=&rsv_enter=1&rsv_dl=ib&inputT=2978'\n",
    "    driver.get(url)\n",
    "\n",
    "    # 点击女，内地\n",
    "    driver.find_element_by_xpath(\"//div[@id='1']/div/div/div/div[2]/p/span[4]\").click()\n",
    "    time.sleep(1)\n",
    "    driver.find_element_by_xpath(\"//div[@id='1']/div/div/div/div[2]/p[2]/span[3]\").click()\n",
    "    time.sleep(1)\n",
    "\n",
    "    while True:\n",
    "        html = driver.page_source\n",
    "        x = ''\n",
    "        reobj2 = re.compile(r'<span class=\"opui-page-next OP_LOG_BTN\" style=\"([\\d\\D]*?)\">下一页</span>')\n",
    "        for match2 in reobj2.finditer(html):\n",
    "            x = match2.group(1)\n",
    "            \n",
    "        if len(x) <= 0:\n",
    "            for i in range(len(_get_name(html))):\n",
    "                names = _get_name(html)\n",
    "                hrefs = _get_href(html)\n",
    "                pictures = _get_picture(html)\n",
    "                s = Star(name = names[i] ,gender = \"女\",href = hrefs[i],picture = pictures[i])\n",
    "                db.commit()\n",
    "            # 点击下一页\n",
    "            driver.find_element_by_xpath(\"//div[@id='1']/div/div/div[2]/div[2]/p/span[6]\").click()\n",
    "            time.sleep(1)\n",
    "        else:\n",
    "            driver.quit()\n",
    "            break"
   ]
  },
  {
   "cell_type": "markdown",
   "metadata": {},
   "source": [
    "爬取明星百科网页HTML的信息"
   ]
  },
  {
   "cell_type": "code",
   "execution_count": null,
   "metadata": {},
   "outputs": [],
   "source": [
    "@db_session\n",
    "def _get_html(name):\n",
    "    head = {'User-Agent': 'Mozilla/5.0 (Windows NT 10.0; Win64; x64) AppleWebKit/537.36 (KHTML, like Gecko) Chrome/80.0.3987.132 Safari/537.36'}\n",
    "    url = 'https://baike.baidu.com/item/' + name\n",
    "    r = requests.get(url,headers = head)\n",
    "    r.encoding = 'utf-8'\n",
    "    htmls = r.text\n",
    "    reobj = re.compile(r'<li class=\"list-dot list-dot-paddingleft\"><div class=\"para\" label-module=\"para\"><a target=[\"]?_blank[\"]? href=\"[\\d\\D]*?\" data-lemmaid=\"([\\d\\D]*?)\">[\\d\\D]*?</a></div></li><li class=\"list-dot list-dot-', re.DOTALL)\n",
    "    for match in reobj.finditer(htmls):\n",
    "        url = 'https://baike.baidu.com/item/' + name + '/' + match.group(1)\n",
    "        r = requests.get(url,headers = head)\n",
    "        r.encoding = 'utf-8'\n",
    "        htmls = r.text\n",
    "        break\n",
    "    return htmls"
   ]
  },
  {
   "cell_type": "markdown",
   "metadata": {},
   "source": [
    "爬取明星星座的信息"
   ]
  },
  {
   "cell_type": "code",
   "execution_count": null,
   "metadata": {},
   "outputs": [],
   "source": [
    "@db_session\n",
    "def _get_xz(html):\n",
    "    xzs = ''\n",
    "    a = ''\n",
    "    reobj = re.compile(r\"\"\"星&nbsp;&nbsp;&nbsp;&nbsp;座</dt>\n",
    "<dd class=\"basicInfo-item value\">\n",
    "([\\d\\D]*?)\n",
    "</dd>\"\"\")\n",
    "    for match in reobj.finditer(html):\n",
    "        a = match.group(1)\n",
    "        if '<a target=' in a:\n",
    "            xzs = re.split('>',a)[1].replace('</a','')\n",
    "        elif len(a) == 2:\n",
    "            xzs = a\n",
    "        else:\n",
    "            xzs = a[:3]\n",
    "    return xzs"
   ]
  },
  {
   "cell_type": "markdown",
   "metadata": {},
   "source": [
    "爬取明星身高的信息"
   ]
  },
  {
   "cell_type": "code",
   "execution_count": null,
   "metadata": {},
   "outputs": [],
   "source": [
    "@db_session\n",
    "def _get_height(html):\n",
    "    heights = 0\n",
    "    a = ''\n",
    "    reobj = re.compile(r\"\"\"身&nbsp;&nbsp;&nbsp;&nbsp;高</dt><dd class=\"basicInfo-item value\">([\\d\\D]*?)</dd>\"\"\", re.DOTALL)\n",
    "    for match in reobj.finditer(html):\n",
    "        a = match.group(1).replace('&nbsp;','')\n",
    "        if '.' in a:\n",
    "            if a[1] == '.' and len(a) > 4 and len(a) < 14:\n",
    "                heights = float(a[:4]) * 100\n",
    "            elif a[1] == '.' and len(a) < 5:\n",
    "                heights = float(a[:3]) * 100\n",
    "            elif a[3] == '.':\n",
    "                heights = a[:5]\n",
    "            else:\n",
    "                heights = a[:3]\n",
    "        elif '米' in a and a[1] == '米':\n",
    "            heights = a.replace('米','')\n",
    "        elif '尺' in a and a[1] == '尺':\n",
    "            heights = int(re.split('尺',a)[0]) * 30.5 + int(re.split('尺',a)[1][0]) * 2.54\n",
    "        elif '呎' in a and a[1] == '呎':\n",
    "            heights = int(re.split('呎',a)[0]) * 30.5 + int(re.split('呎',a)[1][0]) * 2.54\n",
    "        elif '微型化' in a:\n",
    "            pass\n",
    "        elif str(a[:3]).isdigit() == True:\n",
    "            heights = a[:3]\n",
    "        if heights != 0:\n",
    "            return heights"
   ]
  },
  {
   "cell_type": "markdown",
   "metadata": {},
   "source": [
    "爬取明星出生地的信息"
   ]
  },
  {
   "cell_type": "code",
   "execution_count": null,
   "metadata": {},
   "outputs": [],
   "source": [
    "@db_session\n",
    "def _get_address(html):\n",
    "    addresss = ''\n",
    "    a = ''\n",
    "    reobj = re.compile(r\"\"\"出生地</dt><dd class=\"basicInfo-item value\">([\\d\\D]*?)</dd>\"\"\")\n",
    "    for match in reobj.finditer(html):\n",
    "        a = match.group(1)\n",
    "        if '<' in a:\n",
    "            if a.count('<a target=') == 4:\n",
    "                addresss = re.split('>',a)[1].replace('</a','') + re.split('>',a)[3].replace('</a','') + re.split('>',a)[5].replace('</a','') + re.split('>',a)[7].replace('</a','')\n",
    "            if a.count('<a target=') == 3:\n",
    "                addresss = re.split('>',a)[1].replace('</a','') + re.split('>',a)[3].replace('</a','') + re.split('>',a)[5].replace('</a','')\n",
    "            elif a.count('<a target=') == 2:\n",
    "                addresss = re.split('>',a)[1].replace('</a','') + re.split('>',a)[3].replace('</a','')\n",
    "            elif a.count('<a target=') == 1:\n",
    "                addresss = re.split('>',a)[1].replace('</a','')\n",
    "            else:\n",
    "                addresss = re.split('<',a)[0]\n",
    "        else:\n",
    "            addresss = a\n",
    "    addresss = addresss.replace('&nbsp;','')\n",
    "    return addresss\n"
   ]
  },
  {
   "cell_type": "markdown",
   "metadata": {},
   "source": [
    "爬取明星出生年的信息"
   ]
  },
  {
   "cell_type": "code",
   "execution_count": null,
   "metadata": {},
   "outputs": [],
   "source": [
    "@db_session\n",
    "def _get_year(html):\n",
    "    years = 0\n",
    "    a = ''\n",
    "    # sz用于后面将中文数字变成阿拉伯数字\n",
    "    sz = \"一二三四五六七八九\"\n",
    "    # y用于下面存放将中文数字变成阿拉伯数字后的结果\n",
    "    y = \"\"\n",
    "    reobj = re.compile(r'''出生[日期]*?</dt>\n",
    "<dd class=\"basicInfo-item value[\\d\\D]*?\">\n",
    "([\\d\\D]*?)\n",
    "</dd>''', re.DOTALL)\n",
    "    for match in reobj.finditer(html):\n",
    "        a = match.group(1)\n",
    "        if str(a[:4]).isdigit() == True:\n",
    "            years = a[:4]\n",
    "        elif re.split('年',match.group(1))[0][-4:].isdigit() == True:\n",
    "            years = re.split('年',a)[0][-4:]\n",
    "        elif re.split('年',a)[0][-4:] == '</a>' and re.split('年',a)[0][-8:-4].isdigit() == True:\n",
    "            years = re.split('年',a)[0][-8:-4]\n",
    "        if years != 0:\n",
    "            return years"
   ]
  },
  {
   "cell_type": "markdown",
   "metadata": {},
   "source": [
    "爬取明星出生月的信息"
   ]
  },
  {
   "cell_type": "code",
   "execution_count": null,
   "metadata": {},
   "outputs": [],
   "source": [
    "@db_session\n",
    "def _get_month(html):\n",
    "    months = 0\n",
    "    a = ''\n",
    "    reobj = re.compile(r'''出生[日期]*?</dt><dd class=\"basicInfo-item value[\\d\\D]*?\">([\\d\\D]*?)</dd>''', re.DOTALL)\n",
    "    for match in reobj.finditer(html):\n",
    "        a = match.group(1)\n",
    "        if '月' in a:\n",
    "            if str(re.split('月',a)[0][-2:]).isdigit() == True:\n",
    "                months = re.split('月',a)[0][-2:]\n",
    "            elif str(re.split('月',a)[0][-1:]).isdigit() == True:\n",
    "                months = re.split('月',a)[0][-1:]\n",
    "            elif '</a>'in re.split('月',a)[0]:\n",
    "                if str(re.split('月',a)[0][-6:-4]).isdigit() == True:\n",
    "                    months = re.split('月',a)[0][-6:-4]\n",
    "                if str(re.split('月',a)[0][-5:-4]).isdigit() == True:\n",
    "                    months = re.split('月',a)[0][-5:-4]\n",
    "        elif  '/' in a and str(re.split('/',a)[1]).isdigit() == True and len(a)>5:\n",
    "            months = re.split('/',a)[1]\n",
    "        elif  '-' in a and str(re.split('-',a)[1]).isdigit() == True and len(a)>5:\n",
    "            months = re.split('-',a)[1]\n",
    "        elif  ' - ' in a and str(re.split(' - ',a)[1]).isdigit() == True and len(a)>5: \n",
    "            months = re.split(' - ',match.group(1))[1]\n",
    "        elif  '，' in a and str(re.split('，',a)[1]).isdigit() == True and len(a)>5:\n",
    "            months = re.split('，',match.group(1))[1]\n",
    "        elif  '－' in a and str(re.split('－',a)[1]).isdigit() == True and len(a)>5:\n",
    "            months = re.split('－',a)[1]\n",
    "        elif '.' in a and str(a.split('.')[1]).isdigit() == True and len(a)>5:\n",
    "            months = match.group(1).split('.')[1]\n",
    "        elif '年' not in a and len(a) <6 and str(a).isdigit() != True:\n",
    "            if str(a[:2]).isdigit() == True:\n",
    "                months = a[:2]\n",
    "            elif str(a[:1]).isdigit() == True:\n",
    "                months = a[:1]\n",
    "        elif '年' in a:\n",
    "            if str(re.split('年',a)[1][:2]).isdigit() == True:\n",
    "                months = re.split('年',a)[1][:2]\n",
    "            elif str(re.split('年',a)[1][:1]).isdigit() == True:\n",
    "                months = re.split('年',a)[1][:1]\n",
    "        if months != 0:\n",
    "            return months"
   ]
  },
  {
   "cell_type": "markdown",
   "metadata": {},
   "source": [
    "爬取明星出生日的信息"
   ]
  },
  {
   "cell_type": "code",
   "execution_count": null,
   "metadata": {},
   "outputs": [],
   "source": [
    "@db_session\n",
    "def _get_day(html):\n",
    "    days = 0\n",
    "    reobj = re.compile(r\"\"\"出生日期</dt><dd class=\"basicInfo-item value\">([\\d\\D]*?)</dd>\"\"\", re.DOTALL)\n",
    "    for match in reobj.finditer(html):\n",
    "        a = match.group(1)\n",
    "        if str(a).isdigit() != True and str(a[-2:]).isdigit() == True:\n",
    "            days = match.group(1)[-2:]\n",
    "        elif str(a).isdigit() != True and str(a[-1:]).isdigit() == True:\n",
    "            days = a[-1:]\n",
    "        elif a[-1:] == '号' and a[-3:-1].isdigit() == True:\n",
    "            days = a[-3:-1]\n",
    "        elif a[-1:] == '号' and a[-2:-1].isdigit() == True:\n",
    "            days = a[-2:-1]\n",
    "        elif '日' in a and str(a[-3:-1]).strip().isdigit() == True:\n",
    "            days = str(a[-3:-1]).strip()\n",
    "        elif '日' in a and str(a[-2:-1]).strip().isdigit() == True:\n",
    "            days = a[-2:-1].strip()\n",
    "        elif a[-5:-1] == '</a>':\n",
    "            if str(a[-7:-5]).strip().isdigit() == True:\n",
    "                days = a[-7:-5]\n",
    "            elif str(a[-6:-5]).strip().isdigit() == True:\n",
    "                days = a[-6:-5]\n",
    "        elif '月' in a and str(re.split('月',a)[1][:2]).strip().isdigit() == True:\n",
    "            days = re.split('月',a)[1][:2].strip()\n",
    "        elif '月' in a and str(re.split('月',a)[1][:1]).strip().isdigit() == True:\n",
    "            days = re.split('月',a)[1][:1].strip()\n",
    "        elif '日' in a and a[-1:] == '日' and str(a[-3:-1]).strip().isdigit() == True:\n",
    "            days = a[-3:-1].strip()\n",
    "        elif '-' in a and str(re.split('-',a)[1][:2]).strip().isdigit() == True:\n",
    "            if len(a) < 5:\n",
    "                days = re.split('-',a)[1][:2].strip()\n",
    "            elif str(re.split('-',a)[2][:2]).strip().isdigit() == True:\n",
    "                days = re.split('-',a)[2][:2].strip()\n",
    "        elif '-' in a and len(a)< 5 and str(re.split('-',a)[1][:1]).strip().isdigit() == True:\n",
    "            days = re.split('-',a)[1][:1].strip()\n",
    "        if days != 0:\n",
    "            return days"
   ]
  },
  {
   "cell_type": "code",
   "execution_count": null,
   "metadata": {},
   "outputs": [],
   "source": []
  },
  {
   "cell_type": "code",
   "execution_count": null,
   "metadata": {},
   "outputs": [],
   "source": [
    "for star in Star.select():\n",
    "    get_href(star.name)\n",
    "    time.sleep(2)\n",
    "    get_html(star.href)\n",
    "    time.sleep(2)\n",
    "    get_xz(star.html)\n",
    "    time.sleep(2)\n",
    "    get_height(star.html)\n",
    "    time.sleep(2)\n",
    "    get_gender()\n",
    "    time.sleep(2)\n",
    "    get_address(star.html)\n",
    "    time.sleep(2)\n",
    "    get_year(star.html)\n",
    "    time.sleep(2)\n",
    "    get_month(star.html)\n",
    "    time.sleep(2)\n",
    "    get_day(star.html)"
   ]
  },
  {
   "cell_type": "markdown",
   "metadata": {},
   "source": [
    "将爬取到的数据入库"
   ]
  },
  {
   "cell_type": "code",
   "execution_count": null,
   "metadata": {},
   "outputs": [],
   "source": [
    "def task3():\n",
    "    with db_session:\n",
    "        for s in Star.select():\n",
    "            # 将爬取到的明星的HTML入库\n",
    "            s.html = _get_html(s.name)\n",
    "            # 将爬取到的明星的星座入库\n",
    "            s.xz = _get_xz(s.html)\n",
    "            # 将爬取到的明星的身高入库\n",
    "            s.height = _get_height(s.html)\n",
    "            # 将爬取到的明星的出生地入库\n",
    "            s.address = _get_address(s.html)\n",
    "            # 将爬取到的明星的出生年入库\n",
    "            s.year = _get_year(s.html)\n",
    "            # 将爬取到的明星的出生月入库\n",
    "            s.month = _get_month(s.html)\n",
    "            # 将爬取到的明星的出生日入库\n",
    "            s.day = _get_day(s.html)\n",
    "            db.commit()"
   ]
  },
  {
   "cell_type": "code",
   "execution_count": null,
   "metadata": {},
   "outputs": [],
   "source": [
    "# 数据库处理\n",
    "task1()\n",
    "# 打开明星网页，点击女，内地,判断是否为最后一页，如果不是则对name，href，图片的数据采集并存储到列表中，若是最后一页则退出\n",
    "task2()\n",
    "# 将爬取到的数据入库\n",
    "task3()"
   ]
  }
 ],
 "metadata": {
  "kernelspec": {
   "display_name": "Python 3",
   "language": "python",
   "name": "python3"
  },
  "language_info": {
   "codemirror_mode": {
    "name": "ipython",
    "version": 3
   },
   "file_extension": ".py",
   "mimetype": "text/x-python",
   "name": "python",
   "nbconvert_exporter": "python",
   "pygments_lexer": "ipython3",
   "version": "3.7.4"
  }
 },
 "nbformat": 4,
 "nbformat_minor": 4
}
