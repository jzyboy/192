{
 "cells": [
  {
   "cell_type": "code",
   "execution_count": 3,
   "metadata": {},
   "outputs": [],
   "source": [
    "from selenium import webdriver\n",
    "from lxml import etree\n",
    "import csv\n",
    "\n",
    "driver=webdriver.Chrome()\n",
    "url='https://www.baidu.com/s?ie=utf-8&f=8&rsv_bp=1&rsv_idx=1&tn=baidu&wd=%E6%98%8E%E6%98%9F&rsv_t=4cdfMC24yafl7XkhvhYCu77tyF9XwvOAeiYmj7YASgGGzB2Cuna0IvAOjoQ&rsv_enter=1&rsv_dl=tb&rsv_sug3=7&rsv_sug1=2&rsv_sug7=101&rsv_sug2=0&inputT=1753&rsv_sug4=3137&rsv_sug=1'\n",
    "driver.get(url)"
   ]
  },
  {
   "cell_type": "code",
   "execution_count": null,
   "metadata": {},
   "outputs": [],
   "source": [
    "driver.find_element_by_xpath(\"//div[@id='1']/div/div/div/div[2]/p/span[4]\").click()\n",
    "import sleep\n",
    "time.sleep(5)\n",
    "driver.find_element_by_xpath(\"//div[@id='1']/div/div/div/div[2]/p[2]/span[3]\").click()"
   ]
  },
  {
   "cell_type": "code",
   "execution_count": null,
   "metadata": {},
   "outputs": [],
   "source": [
    "names=[]\n",
    "pic=[]\n",
    "hrefs=[]"
   ]
  },
  {
   "cell_type": "code",
   "execution_count": null,
   "metadata": {},
   "outputs": [],
   "source": [
    "for i in range(20):\n",
    "    html=etree.HTML(driver.page_source,etree.HTMLParser())\n",
    "    n=html.xpath('//*[@id=\"1\"]/div/div[1]/div[2]/div[1]/div/p[2]/a/text()')\n",
    "    p=html.xpath('//*[@id=\"1\"]/div/div[1]/div[2]/div[1]/div/p[1]/a/img/@src')\n",
    "    h=html.xpath('//*[@id=\"1\"]/div/div[1]/div[2]/div[1]/div/p[1]/a/@href')\n",
    "    for i in range(len(n)):\n",
    "        names.append(n[i])\n",
    "        pic.append(p[i])\n",
    "        hrefs.append(\"https://www.baidu.com\"+h[i])\n",
    "    driver.find_element_by_xpath('//*[@id=\"1\"]/div/div[1]/div[2]/div[2]/p/span[6]').click()"
   ]
  },
  {
   "cell_type": "code",
   "execution_count": null,
   "metadata": {},
   "outputs": [],
   "source": [
    "data=[]\n",
    "for i in range(len(names)):\n",
    "    data.append((names[i],pic[i],hrefs[i]))\n",
    "    \n",
    "finish=open('明星表格.csv','w',newline='')\n",
    "w=csv.writer(finish)\n",
    "for i in data:\n",
    "    w.writerow(i)\n",
    "finish.close()"
   ]
  },
  {
   "cell_type": "code",
   "execution_count": null,
   "metadata": {},
   "outputs": [],
   "source": []
  }
 ],
 "metadata": {
  "kernelspec": {
   "display_name": "Python 3",
   "language": "python",
   "name": "python3"
  },
  "language_info": {
   "codemirror_mode": {
    "name": "ipython",
    "version": 3
   },
   "file_extension": ".py",
   "mimetype": "text/x-python",
   "name": "python",
   "nbconvert_exporter": "python",
   "pygments_lexer": "ipython3",
   "version": "3.7.4"
  }
 },
 "nbformat": 4,
 "nbformat_minor": 4
}
