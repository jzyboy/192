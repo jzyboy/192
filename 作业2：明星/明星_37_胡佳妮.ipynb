{
 "cells": [
  {
   "cell_type": "code",
   "execution_count": 3,
   "metadata": {},
   "outputs": [
    {
     "ename": "ModuleNotFoundError",
     "evalue": "No module named 'pony'",
     "output_type": "error",
     "traceback": [
      "\u001b[1;31m---------------------------------------------------------------------------\u001b[0m",
      "\u001b[1;31mModuleNotFoundError\u001b[0m                       Traceback (most recent call last)",
      "\u001b[1;32m<ipython-input-3-37a3ee6cedc5>\u001b[0m in \u001b[0;36m<module>\u001b[1;34m\u001b[0m\n\u001b[1;32m----> 1\u001b[1;33m \u001b[1;32mfrom\u001b[0m \u001b[0mpony\u001b[0m\u001b[1;33m.\u001b[0m\u001b[0morm\u001b[0m \u001b[1;32mimport\u001b[0m \u001b[1;33m*\u001b[0m\u001b[1;33m\u001b[0m\u001b[1;33m\u001b[0m\u001b[0m\n\u001b[0m\u001b[0;32m      2\u001b[0m \u001b[0mdb\u001b[0m \u001b[1;33m=\u001b[0m \u001b[0mDatabase\u001b[0m\u001b[1;33m(\u001b[0m\u001b[1;33m)\u001b[0m\u001b[1;33m\u001b[0m\u001b[1;33m\u001b[0m\u001b[0m\n\u001b[0;32m      3\u001b[0m \u001b[1;32mclass\u001b[0m \u001b[0mStar\u001b[0m\u001b[1;33m(\u001b[0m\u001b[0mdb\u001b[0m\u001b[1;33m.\u001b[0m\u001b[0mEntity\u001b[0m\u001b[1;33m)\u001b[0m\u001b[1;33m:\u001b[0m\u001b[1;33m\u001b[0m\u001b[1;33m\u001b[0m\u001b[0m\n\u001b[0;32m      4\u001b[0m     \u001b[0mid\u001b[0m \u001b[1;33m=\u001b[0m \u001b[0mPrimaryKey\u001b[0m\u001b[1;33m(\u001b[0m\u001b[0mint\u001b[0m\u001b[1;33m,\u001b[0m \u001b[0mauto\u001b[0m\u001b[1;33m=\u001b[0m\u001b[1;32mTrue\u001b[0m\u001b[1;33m)\u001b[0m\u001b[1;33m\u001b[0m\u001b[1;33m\u001b[0m\u001b[0m\n\u001b[0;32m      5\u001b[0m     \u001b[0mname\u001b[0m \u001b[1;33m=\u001b[0m \u001b[0mOptional\u001b[0m\u001b[1;33m(\u001b[0m\u001b[0mstr\u001b[0m\u001b[1;33m,\u001b[0m \u001b[0mcolumn\u001b[0m\u001b[1;33m=\u001b[0m\u001b[1;34m'name'\u001b[0m\u001b[1;33m)\u001b[0m\u001b[1;33m\u001b[0m\u001b[1;33m\u001b[0m\u001b[0m\n",
      "\u001b[1;31mModuleNotFoundError\u001b[0m: No module named 'pony'"
     ]
    }
   ],
   "source": [
    "from pony.orm import *\n",
    "db = Database()\n",
    "class Star(db.Entity):\n",
    "    id = PrimaryKey(int, auto=True)\n",
    "    name = Optional(str, column='name')\n",
    "    picture=Optional(str, column='picture')\n",
    "    href1=Optional(str, column='href1')\n",
    "    gender = Optional(str, column='gender')\n",
    "    href = Optional(str, column='href')\n",
    "    year = Optional(int, column='year')\n",
    "    month = Optional(int, column='month')\n",
    "    day = Optional(int, column='day')\n",
    "    xz = Optional(str, column='xz')\n",
    "    html = Optional(str, column='html')\n",
    "    address = Optional(str, column='address')\n",
    "    height = Optional(float, column='height')\n",
    "db.bind(provider='sqlite',filename='f:/ex7/star.sqlite')\n",
    "db.generate_mapping(create_tables=True)\n",
    "set_sql_debug(True)"
   ]
  },
  {
   "cell_type": "code",
   "execution_count": 2,
   "metadata": {},
   "outputs": [
    {
     "ename": "SyntaxError",
     "evalue": "invalid character in identifier (<ipython-input-2-85211152ba25>, line 1)",
     "output_type": "error",
     "traceback": [
      "\u001b[1;36m  File \u001b[1;32m\"<ipython-input-2-85211152ba25>\"\u001b[1;36m, line \u001b[1;32m1\u001b[0m\n\u001b[1;33m    1.将名字、链接、小图片，入库\u001b[0m\n\u001b[1;37m                  ^\u001b[0m\n\u001b[1;31mSyntaxError\u001b[0m\u001b[1;31m:\u001b[0m invalid character in identifier\n"
     ]
    }
   ],
   "source": [
    "def get_name(n):\n",
    "    html = driver.page_source\n",
    "    reobj = re.compile(r'<div class=\"op_exactqa_item c-gap-bottom c-span4 [\\d\\D]*?\"><div class=\"op_exactqa_feedback OP_LOG_BTN\">[\\d\\D]*?<a href=\"([\\d\\D]*?)\" title=\"([\\d\\D]*?)\" target=\"_blank\"><img class=\"[\\d\\D]*?\" src=\"([\\d\\D]*?)\">')\n",
    "    # for i in range(330):\n",
    "    for i in range(n):\n",
    "        html = driver.page_source\n",
    "        for match in reobj.finditer(html):\n",
    "            href2=match.group(1)\n",
    "            name1=match.group(2)\n",
    "            picture1=match.group(3)\n",
    "            s=Star(name=name1,href1=href2,picture=picture1)\n",
    "            db.commit()\n",
    "        driver.find_element_by_xpath(\"//div[@id='1']/div/div/div[2]/div[2]/p/span[6]\").click()\n",
    "        time.sleep(2)\n",
    "    driver.close()\n",
    "    \n",
    "def get_href(n):\n",
    "    star.href=\"https://baike.baidu.com/item/\"+n\n",
    "    time.sleep(2)\n",
    "    db.commit()\n",
    "\n",
    "def get_html(h):\n",
    "    driver=webdriver.Chrome()\n",
    "    driver.get(h)\n",
    "    time.sleep(2)\n",
    "    star.html=driver.page_source\n",
    "    time.sleep(2)\n",
    "    driver.close()\n",
    "    db.commit()"
   ]
  },
  {
   "cell_type": "code",
   "execution_count": 4,
   "metadata": {},
   "outputs": [
    {
     "ename": "SyntaxError",
     "evalue": "invalid character in identifier (<ipython-input-4-0b6b1274bc0d>, line 38)",
     "output_type": "error",
     "traceback": [
      "\u001b[1;36m  File \u001b[1;32m\"<ipython-input-4-0b6b1274bc0d>\"\u001b[1;36m, line \u001b[1;32m38\u001b[0m\n\u001b[1;33m    获取明星的出生年，月，日\u001b[0m\n\u001b[1;37m               ^\u001b[0m\n\u001b[1;31mSyntaxError\u001b[0m\u001b[1;31m:\u001b[0m invalid character in identifier\n"
     ]
    }
   ],
   "source": [
    "def get_xz(h):\n",
    "    reobj = re.compile(r'座</dt>\\n<dd class=\"basicInfo-item value\">\\n([\\d\\D]*?)\\n<')\n",
    "    for match in reobj.finditer(h):\n",
    "        xz1=match.group(1)\n",
    "        if len(xz1)==3:\n",
    "            star.xz=xz1\n",
    "            time.sleep(2)\n",
    "            db.commit()\n",
    "        else:\n",
    "            reobj = re.compile(r'座</dt>\\n<dd class=\"basicInfo-item value\">\\n<a target=\"_blank\" [\\d\\D]*?\">([\\d\\D]*?)<')\n",
    "            for match in reobj.finditer(h):\n",
    "                xz1=match.group(1)\n",
    "                star.xz=xz1\n",
    "                time.sleep(2)\n",
    "                db.commit()\n",
    "\n",
    "def get_height(h):\n",
    "    reobj = re.compile(r'高</dt>\\n<dd class=\"basicInfo-item value\">\\n([\\d\\D]*?)cm\\n<')\n",
    "    for match in reobj.finditer(h):\n",
    "        sg1=match.group(1)\n",
    "        star.height=sg1\n",
    "        time.sleep(2)\n",
    "        db.commit()\n",
    "\n",
    "def get_gender():\n",
    "    star.gender=\"女\"\n",
    "    time.sleep(2)\n",
    "    db.commit()\n",
    "\n",
    "def get_address(h):\n",
    "    reobj = re.compile(r'<dt class=\"basicInfo-item name\">出生地[\\d\\D]*?\">([\\d\\D]*?)<')\n",
    "    for match in reobj.finditer(h):\n",
    "        jg1=match.group(1)\n",
    "        star.address=jg1\n",
    "        time.sleep(2)\n",
    "        db.commit()\n",
    "\n",
    "def get_year(h):\n",
    "    reobj = re.compile(r'<dt class=\"basicInfo-item name\">出生日期[\\d\\D]*?\">([\\d\\D]*?)年')\n",
    "    for match in reobj.finditer(h):\n",
    "        year1=match.group(1)\n",
    "        star.year=year1\n",
    "        time.sleep(2)\n",
    "        db.commit()\n",
    "def get_month(h):\n",
    "    reobj = re.compile(r'<dt class=\"basicInfo-item name\">出生日期[\\d\\D]*?年([\\d\\D]*?)月')\n",
    "    for match in reobj.finditer(h):\n",
    "        month1=match.group(1)\n",
    "        star.month=month1\n",
    "        time.sleep(2)\n",
    "        db.commit()\n",
    "def get_day(h):\n",
    "    reobj = re.compile(r'<dt class=\"basicInfo-item name\">出生日期[\\d\\D]*?月([\\d\\D]*?)日')\n",
    "    for match in reobj.finditer(h):\n",
    "        day1=match.group(1)\n",
    "        star.day=day1\n",
    "        time.sleep(2)\n",
    "        db.commit()"
   ]
  },
  {
   "cell_type": "code",
   "execution_count": null,
   "metadata": {},
   "outputs": [],
   "source": [
    "from selenium import webdriver\n",
    "import time\n",
    "import re\n",
    "driver=webdriver.Chrome()\n",
    "url = 'https://www.baidu.com/s?ie=utf-8&f=8&rsv_bp=1&rsv_idx=2&tn=baiduhome_pg&wd=%E6%98%8E%E6%98%9F&rsv_spt=1&oq=%25E6%2598%258E%25E6%2598%259F&rsv_pq=a1a2cf770002ec2f&rsv_t=0e3baM8Xu8qPUVhj0snvRVkEdX1Le%2Bm%2FZvXgmFXh1EnnOrdvEFvLRImf6oviVMQdrqmk&rqlang=cn&rsv_enter=0&rsv_dl=tb'\n",
    "driver.get(url)\n",
    "time.sleep(2)\n",
    "driver.find_element_by_xpath(\"//div[@id='1']/div/div/div/div[2]/p/span[4]\").click()\n",
    "time.sleep(2)\n",
    "driver.find_element_by_xpath(\"//div[@id='1']/div/div/div/div[2]/p[2]/span[3]\").click()\n",
    "html = driver.page_source\n",
    "get_name(1)\n",
    "for star in Star.select():\n",
    "    get_href(star.name)\n",
    "    time.sleep(2)\n",
    "    get_html(star.href)\n",
    "    time.sleep(2)\n",
    "    get_xz(star.html)\n",
    "    time.sleep(2)\n",
    "    get_height(star.html)\n",
    "    time.sleep(2)\n",
    "    get_gender()\n",
    "    time.sleep(2)\n",
    "    get_address(star.html)\n",
    "    time.sleep(2)\n",
    "    get_year(star.html)\n",
    "    time.sleep(2)\n",
    "    get_month(star.html)\n",
    "    time.sleep(2)\n",
    "    get_day(star.html)"
   ]
  }
 ],
 "metadata": {
  "kernelspec": {
   "display_name": "Python 3",
   "language": "python",
   "name": "python3"
  },
  "language_info": {
   "codemirror_mode": {
    "name": "ipython",
    "version": 3
   },
   "file_extension": ".py",
   "mimetype": "text/x-python",
   "name": "python",
   "nbconvert_exporter": "python",
   "pygments_lexer": "ipython3",
   "version": "3.7.4"
  }
 },
 "nbformat": 4,
 "nbformat_minor": 4
}
