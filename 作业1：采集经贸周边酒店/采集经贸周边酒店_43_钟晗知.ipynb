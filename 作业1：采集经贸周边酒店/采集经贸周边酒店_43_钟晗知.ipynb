{
 "cells": [
  {
   "cell_type": "code",
   "execution_count": 7,
   "metadata": {},
   "outputs": [],
   "source": [
    "from selenium import webdriver\n",
    "driver=webdriver.Chrome()\n",
    "url = 'https://map.baidu.com/search/%E9%85%92%E5%BA%97/@13401816.6,3523321.62,16z?querytype=nb&r=1000&c=179&wd=%E9%85%92%E5%BA%97&nbtp=2&nb_x=13401816.6&nb_y=3523321.62&pl_hotel_book_pc_section=0,%2B&pl_data_type=hotel&pl_sub_type=%E9%85%92%E5%BA%97&pl_price_section=0,%2B&pl_sort_type=default&pl_sort_rule=0&pl_discount2_section=0,%2B&pl_groupon_section=0,%2B&pl_cater_book_pc_section=0,%2B&pl_ticket_book_flag_section=0,%2B&pl_movie_book_section=0,%2B&pl_business_type=hotel&reserveReturnCard=true&from=webmap&query=%E9%85%92%E5%BA%97&qid=2311421916203954279&page_num=0&uid=7a0cb8c0d67a634683a00c28&b=(13398744.6,3521877.62;13404888.6,3524765.62)&biz_forward=%7B%22scaler%22:2,%22styles%22:%22pl%22%7D&l=16&gr_radius=1000&pn=0&device_ratio=2&da_src=shareurl'\n",
    "driver.get(url)\n"
   ]
  },
  {
   "cell_type": "code",
   "execution_count": 9,
   "metadata": {},
   "outputs": [],
   "source": [
    "html = driver.page_source\n",
    "#print(html)"
   ]
  },
  {
   "cell_type": "code",
   "execution_count": 10,
   "metadata": {},
   "outputs": [
    {
     "name": "stdout",
     "output_type": "stream",
     "text": [
      "速8酒店(杭州下沙金沙居店)\n",
      "TEL茶砚酒店\n",
      "杭州品江商务酒店\n",
      "杭州青芒酒店\n",
      "后街主题酒店\n",
      "微八主题酒店\n",
      "汉庭酒店(杭州下沙学正街店)\n",
      "贝壳酒店(学正街店)\n",
      "杭州陌上花开2019公寓\n",
      "杭州钱塘江语公寓\n"
     ]
    }
   ],
   "source": [
    "import re\n",
    "reobj = re.compile(r'<a href=\".*?\" class=\"n-blue\" data-index=\".*?\" data-stat-code=\".*?\" data-detail-code=\"list_page\">([\\s\\S]*?)</a>')\n",
    "for match in reobj.finditer(html):\n",
    "    print(match.group(1))\n"
   ]
  },
  {
   "cell_type": "code",
   "execution_count": 11,
   "metadata": {},
   "outputs": [
    {
     "name": "stdout",
     "output_type": "stream",
     "text": [
      "经济型\n",
      "酒店\n",
      "舒适型\n",
      "经济型\n",
      "经济型\n",
      "经济型\n",
      "经济型\n",
      "经济型\n",
      "酒店\n",
      "酒店\n"
     ]
    }
   ],
   "source": [
    "import re\n",
    "reobj = re.compile(r'<span>.*?<i class=\"seperate\">.*?</i>([\\s\\S]*?)                </span>')\n",
    "for match in reobj.finditer(html):\n",
    "    print(match.group(1))\n"
   ]
  },
  {
   "cell_type": "code",
   "execution_count": 12,
   "metadata": {},
   "outputs": [
    {
     "name": "stdout",
     "output_type": "stream",
     "text": [
      "杭州市江干区学正街567号金沙居B座3层\n",
      "学源街239号浙江经贸学院北门\n",
      "浙江省杭州市江干区学源街239号(浙江经贸学院北门)\n",
      "浙江省杭州市江干区学正街388号阳光创富中心10楼\n",
      "浙江省杭州市江干区下沙学正街559号(金沙居B座)\n",
      "浙江省杭州市江干区经济技术开发区学正街549号金沙居A座\n",
      "浙江省杭州市江干区学正街388号阳光创富中心内\n",
      "浙江省杭州市江干区学正街539号\n",
      "浙江省杭州市江干区宝龙城市广场二期\n",
      "宝龙城市广场\n"
     ]
    }
   ],
   "source": [
    "import re\n",
    "reobj = re.compile(r'<span class=\"n-grey\" title=\"([\\s\\S]*?)\">')\n",
    "for match in reobj.finditer(html):\n",
    "    print(match.group(1))\n"
   ]
  },
  {
   "cell_type": "code",
   "execution_count": null,
   "metadata": {},
   "outputs": [],
   "source": [
    "driver.find_element_by_link_text(u\"下一页>\").click()"
   ]
  },
  {
   "cell_type": "code",
   "execution_count": null,
   "metadata": {},
   "outputs": [],
   "source": [
    "import codecs\n",
    "f = codecs.open(r\"c:\\code2020\\result.csv\",\"w\",\"utf-8\")\n",
    "f.write(\"hotel1,address1,type1\")\n",
    "f.close()"
   ]
  }
 ],
 "metadata": {
  "kernelspec": {
   "display_name": "Python 3",
   "language": "python",
   "name": "python3"
  },
  "language_info": {
   "codemirror_mode": {
    "name": "ipython",
    "version": 3
   },
   "file_extension": ".py",
   "mimetype": "text/x-python",
   "name": "python",
   "nbconvert_exporter": "python",
   "pygments_lexer": "ipython3",
   "version": "3.7.4"
  }
 },
 "nbformat": 4,
 "nbformat_minor": 2
}
