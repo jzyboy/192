{
 "cells": [
  {
   "cell_type": "code",
   "execution_count": 2,
   "metadata": {},
   "outputs": [],
   "source": [
    "from selenium import webdriver\n",
    "driver=webdriver.Chrome()\n",
    "url = 'https://www.baidu.com'\n",
    "driver.get(url)"
   ]
  },
  {
   "cell_type": "code",
   "execution_count": 3,
   "metadata": {},
   "outputs": [],
   "source": [
    "from selenium import webdriver\n",
    "driver=webdriver.Chrome()\n",
    "url = 'https://map.baidu.com/search/%E9%85%92%E5%BA%97/@13401816.6,3523321.62,17z?querytype=nb&r=1000&wd=%E9%85%92%E5%BA%97&nb_x=13401816.60&nb_y=3523321.62&uid=7a0cb8c0d67a634683a00c28&b=(13400809.909611505,3522782.19066226;13402823.09336229,3524093.869264365)&l=17&gr_radius=1000&pn=0&device_ratio=2&da_src=shareurl'\n",
    "driver.get(url)"
   ]
  },
  {
   "cell_type": "code",
   "execution_count": 63,
   "metadata": {
    "scrolled": false
   },
   "outputs": [],
   "source": [
    "import re\n",
    "import time\n",
    "html = driver.page_source\n",
    "#print(\"酒店名称\",\",评分:\",\",类型:\",\",地址:\")\n",
    "list=[]\n",
    "for i in range(2):\n",
    "    html = driver.page_source\n",
    "    reobj = re.compile(r'class=\"n-blue\"[\\d\\D]*?>([\\d\\D]*?)</a>[\\d\\D]*?<span>([\\d\\D]*?)<[\\d\\D]*?i>([\\d\\D]*?)<[\\d\\D]*?title=\"([\\d\\D]*?)\"')\n",
    "    for match in reobj.finditer(html):\n",
    "        a=match.group(1)\n",
    "        b=match.group(2)\n",
    "        c=match.group(3)\n",
    "        d=match.group(4)\n",
    "        t=(a,b,c,d)\n",
    "        list.append(t)\n",
    "    driver.find_element_by_link_text(u\"下一页>\").click()\n",
    "    time.sleep(2)"
   ]
  },
  {
   "cell_type": "code",
   "execution_count": 64,
   "metadata": {},
   "outputs": [],
   "source": [
    "import codecs\n",
    "a=len(list)\n",
    "f = codecs.open(r\"f:\\333.csv\",\"w\",\"utf_8_sig\")\n",
    "f.write(\"酒店名称,评分,类型 ,地址\\n\")\n",
    "for i in range (a-1):\n",
    "    a=list[i]\n",
    "    f.write(a[0]+\",\"+a[1]+\",\"+a[2]+\",\"+a[3]+\"\\n\")\n",
    "f.close()"
   ]
  },
  {
   "cell_type": "code",
   "execution_count": null,
   "metadata": {},
   "outputs": [],
   "source": []
  }
 ],
 "metadata": {
  "kernelspec": {
   "display_name": "Python 3",
   "language": "python",
   "name": "python3"
  },
  "language_info": {
   "codemirror_mode": {
    "name": "ipython",
    "version": 3
   },
   "file_extension": ".py",
   "mimetype": "text/x-python",
   "name": "python",
   "nbconvert_exporter": "python",
   "pygments_lexer": "ipython3",
   "version": "3.7.4"
  }
 },
 "nbformat": 4,
 "nbformat_minor": 2
}
