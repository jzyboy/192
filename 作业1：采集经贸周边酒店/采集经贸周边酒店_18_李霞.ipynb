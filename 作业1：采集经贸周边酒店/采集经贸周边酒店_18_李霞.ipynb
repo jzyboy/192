{
 "cells": [
  {
   "cell_type": "code",
   "execution_count": 11,
   "metadata": {},
   "outputs": [
    {
     "name": "stdout",
     "output_type": "stream",
     "text": [
      "TEL茶砚酒店 4.1/5分 舒适型 学源街239号浙江经贸学院北门\n",
      "速8酒店(杭州下沙金沙居店) 3.9/5分 经济型 杭州市江干区学正街567号金沙居B座3层\n",
      "杭州青芒酒店 4.6/5分 经济型 浙江省杭州市江干区学正街388号阳光创富中心10楼\n",
      "后街主题酒店 4.1/5分 经济型 浙江省杭州市江干区下沙学正街559号(金沙居B座)\n",
      "贝壳酒店(学正街店) 4.5/5分 经济型 浙江省杭州市江干区学正街539号\n",
      "微八主题酒店 4.9/5分 经济型 浙江省杭州市江干区经济技术开发区学正街549号金沙居A座\n",
      "家州旅馆 5.0/5分 经济型 浙江省杭州市江干区25号大街1116号\n",
      "潮人旅馆 4.5/5分 经济型 杭州市江干区２５号大街与学正街交叉路口南侧(金沙学府)\n",
      "汉庭酒店(杭州下沙学正街店) 4.1/5分 经济型 浙江省杭州市江干区学正街388号阳光创富中心内\n",
      "怡梦宾馆 2.5/5分 经济型 浙江省杭州市江干区25号大街1178号金沙学府\n",
      "[('TEL茶砚酒店', '4.1/5分', '舒适型', '学源街239号浙江经贸学院北门'), ('速8酒店(杭州下沙金沙居店)', '3.9/5分', '经济型', '杭州市江干区学正街567号金沙居B座3层'), ('杭州青芒酒店', '4.6/5分', '经济型', '浙江省杭州市江干区学正街388号阳光创富中心10楼'), ('后街主题酒店', '4.1/5分', '经济型', '浙江省杭州市江干区下沙学正街559号(金沙居B座)'), ('贝壳酒店(学正街店)', '4.5/5分', '经济型', '浙江省杭州市江干区学正街539号'), ('微八主题酒店', '4.9/5分', '经济型', '浙江省杭州市江干区经济技术开发区学正街549号金沙居A座'), ('家州旅馆', '5.0/5分', '经济型', '浙江省杭州市江干区25号大街1116号'), ('潮人旅馆', '4.5/5分', '经济型', '杭州市江干区２５号大街与学正街交叉路口南侧(金沙学府)'), ('汉庭酒店(杭州下沙学正街店)', '4.1/5分', '经济型', '浙江省杭州市江干区学正街388号阳光创富中心内'), ('怡梦宾馆', '2.5/5分', '经济型', '浙江省杭州市江干区25号大街1178号金沙学府')]\n"
     ]
    }
   ],
   "source": [
    "from selenium import webdriver\n",
    "driver=webdriver.Chrome()\n",
    "url = 'https://map.baidu.com/search/%E9%85%92%E5%BA%97/@13401816.6,3523321.62,11.91z?querytype=nb&from=webmap&c=179&wd=%E9%85%92%E5%BA%97&pn=0&nn=0&db=0&sug=0&addr=0&pl_data_type=hotel&pl_sub_type=%E9%85%92%E5%BA%97&pl_price_section=0,%2B&pl_sort_type=default&pl_sort_rule=0&pl_discount2_section=0,%2B&pl_groupon_section=0,%2B&pl_cater_book_pc_section=0,%2B&pl_hotel_book_pc_section=0,%2B&pl_ticket_book_flag_section=0,%2B&pl_movie_book_section=0,%2B&pl_business_type=hotel&da_src=shareurl&on_gel=1&src=7&gr=3&l=11.911834556181791&uid=7a0cb8c0d67a634683a00c28&r=1000&device_ratio=2'\n",
    "driver.get(url)\n",
    "\n",
    "html = driver.page_source\n",
    "\n",
    "import re\n",
    "reobj = re.compile(r'<a href=\"javascript:void\\(0\\)\" class=\"n-blue\" data-index=\"[\\d\\D]*?\" data-stat-code=\"poisearch\\.hotel\\.title\" data-detail-code=\"list_page\">([\\d\\D]*?)</a>[\\d\\D]*?<span>                    ([\\d\\D]*?)<i class=\"seperate\">\\|</i>([\\d\\D]*?)                </span>[\\d\\D]*?<span class=\"n-grey\" title=\"[\\d\\D]*?\">([\\d\\D]*?)</span>', re.MULTILINE)\n",
    "list=[]\n",
    "for match in reobj.finditer(html):\n",
    "    print(match.group(1),match.group(2),match.group(3),match.group(4))\n",
    "    list.append((match.group(1),match.group(2),match.group(3),match.group(4)))\n",
    "print(list)\n",
    "    \n"
   ]
  },
  {
   "cell_type": "code",
   "execution_count": 12,
   "metadata": {},
   "outputs": [],
   "source": [
    "import csv \n",
    "file=open('D:/jiudian.csv','w',newline=\"\")  \n",
    "Writer=csv.writer(file) "
   ]
  },
  {
   "cell_type": "code",
   "execution_count": 13,
   "metadata": {},
   "outputs": [],
   "source": [
    "while True:\n",
    "    html = driver.page_source\n",
    "    reobj = re.compile(r'<a href=\"javascript:void[\\d\\D]*?data-detail-code=\"list_page\">([\\d\\D]*?)</a>[\\d\\D]*?<span>                    ([\\d\\D]*?)<i class=\"seperate\">\\|</i>([\\d\\D]*?)                </span>[\\d\\D]*?<span class=\"n-grey\" title=\"([\\d\\D]*?)\">',re.MULTILINE)\n",
    "    for match in reobj.finditer(html):\n",
    "        file.write(match.group(1)+\",\"+match.group(2)+\",\"+match.group(3)+\",\"+match.group(4)+\"\\n\")#把数据放到excel表中\n",
    "    reobj2 = re.compile(r'<a href=\"javascript:void\\(0\\)\" tid=\"toNextPage\"(.*)?\">下一页&gt;</a>')\n",
    "    for match2 in reobj2.finditer(html):\n",
    "        a = match2.group(1)\n",
    "    if len(a)<30:\n",
    "        break\n",
    "    else:\n",
    "        driver.find_element_by_link_text(u\"下一页>\").click()\n",
    "    time.sleep(3)\n",
    "file.close()"
   ]
  },
  {
   "cell_type": "code",
   "execution_count": null,
   "metadata": {},
   "outputs": [],
   "source": []
  }
 ],
 "metadata": {
  "kernelspec": {
   "display_name": "Python 3",
   "language": "python",
   "name": "python3"
  },
  "language_info": {
   "codemirror_mode": {
    "name": "ipython",
    "version": 3
   },
   "file_extension": ".py",
   "mimetype": "text/x-python",
   "name": "python",
   "nbconvert_exporter": "python",
   "pygments_lexer": "ipython3",
   "version": "3.7.4"
  }
 },
 "nbformat": 4,
 "nbformat_minor": 2
}
