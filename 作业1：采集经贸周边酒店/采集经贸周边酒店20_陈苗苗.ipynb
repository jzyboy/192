{
 "cells": [
  {
   "cell_type": "code",
   "execution_count": 15,
   "metadata": {},
   "outputs": [
    {
     "name": "stdout",
     "output_type": "stream",
     "text": [
      "[('浙江供销客房部', '/5分', '酒店', '杭州市江干区'), ('速8酒店(杭州下沙金沙居店)', '3.9/5分', '经济型', '杭州市江干区学正街567号金沙居B座3层'), ('TEL茶砚酒店', '4.1/5分', '舒适型', '学源街239号浙江经贸学院北门'), ('杭州尚爱快捷酒店(下沙学正街店)', '3.2/5分', '经济型', '浙江省杭州市江干区下沙经济技术开发区学正街575号学正街金沙居B座1层'), ('杭州青芒酒店', '4.6/5分', '经济型', '浙江省杭州市江干区学正街388号阳光创富中心10楼'), ('后街主题酒店', '4.1/5分', '经济型', '浙江省杭州市江干区下沙学正街559号(金沙居B座)'), ('沙城旅馆', '2.5/5分', '经济型', '杭州市江干区２５号大街与６号大街交叉路口往北约100米(金沙学府)'), ('贝壳酒店(学正街店)', '4.5/5分', '经济型', '浙江省杭州市江干区学正街539号'), ('杭州陌上花开2019公寓', '5.0/5分', '酒店', '浙江省杭州市江干区宝龙城市广场二期'), ('杭州钱塘江语公寓', '0.0/5分', '经济型', '宝龙城市广场')]\n"
     ]
    }
   ],
   "source": [
    "import time\n",
    "from selenium import webdriver\n",
    "driver=webdriver.Chrome()\n",
    "url='https://map.baidu.com/search/%E9%85%92%E5%BA%97/@13401611.22,3523380.14,17z?querytype=nb&r=1000&c=179&wd=%E9%85%92%E5%BA%97&uid=bd7bf0ed2392c6141811d550&b=(13400533.22,3522405.14;13402689.22,3524355.14)&l=17&gr_radius=1000&pn=0&device_ratio=1&da_src=shareurl'\n",
    "\n",
    "driver.get(url)\n",
    "time.sleep(5)\n",
    "driver.get(url)\n",
    "html=driver.page_source\n",
    "\n",
    "import re\n",
    "reobj = re.compile(r'<a href=\"javascript:void\\(0\\)\" class=\"n-blue\" data-index=\"[\\d\\D]*?\" data-stat-code=\"poisearch\\.hotel\\.title\" data-detail-code=\"list_page\">([\\d\\D]*?)</a>[\\d\\D]*?<span>                    ([\\d\\D]*?)<i class=\"seperate\">\\|</i>([\\d\\D]*?)                </span>[\\d\\D]*?<span class=\"n-grey\" title=\"[\\d\\D]*?\">([\\d\\D]*?)</span>')\n",
    "li=[]\n",
    "for match in reobj.finditer(html):\n",
    "    li.append((match.group(1),match.group(2),match.group(3),match.group(4)))\n",
    "print(li)\n"
   ]
  },
  {
   "cell_type": "code",
   "execution_count": 16,
   "metadata": {},
   "outputs": [],
   "source": [
    "import csv \n",
    "file=open('D:/jiudian.csv','w',newline=\"\")\n",
    "Writer=csv.writer(file)"
   ]
  },
  {
   "cell_type": "code",
   "execution_count": 17,
   "metadata": {},
   "outputs": [],
   "source": [
    "while True:\n",
    "    html = driver.page_source\n",
    "    reobj = re.compile(r'<a href=\"javascript:void[\\d\\D]*?data-detail-code=\"list_page\">([\\d\\D]*?)</a>[\\d\\D]*?<span>                    ([\\d\\D]*?)<i class=\"seperate\">\\|</i>([\\d\\D]*?)                </span>[\\d\\D]*?<span class=\"n-grey\" title=\"([\\d\\D]*?)\">',re.MULTILINE)\n",
    "    for match in reobj.finditer(html):\n",
    "        file.write(match.group(1)+\",\"+match.group(2)+\",\"+match.group(3)+\",\"+match.group(4)+\"\\n\")#把数据放到excel表中\n",
    "    reobj2 = re.compile(r'<a href=\"javascript:void\\(0\\)\" tid=\"toNextPage\"(.*)?\">下一页&gt;</a>')\n",
    "    for match2 in reobj2.finditer(html):\n",
    "        a = match2.group(1)\n",
    "    if len(a)<30:\n",
    "        break\n",
    "    else:\n",
    "        driver.find_element_by_link_text(u\"下一页>\").click()\n",
    "    time.sleep(3)\n",
    "file.close()"
   ]
  },
  {
   "cell_type": "code",
   "execution_count": null,
   "metadata": {},
   "outputs": [],
   "source": []
  }
 ],
 "metadata": {
  "kernelspec": {
   "display_name": "Python 3",
   "language": "python",
   "name": "python3"
  },
  "language_info": {
   "codemirror_mode": {
    "name": "ipython",
    "version": 3
   },
   "file_extension": ".py",
   "mimetype": "text/x-python",
   "name": "python",
   "nbconvert_exporter": "python",
   "pygments_lexer": "ipython3",
   "version": "3.7.4"
  }
 },
 "nbformat": 4,
 "nbformat_minor": 2
}
