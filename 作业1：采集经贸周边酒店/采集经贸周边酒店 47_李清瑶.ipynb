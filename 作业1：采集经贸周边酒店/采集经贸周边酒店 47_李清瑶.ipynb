{
 "cells": [
  {
   "cell_type": "code",
   "execution_count": null,
   "metadata": {},
   "outputs": [],
   "source": [
    "from selenium import webdriver\n",
    "driver=webdriver.Chrome()\n",
    "url = 'https://map.baidu.com/search/%E9%85%92%E5%BA%97/@13401816.6,3523321.62,11.91z?querytype=nb&from=webmap&c=179&wd=%E9%85%92%E5%BA%97&pn=0&nn=0&db=0&sug=0&addr=0&pl_data_type=hotel&pl_sub_type=%E9%85%92%E5%BA%97&pl_price_section=0,%2B&pl_sort_type=default&pl_sort_rule=0&pl_discount2_section=0,%2B&pl_groupon_section=0,%2B&pl_cater_book_pc_section=0,%2B&pl_hotel_book_pc_section=0,%2B&pl_ticket_book_flag_section=0,%2B&pl_movie_book_section=0,%2B&pl_business_type=hotel&da_src=shareurl&on_gel=1&src=7&gr=3&l=11.911834556181791&uid=7a0cb8c0d67a634683a00c28&r=1000&device_ratio=2'\n",
    "driver.get(url)"
   ]
  },
  {
   "cell_type": "code",
   "execution_count": null,
   "metadata": {},
   "outputs": [],
   "source": [
    "html = driver.page_source"
   ]
  },
  {
   "cell_type": "code",
   "execution_count": null,
   "metadata": {},
   "outputs": [],
   "source": [
    "import re\n",
    "import pandas as pd\n",
    "list1 = []\n",
    "list2 = []\n",
    "list3 = []\n",
    "list4 = []\n",
    "reobj = re.compile(r'<a href=\"javascript:void[\\d\\D]*?data-detail-code=\"list_page\">([\\d\\D]*?)</a>[\\d\\D]*?<span>                    ([\\d\\D]*?)<i class=\"seperate\">\\|</i>([\\d\\D]*?)                </span>[\\d\\D]*?<span class=\"n-grey\" title=\"([\\d\\D]*?)\">',re.MULTILINE)\n",
    "for match in reobj.finditer(html):\n",
    "    list1.append(match.group(1))\n",
    "    list2.append(match.group(2))\n",
    "    list3.append(match.group(3))\n",
    "    list4.append(match.group(4))\n",
    "pd.DataFrame({'店名':list1,'评分':list2,'类型':list3,'地址':list4})"
   ]
  },
  {
   "cell_type": "code",
   "execution_count": null,
   "metadata": {},
   "outputs": [],
   "source": [
    "driver.find_element_by_link_text(u\"下一页>\").click()"
   ]
  },
  {
   "cell_type": "code",
   "execution_count": null,
   "metadata": {},
   "outputs": [],
   "source": [
    "import time\n",
    "from selenium import webdriver\n",
    "driver=webdriver.Chrome()\n",
    "url = 'https://map.baidu.com/search/%E9%85%92%E5%BA%97/@13401816.6,3523321.62,16z?querytype=nb&r=1000&c=179&wd=%E9%85%92%E5%BA%97&uid=7a0cb8c0d67a634683a00c28&b=(13393816.6,3524971.62;13397960.6,3527671.62)&l=16&gr_radius=1000&pn=0&device_ratio=2&da_src=shareurl'\n",
    "driver.get(url)\n",
    "\n",
    "html = driver.page_source\n",
    "\n",
    "import codecs\n",
    "import re\n",
    "f = codecs.open(r\"e:\\酒店.csv\",\"w\",\"utf_8_sig\")\n",
    "f.write(\"酒店名称,评分,类型 ,地址\\n\")\n",
    "reobj = re.compile(r'<a href=\"javascript:void[\\d\\D]*?data-detail-code=\"list_page\">([\\d\\D]*?)</a>[\\d\\D]*?<span>                    ([\\d\\D]*?)<i class=\"seperate\">\\|</i>([\\d\\D]*?)                </span>[\\d\\D]*?<span class=\"n-grey\" title=\"([\\d\\D]*?)\">',re.MULTILINE)\n",
    "for match in reobj.finditer(html):\n",
    "    f.write(match.group(1)+\",\"+match.group(2)+\",\"+match.group(3)+\",\"+match.group(4)+\"\\n\")\n",
    "f.close()"
   ]
  },
  {
   "cell_type": "code",
   "execution_count": null,
   "metadata": {},
   "outputs": [],
   "source": [
    "import time\n",
    "import re\n",
    "import codecs\n",
    "from selenium import webdriver\n",
    "#打开网页\n",
    "driver=webdriver.Chrome()\n",
    "url = 'https://map.baidu.com/search/%E9%85%92%E5%BA%97/@13401816.6,3523321.62,11.91z?querytype=nb&from=webmap&c=179&wd=%E9%85%92%E5%BA%97&pn=0&nn=0&db=0&sug=0&addr=0&pl_data_type=hotel&pl_sub_type=%E9%85%92%E5%BA%97&pl_price_section=0,%2B&pl_sort_type=default&pl_sort_rule=0&pl_discount2_section=0,%2B&pl_groupon_section=0,%2B&pl_cater_book_pc_section=0,%2B&pl_hotel_book_pc_section=0,%2B&pl_ticket_book_flag_section=0,%2B&pl_movie_book_section=0,%2B&pl_business_type=hotel&da_src=shareurl&on_gel=1&src=7&gr=3&l=11.911834556181791&uid=7a0cb8c0d67a634683a00c28&r=1000&device_ratio=2'\n",
    "driver.get(url)\n",
    "\n",
    "\n",
    "#采集和下一页\n",
    "f = codecs.open(r\"e:\\酒店.csv\",\"w\",\"utf_8_sig\")\n",
    "f.write(\"酒店名称,评分,类型 ,地址\\n\")\n",
    "\n",
    "\n",
    "while True:\n",
    "    html = driver.page_source\n",
    "    reobj = re.compile(r'<a href=\"javascript:void[\\d\\D]*?data-detail-code=\"list_page\">([\\d\\D]*?)</a>[\\d\\D]*?<span>                    ([\\d\\D]*?)<i class=\"seperate\">\\|</i>([\\d\\D]*?)                </span>[\\d\\D]*?<span class=\"n-grey\" title=\"([\\d\\D]*?)\">',re.MULTILINE)\n",
    "    for match in reobj.finditer(html):\n",
    "        f.write(match.group(1)+\",\"+match.group(2)+\",\"+match.group(3)+\",\"+match.group(4)+\"\\n\")#把数据放到excel表中\n",
    "    reobj2 = re.compile(r'<a href=\"javascript:void\\(0\\)\" tid=\"toNextPage\"(.*)?\">下一页&gt;</a>')\n",
    "    for match2 in reobj2.finditer(html):\n",
    "        a = match2.group(1)\n",
    "    if len(a)<30:\n",
    "        break\n",
    "    else:\n",
    "        driver.find_element_by_link_text(u\"下一页>\").click()\n",
    "    time.sleep(3)\n",
    "f.close()"
   ]
  },
  {
   "cell_type": "code",
   "execution_count": null,
   "metadata": {},
   "outputs": [],
   "source": []
  }
 ],
 "metadata": {
  "kernelspec": {
   "display_name": "Python 3",
   "language": "python",
   "name": "python3"
  },
  "language_info": {
   "codemirror_mode": {
    "name": "ipython",
    "version": 3
   },
   "file_extension": ".py",
   "mimetype": "text/x-python",
   "name": "python",
   "nbconvert_exporter": "python",
   "pygments_lexer": "ipython3",
   "version": "3.7.4"
  }
 },
 "nbformat": 4,
 "nbformat_minor": 2
}
