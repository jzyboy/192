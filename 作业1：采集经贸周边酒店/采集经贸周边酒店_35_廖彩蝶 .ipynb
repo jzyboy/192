{
 "cells": [
  {
   "cell_type": "markdown",
   "metadata": {},
   "source": [
    "作业 # https://www.yuque.com/ol1q37/gi94xp/ao43mx\n",
    "百度地图网页 # https://map.baidu.com/search/%E9%85%92%E5%BA%97/@13395888.6,3526321.62,16z?querytype=nb&from=webmap&c=179&wd=%E9%85%92%E5%BA%97&pn=4&nn=30&db=0&sug=0&addr=0&pl_data_type=hotel&pl_sub_type=%E9%85%92%E5%BA%97&pl_price_section=0,%2B&pl_sort_type=default&pl_sort_rule=0&pl_discount2_section=0,%2B&pl_groupon_section=0,%2B&pl_cater_book_pc_section=0,%2B&pl_hotel_book_pc_section=0,%2B&pl_ticket_book_flag_section=0,%2B&pl_movie_book_section=0,%2B&pl_business_type=hotel&da_src=shareurl&on_gel=1&src=7&gr=3&l=13&uid=7a0cb8c0d67a634683a00c28&r=1000&device_ratio=2"
   ]
  },
  {
   "cell_type": "code",
   "execution_count": null,
   "metadata": {},
   "outputs": [],
   "source": [
    "from selenium import webdriver\n",
    "import re\n",
    "driver=webdriver.Chrome()\n",
    "url = 'https://map.baidu.com/search/%E6%B5%99%E6%B1%9F%E7%BB%8F%E8%B4%B8%E9%85%92%E5%BA%97/@13140516.440000001,3469619.88,8z?querytype=s&da_src=shareurl&wd=%E6%B5%99%E6%B1%9F%E7%BB%8F%E8%B4%B8%E9%85%92%E5%BA%97&c=179&src=0&pn=0&sug=0&l=15&b=(13396610.085,3520600.1100000003;13407218.085,3525704.1100000003)&from=webmap&biz_forward=%7B%22scaler%22:1,%22styles%22:%22pl%22%7D&device_ratio=1'\n",
    "driver.get(url)"
   ]
  },
  {
   "cell_type": "code",
   "execution_count": 5,
   "metadata": {},
   "outputs": [],
   "source": [
    "html = driver.page_source"
   ]
  },
  {
   "cell_type": "code",
   "execution_count": 6,
   "metadata": {},
   "outputs": [],
   "source": [
    "match = re.search(r'<ul id=\"cards-level1\" class=\"cardlist\">[\\s\\S]*?</ul>', html)\n",
    "if match:\n",
    "\tresult = match.group(0)\n",
    "else:\n",
    "\tresult = \"\""
   ]
  },
  {
   "cell_type": "code",
   "execution_count": 14,
   "metadata": {},
   "outputs": [
    {
     "ename": "TabError",
     "evalue": "inconsistent use of tabs and spaces in indentation (<ipython-input-14-d877f4726b70>, line 7)",
     "output_type": "error",
     "traceback": [
      "\u001b[1;36m  File \u001b[1;32m\"<ipython-input-14-d877f4726b70>\"\u001b[1;36m, line \u001b[1;32m7\u001b[0m\n\u001b[1;33m    match.group(2)\u001b[0m\n\u001b[1;37m                  ^\u001b[0m\n\u001b[1;31mTabError\u001b[0m\u001b[1;31m:\u001b[0m inconsistent use of tabs and spaces in indentation\n"
     ]
    }
   ],
   "source": [
    "list_1=[]\n",
    "list_2=[]\n",
    "html = result\n",
    "reobj = re.compile(r'data-detail-code=\"list_page\">([\\d\\D]*?)</a>[\\d\\D]*?</i>[\\d\\D]*?([\\d\\D]*?)</span>')\n",
    "for match in reobj.finditer(html):\n",
    "\tmatch.group(1)\n",
    " \tmatch.group(2)\n",
    "list_1.append(group(1))\n",
    "list_2.append(group(2))"
   ]
  },
  {
   "cell_type": "code",
   "execution_count": 9,
   "metadata": {},
   "outputs": [
    {
     "name": "stdout",
     "output_type": "stream",
     "text": [
      "经济型                \n",
      "舒适型                \n",
      "经济型                \n",
      "经济型                \n",
      "高档型                \n",
      "酒店                \n"
     ]
    }
   ],
   "source": [
    "html = result\n",
    "reobj = re.compile(r'data-detail-code=\"list_page\">([\\d\\D]*?)</a>[\\d\\D]*?</i>[\\d\\D]*?([\\d\\D]*?)</span>')\n",
    "for match in reobj.finditer(html):\n",
    "\tprint(match.group(2))\n",
    "     print(\"采集完毕\")\n",
    "        break"
   ]
  },
  {
   "cell_type": "code",
   "execution_count": null,
   "metadata": {},
   "outputs": [],
   "source": []
  }
 ],
 "metadata": {
  "kernelspec": {
   "display_name": "Python 3",
   "language": "python",
   "name": "python3"
  },
  "language_info": {
   "codemirror_mode": {
    "name": "ipython",
    "version": 3
   },
   "file_extension": ".py",
   "mimetype": "text/x-python",
   "name": "python",
   "nbconvert_exporter": "python",
   "pygments_lexer": "ipython3",
   "version": "3.7.4"
  }
 },
 "nbformat": 4,
 "nbformat_minor": 4
}
