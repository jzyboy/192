{
 "cells": [
  {
   "cell_type": "code",
   "execution_count": 5,
   "metadata": {},
   "outputs": [],
   "source": [
    "import re\n",
    "from selenium import webdriver\n",
    "import time\n",
    "import csv"
   ]
  },
  {
   "cell_type": "code",
   "execution_count": 8,
   "metadata": {},
   "outputs": [],
   "source": [
    "def get_data():\n",
    "    \"\"\"获取酒店信息\"\"\"\n",
    "    while True:\n",
    "        html=driver.page_source\n",
    "        #定义了一个正则表达式\n",
    "        reobj = re.compile(r'<a href=\"javascript:void[\\d\\D]*?\"list_page\">([\\d\\D]*?)</a>[\\d\\D]*?</div>[\\d\\D]*?<div class=\"row\">                <span>([\\d\\D]*?)<i[\\d\\D]*?i>([\\d\\D]*?)</span>[\\d\\D]*?title=\"([\\d\\D]*?)\">')\n",
    "        #迭代循环输出每一个匹配的数据\n",
    "        for match in reobj.finditer(html):\n",
    "            li.append((match.group(1).strip(),match.group(2).strip(),match.group(3).strip(),match.group(4).strip()))\n",
    "        #判断是否最后一页,最后一页退出\n",
    "        if re.search(r'<a href=\"javascript:void\\(0\\)\" tid=\"toNextPage\" class=\"next next-none\">下一页&gt;</a>',html):\n",
    "            break\n",
    "        driver.find_element_by_link_text(u'下一页>').click()\n",
    "        time.sleep(2)"
   ]
  },
  {
   "cell_type": "code",
   "execution_count": 9,
   "metadata": {},
   "outputs": [],
   "source": [
    "def save(path):\n",
    "    \"\"\"生成CSV文件\"\"\"\n",
    "    file=open(path,'w',newline=\"\")  # 打开要写入的csv文件\n",
    "    Writer=csv.writer(file) # 生成Writer对象\n",
    "    for i in li: # 循环遍历酒店信息\n",
    "        Writer.writerow(i)  # 将酒店信息写入csv文件\n",
    "    file.close()"
   ]
  },
  {
   "cell_type": "code",
   "execution_count": 10,
   "metadata": {},
   "outputs": [],
   "source": [
    "driver=webdriver.Chrome()\n",
    "url='https://map.baidu.com/search/%E9%85%92%E5%BA%97/@13401816.6,3523321.6200000006,16z?querytype=nb&r=1000&wd=%E9%85%92%E5%BA%97&nb_x=13401816.60&nb_y=3523321.62&uid=7a0cb8c0d67a634683a00c28&b=(13401202.110172413,3523037.0486206897;13402431.210938696,3523672.713754789)&l=18&gr_radius=1000&pn=0&device_ratio=1&da_src=shareurl'\n",
    "driver.get(url)\n",
    "time.sleep(1)\n",
    "li = []\n",
    "get_data()\n",
    "save('酒店.csv')"
   ]
  },
  {
   "cell_type": "code",
   "execution_count": null,
   "metadata": {},
   "outputs": [],
   "source": []
  }
 ],
 "metadata": {
  "kernelspec": {
   "display_name": "Python 3",
   "language": "python",
   "name": "python3"
  },
  "language_info": {
   "codemirror_mode": {
    "name": "ipython",
    "version": 3
   },
   "file_extension": ".py",
   "mimetype": "text/x-python",
   "name": "python",
   "nbconvert_exporter": "python",
   "pygments_lexer": "ipython3",
   "version": "3.7.4"
  }
 },
 "nbformat": 4,
 "nbformat_minor": 4
}
