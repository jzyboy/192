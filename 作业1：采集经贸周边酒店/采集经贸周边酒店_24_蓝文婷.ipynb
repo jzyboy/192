{
 "cells": [
  {
   "cell_type": "code",
   "execution_count": 27,
   "metadata": {},
   "outputs": [],
   "source": [
    "from selenium import webdriver\n",
    "driver = webdriver.Chrome()\n",
    "url = \"https://map.baidu.com/search/%E9%85%92%E5%BA%97/@13401816.6,3523321.62,11z?querytype=nb&r=1000&wd=%E9%85%92%E5%BA%97&nb_x=13401816.60&nb_y=3523321.62&uid=7a0cb8c0d67a634683a00c28&b=(13358647.23882143,3494507.32282143;13434325.493892854,3563765.5716785695)&l=11&gr_radius=1000&pn=0&device_ratio=2&da_src=shareurl\"\n",
    "driver.get(url)"
   ]
  },
  {
   "cell_type": "code",
   "execution_count": 28,
   "metadata": {},
   "outputs": [],
   "source": [
    "html = driver.page_source\n",
    "#print (html)"
   ]
  },
  {
   "cell_type": "code",
   "execution_count": 29,
   "metadata": {},
   "outputs": [],
   "source": [
    "import codecs\n",
    "f = codecs.open(r\"d:\\酒店.csv\",\"w\",\"utf_8_sig\")\n",
    "f.write(\"酒店名称,评分,类型 ,地址\\n\")"
   ]
  },
  {
   "cell_type": "code",
   "execution_count": 30,
   "metadata": {},
   "outputs": [],
   "source": [
    "import re\n",
    "import time\n",
    "while True:\n",
    "    html = driver.page_source\n",
    "    reobj = re.compile(r'<a href=\"javascript:void[\\d\\D]*?data-detail-code=\"list_page\">([\\d\\D]*?)</a>[\\d\\D]*?<span>                    ([\\d\\D]*?)<i class=\"seperate\">\\|</i>([\\d\\D]*?)                </span>[\\d\\D]*?<span class=\"n-grey\" title=\"([\\d\\D]*?)\">',re.MULTILINE)\n",
    "    for match in reobj.finditer(html):\n",
    "        f.write(match.group(1)+\",\"+match.group(2)+\",\"+match.group(3)+\",\"+match.group(4)+\"\\n\")\n",
    "    reobj2 = re.compile(r'<a href=\"javascript:void\\(0\\)\" tid=\"toNextPage\"(.*)?\">下一页&gt;</a>')\n",
    "    for match2 in reobj2.finditer(html):\n",
    "        a = match2.group(1)\n",
    "    if len(a)<30:\n",
    "        break\n",
    "    else:\n",
    "        driver.find_element_by_link_text(u\"下一页>\").click()\n",
    "    time.sleep(1)\n",
    "f.close()"
   ]
  },
  {
   "cell_type": "code",
   "execution_count": null,
   "metadata": {},
   "outputs": [],
   "source": []
  }
 ],
 "metadata": {
  "kernelspec": {
   "display_name": "Python 3",
   "language": "python",
   "name": "python3"
  },
  "language_info": {
   "codemirror_mode": {
    "name": "ipython",
    "version": 3
   },
   "file_extension": ".py",
   "mimetype": "text/x-python",
   "name": "python",
   "nbconvert_exporter": "python",
   "pygments_lexer": "ipython3",
   "version": "3.7.4"
  }
 },
 "nbformat": 4,
 "nbformat_minor": 2
}
