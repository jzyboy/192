{
 "cells": [
  {
   "cell_type": "markdown",
   "metadata": {},
   "source": [
    "# 使百度地图学校周边酒店信息"
   ]
  },
  {
   "cell_type": "markdown",
   "metadata": {},
   "source": [
    "## 打开百度地图"
   ]
  },
  {
   "cell_type": "code",
   "execution_count": 1,
   "metadata": {},
   "outputs": [],
   "source": [
    "from selenium import webdriver\n",
    "driver=webdriver.Chrome()\n",
    "url = 'https://map.baidu.com/search/%E9%85%92%E5%BA%97/@13401816.6,3523321.62,16z?querytype=nb&r=1000&wd=%E9%85%92%E5%BA%97&nb_x=13401816.60&nb_y=3523321.62&uid=7a0cb8c0d67a634683a00c28&b=(13397976.6,3521497.62;13405656.6,3525145.62)&l=16&gr_radius=1000&pn=0&device_ratio=1&da_src=shareurl'\n",
    "driver.get(url)"
   ]
  },
  {
   "cell_type": "markdown",
   "metadata": {},
   "source": [
    "# 获取网页中的酒店信息"
   ]
  },
  {
   "cell_type": "code",
   "execution_count": null,
   "metadata": {},
   "outputs": [],
   "source": [
    "import re \n",
    "import time\n",
    "list = []\n",
    "for i in range(100):#不能写死，正常的逻辑是，判断下一页不能点击了，我们就执行后续的操作\n",
    "    html = driver.page_source #获取网页源代码\n",
    "    reobj = re.compile(r'class=\"n-blue\"[\\d\\D]*?>([\\d\\D]*?)</a>[\\d\\D]*?<span>([\\d\\D]*?)<[\\d\\D]*?i>([\\d\\D]*?)<[\\d\\D]*?title=\"([\\d\\D]*?)\"')\n",
    "    for match in reobj.finditer(html):\n",
    "        print(type(match))\n",
    "        print(\"=\"*10)\n",
    "        a=match.group(1)\n",
    "        b=match.group(2)\n",
    "        c=match.group(3)\n",
    "        d=match.group(4)\n",
    "        print(a,b,c,d)\n",
    "        list.append((a,b,c,d))\n",
    "        \n",
    "    driver.find_element_by_link_text(u\"下一页>\").click()\n",
    "    time.sleep(2)\n",
    "print(list)"
   ]
  },
  {
   "cell_type": "markdown",
   "metadata": {},
   "source": [
    "# 更改代码"
   ]
  },
  {
   "cell_type": "code",
   "execution_count": 26,
   "metadata": {},
   "outputs": [
    {
     "name": "stdout",
     "output_type": "stream",
     "text": [
      "\"curPage\">3</span><span><a href=\"javascript:void(0)\" onclick=\"Instance('TANGRAM_248').toPage(4);return false;\">4</a></span><span><a href=\"javascript:void(0)\" tid=\"toNextPage\" onclick=\"Instance('TANGRAM_248').toPage(4);return false;\"\n",
      "==========\n",
      "杭州周末轰趴馆公寓                     /5分 酒店                 浙江省杭州市江干区文瀚路下沙宝龙城市广场29幢\n",
      "==========\n",
      "财林宾馆                     3.8/5分 经济型                 浙江省杭州市江干区学林街605号\n",
      "==========\n",
      "卡尔酒店                     3.0/5分 经济型                 浙江省杭州市江干区下沙金沙居学正街561号\n",
      "==========\n",
      "拓博精品酒店                     3.9/5分 经济型                 浙江省杭州市江干区经济技术开发区学正街553号\n",
      "==========\n",
      "枫林晚精品酒店                     3.6/5分 经济型                 浙江省杭州市江干区下沙经济开发区学林街628号(清雅苑对面，理工大学东一百米)\n",
      "==========\n",
      "浙江供销客房部                     /5分 酒店                 杭州市江干区\n",
      "==========\n",
      "杭州迈卡威途公寓                     /5分 酒店                 浙江省杭州市江干区杭州下沙学正街388号阳光华城华景园2栋\n",
      "==========\n",
      "杭州奶茶窝窝公寓(NO.5店)                     /5分 酒店                 浙江省杭州市江干区金沙居\n",
      "==========\n",
      "杭州刘婷婷复式                     5.0/5分 宾馆                 浙江省杭州市江干区宝龙城市广场2期29幢701\n",
      "==========\n",
      "杭州财苑大酒店                     0.0/5分 酒店                 杭州市江干区学源街18号\n",
      "\"curPage\">4</span><span><a href=\"javascript:void(0)\" onclick=\"Instance('TANGRAM_276').toPage(5);return false;\">5</a></span><span><a href=\"javascript:void(0)\" tid=\"toNextPage\" onclick=\"Instance('TANGRAM_276').toPage(5);return false;\"\n",
      "==========\n",
      "杭州小月家公寓(NO.2店)                     0.0/5分 民宿                 浙江省杭州市江干区下沙宝龙城市广场29幢\n",
      "==========\n",
      "雅津宾馆                     3.6/5分 经济型                 浙江省杭州市江干区杭州经济开发区文津路49号\n",
      "==========\n",
      "宿品生活公寓(NO.3号店)                     0.0/5分 民宿                 浙江省杭州市江干区下沙宝龙城市广场29幢\n",
      "==========\n",
      "舒泊豪大酒店                     4.2/5分 舒适型                 浙江省杭州市江干区学正街66号\n",
      "==========\n",
      "杭州城管驿站(钱塘新区公园站)                     /5分 酒店                 浙江省杭州市江干区学林街4号附近\n",
      "==========\n",
      "三谊大酒店                      经济型                 杭州市江干区德胜东路与千帆路交叉路口向西约100米\n",
      "==========\n",
      "杭州燕子swallow公寓                     0.0/5分 民宿                 杭州江干区阳光华城华翠园3幢2单元107室\n",
      "==========\n",
      "杭州敬往事一杯酒公寓                     0.0/5分 民宿                 浙江省杭州江干区学正街567金沙居-B座\n",
      "==========\n",
      "杭州嗨吧666旅馆                     0.0/5分 经济型                 浙江省杭州市江干区金沙居B座1601室(浙江工商大学正校门旁边500米处)\n",
      "\"curPage\">5</span><span><a href=\"javascript:void(0)\" tid=\"toNextPage\" class=\"next next-none\"\n",
      "==========\n",
      "杭州栖缘精品民宿(NO.14店)                     4.4/5分 民宿                 杭州江干区宝龙城市广场30幢1508室\n",
      "==========\n",
      "江畔一家公寓                     0.0/5分 民宿                 杭州江干区下沙宝龙城市广场17幢17幢1918\n",
      "==========\n",
      "胖丁公寓                     0.0/5分 民宿                 杭州江干区宝龙城市广场17幢1单元319室\n",
      "==========\n",
      "小月家公寓                     0.0/5分 民宿                 杭州江干区下沙宝龙广场17幢20楼2011室\n",
      "==========\n",
      "浙江工商大学专家楼                     0.0/5分 教育培训                 浙江省杭州市江干区27号路301\n"
     ]
    }
   ],
   "source": [
    "import re \n",
    "import time\n",
    "list = []\n",
    "while True:\n",
    "    html = driver.page_source #获取网页源代码\n",
    "    reobj1 = re.compile('<p class=\"page\"><span><a href=[\\d\\D]*? tid=[\\d\\D]*? class=([\\d\\D]*?)>下一页&gt;</a></span></p>',re.MULTILINE)\n",
    "    for match in reobj1.finditer(html):\n",
    "        x=match.group(1)\n",
    "        print(x)\n",
    "        reobj = re.compile(r'class=\"n-blue\"[\\d\\D]*?>([\\d\\D]*?)</a>[\\d\\D]*?<span>([\\d\\D]*?)<[\\d\\D]*?i>([\\d\\D]*?)<[\\d\\D]*?title=\"([\\d\\D]*?)\"')\n",
    "        for match in reobj.finditer(html):\n",
    "            print(\"=\"*10)\n",
    "            a=match.group(1)\n",
    "            b=match.group(2)\n",
    "            c=match.group(3)\n",
    "            d=match.group(4)\n",
    "            print(a,b,c,d)\n",
    "            list.append((a,b,c,d))\n",
    "    if x=='\"curPage\">5</span><span><a href=\"javascript:void(0)\" tid=\"toNextPage\" class=\"next next-none\"': \n",
    "        break\n",
    "    driver.find_element_by_link_text(u\"下一页>\").click()\n",
    "    time.sleep(2)"
   ]
  },
  {
   "cell_type": "markdown",
   "metadata": {},
   "source": [
    "# 文件存储,将内存数据持久化到外存的过程"
   ]
  },
  {
   "cell_type": "code",
   "execution_count": null,
   "metadata": {},
   "outputs": [],
   "source": [
    "<a href=\"javascript:void(0)\" tid=\"toNextPage\" class=\"next next-none\">下一页&gt;</a>\n",
    "<a href=\"javascript:void(0)\" tid=\"toNextPage\" onclick=\"Instance('TANGRAM_204').toPage(5);return false;\">下一页&gt;</a>"
   ]
  },
  {
   "cell_type": "code",
   "execution_count": 15,
   "metadata": {},
   "outputs": [],
   "source": [
    "\n",
    "import codecs\n",
    "a=len(list)\n",
    "f = codecs.open(r\"D:\\jiudian.csv\",\"w\",\"utf_8_sig\")\n",
    "f.write(\"酒店名称,评分,类型 ,地址\\n\")\n",
    "for i in range (a-1):\n",
    "    a=list[i]\n",
    "    f.write(a[0]+\",\"+a[1]+\",\"+a[2]+\",\"+a[3]+\"\\n\")\n",
    "f.close()"
   ]
  }
 ],
 "metadata": {
  "kernelspec": {
   "display_name": "Python 3",
   "language": "python",
   "name": "python3"
  },
  "language_info": {
   "codemirror_mode": {
    "name": "ipython",
    "version": 3
   },
   "file_extension": ".py",
   "mimetype": "text/x-python",
   "name": "python",
   "nbconvert_exporter": "python",
   "pygments_lexer": "ipython3",
   "version": "3.7.4"
  }
 },
 "nbformat": 4,
 "nbformat_minor": 4
}
