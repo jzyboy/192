{
 "cells": [
  {
   "cell_type": "markdown",
   "metadata": {},
   "source": [
    "## 学校周边酒店名称"
   ]
  },
  {
   "cell_type": "code",
   "execution_count": 15,
   "metadata": {},
   "outputs": [],
   "source": [
    "from selenium import webdriver\n",
    "driver=webdriver.Chrome()\n",
    "url = 'https://map.baidu.com/search/%E9%85%92%E5%BA%97/@13401816.6,3523321.62,16z?querytype=nb&r=1000&c=179&wd=%E9%85%92%E5%BA%97&uid=7a0cb8c0d67a634683a00c28&b=(13393156.6,3525007.62;13398620.6,3527635.62)&l=16&gr_radius=1000&pn=0&device_ratio=1&da_src=shareurl'\n",
    "driver.get(url)"
   ]
  },
  {
   "cell_type": "code",
   "execution_count": 16,
   "metadata": {},
   "outputs": [],
   "source": [
    "html=driver.page_source\n",
    "# print(html)"
   ]
  },
  {
   "cell_type": "code",
   "execution_count": 17,
   "metadata": {},
   "outputs": [
    {
     "name": "stdout",
     "output_type": "stream",
     "text": [
      "杭州市江干区学正街567号金沙居B座3层\n",
      "学源街239号浙江经贸学院北门\n",
      "浙江省杭州市江干区学源街239号(浙江经贸学院北门)\n",
      "浙江省杭州市江干区学正街388号阳光创富中心10楼\n",
      "浙江省杭州市江干区下沙学正街559号(金沙居B座)\n",
      "浙江省杭州市江干区经济技术开发区学正街549号金沙居A座\n",
      "宝龙城市广场\n",
      "浙江省杭州市江干区学正街388号阳光创富中心内\n",
      "浙江省杭州市江干区学正街539号\n",
      "浙江省杭州市江干区宝龙城市广场二期\n"
     ]
    }
   ],
   "source": [
    "\n",
    "import re\n",
    "reobj = re.compile(r'<div class=\"row addr\"> [\\s\\S]*?title=\"([\\s\\S]*?)\"')\n",
    "for match in reobj.finditer(html):\n",
    "    print(match.group(1))\n"
   ]
  },
  {
   "cell_type": "code",
   "execution_count": null,
   "metadata": {},
   "outputs": [],
   "source": []
  },
  {
   "cell_type": "code",
   "execution_count": null,
   "metadata": {},
   "outputs": [],
   "source": []
  }
 ],
 "metadata": {
  "kernelspec": {
   "display_name": "Python 3",
   "language": "python",
   "name": "python3"
  },
  "language_info": {
   "codemirror_mode": {
    "name": "ipython",
    "version": 3
   },
   "file_extension": ".py",
   "mimetype": "text/x-python",
   "name": "python",
   "nbconvert_exporter": "python",
   "pygments_lexer": "ipython3",
   "version": "3.7.4"
  }
 },
 "nbformat": 4,
 "nbformat_minor": 2
}
