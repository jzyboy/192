{
 "cells": [
  {
   "cell_type": "markdown",
   "metadata": {},
   "source": [
    "# # 爬取百度地图经贸周边的酒店名称、评分、类型、地址   \n",
    "# ## 链接：https://map.baidu.com/search/%E9%85%92%E5%BA%97/@13394242.455318691,3523322.970829654,12.75z?querytype=nb&c=179&wd=%E9%85%92%E5%BA%97&da_src=shareurl&on_gel=1&l=12&gr=2&b=(13380844.973269353,3508707.5358667388;13407639.93736803,3537938.4057925693)&pl_data_type=hotel&pl_sub_type=%E9%85%92%E5%BA%97&pl_price_section=0,%2B&pl_sort_type=default&pl_sort_rule=0&pl_discount2_section=0,%2B&pl_groupon_section=0,%2B&pl_cater_book_pc_section=0,%2B&pl_hotel_book_pc_section=0,%2B&pl_ticket_book_flag_section=0,%2B&pl_movie_book_section=0,%2B&pl_business_type=hotel&uid=7a0cb8c0d67a634683a00c28&nb_x=13401816.6&nb_y=3523321.62&gr_radius=5021&pn=0&device_ratio=1\n"
   ]
  },
  {
   "cell_type": "markdown",
   "metadata": {},
   "source": [
    "## 用webdriver打开网址"
   ]
  },
  {
   "cell_type": "code",
   "execution_count": 3,
   "metadata": {},
   "outputs": [],
   "source": [
    "import re\n",
    "\n",
    "from selenium import webdriver\n",
    "\n",
    "driver = webdriver.Chrome()\n",
    "\n",
    "url = \"\"\"https://map.baidu.com/search/%E9%85%92%E5%BA%97/@13394242.455318691,3523322.970829654,12.75z?querytype=nb&c=179&wd=%E9%85%92%E5%BA%97&da_src=shareurl&on_gel=1&l=12&gr=2&b=(13380844.973269353,3508707.5358667388;13407639.93736803,3537938.4057925693)&pl_data_type=hotel&pl_sub_type=%E9%85%92%E5%BA%97&pl_price_section=0,%2B&pl_sort_type=default&pl_sort_rule=0&pl_discount2_section=0,%2B&pl_groupon_section=0,%2B&pl_cater_book_pc_section=0,%2B&pl_hotel_book_pc_section=0,%2B&pl_ticket_book_flag_section=0,%2B&pl_movie_book_section=0,%2B&pl_business_type=hotel&uid=7a0cb8c0d67a634683a00c28&nb_x=13401816.6&nb_y=3523321.62&gr_radius=5021&pn=0&device_ratio=1\"\"\"\n",
    "\n",
    "driver.get(url)\n",
    "\n"
   ]
  },
  {
   "cell_type": "markdown",
   "metadata": {},
   "source": [
    "## 用正则表达式循环翻页查找酒店名称、酒店评分、类型、地址信息存入list1，判断有“next next—none”则没有下一页了，退出循环"
   ]
  },
  {
   "cell_type": "code",
   "execution_count": 17,
   "metadata": {},
   "outputs": [],
   "source": [
    "import time\n",
    "\n",
    "list1 = []\n",
    "\n",
    "while True:  \n",
    "\n",
    "    html = driver.page_source\n",
    " \n",
    "    reobj = re.compile(r'\"list_page\">([\\s\\S]*?)</a>[\\s\\S]*?<span>                    ([\\s\\S]*?)<i class=\"seperate\">\\|</i>([\\s\\S]*?) [\\s\\S]*?title=\"([\\s\\S]*?)\"')\n",
    " \n",
    "    for match in reobj.finditer(html):\n",
    "    \n",
    "        a = match.group(1)\n",
    "        b = match.group(2)\n",
    "        c = match.group(3)\n",
    "        d = match.group(4)\n",
    "     \n",
    "        list1.append((a,b,c,d))\n",
    "   \n",
    "    match = re.search(\"next next-none\", html)\n",
    "  \n",
    "    if match:\n",
    "        break\n",
    "    else:\n",
    "        driver.find_element_by_link_text(u\"下一页>\").click()\n",
    "        time.sleep(3)"
   ]
  },
  {
   "cell_type": "markdown",
   "metadata": {},
   "source": [
    "## 现在c盘目录下建立code2020文件夹，在新建一个csv文件，把list1的内容写入，逗号分割"
   ]
  },
  {
   "cell_type": "code",
   "execution_count": 18,
   "metadata": {},
   "outputs": [],
   "source": [
    "import codecs\n",
    "f = codecs.open(r\"c:\\code2020\\result1.csv\",\"w\",\"utf-8-sig\")\n",
    "f.write(\"酒店名称,评分,酒店类型,酒店地址\\n\")\n",
    "for hotel in list1:\n",
    "    a,b,c,d=hotel\n",
    "    f.write(a+\",\"+b+\",\"+c+\",\"+d+\",\"\"\\n\")\n",
    "f.close()"
   ]
  }
 ],
 "metadata": {
  "kernelspec": {
   "display_name": "Python 3",
   "language": "python",
   "name": "python3"
  },
  "language_info": {
   "codemirror_mode": {
    "name": "ipython",
    "version": 3
   },
   "file_extension": ".py",
   "mimetype": "text/x-python",
   "name": "python",
   "nbconvert_exporter": "python",
   "pygments_lexer": "ipython3",
   "version": "3.7.4"
  }
 },
 "nbformat": 4,
 "nbformat_minor": 2
}
