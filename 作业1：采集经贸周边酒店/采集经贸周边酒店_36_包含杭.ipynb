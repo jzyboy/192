{
 "cells": [
  {
   "cell_type": "markdown",
   "metadata": {},
   "source": [
    "# 经贸酒店信息采集\n",
    "\n"
   ]
  },
  {
   "cell_type": "code",
   "execution_count": 10,
   "metadata": {},
   "outputs": [],
   "source": [
    "import re,time\n",
    "from selenium import webdriver\n",
    "driver = webdriver.Chrome()\n",
    "url = 'https://map.baidu.com/search/%E6%B5%99%E6%B1%9F%E7%BB%8F%E8%B4%B8%E9%85%92%E5%BA%97/@13140516.440000001,3469619.88,8z?querytype=s&da_src=shareurl&wd=%E6%B5%99%E6%B1%9F%E7%BB%8F%E8%B4%B8%E9%85%92%E5%BA%97&c=179&src=0&pn=0&sug=0&l=15&b=(13396610.085,3520600.1100000003;13407218.085,3525704.1100000003)&from=webmap&biz_forward=%7B%22scaler%22:1,%22styles%22:%22pl%22%7D&device_ratio=1'\n",
    "driver.get(url)\n",
    "time.sleep(2)"
   ]
  },
  {
   "cell_type": "code",
   "execution_count": 8,
   "metadata": {},
   "outputs": [
    {
     "name": "stdout",
     "output_type": "stream",
     "text": [
      "采集完毕\n"
     ]
    }
   ],
   "source": [
    "result=[]\n",
    "while True:\n",
    "    html = driver.page_source\n",
    "    reobj = re.compile(r'class=\"n-blue\" data-index=[\\d\\D]*?\">([\\d\\D]*?)</a>[\\d\\D]*?<span class=\"n-grey\" title=\"([\\d\\D]*?)\">')\n",
    "    for match in reobj.finditer(html):\n",
    "        html = driver.page_source\n",
    "        a=match.group(1)#酒店名称\n",
    "        b=match.group(2)#酒店地址\n",
    "        c=(a,b)\n",
    "        result.append(c)\n",
    "    if re.search(\"\"\"return false;\">下一页&gt;</a>\"\"\", html):\n",
    "        time.sleep(1)\n",
    "        driver.find_element_by_link_text(u\"下一页>\").click()#点击下一页\n",
    "    else:\n",
    "        print(\"采集完毕\")\n",
    "        break"
   ]
  },
  {
   "cell_type": "code",
   "execution_count": 9,
   "metadata": {},
   "outputs": [],
   "source": [
    "import codecs\n",
    "f = codecs.open(r\"D:44_晏斌_酒店信息.csv\",\"w\",\"utf-8-sig\")#创建csv文件并写入数据\n",
    "f.write(\"酒店名称,酒店地址\\r\\n\")#标明表头\n",
    "for i in result:\n",
    "    f.write(\",\".join(i)+\"\\n\")\n",
    "f.close()"
   ]
  },
  {
   "cell_type": "code",
   "execution_count": null,
   "metadata": {},
   "outputs": [],
   "source": []
  }
 ],
 "metadata": {
  "kernelspec": {
   "display_name": "Python 3",
   "language": "python",
   "name": "python3"
  },
  "language_info": {
   "codemirror_mode": {
    "name": "ipython",
    "version": 3
   },
   "file_extension": ".py",
   "mimetype": "text/x-python",
   "name": "python",
   "nbconvert_exporter": "python",
   "pygments_lexer": "ipython3",
   "version": "3.7.4"
  }
 },
 "nbformat": 4,
 "nbformat_minor": 4
}
