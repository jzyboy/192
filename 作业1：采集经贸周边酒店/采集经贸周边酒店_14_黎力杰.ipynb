{
 "cells": [
  {
   "cell_type": "code",
   "execution_count": 4,
   "metadata": {},
   "outputs": [
    {
     "name": "stdout",
     "output_type": "stream",
     "text": [
      "TEL茶砚酒店 4.2/5分 酒店 学源街239号浙江经贸学院北门\n",
      "速8酒店(杭州下沙金沙居店) 3.9/5分 经济型 杭州市江干区学正街567号金沙居B座3层\n",
      "杭州品江商务酒店 2.7/5分 舒适型 浙江省杭州市江干区学源街239号(浙江经贸学院北门)\n",
      "杭州青芒酒店 4.5/5分 经济型 浙江省杭州市江干区学正街388号阳光创富中心10楼\n",
      "后街主题酒店 4.1/5分 经济型 浙江省杭州市江干区下沙学正街559号(金沙居B座)\n",
      "汉庭酒店(杭州下沙学正街店) 4.1/5分 经济型 浙江省杭州市江干区学正街388号阳光创富中心内\n",
      "微八主题酒店 4.9/5分 经济型 浙江省杭州市江干区经济技术开发区学正街549号金沙居A座\n",
      "贝壳酒店(学正街店) 4.4/5分 经济型 浙江省杭州市江干区学正街539号\n",
      "怡梦宾馆 2.5/5分 经济型 浙江省杭州市江干区25号大街1178号金沙学府\n",
      "杭州歌多酒店 4.3/5分 经济型 金沙居学正街535号\n"
     ]
    }
   ],
   "source": [
    "from selenium import webdriver\n",
    "driver=webdriver.Chrome()\n",
    "url = 'https://map.baidu.com/search/%E9%85%92%E5%BA%97/@13401816.6,3523321.62,11.91z?querytype=nb&from=webmap&c=179&wd=%E9%85%92%E5%BA%97&pn=0&nn=0&db=0&sug=0&addr=0&pl_data_type=hotel&pl_sub_type=%E9%85%92%E5%BA%97&pl_price_section=0,%2B&pl_sort_type=default&pl_sort_rule=0&pl_discount2_section=0,%2B&pl_groupon_section=0,%2B&pl_cater_book_pc_section=0,%2B&pl_hotel_book_pc_section=0,%2B&pl_ticket_book_flag_section=0,%2B&pl_movie_book_section=0,%2B&pl_business_type=hotel&da_src=shareurl&on_gel=1&src=7&gr=3&l=11.911834556181791&uid=7a0cb8c0d67a634683a00c28&r=1000&device_ratio=2'\n",
    "driver.get(url)\n",
    "html = driver.page_source\n",
    "\n",
    "import re\n",
    "reobj = re.compile(r'code=\"list_page\">([\\d\\D]*?)</a>                                                                 [\\d\\D]*?class=\"row\">                <span>                    ([\\d\\D]*?)<i class=\"seperate\">\\|</i>([\\d\\D]*?)                </span>                            </div>            <div class=\"row addr\">                <span class=\"n-grey\" title=\"[\\d\\D]*?\">([\\d\\D]*?)</span>', re.MULTILINE)\n",
    "for match in reobj.finditer(html):\n",
    "    print(match.group(1),match.group(2),match.group(3),match.group(4))"
   ]
  },
  {
   "cell_type": "code",
   "execution_count": null,
   "metadata": {},
   "outputs": [],
   "source": []
  }
 ],
 "metadata": {
  "kernelspec": {
   "display_name": "Python 3",
   "language": "python",
   "name": "python3"
  },
  "language_info": {
   "codemirror_mode": {
    "name": "ipython",
    "version": 3
   },
   "file_extension": ".py",
   "mimetype": "text/x-python",
   "name": "python",
   "nbconvert_exporter": "python",
   "pygments_lexer": "ipython3",
   "version": "3.7.4"
  }
 },
 "nbformat": 4,
 "nbformat_minor": 2
}
