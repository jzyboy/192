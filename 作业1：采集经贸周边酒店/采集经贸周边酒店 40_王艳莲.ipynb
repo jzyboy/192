{
 "cells": [
  {
   "cell_type": "markdown",
   "metadata": {},
   "source": [
    "## 1、打开学校附近酒店的网页"
   ]
  },
  {
   "cell_type": "code",
   "execution_count": 5,
   "metadata": {},
   "outputs": [],
   "source": [
    "from selenium import webdriver\n",
    "driver=webdriver.Chrome()\n",
    "url = 'https://map.baidu.com/search/%E9%85%92%E5%BA%97/@13401816.6,3523321.62,16z?querytype=nb&r=1000&c=179&wd=%E9%85%92%E5%BA%97&uid=7a0cb8c0d67a634683a00c28&b=(13393816.6,3524971.62;13397960.6,3527671.62)&l=16&gr_radius=1000&pn=0&device_ratio=2&da_src=shareurl'\n",
    "driver.get(url)"
   ]
  },
  {
   "cell_type": "markdown",
   "metadata": {},
   "source": [
    "## 2、爬网页"
   ]
  },
  {
   "cell_type": "code",
   "execution_count": 8,
   "metadata": {},
   "outputs": [],
   "source": [
    "# import time\n",
    "# time.sleep(5)\n",
    "html = driver.page_source\n",
    "# print(html)"
   ]
  },
  {
   "cell_type": "markdown",
   "metadata": {},
   "source": [
    "## 3、取数据"
   ]
  },
  {
   "cell_type": "code",
   "execution_count": 10,
   "metadata": {},
   "outputs": [
    {
     "name": "stdout",
     "output_type": "stream",
     "text": [
      "速8酒店(杭州下沙金沙居店) \t\t                     3.9/5分 经济型                 杭州市江干区学正街567号金沙居B座3层\n",
      "杭州尚爱快捷酒店(下沙学正街店) \t\t                     3.2/5分 经济型                 浙江省杭州市江干区下沙经济技术开发区学正街575号学正街金沙居B座1层\n",
      "TEL茶砚酒店 \t\t                     4.2/5分 酒店                 学源街239号浙江经贸学院北门\n",
      "杭州品江商务酒店 \t\t                     2.7/5分 舒适型                 浙江省杭州市江干区学源街239号(浙江经贸学院北门)\n",
      "杭州青芒酒店 \t\t                     4.5/5分 经济型                 浙江省杭州市江干区学正街388号阳光创富中心10楼\n",
      "后街主题酒店 \t\t                     4.1/5分 经济型                 浙江省杭州市江干区下沙学正街559号(金沙居B座)\n",
      "汉庭酒店(杭州下沙学正街店) \t\t                     4.1/5分 经济型                 浙江省杭州市江干区学正街388号阳光创富中心内\n",
      "杭州钱塘江语公寓 \t\t                     0.0/5分 酒店                 宝龙城市广场\n",
      "微八主题酒店 \t\t                     4.9/5分 经济型                 浙江省杭州市江干区经济技术开发区学正街549号金沙居A座\n",
      "杭州陌上花开2019公寓 \t\t                     5.0/5分 酒店                 浙江省杭州市江干区宝龙城市广场二期\n"
     ]
    }
   ],
   "source": [
    "reobj = re.compile(r'<a href=\"javascript:void[\\d\\D]*?\"list_page\">([\\d\\D]*?)</a>[\\d\\D]*?</div>[\\d\\D]*?<div class=\"row\">                <span>([\\d\\D]*?)<i[\\d\\D]*?i>([\\d\\D]*?)</span>[\\d\\D]*?title=\"([\\d\\D]*?)\">')\n",
    "for match in reobj.finditer(html):\n",
    "    print(match.group(1),\"\\t\\t\",match.group(2),match.group(3),match.group(4))"
   ]
  },
  {
   "cell_type": "markdown",
   "metadata": {},
   "source": [
    "# 4、使用Selenium模拟鼠标点击下一页"
   ]
  },
  {
   "cell_type": "code",
   "execution_count": 11,
   "metadata": {},
   "outputs": [],
   "source": [
    "driver.find_element_by_link_text(u\"下一页>\").click()"
   ]
  },
  {
   "cell_type": "markdown",
   "metadata": {},
   "source": [
    "## 5、处理数据(按照我们想要的方式存储和使用)"
   ]
  },
  {
   "cell_type": "code",
   "execution_count": 12,
   "metadata": {},
   "outputs": [],
   "source": [
    "import codecs\n",
    "f = codecs.open(r\"F:\\code2020\\result.csv\",\"w\",\"utf-8\")\n",
    "f.write(\"hotel1,address1,type1\")\n",
    "f.close()"
   ]
  }
 ],
 "metadata": {
  "kernelspec": {
   "display_name": "Python 3",
   "language": "python",
   "name": "python3"
  },
  "language_info": {
   "codemirror_mode": {
    "name": "ipython",
    "version": 3
   },
   "file_extension": ".py",
   "mimetype": "text/x-python",
   "name": "python",
   "nbconvert_exporter": "python",
   "pygments_lexer": "ipython3",
   "version": "3.7.4"
  }
 },
 "nbformat": 4,
 "nbformat_minor": 4
}
