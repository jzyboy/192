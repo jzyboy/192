{
 "cells": [
  {
   "cell_type": "markdown",
   "metadata": {},
   "source": [
    "# 任务一:利用百度的汉字查找拼音功能，以元组形式输出出某个汉字对应的以下内容：（该汉字，拼音，拼音发声的链接）"
   ]
  },
  {
   "cell_type": "code",
   "execution_count": 149,
   "metadata": {},
   "outputs": [],
   "source": [
    "from selenium import webdriver\n",
    "driver=webdriver.Chrome()\n",
    "url='https://www.baidu.com/s?ie=utf-8&f=8&rsv_bp=1&rsv_idx=2&tn=baiduhome_pg&wd=%E6%88%91%E6%8B%BC%E9%9F%B3&rsv_spt=1&oq=%25E6%2588%2591%2520%25E6%258B%25BC%25E9%259F%25B3&rsv_pq=e2258d99001b4267&rsv_t=11ee3dOD2VAD1eVT3spN5hgqOZvzxMk14XZefUXo1lyU%2FpdAbp1oPSTMrYWS8NYSQIiD&rqlang=cn&rsv_enter=1&rsv_dl=tb&inputT=300&rsv_sug3=10&rsv_sug1=11&rsv_sug7=100&rsv_sug2=0&rsv_sug4=2142'\n",
    "driver.get(url)\n",
    "html=driver.page_source"
   ]
  },
  {
   "cell_type": "code",
   "execution_count": 150,
   "metadata": {},
   "outputs": [
    {
     "name": "stdout",
     "output_type": "stream",
     "text": [
      "('我', '[wǒ]', 'https://hanyu-word-pinyin-short.cdn.bcebos.com/wo3.mp3')\n"
     ]
    }
   ],
   "source": [
    "import re\n",
    "reobj = re.compile(r'<p class=\"op_exactqa_detail_s_prop c-gap-bottom-small\">[\\d\\D]*?<a href=[\\d\\D]*? target=\"_blank\">([\\d\\D]*?)<[\\d\\D]*?<span class=[\\d\\D]*?\">([\\d\\D]*?)<[\\d\\D]*?<span>[\\d\\D]*?}\" url=\"([\\d\\D]*?)\"')\n",
    "for match in reobj.finditer(html):\n",
    "\t# match start: match.start()\n",
    "\t# match end (exclusive): match.end()\n",
    "\t# matched text: match.group()\n",
    "    a=match.group(1)\n",
    "    b=match.group(2)\n",
    "    c=match.group(3)\n",
    "    t=(a,b,c)\n",
    "    print(t)\n"
   ]
  },
  {
   "cell_type": "code",
   "execution_count": 151,
   "metadata": {},
   "outputs": [],
   "source": [
    "from selenium import webdriver\n",
    "driver=webdriver.Chrome()\n",
    "url='https://www.baidu.com/s?ie=utf-8&f=8&rsv_bp=1&rsv_idx=2&tn=baiduhome_pg&wd=%E4%BB%BB%E6%8B%BC%E9%9F%B3&rsv_spt=1&oq=%25E6%2588%2591%25E6%258B%25BC%25E9%259F%25B3&rsv_pq=d38ec713000ac547&rsv_t=f950aetZN3wSH6pRbzAqCR46vEtv4cZVzupAdpBZo8qrmhEnQ8z4xGtxfe%2Bb5YnCiWQd&rqlang=cn&rsv_enter=1&rsv_dl=tb&rsv_sug3=4&rsv_sug1=7&rsv_sug7=100&rsv_sug2=0&inputT=1614&rsv_sug4=54340'\n",
    "driver.get(url)\n",
    "html=driver.page_source"
   ]
  },
  {
   "cell_type": "code",
   "execution_count": 152,
   "metadata": {},
   "outputs": [
    {
     "name": "stdout",
     "output_type": "stream",
     "text": [
      "('任', '[rèn]', 'https://hanyu-word-pinyin-short.cdn.bcebos.com/ren4.mp3', '[rén]', 'https://hanyu-word-pinyin-short.cdn.bcebos.com/ren2.mp3')\n"
     ]
    }
   ],
   "source": [
    "import re\n",
    "reobj = re.compile(r'<p class=\"op_exactqa_detail_s_prop c-gap-bottom-small\">[\\d\\D]*?<a href=[\\d\\D]*? target=\"_blank\">([\\d\\D]*?)<[\\d\\D]*?<span class=[\\d\\D]*?\">([\\d\\D]*?)<[\\d\\D]*?<span>[\\d\\D]*?}\" url=\"([\\d\\D]*?)\"[\\d\\D]*?<span class=\"op_exactqa_detail_word_pronounce\">([\\d\\D]*?)<[\\d\\D]*?}\" url=\"([\\d\\D]*?)\"')\n",
    "for match in reobj.finditer(html):\n",
    "\t# match start: match.start()\n",
    "\t# match end (exclusive): match.end()\n",
    "\t# matched text: match.group()\n",
    "    a=match.group(1)\n",
    "    b=match.group(2)\n",
    "    c=match.group(3)\n",
    "    d=match.group(4)\n",
    "    e=match.group(5)\n",
    "    t=(a,b,c,d,e)\n",
    "    print(t)\n",
    "    \n",
    "    "
   ]
  },
  {
   "cell_type": "markdown",
   "metadata": {},
   "source": [
    "# 任务二:在任务1的基础上进行延展，已知一个txt文本文件每行只有一个文字,从该文件逐行读取文字，并构建任务1的链接，抽取拼音及发音链接，构建一个CSV文件."
   ]
  },
  {
   "cell_type": "code",
   "execution_count": 153,
   "metadata": {},
   "outputs": [
    {
     "data": {
      "text/plain": [
       "<function BufferedReader.close>"
      ]
     },
     "execution_count": 153,
     "metadata": {},
     "output_type": "execute_result"
    }
   ],
   "source": [
    "import codecs\n",
    "list=[]\n",
    "f=codecs.open(r\"C:\\Users\\19148\\Desktop\\初始.txt\",\"r\",\"utf-8-sig\")\n",
    "for hz in f.readlines():\n",
    "    hz.replace('\\r','').replace('\\n','')\n",
    "    list.append(hz+\"拼音\")\n",
    "f.close"
   ]
  },
  {
   "cell_type": "code",
   "execution_count": 154,
   "metadata": {},
   "outputs": [],
   "source": [
    "from selenium import webdriver\n",
    "from selenium.webdriver.common.keys import Keys\n",
    "driver=webdriver.Chrome()\n",
    "url=\"https://www.baidu.com/\"\n",
    "driver.get(url)\n",
    "html=driver.page_source"
   ]
  },
  {
   "cell_type": "code",
   "execution_count": 155,
   "metadata": {},
   "outputs": [],
   "source": [
    "import re\n",
    "import time\n",
    "list3=[]\n",
    "for i in range(9):\n",
    "    a=list[i]\n",
    "    time.sleep(2)\n",
    "    driver.find_element_by_id('kw').send_keys(a.replace('\\r','').replace('\\n',''))\n",
    "    time.sleep(2)\n",
    "    driver.find_element_by_id('kw').submit()\n",
    "    time.sleep(2)\n",
    "    html1=driver.page_source\n",
    "    reobj = re.compile(r'<p class=\"op_exactqa_detail_s_prop c-gap-bottom-small\">[\\d\\D]*?<a href=[\\d\\D]*? target=\"_blank\">([\\d\\D]*?)<[\\d\\D]*?<span class=[\\d\\D]*?\">([\\d\\D]*?)<[\\d\\D]*?<span>[\\d\\D]*?}\" url=\"([\\d\\D]*?)\"')\n",
    "    for match in reobj.finditer(html1):\n",
    "        # match start: match.start()\n",
    "        # match end (exclusive): match.end()\n",
    "        # matched text: match.group()\n",
    "        a=match.group(1)\n",
    "        b=match.group(2)\n",
    "        c=match.group(3)\n",
    "        x=(a,b,c)\n",
    "        list3.append(x)\n",
    "        time.sleep(2)\n",
    "    driver.find_element_by_id('kw').clear()"
   ]
  },
  {
   "cell_type": "code",
   "execution_count": 156,
   "metadata": {},
   "outputs": [],
   "source": [
    "import codecs\n",
    "f=codecs.open(r\"f:\\999.csv\",\"w\",\"utf_8_sig\")\n",
    "f.write(\"汉字,拼音,拼音发声的链接\\n\")\n",
    "for list4 in list3:\n",
    "    f.write(list4[0]+\",\"+list4[1]+\",\"+list4[2]+\"\\n\")\n",
    "f.close()"
   ]
  }
 ],
 "metadata": {
  "kernelspec": {
   "display_name": "Python 3",
   "language": "python",
   "name": "python3"
  },
  "language_info": {
   "codemirror_mode": {
    "name": "ipython",
    "version": 3
   },
   "file_extension": ".py",
   "mimetype": "text/x-python",
   "name": "python",
   "nbconvert_exporter": "python",
   "pygments_lexer": "ipython3",
   "version": "3.7.4"
  }
 },
 "nbformat": 4,
 "nbformat_minor": 2
}
