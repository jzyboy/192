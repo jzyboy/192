{
 "cells": [
  {
   "cell_type": "code",
   "execution_count": 6,
   "metadata": {},
   "outputs": [],
   "source": [
    "def typle(*args):\n",
    "    print(args)\n",
    "\n",
    "from selenium import webdriver\n",
    "option = webdriver.ChromeOptions()\n",
    "option.add_argument('--start-maximized')\n",
    "drive = webdriver.Chrome(options=option)\n",
    "drive.get('http://www.baidu.com')\n",
    "ele = drive.find_element_by_id('kw')\n",
    "ele1 = drive.find_element_by_id('su')\n",
    "\n",
    "import codecs\n",
    "import re\n",
    "import time\n",
    "f1 = codecs.open(r\"e:\\python\\初始.txt\",\"r\",\"utf-8-sig\")#f1读取模式\n",
    "f2 = codecs.open(r\"e:\\拼音.csv\",\"w\",\"utf-8-sig\")#f2写入模式\n",
    "f2.write(\"文字,拼音1,发音链接1,拼音2,发音链接2\\n\")\n",
    "for line in f1.readlines():\n",
    "    ele.clear()#对搜索框里的内容清空，以便输入值\n",
    "    keyword = line.strip()+u'拼音'#字符串前面加u\n",
    "    ele.send_keys(keyword)#在百度搜索框输入值\n",
    "    ele1.submit()#点击搜索\n",
    "    time.sleep(1)\n",
    "    html = drive.page_source#获取网页源代码\n",
    "    reobj = re.compile(r\"\"\"target=\"_blank\">(.)</a>拼音：[\\d\\D]*?<span class=\"op_exactqa_detail_word_pronounce\">([\\d\\D]*?)</span>[\\d\\D]*?data-click=\"\\{fm:'beha'\\}\" url=\"([\\d\\D]*?)\" href=\"javascript:;\"([\\d\\D]*?class=\"op_exactqa_detail_word_pronounce\">([\\d\\D]*?)?</span>[\\d\\D]*?data-click=\"\\{fm:'beha'\\}\" url=\"([\\d\\D]*?)?\" href=\"javascript:;\"?)?\"\"\",re.MULTILINE)\n",
    "    for match in reobj.finditer(html):\n",
    "        if match.group(5) is not None:\n",
    "            f2.write(match.group(1)+\",\"+match.group(2)+\",\"+match.group(3)+\",\"+match.group(5)+\",\"+match.group(6)+\"\\n\")#采集出要的数据并写入对应.csv文件\n",
    "        else:\n",
    "            f2.write(match.group(1)+\",\"+match.group(2)+\",\"+match.group(3)+\"\\n\")\n",
    "f1.close()\n",
    "f2.close()"
   ]
  },
  {
   "cell_type": "code",
   "execution_count": 2,
   "metadata": {},
   "outputs": [
    {
     "name": "stdout",
     "output_type": "stream",
     "text": [
      "('[wǒ]', 'https://hanyu-word-pinyin-short.cdn.bcebos.com/wo3.mp3', '我')\n"
     ]
    }
   ],
   "source": [
    "from selenium import webdriver\n",
    "driver=webdriver.Chrome()\n",
    "url = 'https://www.baidu.com/s?ie=utf-8&f=8&rsv_bp=1&rsv_idx=2&tn=baiduhome_pg&wd=%E6%88%91%E6%8B%BC%E9%9F%B3&rsv_spt=1&oq=%25E6%2588%2591%2520%25E6%258B%25BC%25E9%259F%25B3&rsv_pq=e2258d99001b4267&rsv_t=11ee3dOD2VAD1eVT3spN5hgqOZvzxMk14XZefUXo1lyU%2FpdAbp1oPSTMrYWS8NYSQIiD&rqlang=cn&rsv_enter=1&rsv_dl=tb&inputT=300&rsv_sug3=10&rsv_sug1=11&rsv_sug7=100&rsv_sug2=0&rsv_sug4=2142'\n",
    "driver.get(url)\n",
    "\n",
    "html = driver.page_source\n",
    "\n",
    "def typle(*args):\n",
    "    print(args)\n",
    "\n",
    "import re\n",
    "reobj = re.compile(r\"\"\"<span class=\"op_exactqa_detail_word_pronounce\">([\\d\\D]*?)</span>[\\d\\D]*?data-click=\"\\{fm:'beha'\\}\" url=\"([\\d\\D]*?)\" href=\"javascript:;\" onclick=\"return false;\"[\\d\\D]*?\" target=\"_blank\"><em>([\\d\\D]*?)</em>\"\"\",re.MULTILINE)\n",
    "for match in reobj.finditer(html):\n",
    "    typle(match.group(1),match.group(2),match.group(3))\n"
   ]
  },
  {
   "cell_type": "code",
   "execution_count": null,
   "metadata": {},
   "outputs": [],
   "source": [
    "import codecs\n",
    "#写入模式\n",
    "f = codecs.open(r\"c:\\code2020\\result.csv\",\"w\",\"utf-8-sig\")\n",
    "f.write(\"hotel1,address1,type1\\n\")\n",
    "f.write(\"a,b,c\\n\")\n",
    "f.write(\"d,e,f\\n\")\n",
    "f.close()\n",
    "#追加模式\n",
    "f = codecs.open(r\"c:\\code2020\\result.csv\",\"a\",\"utf-8-sig\")\n",
    "f.write(\"hotel1,address1,type1\\n\")\n",
    "f.write(\"a,b,c\\n\")\n",
    "f.write(\"d,e,f\\n\")\n",
    "f.close()\n",
    "\n",
    "#读取模式\n",
    "f = codecs.open(r\"C:\\Users\\Administrator\\Desktop\\all\\ex3.csv\",\"r\",\"utf-8-sig\")\n",
    "for line in f.readlines():\n",
    "    print(line.strip())\n",
    "f.close()"
   ]
  },
  {
   "cell_type": "code",
   "execution_count": 3,
   "metadata": {},
   "outputs": [],
   "source": [
    "from selenium import webdriver\n",
    "option = webdriver.ChromeOptions()\n",
    "option.add_argument('--start-maximized')\n",
    "drive = webdriver.Chrome(options=option)\n",
    "drive.get('http://www.baidu.com')\n",
    "ele = drive.find_element_by_id('kw')\n",
    "ele1 = drive.find_element_by_id('su')\n",
    "keyword = u'中国'\n",
    "ele.send_keys(keyword) \n",
    "ele1.submit()"
   ]
  }
 ],
 "metadata": {
  "kernelspec": {
   "display_name": "Python 3",
   "language": "python",
   "name": "python3"
  },
  "language_info": {
   "codemirror_mode": {
    "name": "ipython",
    "version": 3
   },
   "file_extension": ".py",
   "mimetype": "text/x-python",
   "name": "python",
   "nbconvert_exporter": "python",
   "pygments_lexer": "ipython3",
   "version": "3.7.4"
  }
 },
 "nbformat": 4,
 "nbformat_minor": 2
}
