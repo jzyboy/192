{
 "cells": [
  {
   "cell_type": "raw",
   "metadata": {},
   "source": [
    "题目：采集https://www.yinxiang.com/everhub/，上的标题及其链接，还有摘要，并对其进行滚动翻页,获取尽可能多的数据，并保存成CSV格式，采集1000条以上\n",
    "链接：https://www.yuque.com/ol1q37/gi94xp/gnaq27"
   ]
  },
  {
   "cell_type": "markdown",
   "metadata": {},
   "source": [
    "# 打开网页"
   ]
  },
  {
   "cell_type": "code",
   "execution_count": 17,
   "metadata": {},
   "outputs": [],
   "source": [
    "from selenium import webdriver\n",
    "driver=webdriver.Chrome()\n",
    "url = 'https://www.yinxiang.com/everhub/'\n",
    "driver.get(url)"
   ]
  },
  {
   "cell_type": "markdown",
   "metadata": {},
   "source": [
    "# 在网页中按空格键翻页"
   ]
  },
  {
   "cell_type": "code",
   "execution_count": 18,
   "metadata": {},
   "outputs": [],
   "source": [
    "from selenium.webdriver.common.keys import Keys\n",
    "import time\n",
    "for j in range(300):\n",
    "    for i in range(3):\n",
    "        driver.find_element_by_xpath('//html').send_keys(Keys.SPACE) \n",
    "    time.sleep(2)"
   ]
  },
  {
   "cell_type": "markdown",
   "metadata": {},
   "source": [
    "# 获取网页源代码"
   ]
  },
  {
   "cell_type": "code",
   "execution_count": 19,
   "metadata": {},
   "outputs": [],
   "source": [
    "html = driver.page_source"
   ]
  },
  {
   "cell_type": "markdown",
   "metadata": {},
   "source": [
    "# 把标题和摘要以列表的形式存在bq和zy中"
   ]
  },
  {
   "cell_type": "code",
   "execution_count": 20,
   "metadata": {},
   "outputs": [],
   "source": [
    "import re\n",
    "bq=[]\n",
    "zy=[]\n",
    "reobj = re.compile(r'<div>[\\d\\D]*?<h3 class=\"NoteCard_title__juR5k\">([\\d\\D]*?)<p class=[\\d\\D]*?>([\\d\\D]*?)<')\n",
    "for match in reobj.finditer(html):\n",
    "\t# match start: match.start()\n",
    "\t# match end (exclusive): match.end()\n",
    "\t# matched text: match.group()\n",
    "    a=match.group(1)\n",
    "    b=match.group(2)\n",
    "    bq.append(a)\n",
    "    zy.append(b)"
   ]
  },
  {
   "cell_type": "markdown",
   "metadata": {},
   "source": [
    "# 把链接存在列表lj中"
   ]
  },
  {
   "cell_type": "code",
   "execution_count": null,
   "metadata": {},
   "outputs": [],
   "source": [
    "import requests\n",
    "import re\n",
    "import time\n",
    "list=[]\n",
    "lj=[]\n",
    "url='https://app.yinxiang.com/third/discovery/client/restful/public/discovery/homepage?notePageSize=10&lastNoteGuid='\n",
    "x='https://app.yinxiang.com/third/discovery/client/restful/public/discovery/homepage?notePageSize=10&lastNoteGuid='\n",
    "for i in range(300):\n",
    "    html=requests.get(url).text\n",
    "    reobj = re.compile(r'\"noteGuid\": \"([\\d\\D]*?)\"')\n",
    "    for match in reobj.finditer(html):\n",
    "        # match start: match.start()\n",
    "        # match end (exclusive): match.end()\n",
    "        # matched text: match.group()\n",
    "        a=match.group(1)\n",
    "        list.append(a)\n",
    "    url=x+list[-1]\n",
    "    time.sleep(2)\n",
    "for i in list:\n",
    "    lj.append(\"https://www.yinxiang.com/everhub/note/\" + i)\n",
    "    "
   ]
  },
  {
   "cell_type": "markdown",
   "metadata": {},
   "source": [
    "# 把bq，zy，lj三个列表中的元素取到元组中，然后存到列表list1中"
   ]
  },
  {
   "cell_type": "code",
   "execution_count": null,
   "metadata": {},
   "outputs": [],
   "source": [
    "list1=[]\n",
    "for a,b,c in zip(bq,zy,lj):\n",
    "    t=(a,b,c)\n",
    "    list1.append(t)"
   ]
  },
  {
   "cell_type": "markdown",
   "metadata": {},
   "source": [
    "# 存储"
   ]
  },
  {
   "cell_type": "code",
   "execution_count": null,
   "metadata": {},
   "outputs": [],
   "source": [
    "import codecs\n",
    "a=len(list1)\n",
    "f = codecs.open(r\"f:\\999.csv\",\"w\",\"utf_8_sig\")\n",
    "f.write(\"标题,摘要,链接\\n\")\n",
    "for i in list1:\n",
    "    f.write(i[0]+\",\"+i[1]+\",\"+i[2]+\"\\n\")\n",
    "f.close()"
   ]
  },
  {
   "cell_type": "code",
   "execution_count": null,
   "metadata": {},
   "outputs": [],
   "source": []
  },
  {
   "cell_type": "code",
   "execution_count": null,
   "metadata": {},
   "outputs": [],
   "source": []
  }
 ],
 "metadata": {
  "kernelspec": {
   "display_name": "Python 3",
   "language": "python",
   "name": "python3"
  },
  "language_info": {
   "codemirror_mode": {
    "name": "ipython",
    "version": 3
   },
   "file_extension": ".py",
   "mimetype": "text/x-python",
   "name": "python",
   "nbconvert_exporter": "python",
   "pygments_lexer": "ipython3",
   "version": "3.7.4"
  }
 },
 "nbformat": 4,
 "nbformat_minor": 2
}
