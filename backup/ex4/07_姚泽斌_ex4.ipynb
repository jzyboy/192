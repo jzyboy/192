{
 "cells": [
  {
   "cell_type": "markdown",
   "metadata": {},
   "source": [
    "# 最终完整代码"
   ]
  },
  {
   "cell_type": "code",
   "execution_count": 3,
   "metadata": {},
   "outputs": [],
   "source": [
    "from selenium import webdriver\n",
    "driver = webdriver.Chrome()\n",
    "url = 'https://www.yinxiang.com/everhub/'\n",
    "driver.get(url)\n",
    "\n",
    "import re\n",
    "import time\n",
    "import requests\n",
    "x = 1#循环的条件\n",
    "lj = []\n",
    "url2 = 'https://app.yinxiang.com/third/discovery/client/restful/public/discovery/homepage?notePageSize=10&lastNoteGuid='\n",
    "url2copy = url2\n",
    "while x == 1:\n",
    "    html = driver.page_source\n",
    "    html2 = requests.get(url2).text\n",
    "    reobj2 = re.compile(r'\"noteGuid\": \"([\\d\\D]*?)\"')\n",
    "    for match2 in reobj2.finditer(html2): \n",
    "        lj.append(match2.group(1))\n",
    "    url2 = url2copy + lj[-1]\n",
    "    time.sleep(2)\n",
    "    reobj = re.compile(r'<div class=\"Index_loadMoreData__1eisS\"><span>([\\d\\D]*?)</span></div>')#判断滚动条是否滑到最底部\n",
    "    for match in reobj.finditer(html):\n",
    "        x = 0#如果滑到最底部就进入此for循环然后改变x的值退出while循环\n",
    "    driver.execute_script(\"window.scrollTo(0, document.body.scrollHeight)\")#往下翻滚动条\n",
    "    \n",
    "import codecs\n",
    "html = driver.page_source\n",
    "f = codecs.open(r\"e:\\印象识堂.csv\",\"w\",\"utf_8_sig\")\n",
    "f.write(\"ID,标题,摘要,出自,链接\\n\")\n",
    "s = 0\n",
    "reobj = re.compile(r'class=\"NoteCard_userName__15MR_\">([\\d\\D]*?)</span>[\\d\\D]*?class=\"NoteCard_title__juR5k\">([\\d\\D]*?)</h3></div><div><p class=\"NoteCard_description__1jOUe?[A-Za-z0-9_ ]*?\">([\\d\\D]*?)</p></div>[\\d\\D]*?class=\"NoteCard_tag__qXEjT\">([\\d\\D]*?)</span>')\n",
    "#采集每条的ID,标题,摘要,出自\n",
    "for match in reobj.finditer(html):\n",
    "    f.write(match.group(1)+\",\"+match.group(2)+\",\"+match.group(3)+\",\"+match.group(4)+\",\"+\"https://www.yinxiang.com/everhub/note/\"+ lj[s]+\"\\n\")\n",
    "    s += 1\n",
    "f.close()"
   ]
  },
  {
   "cell_type": "markdown",
   "metadata": {},
   "source": [
    "# 打开网页"
   ]
  },
  {
   "cell_type": "code",
   "execution_count": 2,
   "metadata": {},
   "outputs": [],
   "source": [
    "from selenium import webdriver\n",
    "driver = webdriver.Chrome()\n",
    "url = 'https://www.yinxiang.com/everhub/'\n",
    "driver.get(url)"
   ]
  },
  {
   "cell_type": "markdown",
   "metadata": {},
   "source": [
    "# 向下滚动翻页直至最底部"
   ]
  },
  {
   "cell_type": "code",
   "execution_count": 3,
   "metadata": {},
   "outputs": [],
   "source": [
    "import re\n",
    "import time\n",
    "x = 1\n",
    "while x == 1:\n",
    "    html = driver.page_source\n",
    "    time.sleep(2)\n",
    "    reobj = re.compile(r'<div class=\"Index_loadMoreData__1eisS\"><span>([\\d\\D]*?)</span></div>')\n",
    "    for match in reobj.finditer(html):\n",
    "        x = 0\n",
    "    driver.execute_script(\"window.scrollTo(0, document.body.scrollHeight)\")"
   ]
  },
  {
   "cell_type": "markdown",
   "metadata": {},
   "source": [
    "# 获取要的数据并写入.csv中"
   ]
  },
  {
   "cell_type": "code",
   "execution_count": 4,
   "metadata": {},
   "outputs": [],
   "source": [
    "import codecs\n",
    "html = driver.page_source\n",
    "f = codecs.open(r\"e:\\印象识堂.csv\",\"w\",\"utf_8_sig\")\n",
    "f.write(\"ID,标题,摘要,出自\\n\")\n",
    "reobj = re.compile(r'class=\"NoteCard_userName__15MR_\">([\\d\\D]*?)</span>[\\d\\D]*?class=\"NoteCard_title__juR5k\">([\\d\\D]*?)</h3></div><div><p class=\"NoteCard_description__1jOUe?[A-Za-z0-9_ ]*?\">([\\d\\D]*?)</p></div>[\\d\\D]*?class=\"NoteCard_tag__qXEjT\">([\\d\\D]*?)</span>')\n",
    "for match in reobj.finditer(html):\n",
    "    f.write(match.group(1)+\",\"+match.group(2)+\",\"+match.group(3)+\",\"+match.group(4)+\"\\n\")\n",
    "f.close()"
   ]
  }
 ],
 "metadata": {
  "kernelspec": {
   "display_name": "Python 3",
   "language": "python",
   "name": "python3"
  },
  "language_info": {
   "codemirror_mode": {
    "name": "ipython",
    "version": 3
   },
   "file_extension": ".py",
   "mimetype": "text/x-python",
   "name": "python",
   "nbconvert_exporter": "python",
   "pygments_lexer": "ipython3",
   "version": "3.7.4"
  }
 },
 "nbformat": 4,
 "nbformat_minor": 2
}
