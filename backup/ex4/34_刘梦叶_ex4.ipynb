{
 "cells": [
  {
   "cell_type": "code",
   "execution_count": 1,
   "metadata": {},
   "outputs": [],
   "source": [
    "from selenium import webdriver\n",
    "from lxml import etree\n",
    "import time\n",
    "from selenium.webdriver.support import expected_conditions as EC\n",
    "from selenium.webdriver.support.ui import WebDriverWait\n",
    "from selenium.webdriver.common.by import By\n",
    "\n",
    "driver=webdriver.Chrome()\n",
    "url = \"https://www.yinxiang.com/everhub/\"\n",
    "driver.get(url)\n",
    "data=[]\n",
    "wait=WebDriverWait(driver,10)\n",
    "try:\n",
    "    wait.until(EC.presence_of_element_located(\n",
    "        (By.CSS_SELECTOR,'#content > div.Content_main__5I_sI > div:nth-child(2) > div.Index_noteCardList__2QbiT > div:nth-child(1) > div > div.NoteCard_content__s8T-9.NoteCard_notIE__1YX8b > div.NoteCard_noteInfo__3mBWD > div:nth-child(1) > div:nth-child(1) > h3')\n",
    "    ))\n",
    "except:\n",
    "    time.sleep(10)\n",
    "    \n",
    "html=etree.HTML(driver.page_source,etree.HTMLParser())"
   ]
  },
  {
   "cell_type": "code",
   "execution_count": null,
   "metadata": {},
   "outputs": [],
   "source": [
    "while len(html.xpath('//*[@id=\"content\"]/div[2]/div[2]/div[1]/div'))<=1000:\n",
    "    driver.execute_script(\"window.scrollTo(0, document.body.scrollHeight)\")\n",
    "    time.sleep(1)\n",
    "    html=etree.HTML(driver.page_source,etree.HTMLParser())"
   ]
  },
  {
   "cell_type": "code",
   "execution_count": null,
   "metadata": {},
   "outputs": [],
   "source": [
    "for div in html.xpath('//*[@id=\"content\"]/div[2]/div[2]/div[1]/div'):\n",
    "    try:\n",
    "        tit=div.xpath('div/div[2]/div[1]/div[1]/div[1]/h3/text()')[0]\n",
    "        zhaiyao=div.xpath('div/div[2]/div[1]/div[1]/div[2]/p/text()')[0]\n",
    "        data.append((tit,zhaiyao))    \n",
    "    except:\n",
    "        pass"
   ]
  },
  {
   "cell_type": "code",
   "execution_count": 29,
   "metadata": {},
   "outputs": [],
   "source": [
    "import csv\n",
    "with open('yingxiang.csv','w',newline='',encoding='utf_8_sig') as f:\n",
    "    w=csv.writer(f)\n",
    "    for i in data:\n",
    "        w.writerow(i)\n"
   ]
  },
  {
   "cell_type": "code",
   "execution_count": null,
   "metadata": {},
   "outputs": [],
   "source": []
  }
 ],
 "metadata": {
  "kernelspec": {
   "display_name": "Python 3",
   "language": "python",
   "name": "python3"
  },
  "language_info": {
   "codemirror_mode": {
    "name": "ipython",
    "version": 3
   },
   "file_extension": ".py",
   "mimetype": "text/x-python",
   "name": "python",
   "nbconvert_exporter": "python",
   "pygments_lexer": "ipython3",
   "version": "3.7.4"
  }
 },
 "nbformat": 4,
 "nbformat_minor": 4
}
