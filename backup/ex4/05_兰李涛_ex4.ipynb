{
 "cells": [
  {
   "cell_type": "code",
   "execution_count": null,
   "metadata": {},
   "outputs": [],
   "source": [
    "from selenium import webdriver\n",
    "import re\n",
    "import html\n",
    "import time\n",
    "import csv\n",
    "from lxml import etree\n",
    "driver=webdriver.Chrome()\n",
    "url = \"https://www.yinxiang.com/everhub/\"\n",
    "driver.get(url)\n",
    "XX=[]"
   ]
  },
  {
   "cell_type": "markdown",
   "metadata": {},
   "source": [
    "# 进行翻页"
   ]
  },
  {
   "cell_type": "code",
   "execution_count": null,
   "metadata": {},
   "outputs": [],
   "source": [
    "for i in range(99):\n",
    "    time.sleep(2)\n",
    "    driver.execute_script(\"window.scrollTo(0, document.body.scrollHeight)\")\n",
    "html = driver.page_source\n",
    "a = etree.HTML(html,etree.HTMLParser())"
   ]
  },
  {
   "cell_type": "markdown",
   "metadata": {},
   "source": [
    "# 定位标签位置并爬取有价值数据"
   ]
  },
  {
   "cell_type": "code",
   "execution_count": null,
   "metadata": {},
   "outputs": [],
   "source": [
    "for i in range(2,1001):\n",
    "    MZ=a.xpath('//*[@id=\"content\"]/div[2]/div[2]/div[1]/div['+str(i)+']/div/div[1]/span/text()')\n",
    "    BT=a.xpath('//*[@id=\"content\"]/div[2]/div[2]/div[1]/div['+str(i)+']/div/div[2]/div[1]/div[1]/div[1]/h3/text()')\n",
    "    ZW=a.xpath('//*[@id=\"content\"]/div[2]/div[2]/div[1]/div['+str(i)+']/div/div[2]/div[1]/div[1]/div[2]/p/text()')\n",
    "    XX.append((MZ,BT,ZW))\n",
    "print(XX)"
   ]
  },
  {
   "cell_type": "markdown",
   "metadata": {},
   "source": [
    "# 写入不行，希望老师帮帮我"
   ]
  },
  {
   "cell_type": "code",
   "execution_count": null,
   "metadata": {},
   "outputs": [],
   "source": [
    "file=open('E:\\python\\印象识堂.csv','w',newline=\"\")  #打开要写入的csv文件\n",
    "Writer=csv.writer(file) #生成Writer对象\n",
    "for i in XX: #循环遍历酒店信息\n",
    "        Writer.writerow(str(i))  #将酒店信息写入csv文件\n",
    "file.close()"
   ]
  }
 ],
 "metadata": {
  "kernelspec": {
   "display_name": "Python 3",
   "language": "python",
   "name": "python3"
  },
  "language_info": {
   "codemirror_mode": {
    "name": "ipython",
    "version": 3
   },
   "file_extension": ".py",
   "mimetype": "text/x-python",
   "name": "python",
   "nbconvert_exporter": "python",
   "pygments_lexer": "ipython3",
   "version": "3.7.4"
  }
 },
 "nbformat": 4,
 "nbformat_minor": 2
}
