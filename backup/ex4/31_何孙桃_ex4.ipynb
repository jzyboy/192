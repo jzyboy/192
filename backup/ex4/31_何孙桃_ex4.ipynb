{
 "cells": [
  {
   "cell_type": "code",
   "execution_count": 25,
   "metadata": {},
   "outputs": [],
   "source": [
    "from selenium import webdriver\n",
    "driver=webdriver.Chrome()\n",
    "url=\"https://www.yinxiang.com/everhub/\"\n",
    "driver.get(url)"
   ]
  },
  {
   "cell_type": "code",
   "execution_count": 26,
   "metadata": {},
   "outputs": [],
   "source": [
    "from selenium.webdriver.common.keys import Keys\n",
    "import time\n",
    "for i in range(500):\n",
    "    driver.find_element_by_xpath(\"//html\").send_keys(Keys.SPACE)\n",
    "    time.sleep(0.2)\n",
    "html=driver.page_source"
   ]
  },
  {
   "cell_type": "code",
   "execution_count": 27,
   "metadata": {},
   "outputs": [],
   "source": [
    "import re\n",
    "list1=[]\n",
    "reobj = re.compile(r'<span class=\"NoteCard_userName__15MR_\">([\\s\\S]*?)</span>[\\s\\S]*?<h3 class=\"NoteCard_title__juR5k\">([\\s\\S]*?)</h3>[\\s\\S]*?<p class=\"NoteCard_description__1jOUe NoteCard_twoRows__22BR2\">([\\s\\S]*?)</p>[\\s\\S]*?<span class=\"NoteCard_tag__qXEjT\">([\\s\\S]*?)</span>')\n",
    "for match in reobj.finditer(html):\n",
    "\t# match start: match.start()\n",
    "\t# match end (exclusive): match.end()\n",
    "\t# matched text: match.group()\n",
    "    a=match.group(1)\n",
    "    b=match.group(2)\n",
    "    c=match.group(3)\n",
    "    d=match.group(4)\n",
    "    t=(a,b,c,d)\n",
    "    list1.append(t)"
   ]
  },
  {
   "cell_type": "code",
   "execution_count": 28,
   "metadata": {},
   "outputs": [],
   "source": [
    "with open(r\"c:\\code2020\\result2.csv\",\"w\",encoding=\"utf-8-sig\") as f:\n",
    "    f.write(\"id,title,body,button\\n\")\n",
    "    for i in list1:\n",
    "        a,b,c,d=i\n",
    "        f.write(a+\",\"+b+\",\"+c+\",\"+d+\"\\n\")"
   ]
  },
  {
   "cell_type": "code",
   "execution_count": null,
   "metadata": {},
   "outputs": [],
   "source": []
  }
 ],
 "metadata": {
  "kernelspec": {
   "display_name": "Python 3",
   "language": "python",
   "name": "python3"
  },
  "language_info": {
   "codemirror_mode": {
    "name": "ipython",
    "version": 3
   },
   "file_extension": ".py",
   "mimetype": "text/x-python",
   "name": "python",
   "nbconvert_exporter": "python",
   "pygments_lexer": "ipython3",
   "version": "3.7.4"
  }
 },
 "nbformat": 4,
 "nbformat_minor": 4
}
