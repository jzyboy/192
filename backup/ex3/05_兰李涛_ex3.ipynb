{
 "cells": [
  {
   "cell_type": "code",
   "execution_count": 69,
   "metadata": {},
   "outputs": [],
   "source": [
    "# -- coding: UTF-8 --\n",
    "import os\n",
    "os.makedirs('E:\\\\python\\\\内地女明星', exist_ok=True)\n",
    "import ssl\n",
    "ssl._create_default_https_context = ssl._create_unverified_context\n",
    "from selenium import webdriver\n",
    "import re\n",
    "driver=webdriver.Chrome()\n",
    "url = 'https://www.baidu.com/s?wd=%E6%98%8E%E6%98%9F&rsv_spt=1&rsv_iqid=0xbe4b76860031fb66&issp=1&f=8&rsv_bp=1&rsv_idx=2&ie=utf-8&rqlang=&tn=baiduhome_pg&ch=&rsv_enter=1&rsv_dl=ib&inputT=2978'\n",
    "driver.get(url)\n"
   ]
  },
  {
   "cell_type": "code",
   "execution_count": 70,
   "metadata": {},
   "outputs": [],
   "source": [
    "def urllib_download(IMAGE_URL,name):\n",
    "    from urllib.request import urlretrieve\n",
    "    urlretrieve(IMAGE_URL, 'E:\\\\python\\\\内地女明星\\\\{}.png'.format(name))\n",
    "def f(n):\n",
    "    #定义了一个正则表达式\n",
    "    reobj = re.compile(r'<img class=\"c-img c-img4\" src=\"([\\d\\D]*?)amp;([\\d\\D]*?)\"[\\d\\D]*?<a href=\"([\\d\\D]*?)\" title=\"([\\d\\D]*?)\"')\n",
    "#迭代循环输出每一个匹配的数据\n",
    "    for match in reobj.finditer(n):\n",
    "        name=match.group(4)\n",
    "        nameurl=\"https://www.baidu.com/\"+match.group(3)\n",
    "        imgurl=match.group(1)+match.group(2)\n",
    "        urllib_download(imgurl,name)\n",
    "        li.append((name,nameurl,imgurl))\n",
    "def u(n):\n",
    "    a = re.search(r'<span class=\"opui-page-next OP_LOG_BTN\" style=\"\">下一页</span>',n,re.S)\n",
    "    if str(a)==\"None\":\n",
    "        import csv #导入模块\n",
    "        file=open('E:\\python\\内地女明星\\内地女明星.csv','w',newline=\"\")  #打开要写入的csv文件\n",
    "        Writer=csv.writer(file) #生成Writer对象\n",
    "        for i in li: #循环遍历酒店信息\n",
    "            Writer.writerow(i)  #将酒店信息写入csv文件\n",
    "        file.close()     \n",
    "    else:\n",
    "        driver.find_element_by_xpath(\"//div[@id='1']/div/div/div[2]/div[2]/p/span[6]\").click()\n",
    "        import time\n",
    "        time.sleep(1)\n",
    "        html = driver.page_source\n",
    "        f(html)\n",
    "        u(html)"
   ]
  },
  {
   "cell_type": "code",
   "execution_count": 71,
   "metadata": {},
   "outputs": [
    {
     "name": "stdout",
     "output_type": "stream",
     "text": [
      "<re.Match object; span=(330481, 330540), match='<span class=\"opui-page-next OP_LOG_BTN\" style=\"\">>\n",
      "<re.Match object; span=(329924, 329983), match='<span class=\"opui-page-next OP_LOG_BTN\" style=\"\">>\n",
      "<re.Match object; span=(329932, 329991), match='<span class=\"opui-page-next OP_LOG_BTN\" style=\"\">>\n",
      "<re.Match object; span=(329957, 330016), match='<span class=\"opui-page-next OP_LOG_BTN\" style=\"\">>\n",
      "<re.Match object; span=(329925, 329984), match='<span class=\"opui-page-next OP_LOG_BTN\" style=\"\">>\n",
      "<re.Match object; span=(329838, 329897), match='<span class=\"opui-page-next OP_LOG_BTN\" style=\"\">>\n",
      "<re.Match object; span=(329847, 329906), match='<span class=\"opui-page-next OP_LOG_BTN\" style=\"\">>\n",
      "<re.Match object; span=(329819, 329878), match='<span class=\"opui-page-next OP_LOG_BTN\" style=\"\">>\n",
      "<re.Match object; span=(329807, 329866), match='<span class=\"opui-page-next OP_LOG_BTN\" style=\"\">>\n",
      "<re.Match object; span=(329681, 329740), match='<span class=\"opui-page-next OP_LOG_BTN\" style=\"\">>\n",
      "<re.Match object; span=(329840, 329899), match='<span class=\"opui-page-next OP_LOG_BTN\" style=\"\">>\n",
      "<re.Match object; span=(330110, 330169), match='<span class=\"opui-page-next OP_LOG_BTN\" style=\"\">>\n",
      "<re.Match object; span=(330055, 330114), match='<span class=\"opui-page-next OP_LOG_BTN\" style=\"\">>\n",
      "<re.Match object; span=(330115, 330174), match='<span class=\"opui-page-next OP_LOG_BTN\" style=\"\">>\n",
      "<re.Match object; span=(330211, 330270), match='<span class=\"opui-page-next OP_LOG_BTN\" style=\"\">>\n",
      "<re.Match object; span=(329731, 329790), match='<span class=\"opui-page-next OP_LOG_BTN\" style=\"\">>\n",
      "<re.Match object; span=(330125, 330184), match='<span class=\"opui-page-next OP_LOG_BTN\" style=\"\">>\n",
      "<re.Match object; span=(329844, 329903), match='<span class=\"opui-page-next OP_LOG_BTN\" style=\"\">>\n",
      "<re.Match object; span=(329810, 329869), match='<span class=\"opui-page-next OP_LOG_BTN\" style=\"\">>\n",
      "<re.Match object; span=(329709, 329768), match='<span class=\"opui-page-next OP_LOG_BTN\" style=\"\">>\n",
      "<re.Match object; span=(330114, 330173), match='<span class=\"opui-page-next OP_LOG_BTN\" style=\"\">>\n",
      "<re.Match object; span=(330107, 330166), match='<span class=\"opui-page-next OP_LOG_BTN\" style=\"\">>\n",
      "<re.Match object; span=(329684, 329743), match='<span class=\"opui-page-next OP_LOG_BTN\" style=\"\">>\n",
      "<re.Match object; span=(330089, 330148), match='<span class=\"opui-page-next OP_LOG_BTN\" style=\"\">>\n",
      "<re.Match object; span=(329828, 329887), match='<span class=\"opui-page-next OP_LOG_BTN\" style=\"\">>\n",
      "<re.Match object; span=(330131, 330190), match='<span class=\"opui-page-next OP_LOG_BTN\" style=\"\">>\n",
      "<re.Match object; span=(329750, 329809), match='<span class=\"opui-page-next OP_LOG_BTN\" style=\"\">>\n",
      "<re.Match object; span=(329796, 329855), match='<span class=\"opui-page-next OP_LOG_BTN\" style=\"\">>\n",
      "<re.Match object; span=(330014, 330073), match='<span class=\"opui-page-next OP_LOG_BTN\" style=\"\">>\n",
      "<re.Match object; span=(329747, 329806), match='<span class=\"opui-page-next OP_LOG_BTN\" style=\"\">>\n",
      "<re.Match object; span=(329645, 329704), match='<span class=\"opui-page-next OP_LOG_BTN\" style=\"\">>\n",
      "<re.Match object; span=(329788, 329847), match='<span class=\"opui-page-next OP_LOG_BTN\" style=\"\">>\n",
      "<re.Match object; span=(329753, 329812), match='<span class=\"opui-page-next OP_LOG_BTN\" style=\"\">>\n",
      "<re.Match object; span=(329652, 329711), match='<span class=\"opui-page-next OP_LOG_BTN\" style=\"\">>\n",
      "<re.Match object; span=(329745, 329804), match='<span class=\"opui-page-next OP_LOG_BTN\" style=\"\">>\n",
      "<re.Match object; span=(329508, 329567), match='<span class=\"opui-page-next OP_LOG_BTN\" style=\"\">>\n",
      "<re.Match object; span=(329724, 329783), match='<span class=\"opui-page-next OP_LOG_BTN\" style=\"\">>\n",
      "<re.Match object; span=(329688, 329747), match='<span class=\"opui-page-next OP_LOG_BTN\" style=\"\">>\n"
     ]
    }
   ],
   "source": [
    "li = []\n",
    "driver.find_element_by_xpath(\"//div[@id='1']/div/div/div/div[2]/p/span[4]\").click()\n",
    "driver.find_element_by_xpath(\"//div[@id='1']/div/div/div/div[2]/p[2]/span[3]\").click()\n",
    "html = driver.page_source\n",
    "f(html)\n",
    "u(html)"
   ]
  }
 ],
 "metadata": {
  "kernelspec": {
   "display_name": "Python 3",
   "language": "python",
   "name": "python3"
  },
  "language_info": {
   "codemirror_mode": {
    "name": "ipython",
    "version": 3
   },
   "file_extension": ".py",
   "mimetype": "text/x-python",
   "name": "python",
   "nbconvert_exporter": "python",
   "pygments_lexer": "ipython3",
   "version": "3.7.4"
  }
 },
 "nbformat": 4,
 "nbformat_minor": 2
}
