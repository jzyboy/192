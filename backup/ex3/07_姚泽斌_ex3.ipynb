{
 "cells": [
  {
   "cell_type": "markdown",
   "metadata": {},
   "source": [
    "## 打开要采集网页"
   ]
  },
  {
   "cell_type": "code",
   "execution_count": 1,
   "metadata": {},
   "outputs": [],
   "source": [
    "from selenium import webdriver\n",
    "driver=webdriver.Chrome()\n",
    "url = 'https://www.baidu.com/s?wd=%E6%98%8E%E6%98%9F&rsv_spt=1&rsv_iqid=0xbe4b76860031fb66&issp=1&f=8&rsv_bp=1&rsv_idx=2&ie=utf-8&rqlang=&tn=baiduhome_pg&ch=&rsv_enter=1&rsv_dl=ib&inputT=2978'\n",
    "driver.get(url)"
   ]
  },
  {
   "cell_type": "markdown",
   "metadata": {},
   "source": [
    "## 点击女再过1秒点击内地"
   ]
  },
  {
   "cell_type": "code",
   "execution_count": 2,
   "metadata": {},
   "outputs": [],
   "source": [
    "driver.find_element_by_xpath(\"//div[@id='1']/div/div/div/div[2]/p/span[4]\").click()\n",
    "import time\n",
    "time.sleep(1)\n",
    "driver.find_element_by_xpath(\"//div[@id='1']/div/div/div/div[2]/p[2]/span[3]\").click()"
   ]
  },
  {
   "cell_type": "markdown",
   "metadata": {},
   "source": [
    "## 爬网页"
   ]
  },
  {
   "cell_type": "code",
   "execution_count": 3,
   "metadata": {},
   "outputs": [],
   "source": [
    "html = driver.page_source"
   ]
  },
  {
   "cell_type": "markdown",
   "metadata": {},
   "source": [
    "## 取数据"
   ]
  },
  {
   "cell_type": "code",
   "execution_count": 15,
   "metadata": {
    "scrolled": true
   },
   "outputs": [
    {
     "name": "stdout",
     "output_type": "stream",
     "text": [
      "姓名： 宋茜 照片： https://dss1.baidu.com/6ONXsjip0QIZ8tyhnq/it/u=19628239,2133979713&amp;fm=58&amp;s=543407743E6358056C0C6DCB030070BB 链接： http://www.baidu.com/s?wd=%E5%AE%8B%E8%8C%9C&amp;rsv_idx=2&amp;tn=baiduhome_pg&amp;usm=4&amp;ie=utf-8&amp;rsv_cq=%E6%98%8E%E6%98%9F&amp;rsv_dl=0_left_exactqa_28266\n",
      "姓名： 刘诗诗 照片： https://dss1.baidu.com/6ONXsjip0QIZ8tyhnq/it/u=4175403331,1227841461&amp;fm=58&amp;s=DA88AF476E23768C991018B303008060 链接： http://www.baidu.com/s?wd=%E5%88%98%E8%AF%97%E8%AF%97&amp;rsv_idx=2&amp;tn=baiduhome_pg&amp;usm=4&amp;ie=utf-8&amp;rsv_cq=%E6%98%8E%E6%98%9F&amp;rsv_dl=0_left_exactqa_28266\n",
      "姓名： 周笔畅 照片： https://dss0.baidu.com/6ONWsjip0QIZ8tyhnq/it/u=3786245439,701599185&amp;fm=58&amp;s=F7B020625C336694340C77C70300F0AF 链接： http://www.baidu.com/s?wd=%E5%91%A8%E7%AC%94%E7%95%85&amp;rsv_idx=2&amp;tn=baiduhome_pg&amp;usm=4&amp;ie=utf-8&amp;rsv_cq=%E6%98%8E%E6%98%9F&amp;rsv_dl=0_left_exactqa_28266\n",
      "姓名： 萧亚轩 照片： https://dss2.baidu.com/6ONYsjip0QIZ8tyhnq/it/u=1447146971,1918224325&amp;fm=58&amp;s=9B848746CE3BBAD41E75AEA30300A007 链接： http://www.baidu.com/s?wd=%E8%90%A7%E4%BA%9A%E8%BD%A9&amp;rsv_idx=2&amp;tn=baiduhome_pg&amp;usm=4&amp;ie=utf-8&amp;rsv_cq=%E6%98%8E%E6%98%9F&amp;rsv_dl=0_left_exactqa_28266\n",
      "姓名： 迪丽热巴 照片： https://dss1.baidu.com/6ONXsjip0QIZ8tyhnq/it/u=299954293,1817970235&amp;fm=58&amp;s=5CB087553F325B94268C71C80300E032 链接： http://www.baidu.com/s?wd=%E8%BF%AA%E4%B8%BD%E7%83%AD%E5%B7%B4&amp;rsv_idx=2&amp;tn=baiduhome_pg&amp;usm=4&amp;ie=utf-8&amp;rsv_cq=%E6%98%8E%E6%98%9F&amp;rsv_dl=0_left_exactqa_28266\n",
      "姓名： 杨幂 照片： https://dss2.baidu.com/6ONYsjip0QIZ8tyhnq/it/u=3925112240,1090798084&amp;fm=58&amp;s=B9166094023B4794C78571F803008034 链接： http://www.baidu.com/s?wd=%E6%9D%A8%E5%B9%82&amp;rsv_idx=2&amp;tn=baiduhome_pg&amp;usm=4&amp;ie=utf-8&amp;rsv_cq=%E6%98%8E%E6%98%9F&amp;rsv_dl=0_left_exactqa_28266\n",
      "姓名： 赵丽颖 照片： https://dss0.baidu.com/6ONWsjip0QIZ8tyhnq/it/u=2800025370,3238805901&amp;fm=58&amp;s=54F813D7523B5394D7AF02A003007029 链接： http://www.baidu.com/s?wd=%E8%B5%B5%E4%B8%BD%E9%A2%96&amp;rsv_idx=2&amp;tn=baiduhome_pg&amp;usm=4&amp;ie=utf-8&amp;rsv_cq=%E6%98%8E%E6%98%9F&amp;rsv_dl=0_left_exactqa_28266\n",
      "姓名： 万茜 照片： https://dss0.baidu.com/6ONWsjip0QIZ8tyhnq/it/u=2334363588,3239032978&amp;fm=58&amp;s=E900CB14771347C014683CDB0300C0A0 链接： http://www.baidu.com/s?wd=%E4%B8%87%E8%8C%9C&amp;rsv_idx=2&amp;tn=baiduhome_pg&amp;usm=4&amp;ie=utf-8&amp;rsv_cq=%E6%98%8E%E6%98%9F&amp;rsv_dl=0_left_exactqa_28266\n",
      "姓名： 佟丽娅 照片： https://dss1.baidu.com/6ONXsjip0QIZ8tyhnq/it/u=1143545152,2588415713&amp;fm=58&amp;s=7D2BBF578A335784329870E90300A068 链接： http://www.baidu.com/s?wd=%E4%BD%9F%E4%B8%BD%E5%A8%85&amp;rsv_idx=2&amp;tn=baiduhome_pg&amp;usm=4&amp;ie=utf-8&amp;rsv_cq=%E6%98%8E%E6%98%9F&amp;rsv_dl=0_left_exactqa_28266\n",
      "姓名： 董洁 照片： https://dss2.baidu.com/6ONYsjip0QIZ8tyhnq/it/u=394966664,2245721368&amp;fm=58&amp;s=A19A1ED9CC2E0115999960BF03005042 链接： http://www.baidu.com/s?wd=%E8%91%A3%E6%B4%81&amp;rsv_idx=2&amp;tn=baiduhome_pg&amp;usm=4&amp;ie=utf-8&amp;rsv_cq=%E6%98%8E%E6%98%9F&amp;rsv_dl=0_left_exactqa_28266\n",
      "姓名： Angelababy 照片： https://dss0.baidu.com/6ONWsjip0QIZ8tyhnq/it/u=2328902898,3413852171&amp;fm=58&amp;s=E9924F94C66366A6B42008A6030070E1 链接： http://www.baidu.com/s?wd=Angelababy&amp;rsv_idx=2&amp;tn=baiduhome_pg&amp;usm=4&amp;ie=utf-8&amp;rsv_cq=%E6%98%8E%E6%98%9F&amp;rsv_dl=0_left_exactqa_28266\n",
      "姓名： 谭松韵 照片： https://dss2.baidu.com/6ONYsjip0QIZ8tyhnq/it/u=2386588352,2656694012&amp;fm=58&amp;s=DCB8AF573F634B0D62ED6C790300B078 链接： http://www.baidu.com/s?wd=%E8%B0%AD%E6%9D%BE%E9%9F%B5&amp;rsv_idx=2&amp;tn=baiduhome_pg&amp;usm=4&amp;ie=utf-8&amp;rsv_cq=%E6%98%8E%E6%98%9F&amp;rsv_dl=0_left_exactqa_28266\n"
     ]
    }
   ],
   "source": [
    "import re\n",
    "reobj = re.compile('<p class=\"op_exactqa_item_img\"><a href=\"(.*?)\" title=\"(.{1,20}?)\" target=\"_blank\"><img class=\"c-img c-img4\" src=\"(.*?)\"',re.MULTILINE)\n",
    "for match in reobj.finditer(html):\n",
    "    print(('姓名：'),match.group(2),('照片：'),match.group(3),('链接：'),('http://www.baidu.com') + match.group(1))"
   ]
  },
  {
   "cell_type": "markdown",
   "metadata": {},
   "source": [
    "## 下一页"
   ]
  },
  {
   "cell_type": "code",
   "execution_count": 11,
   "metadata": {},
   "outputs": [],
   "source": [
    "driver.find_element_by_xpath(\"//div[@id='1']/div/div/div[2]/div[2]/p/span[6]\").click()"
   ]
  },
  {
   "cell_type": "markdown",
   "metadata": {},
   "source": [
    "## 处理数据"
   ]
  },
  {
   "cell_type": "code",
   "execution_count": null,
   "metadata": {},
   "outputs": [],
   "source": [
    "import codecs\n",
    "f = codecs.open(r\"c:\\code2020\\result.csv\",\"w\",\"utf-8\")\n",
    "f.write(\"hotel1,address1,type1\")\n",
    "f.close()"
   ]
  },
  {
   "cell_type": "markdown",
   "metadata": {},
   "source": [
    "## 结合"
   ]
  },
  {
   "cell_type": "code",
   "execution_count": 2,
   "metadata": {},
   "outputs": [],
   "source": [
    "import time\n",
    "import re\n",
    "import codecs\n",
    "from selenium import webdriver\n",
    "#打开网页\n",
    "driver=webdriver.Chrome()\n",
    "url = 'https://www.baidu.com/s?wd=%E6%98%8E%E6%98%9F&rsv_spt=1&rsv_iqid=0xbe4b76860031fb66&issp=1&f=8&rsv_bp=1&rsv_idx=2&ie=utf-8&rqlang=&tn=baiduhome_pg&ch=&rsv_enter=1&rsv_dl=ib&inputT=2978'\n",
    "driver.get(url)\n",
    "#time.sleep(3)\n",
    "#点击女\n",
    "driver.find_element_by_xpath(\"//div[@id='1']/div/div/div/div[2]/p/span[4]\").click()\n",
    "time.sleep(1)\n",
    "#点击明星\n",
    "driver.find_element_by_xpath(\"//div[@id='1']/div/div/div/div[2]/p[2]/span[3]\").click()\n",
    "time.sleep(1)\n",
    "#采集和下一页\n",
    "sum = 12#sum表示一页上的人数\n",
    "x = 0\n",
    "f = codecs.open(r\"e:\\明星.csv\",\"w\",\"utf_8_sig\")\n",
    "f.write(\"姓名,照片,链接\\n\")\n",
    "for i in range(500):\n",
    "    html = driver.page_source\n",
    "    reobj = re.compile('<p class=\"op_exactqa_item_img\"><a href=\"(.*?)\" title=\"(.{1,20}?)\" target=\"_blank\"><img class=\"c-img c-img4\" src=\"(.*?)\"',re.MULTILINE)\n",
    "    for match in reobj.finditer(html):\n",
    "        f.write(match.group(2)+\",\"+match.group(3)+\",\"+match.group(1)+\"\\n\")#把数据放到excel表中\n",
    "        x += 1\n",
    "    if x == sum:#如果一页有满12个人则下一页，如果没有12个人，则说明已经是最后一页，则退出for循环\n",
    "        x = 0\n",
    "        driver.find_element_by_xpath(\"//div[@id='1']/div/div/div[2]/div[2]/p/span[6]\").click()\n",
    "    else:\n",
    "        break\n",
    "f.close()"
   ]
  },
  {
   "cell_type": "code",
   "execution_count": null,
   "metadata": {},
   "outputs": [],
   "source": []
  }
 ],
 "metadata": {
  "kernelspec": {
   "display_name": "Python 3",
   "language": "python",
   "name": "python3"
  },
  "language_info": {
   "codemirror_mode": {
    "name": "ipython",
    "version": 3
   },
   "file_extension": ".py",
   "mimetype": "text/x-python",
   "name": "python",
   "nbconvert_exporter": "python",
   "pygments_lexer": "ipython3",
   "version": "3.7.4"
  }
 },
 "nbformat": 4,
 "nbformat_minor": 2
}
