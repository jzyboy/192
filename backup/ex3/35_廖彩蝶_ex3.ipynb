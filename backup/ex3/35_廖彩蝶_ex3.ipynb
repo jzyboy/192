{
 "cells": [
  {
   "cell_type": "code",
   "execution_count": 1,
   "metadata": {},
   "outputs": [],
   "source": [
    "from selenium import webdriver\n",
    "from lxml import etree\n",
    "import time\n",
    "import csv,os\n",
    "import requests,re"
   ]
  },
  {
   "cell_type": "code",
   "execution_count": 2,
   "metadata": {},
   "outputs": [],
   "source": [
    "url='https://www.baidu.com/s?wd=%E6%98%8E%E6%98%9F&rsv_spt=1&rsv_iqid=0xbe4b76860031fb66&issp=1&f=8&rsv_bp=1&rsv_idx=2&ie=utf-8&rqlang=&tn=baiduhome_pg&ch=&rsv_enter=1&rsv_dl=ib&inputT=2978'\n",
    "driver=webdriver.Chrome()\n",
    "driver.get(url)"
   ]
  },
  {
   "cell_type": "code",
   "execution_count": 3,
   "metadata": {},
   "outputs": [],
   "source": [
    "driver.find_element_by_xpath('//*[@id=\"1\"]/div/div[1]/div[1]/div[2]/p[1]/span[4]').click()\n",
    "driver.find_element_by_xpath('//*[@id=\"1\"]/div/div[1]/div[1]/div[2]/p[2]/span[3]').click()"
   ]
  },
  {
   "cell_type": "code",
   "execution_count": 4,
   "metadata": {},
   "outputs": [],
   "source": [
    "num=20     #页数\n",
    "allname=[] #存放全部名字\n",
    "allpic=[]  #存放全部图片链接\n",
    "allhref=[] #存放全部链接\n",
    "baidu=\"https://www.baidu.com\" #链接前缀"
   ]
  },
  {
   "cell_type": "code",
   "execution_count": 5,
   "metadata": {},
   "outputs": [],
   "source": [
    "for i in range(num):\n",
    "    html=etree.HTML(driver.page_source,etree.HTMLParser())\n",
    "    names=html.xpath('//*[@id=\"1\"]/div/div[1]/div[2]/div[1]/div/p[2]/a/text()')\n",
    "    pictureurl=html.xpath('//*[@id=\"1\"]/div/div[1]/div[2]/div[1]/div/p[1]/a/img/@src')\n",
    "    hrefs=html.xpath('//*[@id=\"1\"]/div/div[1]/div[2]/div[1]/div/p[1]/a/@href')\n",
    "    for i in range(len(names)):\n",
    "        allname.append(names[i])\n",
    "        allpic.append(pictureurl[i])\n",
    "        allhref.append(baidu+hrefs[i])\n",
    "    driver.find_element_by_xpath('//*[@id=\"1\"]/div/div[1]/div[2]/div[2]/p/span[6]').click()\n",
    "    time.sleep(5)\n",
    "driver.close()"
   ]
  },
  {
   "cell_type": "code",
   "execution_count": 6,
   "metadata": {},
   "outputs": [
    {
     "name": "stdout",
     "output_type": "stream",
     "text": [
      "240\n"
     ]
    }
   ],
   "source": [
    "print(len(allname))"
   ]
  },
  {
   "cell_type": "code",
   "execution_count": 7,
   "metadata": {},
   "outputs": [],
   "source": [
    "data=[]\n",
    "for i in range(len(allname)):\n",
    "    data.append((allname[i],allpic[i],allhref[i]))\n",
    "#保存为csv文件\n",
    "f=open('明星.csv','w',newline='')\n",
    "w=csv.writer(f)\n",
    "for i in data:\n",
    "    w.writerow(i)\n",
    "f.close()"
   ]
  },
  {
   "cell_type": "code",
   "execution_count": 8,
   "metadata": {},
   "outputs": [],
   "source": [
    "#下载明星图片\n",
    "path='D:/明星图片/'\n",
    "if not os.path.exists(path):#路径不存在则新建\n",
    "    os.mkdir(path)\n",
    "    \n",
    "for i in data:\n",
    "    name=i[0]\n",
    "    url=i[1]\n",
    "    f=open(path+name+'.jpg','wb')\n",
    "    r=requests.get(url)\n",
    "    f.write(r.content)\n",
    "    f.close()   "
   ]
  },
  {
   "cell_type": "code",
   "execution_count": 9,
   "metadata": {},
   "outputs": [],
   "source": [
    "#保存明星百科页面完整html源代码\n",
    "head={'User-Agent': 'Mozilla/5.0 (Windows NT 10.0; Win64; x64) AppleWebKit/537.36 (KHTML, like Gecko) Chrome/80.0.3987.132 Safari/537.36'}\n",
    "path='D:/明星html/'\n",
    "if not os.path.exists(path):#路径不存在则新建\n",
    "    os.mkdir(path)\n",
    "    \n",
    "for i in data:\n",
    "    name=i[0]\n",
    "    url='https://baike.baidu.com/item/'+name\n",
    "    r=requests.get(url,headers=head)\n",
    "    r.encoding='utf-8'\n",
    "    html=r.text\n",
    "    f=open(path+name+'.html','w',encoding='utf-8')\n",
    "    f.write(html)\n",
    "    f.close()"
   ]
  },
  {
   "cell_type": "code",
   "execution_count": 10,
   "metadata": {
    "scrolled": false
   },
   "outputs": [
    {
     "name": "stdout",
     "output_type": "stream",
     "text": [
      "Angelababy获取失败\n",
      "韩红获取失败\n",
      "刘涛获取失败\n",
      "唐艺昕获取失败\n",
      "林允获取失败\n",
      "周迅获取失败\n",
      "张子枫获取失败\n",
      "张天爱获取失败\n",
      "戚薇获取失败\n",
      "梁婧娴获取失败\n",
      "杨采钰获取失败\n",
      "郑湫泓获取失败\n",
      "车晓获取失败\n",
      "胡冰卿获取失败\n",
      "叶青获取失败\n",
      "王海燕获取失败\n",
      "曹晓雯获取失败\n",
      "萨顶顶获取失败\n",
      "习雪获取失败\n",
      "谭晶获取失败\n",
      "潘阳获取失败\n",
      "毛俊杰获取失败\n",
      "陈瑶获取失败\n",
      "童瑶获取失败\n",
      "蒋依依获取失败\n",
      "柴静获取失败\n",
      "宁静获取失败\n",
      "陈宝莲获取失败\n",
      "傅晶获取失败\n",
      "江珊获取失败\n",
      "程愫获取失败\n",
      "吴越获取失败\n",
      "关婷娜获取失败\n",
      "丁嘉丽获取失败\n",
      "杨思敏获取失败\n",
      "邢菲获取失败\n",
      "蔡明获取失败\n"
     ]
    }
   ],
   "source": [
    "#获取明星资料\n",
    "stardata=[]\n",
    "for i in data:\n",
    "    name=i[0]\n",
    "    try:\n",
    "        f=open(path+name+'.html',encoding='utf-8')\n",
    "        html=f.read()\n",
    "        nm=re.findall(r'<dt class=\"basicInfo-item name\">中文名</dt>\\n<dd class=\"basicInfo-item value\">([\\d\\D]*?)<',html)[0].strip()\n",
    "        birth=re.findall(r'<dt class=\"basicInfo-item name\">出生日期</dt>\\n<dd class=\"basicInfo-item value\">([\\d\\D]*?)<',html)[0].strip()\n",
    "        height=re.findall(r'<dt class=\"basicInfo-item name\">身&nbsp;&nbsp;&nbsp;&nbsp;高</dt>\\n<dd class=\"basicInfo-item value\">([\\d\\D]*?)<',html)[0].strip()\n",
    "        jiguan=re.findall(r'<dt class=\"basicInfo-item name\">出生地</dt>\\n<dd class=\"basicInfo-item value\">([\\d\\D]*?)<',html)[0].strip()\n",
    "        xingzuo=re.findall(r'<dt class=\"basicInfo-item name\">星&nbsp;&nbsp;&nbsp;&nbsp;座</dt>\\n<dd class=\"basicInfo-item value\">([\\d\\D]*?)<',html)[0].strip()\n",
    "        stardata.append((nm,birth,height,jiguan,xingzuo))\n",
    "        f.close()\n",
    "    except:\n",
    "        print(name+'获取失败')"
   ]
  },
  {
   "cell_type": "code",
   "execution_count": 11,
   "metadata": {},
   "outputs": [
    {
     "data": {
      "text/plain": [
       "203"
      ]
     },
     "execution_count": 11,
     "metadata": {},
     "output_type": "execute_result"
    }
   ],
   "source": [
    "len(stardata)"
   ]
  },
  {
   "cell_type": "code",
   "execution_count": 12,
   "metadata": {},
   "outputs": [],
   "source": [
    "f=open('明星资料.csv','w',newline='')\n",
    "w=csv.writer(f)\n",
    "w.writerow(('姓名','出生日期','身高','籍贯','星座'))\n",
    "for i in stardata:\n",
    "    w.writerow(i)\n",
    "f.close()"
   ]
  }
 ],
 "metadata": {
  "kernelspec": {
   "display_name": "Python 3",
   "language": "python",
   "name": "python3"
  },
  "language_info": {
   "codemirror_mode": {
    "name": "ipython",
    "version": 3
   },
   "file_extension": ".py",
   "mimetype": "text/x-python",
   "name": "python",
   "nbconvert_exporter": "python",
   "pygments_lexer": "ipython3",
   "version": "3.7.4"
  }
 },
 "nbformat": 4,
 "nbformat_minor": 2
}
