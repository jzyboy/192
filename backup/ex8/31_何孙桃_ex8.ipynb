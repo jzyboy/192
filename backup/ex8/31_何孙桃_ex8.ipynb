{
 "cells": [
  {
   "cell_type": "code",
   "execution_count": 1,
   "metadata": {},
   "outputs": [],
   "source": [
    "from selenium import webdriver \n",
    "import time\n",
    "driver=webdriver.Chrome()\n",
    "url=(\"https://pintia.cn/problem-sets/1111652100718116864/problems/type/6\")\n",
    "url2=(\"https://pintia.cn/problem-sets/1111652100718116864/problems/type/7\")\n",
    "driver.get(url)\n",
    "time.sleep(5)\n",
    "html1=driver.page_source"
   ]
  },
  {
   "cell_type": "code",
   "execution_count": 2,
   "metadata": {},
   "outputs": [],
   "source": [
    "driver.get(url2)\n",
    "time.sleep(5)\n",
    "html2=driver.page_source\n",
    "time.sleep(5)\n",
    "html=html1+html2\n",
    "time.sleep(2)\n",
    "list1=[]\n",
    "import re\n",
    "reobj = re.compile(r'<td><a href=\"([\\s\\S]*?)\"')\n",
    "for match in reobj.finditer(html):\n",
    "\t# match start: match.start()\n",
    "\t# match end (exclusive): match.end()\n",
    "\t# matched text: match.group()1\n",
    "    list1.append(match.group(1))"
   ]
  },
  {
   "cell_type": "code",
   "execution_count": 3,
   "metadata": {},
   "outputs": [],
   "source": [
    "with open(r\"c:\\code2020\\result3.csv\",\"w\",encoding=\"utf-8-sig\") as f:\n",
    "    f.write(\"lj\\n\")\n",
    "    for i in list1:\n",
    "        a=i\n",
    "        f.write(a+\"\\n\")"
   ]
  },
  {
   "cell_type": "code",
   "execution_count": null,
   "metadata": {},
   "outputs": [],
   "source": [
    "from pony.orm import *\n",
    "\n",
    "\n",
    "db = Database()\n",
    "\n",
    "\n",
    "class Star(db.Entity):\n",
    "    id = PrimaryKey(int, auto=True)\n",
    "    title = Optional(str, column='title')\n",
    "    point = Optional(int, column='point')\n",
    "    pass_point = Optional(int, column='pass_point')\n",
    "    count = Optional(int, column='count')\n",
    "    pass_percent = Optional(int, column='pass_percent')\n",
    "    main = Optional(str, column='main')\n",
    "    html = Optional(str, column='html')\n",
    "    tepy = Optional(str, column='tepy')\n",
    "    main_href = Optional(str, column='main_href')\n",
    "# db.generate_mapping()"
   ]
  },
  {
   "cell_type": "code",
   "execution_count": null,
   "metadata": {},
   "outputs": [],
   "source": [
    "s = Star(name = \"赵丽颖\",gender = \"女\",href=\"https://baike.baidu.com/item/%E8%B5%B5%E4%B8%BD%E9%A2%96\",year=1986,month=10,day=16,xz=\"天秤座\",height=165,address=\"河北省廊坊市\")\n",
    "db.commit()"
   ]
  }
 ],
 "metadata": {
  "kernelspec": {
   "display_name": "Python 3",
   "language": "python",
   "name": "python3"
  },
  "language_info": {
   "codemirror_mode": {
    "name": "ipython",
    "version": 3
   },
   "file_extension": ".py",
   "mimetype": "text/x-python",
   "name": "python",
   "nbconvert_exporter": "python",
   "pygments_lexer": "ipython3",
   "version": "3.7.4"
  }
 },
 "nbformat": 4,
 "nbformat_minor": 4
}
