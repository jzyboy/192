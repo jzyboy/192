{
 "cells": [
  {
   "cell_type": "code",
   "execution_count": 3,
   "metadata": {},
   "outputs": [],
   "source": [
    "from selenium import webdriver\n",
    "driver = webdriver.Chrome()\n",
    "url = \"https://www.yuque.com/ol1q37/gi94xp/kmiv6x\"\n",
    "driver.get(url)"
   ]
  },
  {
   "cell_type": "code",
   "execution_count": 4,
   "metadata": {},
   "outputs": [],
   "source": [
    "html = driver.page_source\n",
    "#print (html)"
   ]
  },
  {
   "cell_type": "code",
   "execution_count": 11,
   "metadata": {},
   "outputs": [
    {
     "name": "stdout",
     "output_type": "stream",
     "text": [
      "个人简介\n",
      "姓名：倪泽炜\n",
      "性别：男\n",
      "出生年月：2000/9/28\n"
     ]
    }
   ],
   "source": [
    "import re\n",
    "reobj = re.compile(r'<span class=\"lake-preview-line\"><span class=\"lake-preview-line-number lake-lm-pad-level-1\"></span><span class=\"lake-preview-codeblock-content\">    <span class=\"cm-tag cm-bracket\">[\\s\\S]*?</span><span class=\"cm-tag\">td</span> <span class=\"cm-attribute\">[\\s\\S]*?</span>[\\s\\S]*?<span class=\"cm-string\">[\\s\\S]*?</span><span class=\"cm-tag cm-bracket\">[\\s\\S]*?</span>([\\s\\S]*?)<span class=\"cm-tag cm-bracket\">')\n",
    "for match in reobj.finditer(html):\n",
    "    a=match.group(1)\n",
    "    b=a.strip()\n",
    "    print(b)"
   ]
  },
  {
   "cell_type": "code",
   "execution_count": 12,
   "metadata": {},
   "outputs": [
    {
     "name": "stdout",
     "output_type": "stream",
     "text": [
      "联系电话：18268060248\n",
      "爱好\n",
      "打篮球，看电影，看小说\n",
      "特长\n",
      "打篮球\n",
      "性格\n",
      "开朗，阳光\n",
      "就读学校\n",
      "浙江经贸职业技术学院\n"
     ]
    }
   ],
   "source": [
    "import re\n",
    "reobj = re.compile(r'<span class=\"lake-preview-line\"><span class=\"lake-preview-line-number lake-lm-pad-level-0\"></span><span class=\"lake-preview-codeblock-content\">[\\s\\S]*?</span><span class=\"cm-tag\">[\\s\\S]*?</span> <span class=\"cm-attribute\">[\\s\\S]*?</span>=<span class=\"cm-string\">[\\s\\S]*?</span><span class=\"cm-tag cm-bracket\">[\\s\\S]*?</span>([\\s\\S]*?)<span class=\"cm-tag cm-bracket\">')\n",
    "for match in reobj.finditer(html):\n",
    "    a=match.group(1)\n",
    "    b=a.strip()\n",
    "    print(b)"
   ]
  },
  {
   "cell_type": "code",
   "execution_count": null,
   "metadata": {},
   "outputs": [],
   "source": []
  }
 ],
 "metadata": {
  "kernelspec": {
   "display_name": "Python 3",
   "language": "python",
   "name": "python3"
  },
  "language_info": {
   "codemirror_mode": {
    "name": "ipython",
    "version": 3
   },
   "file_extension": ".py",
   "mimetype": "text/x-python",
   "name": "python",
   "nbconvert_exporter": "python",
   "pygments_lexer": "ipython3",
   "version": "3.7.4"
  }
 },
 "nbformat": 4,
 "nbformat_minor": 2
}
