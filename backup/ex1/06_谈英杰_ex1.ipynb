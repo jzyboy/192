{
 "cells": [
  {
   "cell_type": "code",
   "execution_count": 7,
   "metadata": {},
   "outputs": [],
   "source": [
    "html='''\n",
    "<table width=\"675\" height=\"161\" border=\"1\">\n",
    "  <tr>\n",
    "    <td height=\"39\" colspan=\"3\" align=\"center\" valign=\"middle\" bgcolor=\"#99FF33\">        个人简介</td>\n",
    "  </tr>\n",
    "  <tr>\n",
    "    <td width=\"159\" height=\"27\">姓名：倪泽炜</td>\n",
    "    <td width=\"267\">性别：男</td>\n",
    "    <td width=\"227\">出生年月：2000/9/28</td>\n",
    "  </tr>\n",
    "          <td height=\"40\">联系电话：18268060248</td>\n",
    "    <td>民族：汉</td>\n",
    "    <td>祖籍：浙江杭州</td>\n",
    "  </tr>\n",
    "  <tr>\n",
    "    <td height=\"2\">爱好</td>\n",
    "    <td colspan=\"2\">打篮球，看电影，看小说</td>\n",
    "  </tr>\n",
    "  <tr>\n",
    "    <td height=\"4\">特长</td>\n",
    "    <td colspan=\"2\">打篮球</td>\n",
    "  </tr>\n",
    "  <tr>\n",
    "    <td height=\"10\">性格</td>\n",
    "    <td colspan=\"2\">开朗，阳光</td>\n",
    "  </tr>\n",
    "  <tr>\n",
    "    <td height=\"21\">就读学校</td>\n",
    "    <td colspan=\"2\">浙江经贸职业技术学院</td>\n",
    "  </tr>\n",
    "\n",
    "</table>'''"
   ]
  },
  {
   "cell_type": "code",
   "execution_count": 9,
   "metadata": {},
   "outputs": [
    {
     "name": "stdout",
     "output_type": "stream",
     "text": [
      "姓名：倪泽炜\n",
      "性别：男\n",
      "特长: 打篮球\n",
      "爱好: 打篮球，看电影，看小说\n"
     ]
    }
   ],
   "source": [
    "import re\n",
    "r = re.compile('<td width=\"159\" height=\"27\">([\\d\\D]*?)</td>')\n",
    "a= r.search(html).group(1)\n",
    "r = re.compile('<td width=\"267\">([\\d\\D]*?)</td>')\n",
    "b=r.search(html).group(1)\n",
    "r = re.compile('<td height=\"4\">特长</td>[\\d\\D]*?>([\\d\\D]*?)</td>')\n",
    "c=r.search(html).group(1)\n",
    "r = re.compile('<td height=\"2\">爱好</td>[\\d\\D]*?>([\\d\\D]*?)</td>')\n",
    "d=r.search(html).group(1)\n",
    "print(a)\n",
    "print(b)\n",
    "print('特长:',c)\n",
    "print('爱好:',d)"
   ]
  },
  {
   "cell_type": "code",
   "execution_count": null,
   "metadata": {},
   "outputs": [],
   "source": []
  }
 ],
 "metadata": {
  "kernelspec": {
   "display_name": "Python 3",
   "language": "python",
   "name": "python3"
  },
  "language_info": {
   "codemirror_mode": {
    "name": "ipython",
    "version": 3
   },
   "file_extension": ".py",
   "mimetype": "text/x-python",
   "name": "python",
   "nbconvert_exporter": "python",
   "pygments_lexer": "ipython3",
   "version": "3.7.4"
  }
 },
 "nbformat": 4,
 "nbformat_minor": 2
}
