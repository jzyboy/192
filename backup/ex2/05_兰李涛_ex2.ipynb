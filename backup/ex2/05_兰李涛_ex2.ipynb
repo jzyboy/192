{
 "cells": [
  {
   "cell_type": "code",
   "execution_count": 8,
   "metadata": {},
   "outputs": [],
   "source": [
    "from selenium import webdriver\n",
    "import re\n",
    "import html\n",
    "driver=webdriver.Chrome()\n",
    "url = 'https://map.baidu.com/search/%E9%85%92%E5%BA%97/@13401816.6,3523321.62,16z?querytype=nb&r=1000&c=179&wd=%E9%85%92%E5%BA%97&uid=7a0cb8c0d67a634683a00c28&b=(13393816.6,3524971.62;13397960.6,3527671.62)&l=16&gr_radius=1000&pn=0&device_ratio=2&da_src=shareurl'\n",
    "driver.get(url)\n",
    "html = driver.page_source"
   ]
  },
  {
   "cell_type": "code",
   "execution_count": 9,
   "metadata": {},
   "outputs": [],
   "source": [
    "def f(n):\n",
    "    #定义了一个正则表达式\n",
    "    reobj = re.compile(r'<a href=\"javascript:void[\\d\\D]*?\"list_page\">([\\d\\D]*?)</a>[\\d\\D]*?</div>[\\d\\D]*?<div class=\"row\">                <span>                    ([\\d\\D]*?)<i[\\d\\D]*?i>([\\d\\D]*?)                </span>[\\d\\D]*?title=\"([\\d\\D]*?)\">')\n",
    "#迭代循环输出每一个匹配的数据\n",
    "    for match in reobj.finditer(n):\n",
    "        li.append((match.group(1),match.group(2),match.group(3),match.group(4)))\n",
    "def u(n):\n",
    "    a = re.search(r'<a href=\"javascript:void\\(0\\)\" tid=\"toNextPage\" onclick=\"Instance\\(\\'TANGRAM_[\\d\\D]*?\\'\\)\\.toPage\\([\\d\\D]*?\\);return false;\">下一页&gt;</a>',n,re.S)\n",
    "    if str(a)==\"None\":\n",
    "        import csv #导入模块\n",
    "        file=open('E:\\python\\酒店文件保存.csv','w',newline=\"\")  #打开要写入的csv文件\n",
    "        Writer=csv.writer(file) #生成Writer对象\n",
    "        for i in li: #循环遍历酒店信息\n",
    "            Writer.writerow(i)  #将酒店信息写入csv文件\n",
    "        file.close()     \n",
    "    else:\n",
    "        driver.find_element_by_link_text(u\"下一页>\").click()\n",
    "        import time\n",
    "        time.sleep(3)\n",
    "        html = driver.page_source\n",
    "        f(html)\n",
    "        u(html)"
   ]
  },
  {
   "cell_type": "code",
   "execution_count": 10,
   "metadata": {},
   "outputs": [],
   "source": [
    "li = []\n",
    "f(html)\n",
    "u(html)"
   ]
  },
  {
   "cell_type": "code",
   "execution_count": null,
   "metadata": {},
   "outputs": [],
   "source": []
  }
 ],
 "metadata": {
  "kernelspec": {
   "display_name": "Python 3",
   "language": "python",
   "name": "python3"
  },
  "language_info": {
   "codemirror_mode": {
    "name": "ipython",
    "version": 3
   },
   "file_extension": ".py",
   "mimetype": "text/x-python",
   "name": "python",
   "nbconvert_exporter": "python",
   "pygments_lexer": "ipython3",
   "version": "3.7.4"
  }
 },
 "nbformat": 4,
 "nbformat_minor": 2
}
