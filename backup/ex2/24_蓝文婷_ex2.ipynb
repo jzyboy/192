{
 "cells": [
  {
   "cell_type": "code",
   "execution_count": 32,
   "metadata": {},
   "outputs": [],
   "source": [
    "from selenium import webdriver\n",
    "driver = webdriver.Chrome()\n",
    "url = \"https://map.baidu.com/search/%E9%85%92%E5%BA%97/@13401816.6,3523321.62,11z?querytype=nb&r=1000&wd=%E9%85%92%E5%BA%97&nb_x=13401816.60&nb_y=3523321.62&uid=7a0cb8c0d67a634683a00c28&b=(13358647.23882143,3494507.32282143;13434325.493892854,3563765.5716785695)&l=11&gr_radius=1000&pn=0&device_ratio=2&da_src=shareurl\"\n",
    "driver.get(url)"
   ]
  },
  {
   "cell_type": "code",
   "execution_count": 33,
   "metadata": {},
   "outputs": [],
   "source": [
    "html = driver.page_source\n",
    "#print (html)"
   ]
  },
  {
   "cell_type": "code",
   "execution_count": 35,
   "metadata": {},
   "outputs": [
    {
     "name": "stdout",
     "output_type": "stream",
     "text": [
      "[('百惠假日酒店', '1.0/5分', '经济型', '浙江省杭州市江干区经济技术开发区金沙学府金莎阁四层(401室-409室,411室-416室)'), ('汉庭酒店(杭州下沙商贸城店)', '4.3/5分', '经济型', '杭州市江干区天城东路84号'), ('卡尔酒店', '3.0/5分', '经济型', '浙江省杭州市江干区下沙金沙居学正街561号'), ('杭州迈捷酒店', '3.3/5分', '经济型', '浙江省杭州市江干区2号大街863号十六街区商城一幢10楼'), ('锦江之星(杭州经济开发区店)', '4.2/5分', '经济型', '杭州市江干区3号大街538号'), ('枫林晚酒店(亚居店)', '2.0/5分', '经济型', '浙江省杭州市江干区6号大街和19号大街交叉口天元公寓一楼(距新加坡科技园东行300米处)'), ('聚缘商务酒店', '3.7/5分', '经济型', '杭州江干区围垦街168号'), ('福雷德·君喆酒店', '4.4/5分', '经济型', '浙江省杭州市江干区下沙区高教园区文泽路艾肯金座1层'), ('恒8连锁酒店(学源街店)', '4.5/5分', '经济型', '浙江省杭州市江干区下沙街道学源街1172号'), ('一住一宿快捷酒店(杭州下沙店)', '3.3/5分', '经济型', '杭州市江干区4号大街15号西子·阳光星城F1'), ('如家酒店(杭州下沙文渊路传媒学院店)', '4.3/5分', '经济型', '浙江省杭州市江干区文渊路291号'), ('东运精品酒店(杭州下沙地铁江滨站店)', '3.8/5分', '经济型', '浙江省杭州市江干区世茂江滨商业中心3幢201号'), ('胜梦精品酒店', '4.7/5分', '经济型', '浙江省杭州市江干区下沙经济开发区6号大街精欧荣寓3幢底商'), ('浙江传媒学院下沙校区-国际交流中心', '4.4/5分', '舒适型', '浙江省杭州市江干区下沙经济开发区德胜东路1101号'), ('威尔88快捷酒店', '3.8/5分', '经济型', '浙江省杭州市江干区学源街1144号'), ('舒米酒店(下沙大学城店)', '4.2/5分', '经济型', '杭州市江干区学源街1163号'), ('汉庭酒店(杭州下沙店)', '4.7/5分', '经济型', '杭州市江干区学林街1259号'), ('开心旅馆', '3.5/5分', '经济型', '浙江省杭州市江干区高沙小区68号'), ('杭州恒寓智能酒店式公寓', '4.8/5分', '舒适型', '浙江省杭州市江干区经济开发区四号大街209号19-22楼海达大厦'), ('优美快捷酒店', '3.8/5分', '经济型', '浙江省杭州市江干区学源街1138-2号')]\n"
     ]
    }
   ],
   "source": [
    "import re\n",
    "import time\n",
    "list=[]\n",
    "html = driver.page_source\n",
    "for i  in range(2):\n",
    "    html = driver.page_source\n",
    "    reobj = re.compile(r'<a href=\"javascript:void.*?\" class=\"n-blue\" data-index=\"\\d+\" data-stat-code=\"poisearch.hotel.title\" data-detail-code=\"list_page\">(.*?)</a>.*?                <span> (.*?)<i class=\"seperate\">[|]</i>(.*?)                </span>.*?<div class=\"row addr\">[\\s\\S]*?title=\"([\\s\\S]*?)\"')\n",
    "    for match in reobj.finditer(html):\n",
    "        a=match.group(1)\n",
    "        b=match.group(2)\n",
    "        f=b.strip()\n",
    "        c=match.group(3)\n",
    "        d=match.group(4)\n",
    "        t=(a,f,c,d)\n",
    "        list.append(t)\n",
    "    driver.find_element_by_link_text(u\"下一页>\").click()\n",
    "    time.sleep(2)\n",
    "print(list)"
   ]
  },
  {
   "cell_type": "code",
   "execution_count": 23,
   "metadata": {},
   "outputs": [],
   "source": [
    "driver.find_element_by_link_text(u\"下一页>\").click()"
   ]
  },
  {
   "cell_type": "code",
   "execution_count": null,
   "metadata": {},
   "outputs": [],
   "source": []
  },
  {
   "cell_type": "code",
   "execution_count": null,
   "metadata": {},
   "outputs": [],
   "source": []
  }
 ],
 "metadata": {
  "kernelspec": {
   "display_name": "Python 3",
   "language": "python",
   "name": "python3"
  },
  "language_info": {
   "codemirror_mode": {
    "name": "ipython",
    "version": 3
   },
   "file_extension": ".py",
   "mimetype": "text/x-python",
   "name": "python",
   "nbconvert_exporter": "python",
   "pygments_lexer": "ipython3",
   "version": "3.7.4"
  }
 },
 "nbformat": 4,
 "nbformat_minor": 2
}
