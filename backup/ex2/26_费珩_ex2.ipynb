{
 "cells": [
  {
   "cell_type": "markdown",
   "metadata": {},
   "source": [
    "# 数据采集与处理的步骤"
   ]
  },
  {
   "cell_type": "markdown",
   "metadata": {},
   "source": [
    "## 1、定目标(知道自已准备在哪个范围或者网站去搜索，打开采集网页)"
   ]
  },
  {
   "cell_type": "code",
   "execution_count": 1,
   "metadata": {},
   "outputs": [],
   "source": [
    "from selenium import webdriver\n",
    "driver=webdriver.Chrome()\n",
    "url = 'https://map.baidu.com/search/%E9%85%92%E5%BA%97/@13395888.6,3526321.62,16z?querytype=nb&from=webmap&c=179&wd=%E9%85%92%E5%BA%97&pn=0&nn=0&db=0&sug=0&addr=0&pl_data_type=hotel&pl_sub_type=%E9%85%92%E5%BA%97&pl_price_section=0,%2B&pl_sort_type=default&pl_sort_rule=0&pl_discount2_section=0,%2B&pl_groupon_section=0,%2B&pl_cater_book_pc_section=0,%2B&pl_hotel_book_pc_section=0,%2B&pl_ticket_book_flag_section=0,%2B&pl_movie_book_section=0,%2B&pl_business_type=hotel&da_src=shareurl&on_gel=1&src=7&gr=3&l=13&uid=7a0cb8c0d67a634683a00c28&r=1000&device_ratio=2'\n",
    "driver.get(url)"
   ]
  },
  {
   "cell_type": "markdown",
   "metadata": {},
   "source": [
    "## 2、爬网页(将所有网站的内容全部看看看爬下来，获取网页源代网)"
   ]
  },
  {
   "cell_type": "code",
   "execution_count": 4,
   "metadata": {},
   "outputs": [],
   "source": [
    "html = driver.page_source\n",
    "#print(html)"
   ]
  },
  {
   "cell_type": "markdown",
   "metadata": {},
   "source": [
    "## 3、取数据(真出真正有价值的我们想要的数据)"
   ]
  },
  {
   "cell_type": "code",
   "execution_count": 5,
   "metadata": {},
   "outputs": [
    {
     "name": "stdout",
     "output_type": "stream",
     "text": [
      "学源街239号浙江经贸学院北门\n",
      "杭州市江干区学正街567号金沙居B座3层\n",
      "浙江省杭州市江干区学源街239号(浙江经贸学院北门)\n",
      "浙江省杭州市江干区宝龙城市广场二期\n",
      "浙江省杭州市江干区学正街388号阳光创富中心10楼\n",
      "浙江省杭州市江干区学正街388号阳光创富中心内\n",
      "25号大街(宝龙城市广场)\n",
      "浙江省杭州市江干区学正街539号\n",
      "浙江省杭州市江干区经济技术开发区学正街549号金沙居A座\n",
      "浙江省杭州市江干区下沙学正街559号(金沙居B座)\n"
     ]
    }
   ],
   "source": [
    "import re\n",
    "reobj = re.compile(r'<div class=\"row addr\">[\\s\\S]*?title=\"([\\s\\S]*?)\"', re.MULTILINE)\n",
    "for match in reobj.finditer(html):\n",
    "    print(match.group(1))"
   ]
  },
  {
   "cell_type": "markdown",
   "metadata": {},
   "source": [
    "# 使用Selenium模拟鼠标点击下一页"
   ]
  },
  {
   "cell_type": "code",
   "execution_count": 8,
   "metadata": {},
   "outputs": [],
   "source": [
    "driver.find_element_by_link_text(u\"下一页>\").click()"
   ]
  },
  {
   "cell_type": "markdown",
   "metadata": {},
   "source": [
    "## 4、处理数据(按照我们想要的方式存储和使用)"
   ]
  },
  {
   "cell_type": "code",
   "execution_count": 15,
   "metadata": {},
   "outputs": [
    {
     "ename": "PermissionError",
     "evalue": "[Errno 13] Permission denied: 'c:\\\\code2020\\\\result.csv'",
     "output_type": "error",
     "traceback": [
      "\u001b[1;31m---------------------------------------------------------------------------\u001b[0m",
      "\u001b[1;31mPermissionError\u001b[0m                           Traceback (most recent call last)",
      "\u001b[1;32m<ipython-input-15-b667bfbbe0ec>\u001b[0m in \u001b[0;36m<module>\u001b[1;34m\u001b[0m\n\u001b[0;32m      1\u001b[0m \u001b[1;32mimport\u001b[0m \u001b[0mcodecs\u001b[0m\u001b[1;33m\u001b[0m\u001b[1;33m\u001b[0m\u001b[0m\n\u001b[1;32m----> 2\u001b[1;33m \u001b[0mf\u001b[0m \u001b[1;33m=\u001b[0m \u001b[0mcodecs\u001b[0m\u001b[1;33m.\u001b[0m\u001b[0mopen\u001b[0m\u001b[1;33m(\u001b[0m\u001b[1;34mr\"c:\\code2020\\result.csv\"\u001b[0m\u001b[1;33m,\u001b[0m\u001b[1;34m\"w\"\u001b[0m\u001b[1;33m,\u001b[0m\u001b[1;34m\"utf-8\"\u001b[0m\u001b[1;33m)\u001b[0m\u001b[1;33m\u001b[0m\u001b[1;33m\u001b[0m\u001b[0m\n\u001b[0m\u001b[0;32m      3\u001b[0m \u001b[0mf\u001b[0m\u001b[1;33m.\u001b[0m\u001b[0mwrite\u001b[0m\u001b[1;33m(\u001b[0m\u001b[1;34m\"hotel1,address1,type1\"\u001b[0m\u001b[1;33m)\u001b[0m\u001b[1;33m\u001b[0m\u001b[1;33m\u001b[0m\u001b[0m\n\u001b[0;32m      4\u001b[0m \u001b[0mf\u001b[0m\u001b[1;33m.\u001b[0m\u001b[0mclose\u001b[0m\u001b[1;33m(\u001b[0m\u001b[1;33m)\u001b[0m\u001b[1;33m\u001b[0m\u001b[1;33m\u001b[0m\u001b[0m\n",
      "\u001b[1;32m~\\Anaconda2\\envs\\jupyterlab\\lib\\codecs.py\u001b[0m in \u001b[0;36mopen\u001b[1;34m(filename, mode, encoding, errors, buffering)\u001b[0m\n\u001b[0;32m    902\u001b[0m         \u001b[1;31m# Force opening of the file in binary mode\u001b[0m\u001b[1;33m\u001b[0m\u001b[1;33m\u001b[0m\u001b[1;33m\u001b[0m\u001b[0m\n\u001b[0;32m    903\u001b[0m         \u001b[0mmode\u001b[0m \u001b[1;33m=\u001b[0m \u001b[0mmode\u001b[0m \u001b[1;33m+\u001b[0m \u001b[1;34m'b'\u001b[0m\u001b[1;33m\u001b[0m\u001b[1;33m\u001b[0m\u001b[0m\n\u001b[1;32m--> 904\u001b[1;33m     \u001b[0mfile\u001b[0m \u001b[1;33m=\u001b[0m \u001b[0mbuiltins\u001b[0m\u001b[1;33m.\u001b[0m\u001b[0mopen\u001b[0m\u001b[1;33m(\u001b[0m\u001b[0mfilename\u001b[0m\u001b[1;33m,\u001b[0m \u001b[0mmode\u001b[0m\u001b[1;33m,\u001b[0m \u001b[0mbuffering\u001b[0m\u001b[1;33m)\u001b[0m\u001b[1;33m\u001b[0m\u001b[1;33m\u001b[0m\u001b[0m\n\u001b[0m\u001b[0;32m    905\u001b[0m     \u001b[1;32mif\u001b[0m \u001b[0mencoding\u001b[0m \u001b[1;32mis\u001b[0m \u001b[1;32mNone\u001b[0m\u001b[1;33m:\u001b[0m\u001b[1;33m\u001b[0m\u001b[1;33m\u001b[0m\u001b[0m\n\u001b[0;32m    906\u001b[0m         \u001b[1;32mreturn\u001b[0m \u001b[0mfile\u001b[0m\u001b[1;33m\u001b[0m\u001b[1;33m\u001b[0m\u001b[0m\n",
      "\u001b[1;31mPermissionError\u001b[0m: [Errno 13] Permission denied: 'c:\\\\code2020\\\\result.csv'"
     ]
    }
   ],
   "source": [
    "import codecs\n",
    "f = codecs.open(r\"c:\\code2020\\result.csv\",\"w\",\"utf-8\")\n",
    "f.write(\"hotel1,address1,type1\")\n",
    "f.close()"
   ]
  },
  {
   "cell_type": "code",
   "execution_count": 16,
   "metadata": {},
   "outputs": [],
   "source": [
    "html=\"\"\"\n",
    "<html><head></head><body><table width=\"675\" height=\"161\" border=\"1\">\n",
    "  <tbody><tr>\n",
    "    <td height=\"39\" colspan=\"3\" align=\"center\" valign=\"middle\" bgcolor=\"#99FF33\">        个人简介</td>\n",
    "  </tr>\n",
    "  <tr>\n",
    "    <td width=\"159\" height=\"27\">姓名：倪泽炜</td>\n",
    "    <td width=\"267\">性别：男</td>\n",
    "    <td width=\"227\">出生年月：2000/9/28</td>\n",
    "  </tr>\n",
    "          <tr><td height=\"40\">联系电话：18268060248</td>\n",
    "    <td>民族：汉</td>\n",
    "    <td>祖籍：浙江杭州</td>\n",
    "  </tr>\n",
    "  <tr>\n",
    "    <td height=\"2\">爱好</td>\n",
    "    <td colspan=\"2\">打篮球，看电影，看小说</td>\n",
    "  </tr>\n",
    "  <tr>\n",
    "    <td height=\"4\">特长</td>\n",
    "    <td colspan=\"2\">打篮球</td>\n",
    "  </tr>\n",
    "  <tr>\n",
    "    <td height=\"10\">性格</td>\n",
    "    <td colspan=\"2\">开朗，阳光</td>\n",
    "  </tr>\n",
    "  <tr>\n",
    "    <td height=\"21\">就读学校</td>\n",
    "    <td colspan=\"2\">浙江经贸职业技术学院</td>\n",
    "  </tr>\n",
    "\n",
    "</tbody></table>\n",
    "</body></html>\n",
    "\"\"\""
   ]
  },
  {
   "cell_type": "code",
   "execution_count": 17,
   "metadata": {},
   "outputs": [
    {
     "name": "stdout",
     "output_type": "stream",
     "text": [
      "\n",
      "<html><head></head><body><table width=\"675\" height=\"161\" border=\"1\">\n",
      "  <tbody><tr>\n",
      "    <td height=\"39\" colspan=\"3\" align=\"center\" valign=\"middle\" bgcolor=\"#99FF33\">        个人简介</td>\n",
      "  </tr>\n",
      "  <tr>\n",
      "    <td width=\"159\" height=\"27\">姓名：倪泽炜</td>\n",
      "    <td width=\"267\">性别：男</td>\n",
      "    <td width=\"227\">出生年月：2000/9/28</td>\n",
      "  </tr>\n",
      "          <tr><td height=\"40\">联系电话：18268060248</td>\n",
      "    <td>民族：汉</td>\n",
      "    <td>祖籍：浙江杭州</td>\n",
      "  </tr>\n",
      "  <tr>\n",
      "    <td height=\"2\">爱好</td>\n",
      "    <td colspan=\"2\">打篮球，看电影，看小说</td>\n",
      "  </tr>\n",
      "  <tr>\n",
      "    <td height=\"4\">特长</td>\n",
      "    <td colspan=\"2\">打篮球</td>\n",
      "  </tr>\n",
      "  <tr>\n",
      "    <td height=\"10\">性格</td>\n",
      "    <td colspan=\"2\">开朗，阳光</td>\n",
      "  </tr>\n",
      "  <tr>\n",
      "    <td height=\"21\">就读学校</td>\n",
      "    <td colspan=\"2\">浙江经贸职业技术学院</td>\n",
      "  </tr>\n",
      "\n",
      "</tbody></table>\n",
      "</body></html>\n",
      "\n"
     ]
    }
   ],
   "source": [
    "print(html)"
   ]
  },
  {
   "cell_type": "code",
   "execution_count": null,
   "metadata": {},
   "outputs": [],
   "source": []
  }
 ],
 "metadata": {
  "kernelspec": {
   "display_name": "Python 3",
   "language": "python",
   "name": "python3"
  },
  "language_info": {
   "codemirror_mode": {
    "name": "ipython",
    "version": 3
   },
   "file_extension": ".py",
   "mimetype": "text/x-python",
   "name": "python",
   "nbconvert_exporter": "python",
   "pygments_lexer": "ipython3",
   "version": "3.7.6"
  }
 },
 "nbformat": 4,
 "nbformat_minor": 4
}
