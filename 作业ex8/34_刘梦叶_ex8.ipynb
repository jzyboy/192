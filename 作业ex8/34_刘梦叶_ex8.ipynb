{
 "cells": [
  {
   "cell_type": "markdown",
   "metadata": {},
   "source": [
    "https://pintia.cn/problem-sets/1111652100718116864/problems/type/7"
   ]
  },
  {
   "cell_type": "code",
   "execution_count": null,
   "metadata": {},
   "outputs": [],
   "source": [
    "def get_data():\n",
    "    '''\n",
    "    获取页面编号标题等信息\n",
    "    '''\n",
    "    html=driver.page_source\n",
    "    etr=etree.HTML(html,etree.HTMLParser())\n",
    "    for tr in etr.xpath('//tbody/tr'):\n",
    "        biaohao=tr.xpath('td[2]/text()')[0]    #编号\n",
    "        biaoti=tr.xpath('td[3]/a/text()')[0]   #标题\n",
    "        fenshu=tr.xpath('td[4]/text()')[0]   #分数\n",
    "        tongguoshu=tr.xpath('td[5]/text()')[0] #通过数\n",
    "        tijiaoshu=tr.xpath('td[6]/text()')[0]  #提交数\n",
    "        tongguolv=tr.xpath('td[7]/text()')[0] #通过率\n",
    "        href='https://pintia.cn'+tr.xpath('td[3]/a/@href')[0]  #链接\n",
    "        data.append((tixing,biaohao,biaoti,fenshu,tongguoshu,tijiaoshu,tongguolv,href))"
   ]
  },
  {
   "cell_type": "code",
   "execution_count": null,
   "metadata": {},
   "outputs": [],
   "source": [
    "from selenium import webdriver\n",
    "from lxml import etree\n",
    "import time\n",
    "url='https://pintia.cn/problem-sets/1111652100718116864/problems/type/7'\n",
    "driver=webdriver.Chrome()\n",
    "driver.get(url)\n",
    "time.sleep(5)\n",
    "data=[]"
   ]
  },
  {
   "cell_type": "code",
   "execution_count": null,
   "metadata": {},
   "outputs": [],
   "source": []
  },
  {
   "cell_type": "code",
   "execution_count": null,
   "metadata": {},
   "outputs": [],
   "source": [
    "driver.find_element_by_xpath('//*[@id=\"sparkling-daydream\"]/div[3]/div[3]/div/ul/li[1]/a').click()\n",
    "tixing='函数题'\n",
    "time.sleep(1)\n",
    "get_data()"
   ]
  },
  {
   "cell_type": "code",
   "execution_count": null,
   "metadata": {},
   "outputs": [],
   "source": [
    "driver.find_element_by_xpath('//*[@id=\"sparkling-daydream\"]/div[3]/div[3]/div/ul/li[2]/a').click()\n",
    "tixing='编程题'\n",
    "time.sleep(1)\n",
    "get_data()"
   ]
  },
  {
   "cell_type": "code",
   "execution_count": null,
   "metadata": {},
   "outputs": [],
   "source": [
    "tmlist=[]\n",
    "for i in data:\n",
    "    driver.get(i[-1])\n",
    "    time.sleep(5)\n",
    "    html=etree.HTML(driver.page_source,etree.HTMLParser())\n",
    "    tm=html.xpath('//*[@id=\"sparkling-daydream\"]/div[3]/div[3]/div/div[4]/div[2]/div[1]/div/p[1]//text()')\n",
    "    s=''\n",
    "    try:\n",
    "        for i in tm:\n",
    "            s=s+i.strip()\n",
    "        tmlist.append((s,driver.page_source))\n",
    "    except:\n",
    "        tmlist.append(('',driver.page_source))"
   ]
  },
  {
   "cell_type": "code",
   "execution_count": null,
   "metadata": {},
   "outputs": [],
   "source": [
    "#把所有获取的信息汇总到data2\n",
    "data2=[]\n",
    "for i in range(len(data)):\n",
    "    data2.append(data[i]+tmlist[i])"
   ]
  },
  {
   "cell_type": "code",
   "execution_count": null,
   "metadata": {},
   "outputs": [],
   "source": [
    "from pony.orm import *\n",
    "\n",
    "\n",
    "db = Database()\n",
    "\n",
    "\n",
    "class Topic(db.Entity):\n",
    "    biaohao = PrimaryKey(str, column='biaohao', auto=True)#标号\n",
    "    name = Optional(str, column='name')#标题\n",
    "    score = Optional(int, column='score')#分数\n",
    "    Pass = Optional(int, column='Pass')#通过数\n",
    "    tijiao = Optional(int, column='tijiao')#提交数\n",
    "    Passl = Optional(str, column='Passl')#通过率\n",
    "    neirong = Optional(str, column='neirong')#题目内容\n",
    "    html = Optional(str, column='html')#完整html\n",
    "    tixing = Optional(str, column='tixing')#题型（编程题 、函数题）\n",
    "    href = Optional(str, column='href')#题目详情页链接\n",
    "\n",
    "\n",
    "\n",
    "#db.generate_mapping()"
   ]
  },
  {
   "cell_type": "code",
   "execution_count": null,
   "metadata": {},
   "outputs": [],
   "source": [
    "db.bind(provider='sqlite', filename='c:/code2020/timu.sqlite')\n",
    "\n",
    "db.generate_mapping(create_tables=True)\n",
    "\n",
    "set_sql_debug(True)"
   ]
  },
  {
   "cell_type": "code",
   "execution_count": null,
   "metadata": {},
   "outputs": [],
   "source": [
    "for i in data2:\n",
    "    s=timu(tixing=i[0],biaohao=i[1],biaoti=i[2],fengshu=i[3],tongguoshu=i[4],tijiaoshu=i[5],tongguolv=i[6],tmneirong=i[8],html=i[-1],href=i[7])\n",
    "    db.commit() "
   ]
  },
  {
   "cell_type": "code",
   "execution_count": null,
   "metadata": {},
   "outputs": [],
   "source": [
    "list = []\n",
    "while True:\n",
    "    html = driver.page_source  \n",
    "    reobj = re.compile(r'<td class=\"answerIcon_1du7d\"></td><td>([\\d\\D]*?)</td><td><a href=\"([\\d\\D]*?)\"[\\d\\D]*?>([\\d\\D]*?)</a></td><td>([\\d\\D]*?)</td><td>([\\d\\D]*?)</td><td>([\\d\\D]*?)</td><td>([\\d\\D]*?)<')\n",
    "    for match in reobj1.finditer(html):\n",
    "        biaohao1=match.group(1)#标号\n",
    "        name1=match.group(3)#标题\n",
    "        score1=match.group(4)#分数\n",
    "        Pass1=match.group(5)#通过数\n",
    "        tijiao1=match.group(6)#提交数\n",
    "        Passl1=match.group(7)#通过率\n",
    "        href1=\"https://pintia.cn\"+match.group(2)#网址\n",
    "        html1=New_html(tab_url)#完整html\n",
    "        "
   ]
  }
 ],
 "metadata": {
  "kernelspec": {
   "display_name": "Python 3",
   "language": "python",
   "name": "python3"
  },
  "language_info": {
   "codemirror_mode": {
    "name": "ipython",
    "version": 3
   },
   "file_extension": ".py",
   "mimetype": "text/x-python",
   "name": "python",
   "nbconvert_exporter": "python",
   "pygments_lexer": "ipython3",
   "version": "3.7.4"
  }
 },
 "nbformat": 4,
 "nbformat_minor": 4
}
