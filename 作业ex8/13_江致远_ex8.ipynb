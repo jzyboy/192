{
 "cells": [
  {
   "cell_type": "markdown",
   "metadata": {},
   "source": [
    "# 作业链接：https://www.yuque.com/ol1q37/gi94xp/vy59wr"
   ]
  },
  {
   "cell_type": "code",
   "execution_count": 1,
   "metadata": {},
   "outputs": [],
   "source": [
    "from selenium import webdriver\n",
    "driver=webdriver.Chrome()\n",
    "url='https://pintia.cn/problem-sets/1111652100718116864/problems/type/7'\n",
    "driver.get(url)\n",
    "html=driver.page_source"
   ]
  },
  {
   "cell_type": "markdown",
   "metadata": {},
   "source": [
    "# list中存入了题型  标号  题目链接  标题  分数  通过数  提交数  通过率"
   ]
  },
  {
   "cell_type": "code",
   "execution_count": 2,
   "metadata": {},
   "outputs": [],
   "source": [
    "import re\n",
    "import time\n",
    "list=[]\n",
    "for i in range(2):\n",
    "    reobj = re.compile(r'<tr>[\\d\\D]*?<td>([\\d\\D]*?)</td>[\\d\\D]*?\"([\\d\\D]*?)\" class=\"\">([\\d\\D]*?)<[\\d\\D]*?<td>([\\d\\D]*?)</td><td>([\\d\\D]*?)</td><td>([\\d\\D]*?)<[\\d\\D]*?<td>([\\d\\D]*?)<')\n",
    "    for match in reobj.finditer(html):\n",
    "        # match start: match.start()\n",
    "        # match end (exclusive): match.end()\n",
    "        # matched text: match.group()\n",
    "        if i==0:\n",
    "            x=\"编程题\"\n",
    "        else:\n",
    "            x=\"函数题\"\n",
    "        a=match.group(1)\n",
    "        b=\"https://pintia.cn\"+match.group(2)\n",
    "        c=match.group(3)\n",
    "        d=match.group(4)\n",
    "        e=match.group(5)\n",
    "        f=match.group(6)\n",
    "        g=match.group(7)\n",
    "        t=(x,a,b,c,d,e,f,g)\n",
    "        list.append(t)\n",
    "    driver.find_element_by_xpath(\"//div[@id='sparkling-daydream']/div[3]/div[3]/div/ul/li/a/div/div[2]\").click()\n",
    "    time.sleep(2)\n",
    "    html=driver.page_source\n",
    "driver.close()"
   ]
  },
  {
   "cell_type": "raw",
   "metadata": {},
   "source": [
    "# t[0]是题型，t[1]是标号，t[2]是题目链接，t[3]是标题，t[4]是分数，t[5]是通过数，t[6]是提交数，t[7]是通过率。"
   ]
  },
  {
   "cell_type": "markdown",
   "metadata": {},
   "source": [
    "# 作业内容 html，html1和list1中存入了编程题的题目内容和题目完整html"
   ]
  },
  {
   "cell_type": "code",
   "execution_count": 4,
   "metadata": {},
   "outputs": [],
   "source": [
    "from selenium import webdriver\n",
    "driver=webdriver.Chrome()\n",
    "url='https://pintia.cn/problem-sets/1111652100718116864/problems/1111653039147499521'\n",
    "driver.get(url)\n",
    "html=driver.page_source"
   ]
  },
  {
   "cell_type": "code",
   "execution_count": 5,
   "metadata": {},
   "outputs": [],
   "source": [
    "import re\n",
    "import time\n",
    "list1=[]\n",
    "html1=[]\n",
    "for i in range(89):\n",
    "    html=driver.page_source\n",
    "    html1.append(html)\n",
    "    if i ==2:\n",
    "        list1.append(\"无\")\n",
    "    reobj = re.compile(r'<div>[\\d\\D]*?<div class=\"ques-view\"><p>([\\d\\D]*?)</p>')\n",
    "    for match in reobj.finditer(html):\n",
    "        # match start: match.start()\n",
    "        # match end (exclusive): match.end()\n",
    "        # matched text: match.group()\n",
    "        a=match.group(1)\n",
    "        list1.append(a)\n",
    "    if i != 88:\n",
    "        driver.find_element_by_link_text(u\"下一题\").click()\n",
    "        time.sleep(5)\n",
    "driver.close()"
   ]
  },
  {
   "cell_type": "markdown",
   "metadata": {},
   "source": [
    "# html2和list2中存入了函数题的题目内容和题目完整html"
   ]
  },
  {
   "cell_type": "code",
   "execution_count": 6,
   "metadata": {},
   "outputs": [],
   "source": [
    "from selenium import webdriver\n",
    "driver=webdriver.Chrome()\n",
    "url='https://pintia.cn/problem-sets/1111652100718116864/problems/1163035698160459776'\n",
    "driver.get(url)\n",
    "html=driver.page_source"
   ]
  },
  {
   "cell_type": "code",
   "execution_count": 7,
   "metadata": {},
   "outputs": [],
   "source": [
    "import re\n",
    "import time\n",
    "list2=[]\n",
    "html2=[]\n",
    "for i in range(6):\n",
    "    html=driver.page_source\n",
    "    html2.append(html)\n",
    "    reobj = re.compile(r'<div>[\\d\\D]*?<div class=\"ques-view\"><p>([\\d\\D]*?)</p>')\n",
    "    for match in reobj.finditer(html):\n",
    "        # match start: match.start()\n",
    "        # match end (exclusive): match.end()\n",
    "        # matched text: match.group()\n",
    "        a=match.group(1)\n",
    "        list2.append(a)\n",
    "    if i != 5:\n",
    "        driver.find_element_by_link_text(u\"下一题\").click()\n",
    "        time.sleep(2)\n",
    "driver.close()"
   ]
  },
  {
   "cell_type": "markdown",
   "metadata": {},
   "source": [
    "# 把数据存入数据库中"
   ]
  },
  {
   "cell_type": "code",
   "execution_count": 8,
   "metadata": {},
   "outputs": [],
   "source": [
    "from pony.orm import *\n",
    "\n",
    "\n",
    "db = Database()\n",
    "\n",
    "\n",
    "class Ttimu(db.Entity):\n",
    "    id = PrimaryKey(int, auto=True)\n",
    "    tixing = Optional(str)\n",
    "    biaohao = Optional(str)\n",
    "    tmlj = Optional(str)\n",
    "    biaoti = Optional(str)\n",
    "    fs = Optional(str)\n",
    "    tgs = Optional(str)\n",
    "    tjs = Optional(str)\n",
    "    tgl = Optional(str)\n",
    "    html = Optional(str)\n",
    "    tmnr = Optional(str)\n",
    "\n",
    "\n",
    "\n",
    "# db.generate_mapping()"
   ]
  },
  {
   "cell_type": "code",
   "execution_count": 9,
   "metadata": {},
   "outputs": [],
   "source": [
    "db.bind(provider='sqlite',filename='f:/ex8/timuxx.sqlite')\n",
    "\n",
    "db.generate_mapping(create_tables=True)\n",
    "\n",
    "set_sql_debug(True)"
   ]
  },
  {
   "cell_type": "code",
   "execution_count": 10,
   "metadata": {},
   "outputs": [
    {
     "name": "stderr",
     "output_type": "stream",
     "text": [
      "IOPub data rate exceeded.\n",
      "The notebook server will temporarily stop sending output\n",
      "to the client in order to avoid crashing it.\n",
      "To change this limit, set the config variable\n",
      "`--NotebookApp.iopub_data_rate_limit`.\n",
      "\n",
      "Current values:\n",
      "NotebookApp.iopub_data_rate_limit=1000000.0 (bytes/sec)\n",
      "NotebookApp.rate_limit_window=3.0 (secs)\n",
      "\n"
     ]
    }
   ],
   "source": [
    "for i in range(95):\n",
    "    x=list[i]\n",
    "    tx1=x[0]\n",
    "    bh1=x[1]\n",
    "    tm1=x[2]\n",
    "    bt1=x[3]\n",
    "    fs1=x[4]\n",
    "    tgs1=x[5]\n",
    "    tjs1=x[6]\n",
    "    tgl1=x[7]\n",
    "    if i <89:\n",
    "        s=Ttimu(tixing=tx1,biaohao=bh1,tmlj=tm1,biaoti=bt1,fs=fs1,tgs=tgs1,tjs=tjs1,tgl=tgl1,html=html1[i],tmnr=list1[i])\n",
    "        db.commit()\n",
    "    else:\n",
    "        s=Ttimu(tixing=tx1,biaohao=bh1,tmlj=tm1,biaoti=bt1,fs=fs1,tgs=tgs1,tjs=tjs1,tgl=tgl1,html=html2[i-89],tmnr=list2[i-89])\n",
    "        db.commit()"
   ]
  },
  {
   "cell_type": "code",
   "execution_count": null,
   "metadata": {},
   "outputs": [],
   "source": []
  },
  {
   "cell_type": "code",
   "execution_count": null,
   "metadata": {},
   "outputs": [],
   "source": []
  },
  {
   "cell_type": "code",
   "execution_count": null,
   "metadata": {},
   "outputs": [],
   "source": []
  }
 ],
 "metadata": {
  "kernelspec": {
   "display_name": "Python 3",
   "language": "python",
   "name": "python3"
  },
  "language_info": {
   "codemirror_mode": {
    "name": "ipython",
    "version": 3
   },
   "file_extension": ".py",
   "mimetype": "text/x-python",
   "name": "python",
   "nbconvert_exporter": "python",
   "pygments_lexer": "ipython3",
   "version": "3.7.4"
  }
 },
 "nbformat": 4,
 "nbformat_minor": 2
}
