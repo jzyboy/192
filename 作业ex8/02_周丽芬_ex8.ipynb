{
 "cells": [
  {
   "cell_type": "code",
   "execution_count": 8,
   "metadata": {},
   "outputs": [],
   "source": [
    "from selenium import webdriver\n",
    "driver=webdriver.Chrome()\n",
    "url = \"https://pintia.cn/problem-sets/1111652100718116864/problems/type/7\"\n",
    "driver.get(url)"
   ]
  },
  {
   "cell_type": "markdown",
   "metadata": {},
   "source": [
    "# 取出第一个网页的网址"
   ]
  },
  {
   "cell_type": "code",
   "execution_count": 9,
   "metadata": {},
   "outputs": [],
   "source": [
    "list=[]\n",
    "import re \n",
    "import time\n",
    "html = driver.page_source  \n",
    "reobj = re.compile(r'<td><a href=([\\d\\D]*?) class=\"\">')\n",
    "for match in reobj.finditer(html): \n",
    "    a=(\"https://pintia.cn/\"+ match.group(1))\n",
    "    list.append(a)\n",
    "time.sleep(2)"
   ]
  },
  {
   "cell_type": "markdown",
   "metadata": {},
   "source": [
    "# 取第一个网页中的信息"
   ]
  },
  {
   "cell_type": "code",
   "execution_count": 10,
   "metadata": {},
   "outputs": [],
   "source": [
    "xx1=[] #存放包括标号、标题、分数、通过数、提交数、通过率\n",
    "import re \n",
    "import time\n",
    "html = driver.page_source  \n",
    "reobj = re.compile(r'<tr><td class=\"answerIcon_1du7d\"></td><td>([\\d\\D]*?)</td><td><a href[\\d\\D]*?class=\"\">([\\d\\D]*?)</a></td><td>([\\d\\D]*?)</td><td>([\\d\\D]*?)</td><td>([\\d\\D]*?)</td><td>([\\d\\D]*?)</td></tr>')\n",
    "for match in reobj.finditer(html): \n",
    "    a=(match.group(1),match.group(2),match.group(3),match.group(4),match.group(5),match.group(6)) \n",
    "    xx1.append(a)\n",
    "time.sleep(2)"
   ]
  },
  {
   "cell_type": "markdown",
   "metadata": {},
   "source": [
    "# 取出第二个网页的网址"
   ]
  },
  {
   "cell_type": "code",
   "execution_count": 11,
   "metadata": {},
   "outputs": [],
   "source": [
    "import re \n",
    "import time\n",
    "html = driver.page_source  \n",
    "reobj = re.compile(r'<td><a href=([\\d\\D]*?) class=\"\">')\n",
    "for match in reobj.finditer(html): \n",
    "    a=(\"https://pintia.cn/\"+ match.group(1))\n",
    "    list.append(a)\n",
    "time.sleep(2)\n",
    "driver.find_element_by_xpath(\"//div[@id='sparkling-daydream']/div[3]/div[3]/div/ul/li/a/div/div[2]\").click()"
   ]
  },
  {
   "cell_type": "markdown",
   "metadata": {},
   "source": [
    "# 取第二个网页的信息"
   ]
  },
  {
   "cell_type": "code",
   "execution_count": 12,
   "metadata": {},
   "outputs": [],
   "source": [
    "\n",
    "import re \n",
    "import time\n",
    "html = driver.page_source  \n",
    "reobj = re.compile(r'<tr><td class=\"answerIcon_1du7d\"></td><td>([\\d\\D]*?)</td><td><a href[\\d\\D]*?class=\"\">([\\d\\D]*?)</a></td><td>([\\d\\D]*?)</td><td>([\\d\\D]*?)</td><td>([\\d\\D]*?)</td><td>([\\d\\D]*?)</td></tr>')\n",
    "for match in reobj.finditer(html): \n",
    "    a=(match.group(1),match.group(2),match.group(3),match.group(4),match.group(5),match.group(6)) \n",
    "    xx1.append(a)\n",
    "time.sleep(2)\n"
   ]
  },
  {
   "cell_type": "markdown",
   "metadata": {},
   "source": [
    "# 采集题目内容"
   ]
  },
  {
   "cell_type": "code",
   "execution_count": null,
   "metadata": {},
   "outputs": [],
   "source": [
    "xx2=[]\n",
    "import re \n",
    "import time\n",
    "for wz in list:\n",
    "    from selenium import webdriver\n",
    "    driver=webdriver.Chrome()\n",
    "    url = wz\n",
    "    driver.get(url)\n",
    "    \n",
    "    html = driver.page_source  \n",
    "    reobj = re.compile(r'<div class=\"ques-view\"><p>([\\d\\D]*?)</p>')   #采集题目内容\n",
    "    for match in reobj.finditer(html): \n",
    "        a=match.group(1)\n",
    "        xx2.append(a)\n",
    "    driver.close()\n",
    "    time.sleep(2)"
   ]
  },
  {
   "cell_type": "code",
   "execution_count": 6,
   "metadata": {},
   "outputs": [],
   "source": [
    "from selenium import webdriver\n",
    "driver=webdriver.Chrome()\n",
    "url =\"https://pintia.cn//problem-sets/1111652100718116864/problems/1111653039147499521\"\n",
    "driver.get(url)\n",
    "    \n",
    "html = driver.page_source  \n",
    "reobj = re.compile(r'<div class=\"ques-view\"><p>([\\d\\D]*?)</p>')   #采集题目内容\n",
    "for match in reobj.finditer(html): \n",
    "    a=match.group(1)\n",
    "    print(a)\n",
    "time.sleep(2)\n"
   ]
  },
  {
   "cell_type": "code",
   "execution_count": null,
   "metadata": {},
   "outputs": [],
   "source": [
    "from pony.orm import *\n",
    "\n",
    "\n",
    "db = Database()\n",
    "\n",
    "\n",
    "class Star(db.Entity):\n",
    "    id = PrimaryKey(int, auto=True)\n",
    "    name = Optional(str, column='name')\n",
    "    gender = Optional(str, column='gender')\n",
    "    href = Optional(str, column='href')\n",
    "    year = Optional(int, column='year')\n",
    "    month = Optional(int, column='month')\n",
    "    day = Optional(int, column='day')\n",
    "    xz = Optional(str, column='xz')\n",
    "    html = Optional(str, column='html')\n",
    "    address = Optional(str, column='address')\n",
    "    height = Optional(int, column='height')\n",
    "\n",
    "\n",
    "\n",
    "# db.generate_mapping()"
   ]
  },
  {
   "cell_type": "code",
   "execution_count": null,
   "metadata": {},
   "outputs": [],
   "source": [
    "db.bind(provider='sqlite', filename=r'C:\\Users\\Admin\\tm.sqlite')\n",
    "db.generate_mapping(create_tables=True)\n",
    "set_sql_debug(True)\n"
   ]
  }
 ],
 "metadata": {
  "kernelspec": {
   "display_name": "Python 3",
   "language": "python",
   "name": "python3"
  },
  "language_info": {
   "codemirror_mode": {
    "name": "ipython",
    "version": 3
   },
   "file_extension": ".py",
   "mimetype": "text/x-python",
   "name": "python",
   "nbconvert_exporter": "python",
   "pygments_lexer": "ipython3",
   "version": "3.7.4"
  }
 },
 "nbformat": 4,
 "nbformat_minor": 4
}
