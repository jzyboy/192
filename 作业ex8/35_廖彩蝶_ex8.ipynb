{
 "cells": [
  {
   "cell_type": "markdown",
   "metadata": {},
   "source": [
    "# 数据采集地址：https://pintia.cn/problem-sets/1111652100718116864/problems/type/7"
   ]
  },
  {
   "cell_type": "code",
   "execution_count": 2,
   "metadata": {},
   "outputs": [],
   "source": [
    "import time,re\n",
    "from selenium import webdriver\n",
    "from lxml import etree\n",
    "time.sleep(5)"
   ]
  },
  {
   "cell_type": "code",
   "execution_count": 10,
   "metadata": {},
   "outputs": [],
   "source": [
    "data=[]\n",
    "url='https://pintia.cn/problem-sets/1111652100718116864/problems/type/7'\n",
    "driver=webdriver.Chrome()\n",
    "driver.get(url)\n",
    "time.sleep(5)\n",
    "#打开网页，开始采集\n",
    "def get_data():\n",
    "    '''\n",
    "    获取页面编号标题等信息\n",
    "    '''\n",
    "    html=driver.page_source\n",
    "    etr=etree.HTML(html,etree.HTMLParser())\n",
    "    for tr in etr.xpath('//tbody/tr'):\n",
    "        biaohao=tr.xpath('td[2]/text()')[0]    #编号\n",
    "        biaoti=tr.xpath('td[3]/a/text()')[0]   #标题\n",
    "        fenshu=tr.xpath('td[4]/text()')[0]   #分数\n",
    "        tongguoshu=tr.xpath('td[5]/text()')[0] #通过数\n",
    "        tijiaoshu=tr.xpath('td[6]/text()')[0]  #提交数\n",
    "        tongguolv=tr.xpath('td[7]/text()')[0] #通过率\n",
    "        href='https://pintia.cn'+tr.xpath('td[3]/a/@href')[0]  #链接\n",
    "    data.append((tixing,biaohao,biaoti,fenshu,tongguoshu,tijiaoshu,tongguolv,href))\n",
    "        \n",
    "\n",
    "for i in data:\n",
    "    driver.get(i[-1])\n",
    "    time.sleep(5)\n",
    "    html=etree.HTML(driver.page_source,etree.HTMLParser())\n",
    "    tm=html.xpath('//*[@id=\"sparkling-daydream\"]/div[3]/div[3]/div/div[4]/div[2]/div[1]/div/p[1]//text()')\n",
    "    s=''\n",
    "    try:\n",
    "        for i in tm:\n",
    "            s=s+i.strip()\n",
    "        tmlist.append((s,driver.page_source))\n",
    "    except:\n",
    "        tmlist.append(('',driver.page_source))\n",
    "    "
   ]
  },
  {
   "cell_type": "code",
   "execution_count": 11,
   "metadata": {},
   "outputs": [],
   "source": [
    "data2=[]\n",
    "for i in range(len(data)):\n",
    "    data2.append(data[i]+tmlist[i])"
   ]
  },
  {
   "cell_type": "markdown",
   "metadata": {},
   "source": [
    "# 保存到数据库"
   ]
  },
  {
   "cell_type": "code",
   "execution_count": 22,
   "metadata": {},
   "outputs": [],
   "source": [
    "from pony.orm import *\n",
    "db = Database()\n",
    "class Tm(db.Entity):\n",
    "    id = PrimaryKey(int, auto=True)\n",
    "    tixing = Optional(str, column='tixing')\n",
    "    biaohao = Optional(str, column='biaohao')\n",
    "    biaoti = Optional(str, column='biaoti')\n",
    "    fengshu = Optional(str, column='fengshu')\n",
    "    tongguoshu = Optional(str, column='tongguoshu')\n",
    "    tijiaoshu = Optional(str, column='tijiaoshu')\n",
    "    tongguolv = Optional(str, default='tongguolv')\n",
    "    tmneirong = Optional(str, column='tmneirong')\n",
    "    html = Optional(str, column='html')\n",
    "    href = Optional(str, column='href')\n",
    "    \n",
    "db.bind(provider='sqlite', filename=r'C:\\Users\\Admin\\tm.sqlite')\n",
    "db.generate_mapping(create_tables=True)\n",
    "set_sql_debug(True)"
   ]
  },
  {
   "cell_type": "markdown",
   "metadata": {},
   "source": [
    "# 便利打印出数据"
   ]
  },
  {
   "cell_type": "code",
   "execution_count": 24,
   "metadata": {},
   "outputs": [
    {
     "name": "stderr",
     "output_type": "stream",
     "text": [
      "IOPub data rate exceeded.\n",
      "The notebook server will temporarily stop sending output\n",
      "to the client in order to avoid crashing it.\n",
      "To change this limit, set the config variable\n",
      "`--NotebookApp.iopub_data_rate_limit`.\n",
      "\n",
      "Current values:\n",
      "NotebookApp.iopub_data_rate_limit=1000000.0 (bytes/sec)\n",
      "NotebookApp.rate_limit_window=3.0 (secs)\n",
      "\n"
     ]
    }
   ],
   "source": [
    "for i in data2:\n",
    "    s=Tm(tixing=i[0],biaohao=i[1],biaoti=i[2],fengshu=i[3],tongguoshu=i[4],tijiaoshu=i[5],tongguolv=i[6],tmneirong=i[8],html=i[-1],href=i[7])\n",
    "    db.commit()\n",
    "    "
   ]
  }
 ],
 "metadata": {
  "kernelspec": {
   "display_name": "Python 3",
   "language": "python",
   "name": "python3"
  },
  "language_info": {
   "codemirror_mode": {
    "name": "ipython",
    "version": 3
   },
   "file_extension": ".py",
   "mimetype": "text/x-python",
   "name": "python",
   "nbconvert_exporter": "python",
   "pygments_lexer": "ipython3",
   "version": "3.7.4"
  }
 },
 "nbformat": 4,
 "nbformat_minor": 2
}
