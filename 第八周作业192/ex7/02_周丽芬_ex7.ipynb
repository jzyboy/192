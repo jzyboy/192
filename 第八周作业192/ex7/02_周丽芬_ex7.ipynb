{
 "cells": [
  {
   "cell_type": "markdown",
   "metadata": {},
   "source": [
    "#   采集百度所有内地女明星的姓名、图片、链接"
   ]
  },
  {
   "cell_type": "markdown",
   "metadata": {},
   "source": [
    "# 建立数据库"
   ]
  },
  {
   "cell_type": "code",
   "execution_count": null,
   "metadata": {},
   "outputs": [],
   "source": [
    "from pony.orm import *\n",
    "\n",
    "\n",
    "db = Database()\n",
    "\n",
    "\n",
    "class Star(db.Entity):\n",
    "    id = PrimaryKey(int, auto=True)\n",
    "    name = Optional(str, column='name')\n",
    "    picture=Optional(str, column='picture')\n",
    "    href1=Optional(str, column='href1')\n",
    "    gender = Optional(str, column='gender')\n",
    "    href = Optional(str, column='href')\n",
    "    year = Optional(int, column='year')\n",
    "    month = Optional(int, column='month')\n",
    "    day = Optional(int, column='day')\n",
    "    xz = Optional(str, column='xz')\n",
    "    html = Optional(str, column='html')\n",
    "    address = Optional(str, column='address')\n",
    "    height = Optional(float, column='height')\n",
    "\n",
    "\n",
    "\n",
    "# db.generate_mapping()"
   ]
  },
  {
   "cell_type": "code",
   "execution_count": null,
   "metadata": {},
   "outputs": [],
   "source": [
    "db.bind(provider='sqlite',filename='f:/ex7/star.sqlite')\n",
    "\n",
    "db.generate_mapping(create_tables=True)\n",
    "\n",
    "set_sql_debug(True)"
   ]
  },
  {
   "cell_type": "code",
   "execution_count": null,
   "metadata": {},
   "outputs": [],
   "source": [
    "def get_name(n):\n",
    "    html = driver.page_source\n",
    "    reobj = re.compile(r'<div class=\"op_exactqa_item c-gap-bottom c-span4 [\\d\\D]*?\"><div class=\"op_exactqa_feedback OP_LOG_BTN\">[\\d\\D]*?<a href=\"([\\d\\D]*?)\" title=\"([\\d\\D]*?)\" target=\"_blank\"><img class=\"[\\d\\D]*?\" src=\"([\\d\\D]*?)\">')\n",
    "    # for i in range(330):\n",
    "    for i in range(n):\n",
    "        html = driver.page_source\n",
    "        for match in reobj.finditer(html):\n",
    "            href2=match.group(1)\n",
    "            name1=match.group(2)\n",
    "            picture1=match.group(3)\n",
    "            s=Star(name=name1,href1=href2,picture=picture1)\n",
    "            db.commit()\n",
    "        driver.find_element_by_xpath(\"//div[@id='1']/div/div/div[2]/div[2]/p/span[6]\").click()\n",
    "        time.sleep(2)\n",
    "    driver.close()"
   ]
  },
  {
   "cell_type": "code",
   "execution_count": null,
   "metadata": {},
   "outputs": [],
   "source": [
    "def get_href(n):\n",
    "    star.href=\"https://baike.baidu.com/item/\"+n\n",
    "    time.sleep(2)\n",
    "    db.commit()"
   ]
  },
  {
   "cell_type": "code",
   "execution_count": null,
   "metadata": {},
   "outputs": [],
   "source": [
    "def get_html(h):\n",
    "    driver=webdriver.Chrome()\n",
    "    driver.get(h)\n",
    "    time.sleep(2)\n",
    "    star.html=driver.page_source\n",
    "    time.sleep(2)\n",
    "    driver.close()\n",
    "    db.commit()"
   ]
  },
  {
   "cell_type": "code",
   "execution_count": null,
   "metadata": {},
   "outputs": [],
   "source": [
    "def get_xz(h):\n",
    "    reobj = re.compile(r'座</dt>\\n<dd class=\"basicInfo-item value\">\\n([\\d\\D]*?)\\n<')\n",
    "    for match in reobj.finditer(h):\n",
    "        xz1=match.group(1)\n",
    "        if len(xz1)==3:\n",
    "            star.xz=xz1\n",
    "            time.sleep(2)\n",
    "            db.commit()\n",
    "        else:\n",
    "            reobj = re.compile(r'座</dt>\\n<dd class=\"basicInfo-item value\">\\n<a target=\"_blank\" [\\d\\D]*?\">([\\d\\D]*?)<')\n",
    "            for match in reobj.finditer(h):\n",
    "                xz1=match.group(1)\n",
    "                star.xz=xz1\n",
    "                time.sleep(2)\n",
    "                db.commit()"
   ]
  },
  {
   "cell_type": "code",
   "execution_count": null,
   "metadata": {},
   "outputs": [],
   "source": [
    "def get_height(h):\n",
    "    reobj = re.compile(r'高</dt>\\n<dd class=\"basicInfo-item value\">\\n([\\d\\D]*?)cm\\n<')\n",
    "    for match in reobj.finditer(h):\n",
    "        sg1=match.group(1)\n",
    "        star.height=sg1\n",
    "        time.sleep(2)\n",
    "        db.commit()"
   ]
  },
  {
   "cell_type": "code",
   "execution_count": null,
   "metadata": {},
   "outputs": [],
   "source": [
    "def get_gender():\n",
    "    star.gender=\"女\"\n",
    "    time.sleep(2)\n",
    "    db.commit()"
   ]
  },
  {
   "cell_type": "code",
   "execution_count": null,
   "metadata": {},
   "outputs": [],
   "source": [
    "def get_address(h):\n",
    "    reobj = re.compile(r'<dt class=\"basicInfo-item name\">出生地[\\d\\D]*?\">([\\d\\D]*?)<')\n",
    "    for match in reobj.finditer(h):\n",
    "        jg1=match.group(1)\n",
    "        star.address=jg1\n",
    "        time.sleep(2)\n",
    "        db.commit()"
   ]
  },
  {
   "cell_type": "code",
   "execution_count": null,
   "metadata": {},
   "outputs": [],
   "source": [
    "def get_year(h):\n",
    "    reobj = re.compile(r'<dt class=\"basicInfo-item name\">出生日期[\\d\\D]*?\">([\\d\\D]*?)年')\n",
    "    for match in reobj.finditer(h):\n",
    "        year1=match.group(1)\n",
    "        star.year=year1\n",
    "        time.sleep(2)\n",
    "        db.commit()\n",
    "        \n",
    "        \n",
    "def get_month(h):\n",
    "    reobj = re.compile(r'<dt class=\"basicInfo-item name\">出生日期[\\d\\D]*?年([\\d\\D]*?)月')\n",
    "    for match in reobj.finditer(h):\n",
    "        month1=match.group(1)\n",
    "        star.month=month1\n",
    "        time.sleep(2)\n",
    "        db.commit()\n",
    "        \n",
    "        \n",
    "def get_day(h):\n",
    "    reobj = re.compile(r'<dt class=\"basicInfo-item name\">出生日期[\\d\\D]*?月([\\d\\D]*?)日')\n",
    "    for match in reobj.finditer(h):\n",
    "        day1=match.group(1)\n",
    "        star.day=day1\n",
    "        time.sleep(2)\n",
    "        db.commit()"
   ]
  },
  {
   "cell_type": "code",
   "execution_count": null,
   "metadata": {},
   "outputs": [],
   "source": [
    "from selenium import webdriver\n",
    "import time\n",
    "import re\n",
    "driver=webdriver.Chrome()\n",
    "url = 'https://www.baidu.com/s?ie=utf-8&f=8&rsv_bp=1&rsv_idx=2&tn=baiduhome_pg&wd=%E6%98%8E%E6%98%9F&rsv_spt=1&oq=%25E6%2598%258E%25E6%2598%259F&rsv_pq=a1a2cf770002ec2f&rsv_t=0e3baM8Xu8qPUVhj0snvRVkEdX1Le%2Bm%2FZvXgmFXh1EnnOrdvEFvLRImf6oviVMQdrqmk&rqlang=cn&rsv_enter=0&rsv_dl=tb'\n",
    "driver.get(url)\n",
    "time.sleep(2)\n",
    "driver.find_element_by_xpath(\"//div[@id='1']/div/div/div/div[2]/p/span[4]\").click()\n",
    "time.sleep(2)\n",
    "driver.find_element_by_xpath(\"//div[@id='1']/div/div/div/div[2]/p[2]/span[3]\").click()\n",
    "html = driver.page_source"
   ]
  },
  {
   "cell_type": "code",
   "execution_count": null,
   "metadata": {},
   "outputs": [],
   "source": [
    "get_name(1)\n",
    "\n",
    "for star in Star.select():\n",
    "    get_href(star.name)\n",
    "    time.sleep(2)\n",
    "    get_html(star.href)\n",
    "    time.sleep(2)\n",
    "    get_xz(star.html)\n",
    "    time.sleep(2)\n",
    "    get_height(star.html)\n",
    "    time.sleep(2)\n",
    "    get_gender()\n",
    "    time.sleep(2)\n",
    "    get_address(star.html)\n",
    "    time.sleep(2)\n",
    "    get_year(star.html)\n",
    "    time.sleep(2)\n",
    "    get_month(star.html)\n",
    "    time.sleep(2)\n",
    "    get_day(star.html)"
   ]
  },
  {
   "cell_type": "code",
   "execution_count": null,
   "metadata": {},
   "outputs": [],
   "source": []
  },
  {
   "cell_type": "code",
   "execution_count": null,
   "metadata": {},
   "outputs": [],
   "source": []
  },
  {
   "cell_type": "code",
   "execution_count": 1,
   "metadata": {},
   "outputs": [],
   "source": [
    "from selenium import webdriver #打开网页\n",
    "driver=webdriver.Chrome()\n",
    "url = 'https://www.baidu.com/s?wd=明星&rsv_spt=1&rsv_iqid=0xbe4b76860031fb66&issp=1&f=8&rsv_bp=1&rsv_idx=2&ie=utf-8&rqlang=&tn=baiduhome_pg&ch=&rsv_enter=1&rsv_dl=ib&inputT=2978'\n",
    "driver.get(url)"
   ]
  },
  {
   "cell_type": "markdown",
   "metadata": {},
   "source": [
    "# 点击内地、女,两次点击之间有一定的间隔"
   ]
  },
  {
   "cell_type": "code",
   "execution_count": 2,
   "metadata": {},
   "outputs": [],
   "source": [
    "import time\n",
    "driver.find_element_by_xpath(\"//div[@id='1']/div/div/div/div[2]/p/span[4]\").click()\n",
    "time.sleep(1)\n",
    "driver.find_element_by_xpath(\"//div[@id='1']/div/div/div/div[2]/p[2]/span[3]\").click()"
   ]
  },
  {
   "cell_type": "markdown",
   "metadata": {},
   "source": [
    "# 采集明星的网址"
   ]
  },
  {
   "cell_type": "code",
   "execution_count": null,
   "metadata": {},
   "outputs": [],
   "source": [
    "import re \n",
    "import time\n",
    "list = []\n",
    "while True:\n",
    "    html = driver.page_source  \n",
    "    reobj1=re.compile('<span class=\"opui-page-next OP_LOG_BTN\" style=([\\d\\D]*?)>下一页</span>',re.MULTILINE)\n",
    "    for match in reobj1.finditer(html):\n",
    "        d=match.group(1)\n",
    "        reobj = re.compile('<p class=\"op_exactqa_item_img\"><a href=[\\d\\D]*? title=\"([\\d\\D]*?)\" target=\"_blank\"><img class=\"c-img c-img4\" src=[\\d\\D]*?',re.MULTILINE)\n",
    "        for match in reobj.finditer(html):  \n",
    "            a=match.group(1)\n",
    "            list.append(\"https://baike.baidu.com/item/\"+a)\n",
    "    if d=='\"display: none;\"': \n",
    "        break\n",
    "    driver.find_element_by_xpath(\"//div[@id='1']/div/div/div[2]/div[2]/p/span[6]\").click() #从Katalon Recorder插件中copy过来的代码\n",
    "    time.sleep(2)"
   ]
  },
  {
   "cell_type": "markdown",
   "metadata": {},
   "source": [
    "# 采集各个明星的信息"
   ]
  },
  {
   "cell_type": "code",
   "execution_count": null,
   "metadata": {},
   "outputs": [],
   "source": []
  },
  {
   "cell_type": "markdown",
   "metadata": {},
   "source": [
    "# 采集明星的信息"
   ]
  },
  {
   "cell_type": "code",
   "execution_count": null,
   "metadata": {},
   "outputs": [],
   "source": [
    "import re \n",
    "import time\n",
    "list = []\n",
    "while True:\n",
    "    html = driver.page_source  \n",
    "    reobj1=re.compile('<span class=\"opui-page-next OP_LOG_BTN\" style=([\\d\\D]*?)>下一页</span>',re.MULTILINE)\n",
    "    for match in reobj1.finditer(html):\n",
    "        d=match.group(1)\n",
    "        reobj = re.compile('<p class=\"op_exactqa_item_img\"><a href=([\\d\\D]*?) title=([\\d\\D]*?) target=\"_blank\"><img class=\"c-img c-img4\" src=([\\d\\D]*?)',re.MULTILINE)\n",
    "        for match in reobj.finditer(html):  \n",
    "            a=match.group(1)\n",
    "            b=match.group(2)\n",
    "            c=match.group(3)\n",
    "            print(b,c,a)\n",
    "            print(\"=\"*10)\n",
    "            list.append((b,c,a))\n",
    "    if d=='\"display: none;\"': \n",
    "        break\n",
    "    driver.find_element_by_xpath(\"//div[@id='1']/div/div/div[2]/div[2]/p/span[6]\").click() #从Katalon Recorder插件中copy过来的代码\n",
    "    time.sleep(2)"
   ]
  },
  {
   "cell_type": "markdown",
   "metadata": {},
   "source": [
    "# 将采集的数据存储"
   ]
  },
  {
   "cell_type": "code",
   "execution_count": null,
   "metadata": {},
   "outputs": [],
   "source": [
    "import codecs\n",
    "a=len(list)\n",
    "f = codecs.open(r\"D:\\nvming.csv\",\"w\",\"utf-8-sig\")\n",
    "f.write(\"姓名,照片,网址\\n\")\n",
    "for i in range (a):#不需要-1\n",
    "    a=list[i]\n",
    "    f.write(a[0]+\",\"+a[1]+\",\"+a[2]+\",\"+a[3]+\"\\n\")\n",
    "f.close()"
   ]
  },
  {
   "cell_type": "code",
   "execution_count": 5,
   "metadata": {},
   "outputs": [
    {
     "name": "stdout",
     "output_type": "stream",
     "text": [
      "['https://baike.baidu.com/item/刘诗诗', 'https://baike.baidu.com/item/周笔畅', 'https://baike.baidu.com/item/吴倩', 'https://baike.baidu.com/item/杨紫', 'https://baike.baidu.com/item/杨幂', 'https://baike.baidu.com/item/迪丽热巴', 'https://baike.baidu.com/item/赵丽颖', 'https://baike.baidu.com/item/Angelababy', 'https://baike.baidu.com/item/唐嫣', 'https://baike.baidu.com/item/张萌', 'https://baike.baidu.com/item/郑爽', 'https://baike.baidu.com/item/柳岩', 'https://baike.baidu.com/item/关晓彤', 'https://baike.baidu.com/item/宋茜', 'https://baike.baidu.com/item/鞠婧祎', 'https://baike.baidu.com/item/孙俪', 'https://baike.baidu.com/item/范冰冰', 'https://baike.baidu.com/item/韩雪', 'https://baike.baidu.com/item/佟丽娅', 'https://baike.baidu.com/item/张佳宁', 'https://baike.baidu.com/item/赵子琪', 'https://baike.baidu.com/item/李沁', 'https://baike.baidu.com/item/蒋欣', 'https://baike.baidu.com/item/傅晶']\n"
     ]
    }
   ],
   "source": [
    "import re \n",
    "import time\n",
    "list = []\n",
    "for i in range(2):\n",
    "    html = driver.page_source  \n",
    "    reobj = re.compile('<p class=\"op_exactqa_item_img\"><a href=[\\d\\D]*? title=\"([\\d\\D]*?)\" target=\"_blank\"><img class=\"c-img c-img4\" src=[\\d\\D]*?',re.MULTILINE)\n",
    "    for match in reobj.finditer(html):  \n",
    "        a=match.group(1)\n",
    "        list.append(\"https://baike.baidu.com/item/\"+a)\n",
    "    driver.find_element_by_xpath(\"//div[@id='1']/div/div/div[2]/div[2]/p/span[6]\").click()\n",
    "    time.sleep(2)\n",
    "print(list)"
   ]
  },
  {
   "cell_type": "markdown",
   "metadata": {},
   "source": [
    "# 打开明星的网页"
   ]
  },
  {
   "cell_type": "code",
   "execution_count": null,
   "metadata": {},
   "outputs": [],
   "source": [
    "import time\n",
    "list1=[]\n",
    "list2=[]\n",
    "from selenium import webdriver #打开网页driver=webdriver.Chrome()\n",
    "    url =list[o]\n",
    "    driver.get(url)\n",
    "    \n",
    "    html = driver.page_source #获取网页源代码\n",
    "    reobj = re.compile(r'<dd class=\"basicInfo-item value\">([\\d\\D]*?)</dd>')\n",
    "    for match in reobj.finditer(html):\n",
    "        a=match.group(1)\n",
    "        list1.append(a)\n",
    "    name=list1[0]\n",
    "    day=list1[9]\n",
    "    xz=list1[5]\n",
    "    height=list1[7]\n",
    "    address=list1[8]\n",
    "    list2.append((name,day,xz,height,address))\n",
    "    time.sleep(2)"
   ]
  },
  {
   "cell_type": "code",
   "execution_count": 32,
   "metadata": {},
   "outputs": [
    {
     "name": "stdout",
     "output_type": "stream",
     "text": [
      "\n",
      "张檬\n",
      " \n",
      "河南省郑州市中原区\n",
      " \n",
      "魔羯座\n",
      " \n",
      "165cm\n",
      " \n",
      "48kg\n",
      "\n"
     ]
    }
   ],
   "source": [
    "list1=[]\n",
    "list2=[] #存放姓名星座等数据\n",
    "html = driver.page_source #获取网页源代码\n",
    "reobj = re.compile(r'<dd class=\"basicInfo-item value\">([\\d\\D]*?)</dd>')\n",
    "for match in reobj.finditer(html):\n",
    "    a=match.group(1)\n",
    "    list1.append(a)\n",
    "name=list1[0]\n",
    "day=list1[9]\n",
    "xz=list1[5]\n",
    "height=list1[7]\n",
    "address=list1[8]\n",
    "print(name,day,xz,height,address)"
   ]
  },
  {
   "cell_type": "code",
   "execution_count": null,
   "metadata": {},
   "outputs": [],
   "source": []
  }
 ],
 "metadata": {
  "kernelspec": {
   "display_name": "Python 3",
   "language": "python",
   "name": "python3"
  },
  "language_info": {
   "codemirror_mode": {
    "name": "ipython",
    "version": 3
   },
   "file_extension": ".py",
   "mimetype": "text/x-python",
   "name": "python",
   "nbconvert_exporter": "python",
   "pygments_lexer": "ipython3",
   "version": "3.7.4"
  }
 },
 "nbformat": 4,
 "nbformat_minor": 4
}
