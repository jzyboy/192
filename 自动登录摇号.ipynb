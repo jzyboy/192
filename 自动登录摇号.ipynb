{
 "cells": [
  {
   "cell_type": "code",
   "execution_count": 48,
   "metadata": {},
   "outputs": [],
   "source": [
    "from selenium import webdriver\n",
    "import time\n",
    "from PIL import ImageGrab\n",
    "import re"
   ]
  },
  {
   "cell_type": "code",
   "execution_count": 2,
   "metadata": {},
   "outputs": [],
   "source": [
    "import requests\n",
    "from hashlib import md5\n",
    "\n",
    "class Chaojiying_Client(object):\n",
    "\n",
    "    def __init__(self, username, password, soft_id):\n",
    "        self.username = username\n",
    "        password =  password.encode('utf8')\n",
    "        self.password = md5(password).hexdigest()\n",
    "        self.soft_id = soft_id\n",
    "        self.base_params = {\n",
    "            'user': self.username,\n",
    "            'pass2': self.password,\n",
    "            'softid': self.soft_id,\n",
    "        }\n",
    "        self.headers = {\n",
    "            'Connection': 'Keep-Alive',\n",
    "            'User-Agent': 'Mozilla/4.0 (compatible; MSIE 8.0; Windows NT 5.1; Trident/4.0)',\n",
    "        }\n",
    "\n",
    "    def PostPic(self, im, codetype):\n",
    "        \"\"\"\n",
    "        im: 图片字节\n",
    "        codetype: 题目类型 参考 http://www.chaojiying.com/price.html\n",
    "        \"\"\"\n",
    "        params = {\n",
    "            'codetype': codetype,\n",
    "        }\n",
    "        params.update(self.base_params)\n",
    "        files = {'userfile': ('ccc.jpg', im)}\n",
    "        r = requests.post('http://upload.chaojiying.net/Upload/Processing.php', data=params, files=files, headers=self.headers)\n",
    "        return r.json()\n",
    "\n",
    "    def ReportError(self, im_id):\n",
    "        \"\"\"\n",
    "        im_id:报错题目的图片ID\n",
    "        \"\"\"\n",
    "        params = {\n",
    "            'id': im_id,\n",
    "        }\n",
    "        params.update(self.base_params)\n",
    "        r = requests.post('http://upload.chaojiying.net/Upload/ReportError.php', data=params, headers=self.headers)\n",
    "        return r.json()"
   ]
  },
  {
   "cell_type": "markdown",
   "metadata": {},
   "source": [
    "# 截屏，获取验证码图片保存到本地  (此处该网页要在屏幕最前面)"
   ]
  },
  {
   "cell_type": "code",
   "execution_count": 128,
   "metadata": {},
   "outputs": [],
   "source": [
    "def save_yzm_img(save_path):\n",
    "    \"\"\"截屏获取验证码图片，保存到本地\"\"\"\n",
    "    # 传入验证码所在屏幕的坐标，屏幕不同参数不同\n",
    "    bbox = (1460, 1019, 1575, 1063)\n",
    "    im = ImageGrab.grab(bbox)\n",
    "    im.save(save_path)"
   ]
  },
  {
   "cell_type": "markdown",
   "metadata": {},
   "source": [
    "# 获取验证码\n",
    "# 超级鹰 账号 密码 软件ID 自行替换"
   ]
  },
  {
   "cell_type": "code",
   "execution_count": 129,
   "metadata": {},
   "outputs": [],
   "source": [
    "def get_yzm(img_path):\n",
    "    \"\"\"通过超级鹰获取验证码\"\"\"\n",
    "    # 输入超级鹰的账号，密码，和 软件ID\n",
    "    chaojiying = Chaojiying_Client('超级鹰账号', '密码', '软件ID')\t#用户中心>>软件ID 生成一个替换\n",
    "    im = open(img_path, 'rb').read()  #本地图片文件路径 来替换 a.jpg 有时WIN系统须要//\n",
    "    # print(chaojiying.PostPic(im, 1902))  #1902 验证码类型  官方网站>>价格体系 3.4+版 print 后要加()\n",
    "    yzm = chaojiying.PostPic(im, 1902)['pic_str']\n",
    "    print(yzm)\n",
    "    return yzm"
   ]
  },
  {
   "cell_type": "markdown",
   "metadata": {},
   "source": [
    "# 登录函数"
   ]
  },
  {
   "cell_type": "code",
   "execution_count": 130,
   "metadata": {},
   "outputs": [],
   "source": [
    "def login():\n",
    "    \"\"\"登录\"\"\"    \n",
    "    driver.find_element_by_name('loginCode').clear()\n",
    "    driver.find_element_by_name('loginCode').send_keys(Id)\n",
    "    driver.find_element_by_name('password').clear()\n",
    "    driver.find_element_by_name('password').send_keys(password)\n",
    "    driver.find_element_by_name('validCode').clear()\n",
    "    driver.find_element_by_name('validCode').send_keys(yzm)\n",
    "    time.sleep(1)\n",
    "    # 点击登录\n",
    "    driver.find_element_by_id('userLoginButton').click()"
   ]
  },
  {
   "cell_type": "markdown",
   "metadata": {},
   "source": [
    "# 打开网页"
   ]
  },
  {
   "cell_type": "code",
   "execution_count": 131,
   "metadata": {},
   "outputs": [],
   "source": [
    "def get_url():\n",
    "    \"\"\"打开网页，并且将网页最大化\"\"\"\n",
    "    url = 'http://xkctk.hangzhou.gov.cn/'\n",
    "    driver.get(url)\n",
    "    time.sleep(1)\n",
    "    # 将屏幕最大化，方便获取验证码\n",
    "    driver.maximize_window()\n",
    "    time.sleep(1)\n",
    "    driver.refresh()\n",
    "    time.sleep(1)"
   ]
  },
  {
   "cell_type": "markdown",
   "metadata": {},
   "source": [
    "# 点击摇号"
   ]
  },
  {
   "cell_type": "code",
   "execution_count": 132,
   "metadata": {},
   "outputs": [],
   "source": [
    "def click_sq():\n",
    "    \"\"\"点击申请表，再点击重新申请按钮\"\"\"\n",
    "    # 先点击申请表按钮\n",
    "    driver.find_element_by_xpath('/html/body/div[1]/div[2]/div/div[2]/div/div[4]/table/tbody/tr[2]/td[8]/span/a').click()\n",
    "    time.sleep(1)\n",
    "    # 判断有没有重新申请的按钮\n",
    "    match = re.search(r'<span class=\"tabbtn bgcolor_blue\"><a href=\"#none\" id=\"reApplyButton2\" style=\"color: #fff\">重新申请</a></span>', driver.page_source)\n",
    "    if match:\n",
    "        print('找到按钮')\n",
    "        driver.find_element_by_xpath('//*[@id=\"reApplyButton2\"]').click()\n",
    "    else:\n",
    "        print('未找到重新申请按钮')"
   ]
  },
  {
   "cell_type": "markdown",
   "metadata": {},
   "source": [
    "# 点击重新申请后，再点击弹窗的确定按钮"
   ]
  },
  {
   "cell_type": "code",
   "execution_count": 136,
   "metadata": {},
   "outputs": [],
   "source": [
    "def click_ok():\n",
    "    alert = driver.switch_to_alert()\n",
    "    alert.accept()"
   ]
  },
  {
   "cell_type": "markdown",
   "metadata": {},
   "source": [
    "# 点击确定后，进入申请的详细页"
   ]
  },
  {
   "cell_type": "code",
   "execution_count": 171,
   "metadata": {},
   "outputs": [],
   "source": [
    "def click_next():\n",
    "    \"\"\"点击下一步\"\"\"\n",
    "    from selenium.webdriver.support.ui import Select\n",
    "    # 选择身份类型\n",
    "    select_element = Select(driver.find_element_by_xpath('//select[@id=\"personType\"]'))\n",
    "    select_element.select_by_value('BSHJ')\n",
    "    print('选择身份类型为：', select_element.all_selected_options[0].text)\n",
    "    time.sleep(1)\n",
    "    # 点击下一页\n",
    "    driver.find_element_by_xpath('//*[@id=\"nextButton\"]').click()\n",
    "    time.sleep(1)\n",
    "    driver.find_element_by_xpath('//*[@id=\"secondButton\"]').click()\n",
    "    time.sleep(1)\n",
    "    # 点击提交按钮\n",
    "    driver.find_element_by_xpath('//*[@id=\"applyButton\"]').click()"
   ]
  },
  {
   "cell_type": "markdown",
   "metadata": {},
   "source": [
    "# 主程序"
   ]
  },
  {
   "cell_type": "code",
   "execution_count": 1,
   "metadata": {},
   "outputs": [
    {
     "name": "stdout",
     "output_type": "stream",
     "text": [
      "请输入账号：aaa\n",
      "请输入密码：aaa\n"
     ]
    },
    {
     "ename": "NameError",
     "evalue": "name 'webdriver' is not defined",
     "output_type": "error",
     "traceback": [
      "\u001b[1;31m---------------------------------------------------------------------------\u001b[0m",
      "\u001b[1;31mNameError\u001b[0m                                 Traceback (most recent call last)",
      "\u001b[1;32m<ipython-input-1-8718fb1e8c20>\u001b[0m in \u001b[0;36m<module>\u001b[1;34m\u001b[0m\n\u001b[0;32m      1\u001b[0m \u001b[0mId\u001b[0m \u001b[1;33m=\u001b[0m \u001b[0minput\u001b[0m\u001b[1;33m(\u001b[0m\u001b[1;34m'请输入账号：'\u001b[0m\u001b[1;33m)\u001b[0m\u001b[1;33m\u001b[0m\u001b[1;33m\u001b[0m\u001b[0m\n\u001b[0;32m      2\u001b[0m \u001b[0mpassword\u001b[0m \u001b[1;33m=\u001b[0m \u001b[0minput\u001b[0m\u001b[1;33m(\u001b[0m\u001b[1;34m'请输入密码：'\u001b[0m\u001b[1;33m)\u001b[0m\u001b[1;33m\u001b[0m\u001b[1;33m\u001b[0m\u001b[0m\n\u001b[1;32m----> 3\u001b[1;33m \u001b[0mdriver\u001b[0m \u001b[1;33m=\u001b[0m \u001b[0mwebdriver\u001b[0m\u001b[1;33m.\u001b[0m\u001b[0mChrome\u001b[0m\u001b[1;33m(\u001b[0m\u001b[1;33m)\u001b[0m\u001b[1;33m\u001b[0m\u001b[1;33m\u001b[0m\u001b[0m\n\u001b[0m\u001b[0;32m      4\u001b[0m \u001b[0mget_url\u001b[0m\u001b[1;33m(\u001b[0m\u001b[1;33m)\u001b[0m\u001b[1;33m\u001b[0m\u001b[1;33m\u001b[0m\u001b[0m\n",
      "\u001b[1;31mNameError\u001b[0m: name 'webdriver' is not defined"
     ]
    }
   ],
   "source": [
    "Id = input('请输入账号：')\n",
    "password = input('请输入密码：')\n",
    "driver = webdriver.Chrome()\n",
    "get_url()"
   ]
  },
  {
   "cell_type": "code",
   "execution_count": 164,
   "metadata": {
    "scrolled": false
   },
   "outputs": [
    {
     "name": "stdout",
     "output_type": "stream",
     "text": [
      "jefh\n",
      "找到按钮\n"
     ]
    }
   ],
   "source": [
    "path = 'yzm.jpg'\n",
    "save_yzm_img(path)\n",
    "yzm = get_yzm(path)\n",
    "login()\n",
    "click_sq()"
   ]
  },
  {
   "cell_type": "code",
   "execution_count": 173,
   "metadata": {
    "scrolled": true
   },
   "outputs": [
    {
     "name": "stderr",
     "output_type": "stream",
     "text": [
      "C:\\Users\\Admin\\Anaconda3\\lib\\site-packages\\ipykernel_launcher.py:2: DeprecationWarning: use driver.switch_to.alert instead\n",
      "  \n"
     ]
    }
   ],
   "source": [
    "click_ok()"
   ]
  },
  {
   "cell_type": "code",
   "execution_count": 172,
   "metadata": {},
   "outputs": [
    {
     "name": "stdout",
     "output_type": "stream",
     "text": [
      "选择身份类型为： 本市户籍人员\n"
     ]
    }
   ],
   "source": [
    "click_next()"
   ]
  },
  {
   "cell_type": "code",
   "execution_count": null,
   "metadata": {},
   "outputs": [],
   "source": [
    "click_ok()"
   ]
  }
 ],
 "metadata": {
  "kernelspec": {
   "display_name": "Python 3",
   "language": "python",
   "name": "python3"
  },
  "language_info": {
   "codemirror_mode": {
    "name": "ipython",
    "version": 3
   },
   "file_extension": ".py",
   "mimetype": "text/x-python",
   "name": "python",
   "nbconvert_exporter": "python",
   "pygments_lexer": "ipython3",
   "version": "3.7.4"
  }
 },
 "nbformat": 4,
 "nbformat_minor": 2
}
