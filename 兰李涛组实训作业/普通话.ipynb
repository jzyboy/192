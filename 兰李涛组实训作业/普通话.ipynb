{
 "cells": [
  {
   "cell_type": "markdown",
   "metadata": {},
   "source": [
    "# https://www.yuque.com/ol1q37/gi94xp/ghmlqx"
   ]
  },
  {
   "cell_type": "code",
   "execution_count": 34,
   "metadata": {},
   "outputs": [],
   "source": [
    "import requests,re\n",
    "import os\n",
    "import time\n",
    "import pandas as pd\n",
    "import numpy as np\n",
    "import xlrd"
   ]
  },
  {
   "cell_type": "markdown",
   "metadata": {},
   "source": [
    "# 建立数据库的类"
   ]
  },
  {
   "cell_type": "code",
   "execution_count": 35,
   "metadata": {},
   "outputs": [],
   "source": [
    "from pony.orm import *\n",
    "\n",
    "\n",
    "db = Database()\n",
    "\n",
    "\n",
    "class Mandarin(db.Entity): #词语表\n",
    "    categony = Required(str, nullable=True)\n",
    "    page = Required(str, nullable=True)\n",
    "    words1 = Optional(str, nullable=True)\n",
    "    pinyin1 = Optional(str, nullable=True)\n",
    "    words2 = Optional(str, nullable=True)\n",
    "    pinyin2 = Optional(str, nullable=True)\n",
    "    words3 = Optional(str, nullable=True)\n",
    "    pinyin3 = Optional(str, nullable=True)\n",
    "    words4 = Optional(str, nullable=True)\n",
    "    pinyin4 = Optional(str, nullable=True)\n",
    "    words5 = Optional(str, nullable=True)\n",
    "    pinyin5 = Optional(str, nullable=True)\n",
    "    words6 = Optional(str, nullable=True)\n",
    "    pinyin6 = Optional(str, nullable=True)\n",
    "    words7 = Optional(str, nullable=True)\n",
    "    pinyin7 = Optional(str, nullable=True)\n",
    "    words8 = Optional(str, nullable=True)\n",
    "    pinyin8 = Optional(str, nullable=True)\n",
    "class Article(db.Entity): #文章表\n",
    "    words = Optional(str, nullable=True)\n",
    "    py = Optional(str)\n",
    "    index = Optional(int)\n",
    "    caption = Optional(str)\n",
    "    num = Optional(str)\n",
    "    page=Optional(str)\n",
    "\n",
    "\n",
    " \n",
    "  #db.generate_mapping()"
   ]
  },
  {
   "cell_type": "markdown",
   "metadata": {},
   "source": [
    "# 封装的建立数据库函数"
   ]
  },
  {
   "cell_type": "code",
   "execution_count": 36,
   "metadata": {},
   "outputs": [],
   "source": [
    "def create_database():\n",
    "    \"\"\"创建数据库\"\"\"\n",
    "    dbpath = r'C:\\Users\\Administrator\\Desktop\\测试2.sqlite'\n",
    "    if os.path.exists(dbpath):\n",
    "        os.remove(dbpath)\n",
    "    f = open(dbpath, 'w')\n",
    "    f.close()\n",
    "            \n",
    "    db.bind(provider='sqlite', filename=dbpath)\n",
    "    \n",
    "    db.generate_mapping(create_tables=True)\n",
    "    \n",
    "    set_sql_debug(True)"
   ]
  },
  {
   "cell_type": "markdown",
   "metadata": {},
   "source": [
    "# 封装的爬去拼音的函数"
   ]
  },
  {
   "cell_type": "code",
   "execution_count": 37,
   "metadata": {},
   "outputs": [],
   "source": [
    "def getpy(wd):\n",
    "    \"\"\"获取汉字的拼音和发音链接\"\"\"\n",
    "    head={'user-agent': 'Mozilla/5.0 (Windows NT 10.0; Win64; x64) AppleWebKit/537.36 (KHTML, like Gecko) Chrome/80.0.3987.132 Safari/537.36',\n",
    "          'Cookie': 'BAIDUID=CA2A057597C95C071103B59F29247B15:FG=1; PSTM=1588583905; BIDUPSID=B0376B42F27EF20ACF6127CBBE9D6A5E; COOKIE_SESSION=13_0_9_8_17_20_1_0_9_5_0_7_0_0_0_0_1587444124_0_1588583929%7C9%230_0_1588583929%7C1; BD_UPN=12314753; delPer=0; BD_CK_SAM=1; PSINO=5; H_PS_PSSID=1441_31326_21125_31596_30840_31464_30823_26350_22160; H_PS_645EC=fb1cJLxYMLK42HTwv49rujbfDn0rscUKt9sjk6QdGMjcmYvoJbp3uNN4CzA; BDORZ=B490B5EBF6F3CD402E515D22BCDA1598'}\n",
    "    url='http://www.baidu.com/s?wd='  # 找到百度查找的规则，等号后面的即是查询的内容\n",
    "    r=requests.get(url+wd+'的拼音怎么写',headers=head)  # 构建百度查找拼音的链接\n",
    "    r.encoding='utf-8'\n",
    "    html=r.text\n",
    "    #找到拼音\n",
    "    py=re.findall(r'<span class=\"op_exactqa_detail_word_pronounce\">\\[([\\d\\D]*?)\\]<',html) \n",
    "    data[wd]=py"
   ]
  },
  {
   "cell_type": "markdown",
   "metadata": {},
   "source": [
    "# 封装的把多音节词语写入数据库的函数"
   ]
  },
  {
   "cell_type": "code",
   "execution_count": 38,
   "metadata": {},
   "outputs": [],
   "source": [
    "@db_session\n",
    "def Write_words(page,categony):\n",
    "    table = data1.sheet_by_name(str(page))\n",
    "    for i in range(table.nrows):\n",
    "        words=[]\n",
    "        for j in range(table.ncols):\n",
    "            if '做梦' in words:\n",
    "                categony='普通话测试用常用多音节词语 表二'\n",
    "            a=str(table.cell(i,j).value)\n",
    "            words.append(a)\n",
    "            getpy(a)\n",
    "            print(a,data,words)\n",
    "        s=Mandarin(categony=categony,page=str(page),\n",
    "                   words1=words[0],pinyin1=str(data[words[0]])[1:-1].replace(\"'\",\"\"),\n",
    "                   words2=words[1],pinyin2=str(data[words[1]])[1:-1].replace(\"'\",\"\"),\n",
    "                   words3=words[2],pinyin3=str(data[words[2]])[1:-1].replace(\"'\",\"\"),\n",
    "                   words4=words[3],pinyin4=str(data[words[3]])[1:-1].replace(\"'\",\"\"),\n",
    "                   words5=words[4],pinyin5=str(data[words[4]])[1:-1].replace(\"'\",\"\"),\n",
    "                   words6=words[5],pinyin6=str(data[words[5]])[1:-1].replace(\"'\",\"\"))\n",
    "        db.commit()"
   ]
  },
  {
   "cell_type": "markdown",
   "metadata": {},
   "source": [
    "# 封装的把单音节字写入数据库的函数"
   ]
  },
  {
   "cell_type": "code",
   "execution_count": 39,
   "metadata": {},
   "outputs": [],
   "source": [
    "@db_session\n",
    "def Write_word(page,categony):\n",
    "    \"\"\"传入文件地址，获取文件中所有汉字的拼音和发音\"\"\"\n",
    "    table = data1.sheet_by_name(str(page))\n",
    "    for i in range(table.nrows):\n",
    "        words=[]\n",
    "        for j in range(table.ncols):\n",
    "            if '座' in words:\n",
    "                categony='普通话测试用常用单音节字词 表二'\n",
    "            a=str(table.cell(i,j).value)\n",
    "            words.append(a)\n",
    "            getpy(a)\n",
    "            print(a,data,words)\n",
    "        s=Mandarin(categony=categony,page=str(page),\n",
    "                       words1=words[0],pinyin1=str(data[words[0]])[1:-1].replace(\"'\",\"\"),\n",
    "                       words2=words[1],pinyin2=str(data[words[1]])[1:-1].replace(\"'\",\"\"),\n",
    "                       words3=words[2],pinyin3=str(data[words[2]])[1:-1].replace(\"'\",\"\"),\n",
    "                       words4=words[3],pinyin4=str(data[words[3]])[1:-1].replace(\"'\",\"\"),\n",
    "                       words5=words[4],pinyin5=str(data[words[4]])[1:-1].replace(\"'\",\"\"),\n",
    "                       words6=words[5],pinyin6=str(data[words[5]])[1:-1].replace(\"'\",\"\"),\n",
    "                       words7=words[6],pinyin7=str(data[words[6]])[1:-1].replace(\"'\",\"\"),\n",
    "                       words8=words[7],pinyin8=str(data[words[7]])[1:-1].replace(\"'\",\"\"))\n",
    "        db.commit()"
   ]
  },
  {
   "cell_type": "markdown",
   "metadata": {},
   "source": [
    "# 封装的将文章写入数据库的函数"
   ]
  },
  {
   "cell_type": "code",
   "execution_count": 40,
   "metadata": {},
   "outputs": [],
   "source": [
    "@db_session\n",
    "def write_Article(path):\n",
    "    df=pd.read_excel(path)\n",
    "    with db_session:\n",
    "        for i in range(32588):\n",
    "            s = Article(words=str(df.iloc[i]['词']),py=str(df.iloc[i]['拼音']),index=int(df.iloc[i]['位置']),caption=str(df.iloc[i]['作品题目']),num=str(df.iloc[i]['作品序号']),page=str(df.iloc[i]['页数']))\n",
    "            db.commit()"
   ]
  },
  {
   "cell_type": "markdown",
   "metadata": {},
   "source": [
    "# 主干代码"
   ]
  },
  {
   "cell_type": "code",
   "execution_count": null,
   "metadata": {},
   "outputs": [],
   "source": [
    "data={}#建立一个存放字与拼音的字典\n",
    "create_database()#创建数据库\n",
    "path=\"C:\\\\Users\\\\Administrator\\\\Desktop\\\\文章全.xlsx\"#文章已经爬好的地址\n",
    "write_Article(path)#                                将文章数据写入数据库\n",
    "excel_path = \"C:\\\\Users\\\\Administrator\\\\Desktop\\\\单音节词语.xlsx\"#单音节字的地址\n",
    "data1 = xlrd.open_workbook(excel_path)                           #利用xlrd库将单音节的词存进data1\n",
    "categony='普通话测试用常用单音节字词 表一'#命名\n",
    "for page in range(55,66):\n",
    "    if page > 61:\n",
    "        categony='普通话测试用常用单音节字词 表二'\n",
    "    Write_word(page,categony)\n",
    "excel_path = \"C:\\\\Users\\\\Administrator\\\\Desktop\\\\多音节词语.xlsx\"\n",
    "data1 = xlrd.open_workbook(excel_path)                           #利用xlrd库将多音节的词语存进data1\n",
    "categony='普通话测试用常用多音节词语 表一'\n",
    "for page in range(65,121):\n",
    "    if page > 83:\n",
    "        categony='普通话测试用常用多音节词语 表二'\n",
    "    Write_words(page,categony)"
   ]
  }
 ],
 "metadata": {
  "kernelspec": {
   "display_name": "Python 3",
   "language": "python",
   "name": "python3"
  },
  "language_info": {
   "codemirror_mode": {
    "name": "ipython",
    "version": 3
   },
   "file_extension": ".py",
   "mimetype": "text/x-python",
   "name": "python",
   "nbconvert_exporter": "python",
   "pygments_lexer": "ipython3",
   "version": "3.7.4"
  }
 },
 "nbformat": 4,
 "nbformat_minor": 2
}
