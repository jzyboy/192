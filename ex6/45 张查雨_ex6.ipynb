{
 "cells": [
  {
   "cell_type": "code",
   "execution_count": null,
   "metadata": {},
   "outputs": [],
   "source": [
    "import codecs\n",
    "#写入模式\n",
    "f = codecs.open(r\"c:\\code2020\\result.csv\",\"w\",\"utf-8-sig\")\n",
    "f.write(\"hotel1,address1,type1\\n\")\n",
    "f.write(\"a,b,c\\n\")\n",
    "f.write(\"d,e,f\\n\")\n",
    "f.close()\n",
    "#追加模式\n",
    "f = codecs.open(r\"c:\\code2020\\result.csv\",\"a\",\"utf-8-sig\")\n",
    "f.write(\"hotel1,address1,type1\\n\")\n",
    "f.write(\"a,b,c\\n\")\n",
    "f.write(\"d,e,f\\n\")\n",
    "f.close()\n",
    "\n",
    "#读取模式\n",
    "f = codecs.open(r\"c:\\code2020\\result.csv\",\"r\",\"utf-8-sig\")\n",
    "for line in f.readlines():\n",
    "    print(line.strip())\n",
    "f.close()"
   ]
  }
 ],
 "metadata": {
  "kernelspec": {
   "display_name": "Python 3",
   "language": "python",
   "name": "python3"
  },
  "language_info": {
   "codemirror_mode": {
    "name": "ipython",
    "version": 3
   },
   "file_extension": ".py",
   "mimetype": "text/x-python",
   "name": "python",
   "nbconvert_exporter": "python",
   "pygments_lexer": "ipython3",
   "version": "3.7.4"
  }
 },
 "nbformat": 4,
 "nbformat_minor": 4
}
