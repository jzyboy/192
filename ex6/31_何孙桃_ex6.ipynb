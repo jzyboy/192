{
 "cells": [
  {
   "cell_type": "code",
   "execution_count": null,
   "metadata": {},
   "outputs": [],
   "source": [
    "from selenium import webdriver\n",
    "from selenium.webdriver.support import expected_conditions as EC\n",
    "from selenium.webdriver.support.ui import WebDriverWait\n",
    "driver=webdriver.Chrome()\n",
    "driver.get(\"https://www.baidu.com/\")\n",
    "wait=WebDriverWait(driver,10)"
   ]
  },
  {
   "cell_type": "code",
   "execution_count": null,
   "metadata": {},
   "outputs": [],
   "source": [
    "search_btn=driver.find_element_by_css_selector(\"#kw\")\n",
    "\n",
    "c=\"任\"\n",
    "search_btn.send_keys(c)"
   ]
  },
  {
   "cell_type": "code",
   "execution_count": null,
   "metadata": {},
   "outputs": [],
   "source": [
    "search_btn.send_keys('拼音')"
   ]
  },
  {
   "cell_type": "code",
   "execution_count": null,
   "metadata": {},
   "outputs": [],
   "source": [
    "from selenium.webdriver.common.keys import Keys\n",
    "driver.find_element_by_xpath(\"//html\").send_keys(Keys.ENTER)"
   ]
  },
  {
   "cell_type": "code",
   "execution_count": null,
   "metadata": {},
   "outputs": [],
   "source": [
    "html=driver.page_source\n",
    "import re\n",
    "list1=[]\n",
    "reobj = re.compile(r'<span class=\"op_exactqa_detail_word_pronounce\">([\\s\\S]*?)</span>[\\s\\S]*?<span>[\\s\\S]*?url=\"([\\s\\S]*?)\"')\n",
    "for match in reobj.finditer(html):\n",
    "\t# match start: match.start()\n",
    "\t# match end (exclusive): match.end()\n",
    "\t# matched text: match.group()\n",
    "    a=match.group(1)\n",
    "    b=match.group(2)\n",
    "    c=\"任\"\n",
    "    list1.append((c,a,b))\n",
    "print(list1)"
   ]
  },
  {
   "cell_type": "code",
   "execution_count": null,
   "metadata": {},
   "outputs": [],
   "source": [
    "with open(r\"c:\\code2020\\result4.csv\",\"w\",encoding=\"utf-8-sig\") as f:\n",
    "    f.write(\"id,title,body\\n\")\n",
    "    for i in list1:\n",
    "        a,b,c,d=i\n",
    "        f.write(a+\",\"+b+\",\"+c+\"\\n\")"
   ]
  },
  {
   "cell_type": "code",
   "execution_count": null,
   "metadata": {},
   "outputs": [],
   "source": []
  }
 ],
 "metadata": {
  "kernelspec": {
   "display_name": "Python 3",
   "language": "python",
   "name": "python3"
  },
  "language_info": {
   "codemirror_mode": {
    "name": "ipython",
    "version": 3
   },
   "file_extension": ".py",
   "mimetype": "text/x-python",
   "name": "python",
   "nbconvert_exporter": "python",
   "pygments_lexer": "ipython3",
   "version": "3.7.4"
  }
 },
 "nbformat": 4,
 "nbformat_minor": 4
}
