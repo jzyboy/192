{
 "cells": [
  {
   "cell_type": "code",
   "execution_count": 4,
   "metadata": {},
   "outputs": [],
   "source": [
    "from selenium import webdriver\n",
    "driver = webdriver.Chrome()\n",
    "url = \"https://map.baidu.com/search/%E9%85%92%E5%BA%97/@13401816.6,3523321.62,11z?querytype=nb&r=1000&wd=%E9%85%92%E5%BA%97&nb_x=13401816.60&nb_y=3523321.62&uid=7a0cb8c0d67a634683a00c28&b=(13358647.23882143,3494507.32282143;13434325.493892854,3563765.5716785695)&l=11&gr_radius=1000&pn=0&device_ratio=2&da_src=shareurl\"\n",
    "driver.get(url)"
   ]
  },
  {
   "cell_type": "code",
   "execution_count": 5,
   "metadata": {},
   "outputs": [],
   "source": [
    "html = driver.page_source\n",
    "#print (html)"
   ]
  },
  {
   "cell_type": "code",
   "execution_count": 6,
   "metadata": {},
   "outputs": [
    {
     "name": "stdout",
     "output_type": "stream",
     "text": [
      "地址: 杭州市江干区学正街567号金沙居B座3层\n",
      "地址: 学源街239号浙江经贸学院北门\n",
      "地址: 浙江省杭州市江干区下沙经济技术开发区学正街575号学正街金沙居B座1层\n",
      "地址: 浙江省杭州市江干区学源街239号(浙江经贸学院北门)\n",
      "地址: 浙江省杭州市江干区宝龙城市广场二期\n",
      "地址: 浙江省杭州市江干区学正街388号阳光创富中心10楼\n",
      "地址: 浙江省杭州市江干区学正街388号阳光创富中心内\n",
      "地址: 浙江省杭州市江干区学正街539号\n",
      "地址: 25号大街(宝龙城市广场)\n",
      "地址: 宝龙城市广场\n"
     ]
    }
   ],
   "source": [
    "import re\n",
    "reobj = re.compile(r'<div class=\"row addr\">[\\s\\S]*?title=\"([\\s\\S]*?)\"')\n",
    "for match in reobj.finditer(html):\n",
    "    print(\"地址:\",match.group(1))"
   ]
  },
  {
   "cell_type": "code",
   "execution_count": 7,
   "metadata": {},
   "outputs": [
    {
     "name": "stdout",
     "output_type": "stream",
     "text": [
      "酒店类型： 经济型                \n",
      "酒店类型： 酒店                \n",
      "酒店类型： 经济型                \n",
      "酒店类型： 舒适型                \n",
      "酒店类型： 酒店                \n",
      "酒店类型： 经济型                \n",
      "酒店类型： 经济型                \n",
      "酒店类型： 经济型                \n",
      "酒店类型： 经济型                \n",
      "酒店类型： 酒店                \n"
     ]
    }
   ],
   "source": [
    "import re\n",
    "reobj = re.compile(r'<div class=\"cf mb_5\">([\\s\\S]*?)<span>([\\s\\S]*?|)</i>([\\s\\S]*?)</span>')\n",
    "for match in reobj.finditer(html):\n",
    "    print(\"酒店类型：\",match.group(3))"
   ]
  },
  {
   "cell_type": "code",
   "execution_count": 10,
   "metadata": {},
   "outputs": [
    {
     "name": "stdout",
     "output_type": "stream",
     "text": [
      "酒店名称： 速8酒店(金沙居店)\n",
      "酒店名称： TEL茶砚酒店\n",
      "酒店名称： 杭州尚爱快捷酒店(下沙学正街店)\n",
      "酒店名称： 杭州品江商务酒店\n",
      "酒店名称： 杭州陌上花开2019公寓\n",
      "酒店名称： 杭州青芒酒店\n",
      "酒店名称： 汉庭酒店(学正街店)\n",
      "酒店名称： 贝壳酒店(学正街店)\n",
      "酒店名称： 杭州子行千里公寓(NO.3店)\n",
      "酒店名称： 杭州钱塘江语公寓\n"
     ]
    }
   ],
   "source": [
    "import re\n",
    "reobj = re.compile(r'data-detail-code=\"list_page\">([\\s\\S]*?)</a>')\n",
    "for match in reobj.finditer(html):\n",
    "    print(\"酒店名称：\",match.group(1))"
   ]
  },
  {
   "cell_type": "code",
   "execution_count": null,
   "metadata": {},
   "outputs": [],
   "source": []
  }
 ],
 "metadata": {
  "kernelspec": {
   "display_name": "Python 3",
   "language": "python",
   "name": "python3"
  },
  "language_info": {
   "codemirror_mode": {
    "name": "ipython",
    "version": 3
   },
   "file_extension": ".py",
   "mimetype": "text/x-python",
   "name": "python",
   "nbconvert_exporter": "python",
   "pygments_lexer": "ipython3",
   "version": "3.7.4"
  }
 },
 "nbformat": 4,
 "nbformat_minor": 2
}
