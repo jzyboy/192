{
 "cells": [
  {
   "cell_type": "code",
   "execution_count": 1,
   "metadata": {},
   "outputs": [
    {
     "name": "stdout",
     "output_type": "stream",
     "text": [
      "['速8酒店(金沙居店)  经济型', 'TEL茶砚酒店  酒店', '杭州尚爱快捷酒店(下沙学正街店)  经济型', '杭州品江商务酒店  舒适型', '杭州陌上花开2019公寓  酒店', '杭州青芒酒店  经济型', '汉庭酒店(学正街店)  经济型', '贝壳酒店(学正街店)  经济型', '杭州子行千里公寓(NO.3店)  经济型']\n"
     ]
    }
   ],
   "source": [
    "from selenium import webdriver\n",
    "driver=webdriver.Chrome()\n",
    "url = 'https://map.baidu.com/search/%E9%85%92%E5%BA%97/@13401816.6,3523321.62,16z?querytype=nb&r=1000&c=179&wd=%E9%85%92%E5%BA%97&uid=7a0cb8c0d67a634683a00c28&b=(13393816.6,3524971.62;13397960.6,3527671.62)&l=16&gr_radius=1000&pn=0&device_ratio=2&da_src=shareurl'\n",
    "driver.get(url)\n",
    "html = driver.page_source\n",
    "\n",
    "import re #正则表达式是内置模块，它不需要安装\n",
    "reobj = re.compile(r'<a href=\"javascript:void\\(0\\)\" class=\"n-blue\" data-index=\"\\d\" data-stat-code=\"poisearch.hotel.title\" data-detail-code=\"list_page\">([\\d\\D]*?)<[\\d\\D]*?<span>[\\d\\D]*?<i class=\"seperate\">\\|</i>([\\d\\D]*?) ',re.MULTILINE)#定义了一个正则表达式变量reobj\n",
    "adds=[]\n",
    "for match in reobj.finditer(html):#循环遍历输出每一个匹配正则的数据\n",
    "    add = match.group(1)+\"  \"+match.group(2)\n",
    "    adds.append(add)#打印出分组1的数据\n",
    "print (adds)"
   ]
  },
  {
   "cell_type": "code",
   "execution_count": null,
   "metadata": {},
   "outputs": [],
   "source": []
  }
 ],
 "metadata": {
  "kernelspec": {
   "display_name": "Python 3",
   "language": "python",
   "name": "python3"
  },
  "language_info": {
   "codemirror_mode": {
    "name": "ipython",
    "version": 3
   },
   "file_extension": ".py",
   "mimetype": "text/x-python",
   "name": "python",
   "nbconvert_exporter": "python",
   "pygments_lexer": "ipython3",
   "version": "3.7.4"
  }
 },
 "nbformat": 4,
 "nbformat_minor": 2
}
