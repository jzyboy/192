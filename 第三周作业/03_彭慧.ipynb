{
 "cells": [
  {
   "cell_type": "code",
   "execution_count": 5,
   "metadata": {},
   "outputs": [
    {
     "ename": "ModuleNotFoundError",
     "evalue": "No module named 'selenium'",
     "output_type": "error",
     "traceback": [
      "\u001b[1;31m---------------------------------------------------------------------------\u001b[0m",
      "\u001b[1;31mModuleNotFoundError\u001b[0m                       Traceback (most recent call last)",
      "\u001b[1;32m<ipython-input-5-720023d46d37>\u001b[0m in \u001b[0;36m<module>\u001b[1;34m\u001b[0m\n\u001b[1;32m----> 1\u001b[1;33m \u001b[1;32mfrom\u001b[0m \u001b[0mselenium\u001b[0m \u001b[1;32mimport\u001b[0m \u001b[0mwebdriver\u001b[0m\u001b[1;33m\u001b[0m\u001b[1;33m\u001b[0m\u001b[0m\n\u001b[0m\u001b[0;32m      2\u001b[0m \u001b[0mdriver\u001b[0m\u001b[1;33m=\u001b[0m\u001b[0mwebdriver\u001b[0m\u001b[1;33m.\u001b[0m\u001b[0mChrome\u001b[0m\u001b[1;33m(\u001b[0m\u001b[1;33m)\u001b[0m\u001b[1;33m\u001b[0m\u001b[1;33m\u001b[0m\u001b[0m\n\u001b[0;32m      3\u001b[0m \u001b[0murl\u001b[0m \u001b[1;33m=\u001b[0m \u001b[1;34m'https://map.baidu.com/search/%E9%85%92%E5%BA%97/@13401816.6,3523321.62,16z?querytype=nb&r=1000&c=179&wd=%E9%85%92%E5%BA%97&uid=7a0cb8c0d67a634683a00c28&b=(13393816.6,3524971.62;13397960.6,3527671.62)&l=16&gr_radius=1000&pn=0&device_ratio=2&da_src=shareurl'\u001b[0m\u001b[1;33m\u001b[0m\u001b[1;33m\u001b[0m\u001b[0m\n\u001b[0;32m      4\u001b[0m \u001b[0mdriver\u001b[0m\u001b[1;33m.\u001b[0m\u001b[0mget\u001b[0m\u001b[1;33m(\u001b[0m\u001b[0murl\u001b[0m\u001b[1;33m)\u001b[0m\u001b[1;33m\u001b[0m\u001b[1;33m\u001b[0m\u001b[0m\n\u001b[0;32m      5\u001b[0m \u001b[0mhtml\u001b[0m \u001b[1;33m=\u001b[0m \u001b[0mdriver\u001b[0m\u001b[1;33m.\u001b[0m\u001b[0mpage_source\u001b[0m\u001b[1;33m\u001b[0m\u001b[1;33m\u001b[0m\u001b[0m\n",
      "\u001b[1;31mModuleNotFoundError\u001b[0m: No module named 'selenium'"
     ]
    }
   ],
   "source": [
    "from selenium import webdriver\n",
    "driver=webdriver.Chrome()\n",
    "url = 'https://map.baidu.com/search/%E9%85%92%E5%BA%97/@13401816.6,3523321.62,16z?querytype=nb&r=1000&c=179&wd=%E9%85%92%E5%BA%97&uid=7a0cb8c0d67a634683a00c28&b=(13393816.6,3524971.62;13397960.6,3527671.62)&l=16&gr_radius=1000&pn=0&device_ratio=2&da_src=shareurl'\n",
    "driver.get(url)\n",
    "html = driver.page_source\n",
    "\n",
    "import re \n",
    "reobj = re.compile(r'< a href=\"javascript:void\\(0\\)\" class=\"n-blue\" data-index=\"\\d\" data-stat-code=\"poisearch.hotel.title\" data-detail-code=\"list_page\">([\\d\\D]*?)<[\\d\\D]*?<span>[\\d\\D]*?<i class=\"seperate\">\\|</i>([\\d\\D]*?) ',re.MULTILINE)#定义了一个正则表达式变量reobj\n",
    "adds=[]\n",
    "for match in reobj.finditer(html):\n",
    "    add = match.group(1)+\"  \"+match.group(2)\n",
    "    adds.append(add)\n",
    "print (adds)"
   ]
  },
  {
   "cell_type": "code",
   "execution_count": null,
   "metadata": {},
   "outputs": [],
   "source": []
  }
 ],
 "metadata": {
  "kernelspec": {
   "display_name": "Python 3",
   "language": "python",
   "name": "python3"
  },
  "language_info": {
   "codemirror_mode": {
    "name": "ipython",
    "version": 3
   },
   "file_extension": ".py",
   "mimetype": "text/x-python",
   "name": "python",
   "nbconvert_exporter": "python",
   "pygments_lexer": "ipython3",
   "version": "3.7.4"
  }
 },
 "nbformat": 4,
 "nbformat_minor": 2
}
