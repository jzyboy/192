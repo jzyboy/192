{
 "cells": [
  {
   "cell_type": "code",
   "execution_count": 9,
   "metadata": {},
   "outputs": [],
   "source": [
    "from selenium import webdriver\n",
    "driver=webdriver.Chrome()\n",
    "url = 'https://map.baidu.com/search/%E9%85%92%E5%BA%97/@13401816.6,3523321.62,16z?querytype=nb&r=1000&wd=%E9%85%92%E5%BA%97&nb_x=13401816.60&nb_y=3523321.62&uid=7a0cb8c0d67a634683a00c28&b=(13397976.6,3521497.62;13405656.6,3525145.62)&l=16&gr_radius=1000&pn=0&device_ratio=1&da_src=shareurl'\n",
    "driver.get(url)"
   ]
  },
  {
   "cell_type": "code",
   "execution_count": 10,
   "metadata": {},
   "outputs": [],
   "source": [
    "html = driver.page_source \n",
    "# print(html)"
   ]
  },
  {
   "cell_type": "code",
   "execution_count": 11,
   "metadata": {},
   "outputs": [
    {
     "name": "stdout",
     "output_type": "stream",
     "text": [
      "杭州轩鹏精选酒店(高沙学林街店)\n",
      "后街主题酒店\n",
      "派酒店(杭州下沙大学城文海南路地铁站店)\n",
      "微八主题酒店\n",
      "杭州浙江财经大学学术中心酒店\n",
      "枫林晚精品酒店\n",
      "财林宾馆\n",
      "拓博精品酒店\n",
      "杭州歌多酒店\n",
      "杭州汉典精品酒店\n",
      "祥平快捷酒店\n",
      "卡尔酒店\n",
      "杭州迈卡威途公寓\n",
      "杭州森屿公寓(学正街分店)\n",
      "杭州子行千里公寓(NO.4店)\n",
      "杭州周末轰趴馆公寓\n",
      "杭州奶茶窝窝公寓(NO.5店)\n",
      "雅津宾馆\n",
      "杭州财苑大酒店\n",
      "三谊大酒店\n",
      "浙江供销客房部\n",
      "舒泊豪大酒店\n",
      "杭州怡然之家酒店式公寓(学正街二十五号路口店)\n",
      "杭州刘婷婷复式\n",
      "杭州驿元住宿公寓\n",
      "杭州燕子swallow公寓\n",
      "杭州小月家公寓(NO.2店)\n",
      "杭州你好呀晓家公寓\n",
      "杭州城管驿站(钱塘新区公园站)\n",
      "杭州拾光阁公寓\n",
      "杭州嗨吧666旅馆\n",
      "杭州敬往事一杯酒公寓\n",
      "宿品生活公寓(NO.3号店)\n",
      "杭州Housebene独栋别墅(千帆路分店)\n",
      "浙江工商大学专家楼\n",
      "杭州栖缘精品民宿(NO.14店)\n",
      "江畔一家公寓\n",
      "胖丁公寓\n",
      "七光公寓\n",
      "小月家公寓\n"
     ]
    }
   ],
   "source": [
    "import re \n",
    "reobj =re.compile(r'<div class=\"BMap_Marker BMap_noprint\" unselectable=\"on\" title=\"([\\s\\S]*?)\"', re.MULTILINE)\n",
    "for match in reobj.finditer(html):\n",
    "    print(match.group(1))"
   ]
  },
  {
   "cell_type": "code",
   "execution_count": null,
   "metadata": {},
   "outputs": [],
   "source": []
  },
  {
   "cell_type": "raw",
   "metadata": {},
   "source": []
  },
  {
   "cell_type": "code",
   "execution_count": null,
   "metadata": {},
   "outputs": [],
   "source": []
  },
  {
   "cell_type": "code",
   "execution_count": null,
   "metadata": {},
   "outputs": [],
   "source": []
  },
  {
   "cell_type": "code",
   "execution_count": null,
   "metadata": {},
   "outputs": [],
   "source": []
  },
  {
   "cell_type": "code",
   "execution_count": null,
   "metadata": {},
   "outputs": [],
   "source": []
  }
 ],
 "metadata": {
  "kernelspec": {
   "display_name": "Python 3",
   "language": "python",
   "name": "python3"
  },
  "language_info": {
   "codemirror_mode": {
    "name": "ipython",
    "version": 3
   },
   "file_extension": ".py",
   "mimetype": "text/x-python",
   "name": "python",
   "nbconvert_exporter": "python",
   "pygments_lexer": "ipython3",
   "version": "3.7.4"
  }
 },
 "nbformat": 4,
 "nbformat_minor": 4
}
